{
 "cells": [
  {
   "cell_type": "markdown",
   "metadata": {},
   "source": [
    "# Import libraries"
   ]
  },
  {
   "cell_type": "code",
   "execution_count": 2,
   "metadata": {},
   "outputs": [],
   "source": [
    "import numpy as np\n",
    "import matplotlib.pyplot as plt\n",
    "from tqdm import tqdm"
   ]
  },
  {
   "cell_type": "markdown",
   "metadata": {},
   "source": [
    "# Stocastic Differential Equations"
   ]
  },
  {
   "cell_type": "markdown",
   "metadata": {},
   "source": [
    "## Asset Price"
   ]
  },
  {
   "cell_type": "code",
   "execution_count": 78,
   "metadata": {},
   "outputs": [],
   "source": [
    "class AssetPrice:\n",
    "    \"\"\"\n",
    "    This is a class for Asset Price ODE. \n",
    "    It contains methods for finding exact solution, plotting and exat mean hitting time.\n",
    "    Arguments:\n",
    "    a: Lower bound\n",
    "    b: Upper bound\n",
    "    mu: mu\n",
    "    sigma: sigma\n",
    "    \"\"\"\n",
    "    def __init__(self, a, b, mu, sigma, exact_time):\n",
    "        self.a = a\n",
    "        self.b = b\n",
    "        self.mu = mu\n",
    "        self.sigma = sigma\n",
    "        self.exact_time = exact_time\n",
    "        \n",
    "    def f(self,x):\n",
    "        \"\"\"\n",
    "        Function of f(x) in asset price stochastic differential equation (deterministic part)\n",
    "        \"\"\"\n",
    "        return self.mu * x\n",
    "    \n",
    "    def g(self,x):\n",
    "        \"\"\"\n",
    "        Function of g(x) in asset price stochastic differential equation (stochastic part)\n",
    "        \"\"\"\n",
    "        return self.sigma * x\n",
    "    \n",
    "    def dg(self,x):\n",
    "        \"\"\"\n",
    "        Function of g'(x) in asset price stochastic differential equation (stochastic part)\n",
    "        \"\"\"\n",
    "        return self.sigma\n",
    "  \n",
    "    def MHT_Xt_exact(self,X0,dt,npaths, adaptive= False):\n",
    "        \"\"\"\n",
    "        Methods that return mean hitting time of X(t)\n",
    "        \n",
    "        Arguments:\n",
    "        X0: Initial value\n",
    "        dt: timestep\n",
    "        \n",
    "        Return: List containing Mean, STD, Confidence interval Left, Confidence interval Right\n",
    "        \"\"\"\n",
    "        \n",
    "        sigma = self.sigma; mu = self.mu\n",
    "        exit_time = np.zeros(npaths)\n",
    "        # TODO: Add threshold for situation when the loop goes forever\n",
    "        for i in tqdm(range(npaths)):\n",
    "            X = X0\n",
    "            t = 0\n",
    "            while X > self.a and X < self.b:\n",
    "                dW = np.sqrt(dt) * np.random.randn()\n",
    "                X = X*np.exp( (mu - 0.5*(sigma**2))*dt + sigma*dW)\n",
    "                t = t + dt\n",
    "            \n",
    "            exit_time[i] = t - 0.5*dt\n",
    "            \n",
    "        tmean = np.mean(exit_time)\n",
    "        tstd = np.std(exit_time)\n",
    "\n",
    "        cileft = tmean - 1.96*tstd/np.sqrt(npaths)\n",
    "        ciright = tmean + 1.96*tstd/np.sqrt(npaths)\n",
    "        \n",
    "        return tmean, tstd, cileft, ciright\n",
    "    \n",
    "    def Xt_path(self,X0,duration,dt):\n",
    "        \"\"\"\n",
    "        Methods that return paths of X(t)\n",
    "\n",
    "        Arguments:\n",
    "        X0: Initial value\n",
    "        duration: The duration for running process\n",
    "        dt: timestep\n",
    "\n",
    "        Return: Array of a path\n",
    "        \"\"\"\n",
    "        X_EM = [] + [X0]\n",
    "        X_Mils = [] + [X0]\n",
    "\n",
    "\n",
    "        tsteps_EM_AT = []\n",
    "        X_EM_AT = [] + [X0]\n",
    "\n",
    "        tsteps_EM_Mils = []\n",
    "        X_EM_Mils = [] + [X0]\n",
    "\n",
    "\n",
    "        timestamps1 = [] + [0]\n",
    "        timestamps2 = [] + [0]\n",
    "        timestamps3 = [] + [0]\n",
    "        AdaptiveT = AdaptiveTimestep()\n",
    "\n",
    "        time_elapsed = 0\n",
    "        while time_elapsed < duration:\n",
    "            dW = np.sqrt(dt)*np.random.randn() # increments\n",
    "            X_EM = X_EM + [X_EM[-1] + dt*self.f(X_EM[-1]) + self.g(X_EM[-1])*dW]\n",
    "            X_Mils = X_Mils + [X_Mils[-1] + dt*self.f(X_Mils[-1]) + self.g(X_Mils[-1])*dW + 0.5 * self.g(X_Mils[-1])*self.sigma*(dW**2 - dt)]\n",
    "\n",
    "            time_elapsed += dt\n",
    "            timestamps1 = timestamps1 + [time_elapsed]\n",
    "\n",
    "        time_elapsed = 0\n",
    "        while time_elapsed < duration:\n",
    "            dt_new_EM = AdaptiveT.kev_EM(LB=self.a, UB=self.b, x=X_EM_AT[-1], f=self.f, g=self.g, dt=dt)\n",
    "            dW = np.sqrt(dt_new_EM)*np.random.randn()\n",
    "            X_EM_AT = X_EM_AT + [X_EM_AT[-1] + dt_new_EM*self.f(X_EM_AT[-1]) + self.g(X_EM_AT[-1])*dW]\n",
    "            tsteps_EM_AT = tsteps_EM_AT + [dt_new_EM]\n",
    "            time_elapsed += dt_new_EM\n",
    "            timestamps2 = timestamps2 + [time_elapsed]\n",
    "\n",
    "#         time_elapsed = 0\n",
    "#         while time_elapsed < duration:\n",
    "#             dt_new_EM = AdaptiveT.kev_Mils(LB=self.a, UB=self.b, x=X_EM_Mils[-1], f=self.f, g=self.g, dt=dt)\n",
    "#             dW = np.sqrt(dt_new_EM)*np.random.randn()\n",
    "#             X_EM_Mils = X_EM_Mils + [X_EM_Mils[-1] + dt_new_EM*self.f(X_EM_Mils[-1]) + self.g(X_EM_Mils[-1])*dW]\n",
    "#             tsteps_EM_AT = tsteps_EM_AT + [dt_new_EM]\n",
    "#             time_elapsed += dt_new_EM\n",
    "#             timestamps3 = timestamps3 + [time_elapsed]\n",
    "\n",
    "\n",
    "        return X_EM, X_Mils, X_EM_AT, timestamps1, timestamps2\n",
    "\n",
    "    def _plot(self,X0,duration,dt):\n",
    "        \"\"\"\n",
    "        Method to plot a path\n",
    "\n",
    "        Arguments:\n",
    "        X0: intial value\n",
    "        duration: The duration for running process\n",
    "        dt: timestep\n",
    "        \"\"\"\n",
    "        t = np.arange(0,duration,dt)\n",
    "\n",
    "        xt_EM, xt_Milstein, xt_EM_A, timestamps1, timestamps2 = self.Xt_path(X0,duration,dt)\n",
    "\n",
    "        plt.figure(figsize=(20,10))\n",
    "    #         plt.plot(timestamps1, xt_exact, color='green', label='Exact')\n",
    "    #         plt.plot(timestamps1, xt_EM, color='purple', label='EM')\n",
    "    #         plt.plot(timestamps1, xt_Milstein, color='orange', label='Milstein')\n",
    "        plt.plot(timestamps2, xt_EM_A,linestyle='dashed',color='purple', label='EM')\n",
    "        plt.xlabel('Time',fontsize=18)\n",
    "        plt.ylabel('Stock Price',fontsize=18)\n",
    "        plt.hlines(self.b, xmin=0, xmax=max(timestamps1), color='red', label='$b$')\n",
    "        plt.hlines(self.a,xmin=0, xmax=max(timestamps1), color='blue', label='$a$')\n",
    "        plt.title('Stock Price SDE with dt={}'.format(dt),fontsize=18)\n",
    "        plt.legend()\n",
    "        plt.savefig('AdaptiveEM.png')\n"
   ]
  },
  {
   "cell_type": "markdown",
   "metadata": {},
   "source": [
    "## Asset Price Interest Rate"
   ]
  },
  {
   "cell_type": "code",
   "execution_count": 79,
   "metadata": {},
   "outputs": [],
   "source": [
    "class AssetPriceInterestRate:\n",
    "    def __init__(self, lam, mu, sigma):\n",
    "        self.lam = lam\n",
    "        self.mu = mu\n",
    "        self.sigma = sigma\n",
    "        \n",
    "    \n",
    "    def f(self,x):\n",
    "        return self.lam*(self.mu - x)\n",
    "    \n",
    "    def g(self,x):\n",
    "        return self.sigma*np.sqrt(x)\n",
    "    "
   ]
  },
  {
   "cell_type": "markdown",
   "metadata": {},
   "source": [
    "## Opinion Polls"
   ]
  },
  {
   "cell_type": "code",
   "execution_count": 80,
   "metadata": {},
   "outputs": [],
   "source": [
    "class OpinionPolls:\n",
    "    def __init__(self, mu, sigma):\n",
    "        self.mu = mu\n",
    "        self.sigma = sigma\n",
    "        \n",
    "    def f(self,x):\n",
    "        return -self.mu*(x/(1-x**2))\n",
    "        \n",
    "    def g(self,x):\n",
    "        return self.sigma"
   ]
  },
  {
   "cell_type": "markdown",
   "metadata": {},
   "source": [
    "## Population Dynamic "
   ]
  },
  {
   "cell_type": "code",
   "execution_count": 81,
   "metadata": {},
   "outputs": [],
   "source": [
    "class PopulationDynamic:\n",
    "    def __init__(self, K, r, beta):\n",
    "        self.K = K\n",
    "        self.r = r\n",
    "        self.beta = beta\n",
    "        \n",
    "    def f(self,x):\n",
    "        return self.r*x*(self.K - x)\n",
    "    \n",
    "    def g(self,x):\n",
    "        return self.beta*x"
   ]
  },
  {
   "cell_type": "markdown",
   "metadata": {},
   "source": [
    "## Epidemic Model"
   ]
  },
  {
   "cell_type": "code",
   "execution_count": 82,
   "metadata": {},
   "outputs": [],
   "source": [
    "class EpidemicModel:\n",
    "    \n",
    "    def __init__(self, p, B, beta, alpha, rho, C):\n",
    "        self.p = p\n",
    "        self.B = B\n",
    "        self.beta = beta\n",
    "        self.alpha = alpha\n",
    "        self.rho = rho \n",
    "        self.C = C\n",
    "    \n",
    "    def f(self, x):\n",
    "        return (self.p -1)*self.B*x + (self.beta*self.C - self.alpha)*(1 - x)*x\n",
    "    \n",
    "    def g(self, x):\n",
    "        return self.p*self.C*(1-x)*x"
   ]
  },
  {
   "cell_type": "markdown",
   "metadata": {},
   "source": [
    "## Political Opinion"
   ]
  },
  {
   "cell_type": "code",
   "execution_count": 83,
   "metadata": {},
   "outputs": [],
   "source": [
    "class PoliticalOpinion:\n",
    "    def __init__(self, r, G, eps):\n",
    "        self.r = r\n",
    "        self.G = G\n",
    "        self.eps = eps\n",
    "        \n",
    "    def f(self,x):\n",
    "        return self.r*(self.G-x)\n",
    "    \n",
    "    def g(self,x):\n",
    "        return np.sqrt(self.eps*x*(1-x))\n",
    "    "
   ]
  },
  {
   "cell_type": "markdown",
   "metadata": {},
   "source": [
    "## Double Well Potential"
   ]
  },
  {
   "cell_type": "code",
   "execution_count": 84,
   "metadata": {},
   "outputs": [],
   "source": [
    "class DoubleWellPotential:\n",
    "    def __init__(self, sigma):\n",
    "        self.sigma = sigma\n",
    "        \n",
    "    def _V(self,x):\n",
    "        return (x**2)*(x-2)**2\n",
    "    \n",
    "    def _dV(self,x):\n",
    "        return 4*x*(x-2)*(x-1)\n",
    "    \n",
    "    def f(self,x):\n",
    "        return -self._dV(x)\n",
    "    \n",
    "    def g(self,x):\n",
    "        return self.sigma"
   ]
  },
  {
   "cell_type": "code",
   "execution_count": 2,
   "metadata": {},
   "outputs": [],
   "source": [
    "class SimpleSDE:\n",
    "    def __init__(self, mu, sigma):\n",
    "        self.mu = mu\n",
    "        self.sigma = sigma\n",
    "    \n",
    "    def f(self, x):\n",
    "        return self.mu\n",
    "    \n",
    "    def g(self, x):\n",
    "        return self.sigma\n",
    "    "
   ]
  },
  {
   "cell_type": "markdown",
   "metadata": {},
   "source": [
    "# Methods"
   ]
  },
  {
   "cell_type": "markdown",
   "metadata": {},
   "source": [
    "## EXPONENTIAL TIMESTEPPING WITH BOUNDARY TEST FOR SDEs "
   ]
  },
  {
   "cell_type": "markdown",
   "metadata": {},
   "source": [
    "### The exponential-Euler method with boundary test (1st Algorithm)"
   ]
  },
  {
   "cell_type": "markdown",
   "metadata": {},
   "source": [
    "#### Assumptions: $f(X_t) = \\mu$ and $\\sigma(X_t)=\\epsilon$"
   ]
  },
  {
   "cell_type": "code",
   "execution_count": null,
   "metadata": {},
   "outputs": [],
   "source": [
    "class ExponentialTimestepping:\n",
    "    def __init__(self, rate):\n",
    "        self.rate = rate\n",
    "    \n",
    "    def F(self, Xt, f, g):\n",
    "        return f(Xt) / g(Xt)**2\n",
    "        \n",
    "    def N(self, Xt, g):\n",
    "        return np.sqrt((2*self.rate / g(Xt)**2) + self.F(Xt)**2)\n",
    "    \n",
    "    def udpate(self, Xt, f, g):\n",
    "        v = np.random.uniform()\n",
    "        p = -log(v)\n",
    "        u = np.random.uniform()\n",
    "        sign = np.sign(0.5 * (1 + self.F(Xt)/self.N(Xt)) - u)\n",
    "        return Xt+ (sign*p)/(self.N(Xt)-sign*self.F(Xt))\n",
    "    \n",
    "    def check_exit(self, lower_b=None, upper_b=None, Xt, f, g):\n",
    "        if lower_b is None and upper_b is None:\n",
    "            assert(\"Please provide a boundary value\")\n",
    "\n",
    "        w = np.random.uniform()\n",
    "        Xnew = self.update(Xt, f, g)\n",
    "        \n",
    "        if lower_b:\n",
    "            return Xnew < lower_b or w < np.exp(-2*self.N(b-max(Xt, Xnew))) \n",
    "        if upper_b:\n",
    "            return Xnew > upper_b or w < np.exp(-2*self.N(min(Xt, Xnew)-b)) \n",
    "    \n",
    "    "
   ]
  },
  {
   "cell_type": "markdown",
   "metadata": {},
   "source": [
    "### The exponential-V method with boundary test(2nd Algorithm)"
   ]
  },
  {
   "cell_type": "markdown",
   "metadata": {},
   "source": [
    "#### Assumptions: $\\sigma(x) = \\epsilon$ but $f(x)$ is a function of $x$"
   ]
  },
  {
   "cell_type": "code",
   "execution_count": 1,
   "metadata": {},
   "outputs": [],
   "source": [
    "class ExponentialVTimestepping:\n",
    "    def __init__(self, rate, V):\n",
    "        self.V = V\n",
    "        self.rate = rate\n",
    "        \n",
    "    \n",
    "    def nu(self, Xt, g):\n",
    "        return np.sqrt(2*self.rate / g(Xt)**2)\n",
    "    \n",
    "    def update(self, Xt, f, g):\n",
    "        nu = self.nu(Xt, g)\n",
    "        v = np.random.uniform()\n",
    "        p = -log(v)\n",
    "        u = np.random.uniform()\n",
    "        sign = np.sign(0.5*(1 + (nu**(-2)) * (g(Xt)**(-2))*f(Xt)) - u)\n",
    "        \n",
    "        return Xt + (nu**(-1))*sign*(p - (g(Xt)**(-2))*(self.V(Xt + (nu**(-1))*sign*p) - self.V(Xt)))\n",
    "                                 \n",
    "    def check_exit(self, lower_b=None, upper_b=None, Xt, f, g):\n",
    "        if lower_b is None and upper_b is None:\n",
    "            assert(\"Please provide a boundary value\")\n",
    "\n",
    "        w = np.random.uniform()\n",
    "        Xnew = self.update(Xt, f, g)\n",
    "        nu = self.nu(Xt, g)\n",
    "        \n",
    "        if lower_b:\n",
    "            return Xnew < lower_b or w < np.exp(-2*nu(min(Xt, Xnew)-b)) \n",
    "        if upper_b:\n",
    "            return Xnew > upper_b or w < np.exp(-2*nu(b - max(Xt, Xnew))) \n",
    "    \n",
    "                                 "
   ]
  },
  {
   "cell_type": "markdown",
   "metadata": {},
   "source": [
    "-----------------------------------------------------------"
   ]
  },
  {
   "cell_type": "markdown",
   "metadata": {},
   "source": [
    "## Absorbing boundaries and optimal stopping in a stochastic differential equation"
   ]
  },
  {
   "cell_type": "markdown",
   "metadata": {},
   "source": [
    "#### Assumtions $g(x)=\\sigma$"
   ]
  },
  {
   "cell_type": "code",
   "execution_count": null,
   "metadata": {},
   "outputs": [],
   "source": [
    "class EulerMaryamaBoundaryCheck:\n",
    "    def __init__(self):\n",
    "        pass\n",
    "    \n",
    "    def P_hit(self, x0,xh,dt,xb,D, df):\n",
    "    return np.exp(-df(xb)/(2*D*(np.exp(2*dt*df(xb))-1))*(xh-xb+(x0-xb)*np.exp(dt*df(xb))-f(xb)/df(xb))**2 + (xb - (x0 + dt*(f(x0)+f(xh))/2))**2/4*D*dt)\n",
    "    \n",
    "    def check_exit(self, lower_b=None, upper_b=None, Xt, f, df, g):\n",
    "        if lower_b is None and upper_b is None:\n",
    "            assert(\"Please provide a boundary value\")\n",
    "            \n",
    "        Rn = np.random.randn(1)\n",
    "        Xnew = Xt + dt*f(Xt) + np.sqrt(dt)*Rn*g(Xt)\n",
    "        D = (g(Xt)**2)/2\n",
    "        if Xn-a<5*dt or b-Xn<5*dt:\n",
    "            prob = self.P_hit(Xn,Xn_1,dt,a,D, df)\n",
    "            return prob>np.random.uniform(0,1) or prob>np.random.uniform(0,1)"
   ]
  },
  {
   "cell_type": "markdown",
   "metadata": {},
   "source": [
    "_______________________________________"
   ]
  },
  {
   "cell_type": "markdown",
   "metadata": {},
   "source": [
    "## Adaptive Timestep"
   ]
  },
  {
   "cell_type": "code",
   "execution_count": 1,
   "metadata": {},
   "outputs": [],
   "source": [
    "class AdaptiveTimestep:\n",
    "    def __init__(self):\n",
    "        pass"
   ]
  },
  {
   "cell_type": "markdown",
   "metadata": {},
   "source": [
    "________________________"
   ]
  },
  {
   "cell_type": "markdown",
   "metadata": {},
   "source": [
    "# Expariments"
   ]
  },
  {
   "cell_type": "markdown",
   "metadata": {},
   "source": [
    "### Simple SDE: $dX = \\mu dt + \\sigma dW, \\quad X(0) = X_0$"
   ]
  },
  {
   "cell_type": "code",
   "execution_count": 3,
   "metadata": {
    "collapsed": true
   },
   "outputs": [
    {
     "ename": "NameError",
     "evalue": "name 'simpleSDE' is not defined",
     "output_type": "error",
     "traceback": [
      "\u001b[0;31m---------------------------------------------------------------------------\u001b[0m",
      "\u001b[0;31mNameError\u001b[0m                                 Traceback (most recent call last)",
      "\u001b[0;32m<ipython-input-3-2dd9079123fb>\u001b[0m in \u001b[0;36m<module>\u001b[0;34m\u001b[0m\n\u001b[1;32m      7\u001b[0m \u001b[0;34m\u001b[0m\u001b[0m\n\u001b[1;32m      8\u001b[0m \u001b[0;31m# New instance of SimpleSDE class\u001b[0m\u001b[0;34m\u001b[0m\u001b[0;34m\u001b[0m\u001b[0;34m\u001b[0m\u001b[0m\n\u001b[0;32m----> 9\u001b[0;31m \u001b[0msimpleSDE\u001b[0m \u001b[0;34m=\u001b[0m \u001b[0msimpleSDE\u001b[0m\u001b[0;34m(\u001b[0m\u001b[0mmu\u001b[0m \u001b[0;34m=\u001b[0m \u001b[0mmu\u001b[0m\u001b[0;34m,\u001b[0m \u001b[0msigma\u001b[0m \u001b[0;34m=\u001b[0m \u001b[0msigma\u001b[0m\u001b[0;34m)\u001b[0m\u001b[0;34m\u001b[0m\u001b[0;34m\u001b[0m\u001b[0m\n\u001b[0m",
      "\u001b[0;31mNameError\u001b[0m: name 'simpleSDE' is not defined"
     ]
    }
   ],
   "source": [
    "# Parameters\n",
    "mu = 0.5\n",
    "sigma = 1\n",
    "X0 = 0\n",
    "upper_b = 5\n",
    "dt = 0.01\n",
    "\n",
    "# New instance of SimpleSDE class\n",
    "simpleSDE = simpleSDE(mu = mu, sigma = sigma)"
   ]
  },
  {
   "cell_type": "markdown",
   "metadata": {},
   "source": [
    "#### Euler-Maruyama"
   ]
  },
  {
   "cell_type": "markdown",
   "metadata": {},
   "source": [
    "#### Milstien"
   ]
  },
  {
   "cell_type": "markdown",
   "metadata": {},
   "source": [
    "####  EXPONENTIAL TIMESTEPPING WITH BOUNDARY TEST FOR SDEs (The exponential-Euler method with boundary test) "
   ]
  },
  {
   "cell_type": "markdown",
   "metadata": {},
   "source": [
    "#### Absorbing boundaries and optimal stopping in a stochastic differential equation"
   ]
  },
  {
   "cell_type": "markdown",
   "metadata": {},
   "source": [
    "#### Adaptive Timestep-Euler-Maruyama"
   ]
  },
  {
   "cell_type": "markdown",
   "metadata": {},
   "source": [
    "________________"
   ]
  },
  {
   "cell_type": "markdown",
   "metadata": {},
   "source": [
    "### Double Well Potential"
   ]
  },
  {
   "cell_type": "markdown",
   "metadata": {},
   "source": [
    "#### Euler-Maruyama"
   ]
  },
  {
   "cell_type": "markdown",
   "metadata": {},
   "source": [
    "#### Milstien"
   ]
  },
  {
   "cell_type": "markdown",
   "metadata": {},
   "source": [
    "####  EXPONENTIAL TIMESTEPPING WITH BOUNDARY TEST FOR SDEs (The exponential-Euler method with boundary test) "
   ]
  },
  {
   "cell_type": "markdown",
   "metadata": {},
   "source": [
    "#### Absorbing boundaries and optimal stopping in a stochastic differential equation"
   ]
  },
  {
   "cell_type": "markdown",
   "metadata": {},
   "source": [
    "#### Adaptive Timestep-Euler-Maruyama"
   ]
  },
  {
   "cell_type": "markdown",
   "metadata": {},
   "source": [
    "#### Adaptive Timestep-Milstein"
   ]
  },
  {
   "cell_type": "markdown",
   "metadata": {},
   "source": [
    "### Opinion Poll"
   ]
  },
  {
   "cell_type": "markdown",
   "metadata": {},
   "source": [
    "#### Euler-Maruyama"
   ]
  },
  {
   "cell_type": "markdown",
   "metadata": {},
   "source": [
    "#### Milstien"
   ]
  },
  {
   "cell_type": "markdown",
   "metadata": {},
   "source": [
    "####  EXPONENTIAL TIMESTEPPING WITH BOUNDARY TEST FOR SDEs (The exponential-Euler method with boundary test) "
   ]
  },
  {
   "cell_type": "markdown",
   "metadata": {},
   "source": [
    "#### Absorbing boundaries and optimal stopping in a stochastic differential equation"
   ]
  },
  {
   "cell_type": "markdown",
   "metadata": {},
   "source": [
    "#### Adaptive Timestep-Euler-Maruyama"
   ]
  },
  {
   "cell_type": "markdown",
   "metadata": {},
   "source": [
    "#### Adaptive Timestep-Milstein"
   ]
  },
  {
   "cell_type": "code",
   "execution_count": null,
   "metadata": {},
   "outputs": [],
   "source": []
  }
 ],
 "metadata": {
  "kernelspec": {
   "display_name": "Python 3",
   "language": "python",
   "name": "python3"
  },
  "language_info": {
   "codemirror_mode": {
    "name": "ipython",
    "version": 3
   },
   "file_extension": ".py",
   "mimetype": "text/x-python",
   "name": "python",
   "nbconvert_exporter": "python",
   "pygments_lexer": "ipython3",
   "version": "3.6.8"
  }
 },
 "nbformat": 4,
 "nbformat_minor": 2
}
