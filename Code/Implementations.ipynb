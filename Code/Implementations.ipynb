{
 "cells": [
  {
   "cell_type": "markdown",
   "metadata": {},
   "source": [
    "# Import libraries"
   ]
  },
  {
   "cell_type": "code",
   "execution_count": 1,
   "metadata": {},
   "outputs": [],
   "source": [
    "import numpy as np\n",
    "import matplotlib.pyplot as plt\n",
    "from tqdm import tqdm"
   ]
  },
  {
   "cell_type": "markdown",
   "metadata": {},
   "source": [
    "# Stocastic Differential Equations"
   ]
  },
  {
   "cell_type": "markdown",
   "metadata": {},
   "source": [
    "## Asset Price"
   ]
  },
  {
   "cell_type": "code",
   "execution_count": 2,
   "metadata": {},
   "outputs": [],
   "source": [
    "class AssetPrice:\n",
    "    \"\"\"\n",
    "    This is a class for Asset Price ODE. \n",
    "    It contains methods for finding exact solution, plotting and exat mean hitting time.\n",
    "    Arguments:\n",
    "    a: Lower bound\n",
    "    b: Upper bound\n",
    "    mu: mu\n",
    "    sigma: sigma\n",
    "    \"\"\"\n",
    "    def __init__(self, lower_b, upper_b, mu, sigma):\n",
    "        self.lower_b = lower_b\n",
    "        self.upper_b = upper_b\n",
    "        self.mu = mu\n",
    "        self.sigma = sigma\n",
    "        \n",
    "    def f(self,x):\n",
    "        \"\"\"\n",
    "        Function of f(x) in asset price stochastic differential equation (deterministic part)\n",
    "        \"\"\"\n",
    "        return self.mu * x\n",
    "    \n",
    "    def g(self,x):\n",
    "        \"\"\"\n",
    "        Function of g(x) in asset price stochastic differential equation (stochastic part)\n",
    "        \"\"\"\n",
    "        return self.sigma * x\n",
    "    \n",
    "    def dg(self,x):\n",
    "        \"\"\"\n",
    "        Function of g'(x) in asset price stochastic differential equation (stochastic part)\n",
    "        \"\"\"\n",
    "        return self.sigma\n",
    "    \n",
    "    def df(self,x):\n",
    "        return self.mu\n",
    "  "
   ]
  },
  {
   "cell_type": "markdown",
   "metadata": {},
   "source": [
    "## Asset Price Interest Rate"
   ]
  },
  {
   "cell_type": "code",
   "execution_count": 3,
   "metadata": {},
   "outputs": [],
   "source": [
    "class AssetPriceInterestRate:\n",
    "    def __init__(self, lam, mu, sigma):\n",
    "        self.lam = lam\n",
    "        self.mu = mu\n",
    "        self.sigma = sigma\n",
    "        \n",
    "    \n",
    "    def f(self,x):\n",
    "        return self.lam*(self.mu - x)\n",
    "    \n",
    "    def g(self,x):\n",
    "        return self.sigma*np.sqrt(x)\n",
    "    "
   ]
  },
  {
   "cell_type": "markdown",
   "metadata": {},
   "source": [
    "## Opinion Polls"
   ]
  },
  {
   "cell_type": "code",
   "execution_count": 4,
   "metadata": {},
   "outputs": [],
   "source": [
    "class OpinionPolls:\n",
    "    def __init__(self, mu, sigma):\n",
    "        self.mu = mu\n",
    "        self.sigma = sigma\n",
    "        \n",
    "    def f(self,x):\n",
    "        return -self.mu*(x/(1-x**2))\n",
    "    \n",
    "    def V(self, x):\n",
    "        return np.log(1-x**2)/2\n",
    "        \n",
    "    def g(self,x):\n",
    "        return self.sigma"
   ]
  },
  {
   "cell_type": "markdown",
   "metadata": {},
   "source": [
    "## Population Dynamic "
   ]
  },
  {
   "cell_type": "code",
   "execution_count": 5,
   "metadata": {},
   "outputs": [],
   "source": [
    "class PopulationDynamic:\n",
    "    def __init__(self, K, r, beta):\n",
    "        self.K = K\n",
    "        self.r = r\n",
    "        self.beta = beta\n",
    "        \n",
    "    def f(self,x):\n",
    "        return self.r*x*(self.K - x)\n",
    "    \n",
    "    def g(self,x):\n",
    "        return self.beta*x"
   ]
  },
  {
   "cell_type": "markdown",
   "metadata": {},
   "source": [
    "## Epidemic Model"
   ]
  },
  {
   "cell_type": "code",
   "execution_count": 6,
   "metadata": {},
   "outputs": [],
   "source": [
    "class EpidemicModel:\n",
    "    \n",
    "    def __init__(self, p, B, beta, alpha, rho, C):\n",
    "        self.p = p\n",
    "        self.B = B\n",
    "        self.beta = beta\n",
    "        self.alpha = alpha\n",
    "        self.rho = rho \n",
    "        self.C = C\n",
    "    \n",
    "    def f(self, x):\n",
    "        return (self.p -1)*self.B*x + (self.beta*self.C - self.alpha)*(1 - x)*x\n",
    "    \n",
    "    def g(self, x):\n",
    "        return self.p*self.C*(1-x)*x"
   ]
  },
  {
   "cell_type": "markdown",
   "metadata": {},
   "source": [
    "## Political Opinion"
   ]
  },
  {
   "cell_type": "code",
   "execution_count": 7,
   "metadata": {},
   "outputs": [],
   "source": [
    "class PoliticalOpinion:\n",
    "    def __init__(self, r, G, eps):\n",
    "        self.r = r\n",
    "        self.G = G\n",
    "        self.eps = eps\n",
    "        \n",
    "    def f(self,x):\n",
    "        return self.r*(self.G-x)\n",
    "    \n",
    "    def g(self,x):\n",
    "        return np.sqrt(self.eps*x*(1-x))\n",
    "    "
   ]
  },
  {
   "cell_type": "markdown",
   "metadata": {},
   "source": [
    "## Double Well Potential"
   ]
  },
  {
   "cell_type": "code",
   "execution_count": 8,
   "metadata": {},
   "outputs": [],
   "source": [
    "class DoubleWellPotential:\n",
    "    def __init__(self, sigma):\n",
    "        self.sigma = sigma\n",
    "        \n",
    "    def f(self, x):\n",
    "        return -8*x + 12*(x**2) - 4*(x**3)\n",
    "    \n",
    "    def g(self, x):\n",
    "        return self.sigma\n",
    "    \n",
    "    def V(self, x):\n",
    "        return (x**2)*((x-2)**2)\n",
    "    \n",
    "    def df(self, x):\n",
    "        return -self._dV2(x)\n",
    "    \n",
    "    def dg(self, x):\n",
    "        return 0"
   ]
  },
  {
   "cell_type": "code",
   "execution_count": 9,
   "metadata": {},
   "outputs": [],
   "source": [
    "class SimpleSDE:\n",
    "    def __init__(self, mu, sigma):\n",
    "        self.mu = mu\n",
    "        self.sigma = sigma\n",
    "    \n",
    "    def f(self, x):\n",
    "        return self.mu\n",
    "    \n",
    "    def g(self, x):\n",
    "        return self.sigma\n",
    "    \n",
    "    def df(self, x):\n",
    "        return 0\n",
    "    \n",
    "    def dg(self, x):\n",
    "        return 0\n",
    "    "
   ]
  },
  {
   "cell_type": "markdown",
   "metadata": {},
   "source": [
    "## Custom SDE"
   ]
  },
  {
   "cell_type": "code",
   "execution_count": 10,
   "metadata": {},
   "outputs": [],
   "source": [
    "class CustomSDE:\n",
    "    def __init__(self):\n",
    "        pass\n",
    "    \n",
    "    def f(self, x):\n",
    "        return x - x**3\n",
    "    \n",
    "    def g(self, x):\n",
    "        return np.sqrt(0.2)\n",
    "    \n",
    "    def V(self, x):\n",
    "        return -((x**2)/2) + (x**4)/4\n",
    "    \n",
    "    def df(self, x):\n",
    "        return 1 - 3*(x**2)\n",
    "    \n",
    "    def dg(self, x):\n",
    "        return 0"
   ]
  },
  {
   "cell_type": "markdown",
   "metadata": {},
   "source": [
    "# Methods"
   ]
  },
  {
   "cell_type": "markdown",
   "metadata": {},
   "source": [
    "## EXPONENTIAL TIMESTEPPING WITH BOUNDARY TEST FOR SDEs "
   ]
  },
  {
   "cell_type": "markdown",
   "metadata": {},
   "source": [
    "### The exponential-Euler method with boundary test (1st Algorithm)"
   ]
  },
  {
   "cell_type": "markdown",
   "metadata": {},
   "source": [
    "#### Assumptions: $f(X_t) = \\mu$ and $\\sigma(X_t)=\\epsilon$"
   ]
  },
  {
   "cell_type": "code",
   "execution_count": 11,
   "metadata": {},
   "outputs": [],
   "source": [
    "class ExponentialTimestepping:\n",
    "    def __init__(self, rate):\n",
    "        self.rate = rate\n",
    "    \n",
    "    def F(self, Xn, f, g):\n",
    "        return f(Xn) / g(Xn)**2\n",
    "        \n",
    "    def N(self, Xn,f, g):\n",
    "        return np.sqrt(((2*self.rate) / (g(Xn)**2)) + self.F(Xn,f,g)**2)\n",
    "    \n",
    "    def udpate_time(self,Xn, f, g):\n",
    "        nu2 = (2*self.rate) / g(Xn)**2\n",
    "        U = f(Xn)/g(Xn)\n",
    "        nu2_U2 = np.sqrt(nu2 + U**2)\n",
    "        \n",
    "        x = Xn\n",
    "        if Xn < 0:\n",
    "            x = -Xn\n",
    "        return (self.rate / g(Xn)**2) * (1/nu2_U2) * np.exp(-x * nu2_U2 + U*Xn)\n",
    "    \n",
    "    def compute_MHT(self, X0, f, g , num_itr, lower_b=None, upper_b=None):\n",
    "        if lower_b is None and upper_b is None:\n",
    "            assert(\"Please provide a boundary value\")  \n",
    "        if lower_b is None:\n",
    "            lower_b = -np.inf\n",
    "        if upper_b is None:\n",
    "            upper_b = np.inf\n",
    "            \n",
    "        t_exit = []\n",
    "        \n",
    "        for i in tqdm(range(num_itr)):\n",
    "            self.breaked = 0 \n",
    "            tn = 0\n",
    "            Xn = X0\n",
    "            temp = X0\n",
    "            steps = 0\n",
    "            while Xn > lower_b and Xn < upper_b:\n",
    "                steps +=1\n",
    "                v = np.random.uniform()\n",
    "                p = -np.log(v)\n",
    "                u = np.random.uniform()\n",
    "                sign = np.sign(0.5*(1 + self.F(Xn,f,g)/self.N(Xn,f,g)) - u)\n",
    "                Nt = self.N(Xn,f,g)\n",
    "                Ft = self.F(Xn,f,g)\n",
    "                \n",
    "                Xn_1 = Xn + (sign*p)/(Nt-sign*Ft)\n",
    "                temp = Xn_1\n",
    "                dt = self.udpate_time(Xn_1, f, g)\n",
    "                w = np.random.uniform()\n",
    "                if Xn_1 < lower_b or w < np.exp(-2*Nt*(min(Xn, Xn_1)-lower_b)) or Xn_1 > upper_b or w < np.exp(-2*Nt*(upper_b-max(Xn, Xn_1))):\n",
    "                    self.breaked += 1\n",
    "                    break\n",
    "                    \n",
    "                tn += steps * (1/self.rate)\n",
    "                steps = 0\n",
    "                Xn = Xn_1\n",
    "                \n",
    "            t_exit.append(tn)\n",
    "        \n",
    "        tmean = np.mean(t_exit)\n",
    "        tstd = np.std(t_exit)\n",
    "\n",
    "        cileft = tmean - 1.96*tstd/np.sqrt(num_itr)\n",
    "        ciright = tmean + 1.96*tstd/np.sqrt(num_itr)\n",
    "        \n",
    "        return t_exit, tmean, tstd, cileft, ciright\n",
    "    \n",
    "    def plot(self,t_exit):\n",
    "        histogram,bins = np.histogram(t_exit,bins=20,range=[0,20])\n",
    "        midx = (bins[0:-1]+bins[1:])/2\n",
    "        plt.bar(midx,histogram,label='Test')\n",
    "        plt.show()\n",
    "    "
   ]
  },
  {
   "cell_type": "markdown",
   "metadata": {},
   "source": [
    "### The exponential-V method with boundary test(2nd Algorithm)"
   ]
  },
  {
   "cell_type": "markdown",
   "metadata": {},
   "source": [
    "#### Assumptions: $\\sigma(x) = \\epsilon$ but $f(x)$ is a function of $x$"
   ]
  },
  {
   "cell_type": "code",
   "execution_count": 23,
   "metadata": {},
   "outputs": [],
   "source": [
    "class ExponentialVTimestepping:\n",
    "    def __init__(self, rate):\n",
    "        self.V = None\n",
    "        self.rate = rate\n",
    "        \n",
    "    \n",
    "    def nu(self,g):\n",
    "        return np.sqrt(2*self.rate / g**2)\n",
    "    \n",
    "\n",
    "    def compute_MHT(self, X0, f, g, V , num_itr, lower_b=None, upper_b=None):\n",
    "        if self.V is None:\n",
    "            assert(\"Please provide value for V\")\n",
    "            \n",
    "        if lower_b is None and upper_b is None:\n",
    "            assert(\"Please provide a boundary value\")  \n",
    "        if lower_b is None:\n",
    "            lower_b = -np.inf\n",
    "        if upper_b is None:\n",
    "            upper_b = np.inf\n",
    "            \n",
    "        t_exit = []\n",
    "        \n",
    "        for i in tqdm(range(num_itr)):\n",
    "            self.breaked = 0 \n",
    "            tn = 0\n",
    "            Xn = X0\n",
    "            steps = 0\n",
    "            while Xn > lower_b and Xn < upper_b:\n",
    "                steps +=1\n",
    "                nu = self.nu(g(Xn))\n",
    "                v = np.random.uniform()\n",
    "                p = -np.log(v)\n",
    "                u = np.random.uniform()\n",
    "                sign = np.sign(0.5*(1 + (1/nu)*(g(Xn)**(-2))*f(Xn)) - u)\n",
    "                Xn_1 = Xn + (1/nu)*sign*(p - (g(Xn)**(-2))*(V(Xn + (1/nu)*sign*p) - V(Xn)))\n",
    "                                 \n",
    "                w = np.random.uniform()\n",
    "                nu = self.nu(Xt, g)\n",
    "                if Xn_1 < lower_b or w < np.exp(-2*nu(min(Xn, Xn_1)-lower_b)) or Xn_1 > upper_b or w < np.exp(-2*nu(upper_b - max(Xn, Xn_1))):\n",
    "                    self.breaked += 1\n",
    "                    break\n",
    "                \n",
    "            \n",
    "                tn += steps * (1/self.rate)\n",
    "                steps = 0\n",
    "                Xn = Xn_1\n",
    "                \n",
    "            t_exit.append(tn)\n",
    "                \n",
    "        tmean = np.mean(t_exit)\n",
    "        tstd = np.std(t_exit)\n",
    "\n",
    "        cileft = tmean - 1.96*tstd/np.sqrt(num_itr)\n",
    "        ciright = tmean + 1.96*tstd/np.sqrt(num_itr)\n",
    "        \n",
    "        return t_exit, tmean, tstd, cileft, ciright\n",
    "    \n",
    "    \n",
    "    def plot(self,t_exit):\n",
    "        histogram,bins = np.histogram(t_exit,bins=20,range=[0,20])\n",
    "        midx = (bins[0:-1]+bins[1:])/2\n",
    "        plt.bar(midx,histogram,label='Test')\n",
    "        plt.show()\n",
    "    "
   ]
  },
  {
   "cell_type": "markdown",
   "metadata": {},
   "source": [
    "-----------------------------------------------------------"
   ]
  },
  {
   "cell_type": "markdown",
   "metadata": {},
   "source": [
    "## Absorbing boundaries and optimal stopping in a stochastic differential equation"
   ]
  },
  {
   "cell_type": "markdown",
   "metadata": {},
   "source": [
    "#### Assumtions $g(x)=\\sigma$"
   ]
  },
  {
   "cell_type": "code",
   "execution_count": 24,
   "metadata": {},
   "outputs": [],
   "source": [
    "class EulerMaryamaBoundaryCheck:\n",
    "    def __init__(self):\n",
    "        self.breaked = 0\n",
    "        self.thres_coeff = 5\n",
    "        pass\n",
    "    \n",
    "#     def P_hit(self, Xn,Xn_1,dt,bound,D, df):\n",
    "#         return np.exp(-df(bound)/(2*D*(np.exp(2*dt*df(bound))-1))*(Xn_1-bound+(Xn-bound)*np.exp(dt*df(bound))-f(bound)/df(bound))**2 + (bound - (Xn + dt*(f(Xn)+f(Xn_1))/2))**2/4*D*dt)\n",
    "    \n",
    "    def P_hit(self, x0,xh,dt,xb,D, f_dash, f):\n",
    "        return np.exp(-f_dash(xb)/(2*D*(np.exp(2*dt*f_dash(xb))-1))*(xh-xb+(x0-xb)*np.exp(dt*f_dash(xb))-f(xb)/f_dash(xb))**2 + (xb - (x0 + dt*(f(x0)+f(xh))/2))**2/4*D*dt)\n",
    "    \n",
    "    def compute_MHT_EM(self, X0, dt, f, g, df, num_itr, lower_b=None, upper_b=None):\n",
    "        if lower_b is None and upper_b is None:\n",
    "            assert(\"Please provide a boundary value\")  \n",
    "        if lower_b is None:\n",
    "            lower_b = -10000\n",
    "        if upper_b is None:\n",
    "            upper_b = 10000\n",
    "            \n",
    "        t_exit = []\n",
    "        \n",
    "        for i in tqdm(range(num_itr)):\n",
    "            self.breaked = 0 \n",
    "            tn = 0\n",
    "            Xn = X0\n",
    "            \n",
    "            while Xn > lower_b and Xn < upper_b:\n",
    "                \n",
    "                Rn = np.random.randn(1)\n",
    "                Xn_1 = Xn + dt*f(Xn) + np.sqrt(dt)*Rn*g(Xn)\n",
    "                D = (g(Xn)**2)/2 \n",
    "                \n",
    "                if Xn-lower_b<self.thres_coeff*dt or upper_b-Xn<self.thres_coeff*dt:\n",
    "                    prob_lowerb = self.P_hit(Xn,Xn_1,dt,lower_b,D, df, f)\n",
    "                    prob_upperb = self.P_hit(Xn,Xn_1,dt,upper_b,D, df, f)\n",
    "                    if prob_lowerb>np.random.uniform(0,1) or prob_upperb>np.random.uniform(0,1):\n",
    "                        self.breaked += 1\n",
    "                        break\n",
    "                        \n",
    "                tn += dt\n",
    "                Xn = Xn_1\n",
    "            \n",
    "            t_exit.append(tn-0.5*dt)\n",
    "        \n",
    "        tmean = np.mean(t_exit)\n",
    "        tstd = np.std(t_exit)\n",
    "\n",
    "        cileft = tmean - 1.96*tstd/np.sqrt(num_itr)\n",
    "        ciright = tmean + 1.96*tstd/np.sqrt(num_itr)\n",
    "        \n",
    "        return t_exit, tmean, tstd, cileft, ciright\n",
    "    \n",
    "    def plot(self,t_exit):\n",
    "        histogram,bins = np.histogram(t_exit,bins=20,range=[0,20])\n",
    "        midx = (bins[0:-1]+bins[1:])/2\n",
    "        plt.bar(midx,histogram,label='Test')\n",
    "        plt.show()\n",
    "        \n",
    "\n",
    "\n",
    "    "
   ]
  },
  {
   "cell_type": "markdown",
   "metadata": {},
   "source": [
    "_______________________________________"
   ]
  },
  {
   "cell_type": "markdown",
   "metadata": {},
   "source": [
    "## Adaptive Timestep"
   ]
  },
  {
   "cell_type": "code",
   "execution_count": 25,
   "metadata": {},
   "outputs": [],
   "source": [
    "class AdaptiveTimestep:\n",
    "    def __init__(self):\n",
    "        pass\n",
    "    \n",
    "    def naive_adaption(self, lower_b, upper_b, dt, x):\n",
    "        \"\"\"\n",
    "        A naive method to adapt timestep based on the distance to the boundaries\n",
    "        \"\"\"\n",
    "        epsilon = 1e-10\n",
    "        dist = min(abs(x - lower_b), abs(x - upper_b))\n",
    "        dt_new = (abs(np.tanh(dist))+epsilon) * dt\n",
    "        return dt_new\n",
    "    \n",
    "    \n",
    "    def adapt_time_EM(self, lower_b, upper_b, x, f, g, dt):\n",
    "        min_dt = 0.0000001\n",
    "        k = 1.96 # set to 1.96 for 95% credible interval of gaussian distribution\n",
    "        \n",
    "        f_res = f(x)\n",
    "        g_res = g(x)\n",
    "        \n",
    "        if f_res == 0 and g(x) == 0:\n",
    "            return dt\n",
    "        elif g_res == 0:\n",
    "            dt_new = min((upper_b-x)/f_res, (x-lower_b)/f_res)\n",
    "            return min(dt, max(dt_new, min_dt))\n",
    "        elif f_res == 0:\n",
    "            if g_res > 0:\n",
    "                dt_new = ((upper_b-x)/(k*g_res))**2\n",
    "                return min(dt, max(dt_new, min_dt))\n",
    "            else:\n",
    "                dt_new = ((x-lower_b)/(k*g_res))**2\n",
    "                return min(dt, max(dt_new, min_dt))\n",
    "        elif f_res > 0:\n",
    "            t1 = np.sqrt( ((upper_b-x)/f_res) + ((k*g_res)/(2*f_res))**2) - (k*g_res)/(2*f_res)\n",
    "            t2 = np.sqrt( ((upper_b-x)/f_res) + ((k*g_res)/(2*f_res))**2) + (k*g_res)/(2*f_res)\n",
    "            dt_new = min(t1**2, t2**2)\n",
    "            return min(dt, max(dt_new, min_dt))\n",
    "        \n",
    "     \n",
    "        t1 = np.sqrt( ((x-lower_b)/f_res) + ((k*g_res)/(2*f_res))**2) - (k*g_res)/(2*f_res)\n",
    "        t2 = np.sqrt( ((x-lower_b)/f_res) + ((k*g_res)/(2*f_res))**2) + (k*g_res)/(2*f_res)\n",
    "        dt_new = min(t1**2, t2**2)\n",
    "        return min(dt, max(dt_new, min_dt))\n",
    "    \n",
    "    \n",
    "    \n",
    "    def _f2(self,x,f,g,dg,k):\n",
    "        return f(x) + 0.5*g(x)*dg(x)*((k**2)-1)\n",
    "        \n",
    "    def adapt_time_Mils(self, lower_b, upper_b, x, f, g, dg, dt):\n",
    "        min_dt = 0.0000001\n",
    "        k = 1.96 # set to 1.96 for 95% credible interval of gaussian distribution\n",
    "        \n",
    "        f2_res = self._f2(x,f,g,dg,k)\n",
    "        g_res = g(x)\n",
    "        \n",
    "        if f2_res == 0 and g_res == 0:\n",
    "            return dt\n",
    "        \n",
    "        elif g_res == 0:\n",
    "            dt_new = min((upper_b-x)/f2_res, (x-lower_b)/f2_res)\n",
    "            return min(dt, max(dt_new, min_dt))\n",
    "        \n",
    "        elif f2_res == 0:\n",
    "            if g_res > 0:\n",
    "                dt_new = ((upper_b-x)/(k*g_res))**2\n",
    "                return min(dt, max(dt_new, min_dt))\n",
    "            else:\n",
    "                dt_new = ((x-lower_b)/(k*g_res))**2\n",
    "                return min(dt, max(dt_new, min_dt))\n",
    "                          \n",
    "        elif f2_res > 0:\n",
    "            t1 = np.sqrt( ((upper_b-x)/f2_res) + ((k*g_res)/(2*f2_res))**2) - (k*g_res)/(2*f2_res)\n",
    "            t2 = np.sqrt( ((upper_b-x)/f2_res) + ((k*g_res)/(2*f2_res))**2) + (k*g_res)/(2*f2_res)\n",
    "            dt_new = min(t1**2, t2**2)\n",
    "            return min(dt, max(dt_new, min_dt))\n",
    "        \n",
    "        t1 = np.sqrt( ((x-lower_b)/f2_res) + ((k*g_res)/(2*f2_res))**2) - (k*g_res)/(2*f2_res)\n",
    "        t2 = np.sqrt( ((x-lower_b)/f2_res) + ((k*g_res)/(2*f2_res))**2) + (k*g_res)/(2*f2_res)\n",
    "        dt_new = min(t1**2, t2**2)\n",
    "        return min(dt, max(dt_new, min_dt))\n",
    "    \n",
    "    \n",
    "    \n",
    "    def compute_MHT_EM(self, X0, dt, num_itr, f, g, lower_b, upper_b):\n",
    "        \"\"\"\n",
    "        Method that approxiamte a solution using Euler-Maruyama method\n",
    "        \n",
    "        Arguments:\n",
    "        f: F(x)\n",
    "        g: g(x)\n",
    "        \n",
    "        Return: List containing Mean, STD, Confidence interval Left, Confidence interval Right\n",
    "        \"\"\"\n",
    "       \n",
    "    \n",
    "        if lower_b is None and upper_b is None:\n",
    "            assert(\"Please provide a boundary value\")  \n",
    "        if lower_b is None:\n",
    "            lower_b = -1000\n",
    "        if upper_b is None:\n",
    "            upper_b = 1000\n",
    "            \n",
    "            \n",
    "        # TODO: Add threshold for situation when the loop goes forever\n",
    "        t_exit = []\n",
    "        \n",
    "        adapt_timestep = self.adapt_time_EM\n",
    "        for i in tqdm(range(num_itr)):\n",
    "            X = X0\n",
    "            t = 0\n",
    "            while X > lower_b and X < upper_b:\n",
    "                dt_new_EM = adapt_timestep(lower_b=lower_b, upper_b=upper_b, x=X, f=f, g=g, dt=dt)\n",
    "                dW = np.sqrt(dt_new_EM)*np.random.randn()\n",
    "                X = X + dt_new_EM*f(X) + g(X)*dW\n",
    "                t += dt_new_EM\n",
    "\n",
    "            t_exit.append(t)\n",
    "\n",
    "\n",
    "        \n",
    "            \n",
    "        tmean = np.mean(t_exit)\n",
    "        tstd = np.std(t_exit)\n",
    "\n",
    "        cileft = tmean - 1.96*tstd/np.sqrt(num_itr)\n",
    "        ciright = tmean + 1.96*tstd/np.sqrt(num_itr)\n",
    "        \n",
    "        return t_exit, tmean, tstd, cileft, ciright\n",
    "    \n",
    "    \n",
    "    \n",
    "    def compute_MHT_Mils(self, X0, dt, num_itr, f, g, dg, lower_b, upper_b):\n",
    "        \"\"\"\n",
    "        Method that approxiamte a solution using Euler-Maruyama method\n",
    "        \n",
    "        Arguments:\n",
    "        f: F(x)\n",
    "        g: g(x)\n",
    "        \n",
    "        Return: List containing Mean, STD, Confidence interval Left, Confidence interval Right\n",
    "        \"\"\"\n",
    "        \n",
    "        if lower_b is None and upper_b is None:\n",
    "            assert(\"Please provide a boundary value\")  \n",
    "        if lower_b is None:\n",
    "            lower_b = -1000\n",
    "        if upper_b is None:\n",
    "            upper_b = 1000\n",
    "        \n",
    "        # TODO: Add threshold for situation when the loop goes forever\n",
    "        t_exit = []\n",
    "        \n",
    "        \n",
    "\n",
    "        adapt_timestep = self.adapt_time_Mils\n",
    "        for i in tqdm(range(num_itr)):\n",
    "            X = X0\n",
    "            t = 0\n",
    "            # TODO: pass new dt to adapt_timestep\n",
    "            while X > lower_b and X < upper_b:\n",
    "                dt_new_EM = adapt_timestep(lower_b=lower_b, upper_b=upper_b, x=X, f=f, g=g, dg=dg, dt=dt)\n",
    "                dW = np.sqrt(dt_new_EM)*np.random.randn()\n",
    "                X = X + dt_new_EM*f(X) + g(X)*dW + 0.5 * g(X)*dg(X)*(dW**2 - dt_new_EM)\n",
    "                t += dt_new_EM\n",
    "\n",
    "            t_exit.append(t)\n",
    "\n",
    "\n",
    "            \n",
    "        tmean = np.mean(t_exit)\n",
    "        tstd = np.std(t_exit)\n",
    "\n",
    "        cileft = tmean - 1.96*tstd/np.sqrt(num_itr)\n",
    "        ciright = tmean + 1.96*tstd/np.sqrt(num_itr)\n",
    "        \n",
    "        return t_exit, tmean, tstd, cileft, ciright\n",
    "    \n",
    "\n",
    "\n",
    "    def plot(self,t_exit):\n",
    "        histogram,bins = np.histogram(t_exit,bins=20,range=[0,20])\n",
    "        midx = (bins[0:-1]+bins[1:])/2\n",
    "        plt.bar(midx,histogram,label='Test')\n",
    "        plt.show()\n",
    "        "
   ]
  },
  {
   "cell_type": "code",
   "execution_count": 26,
   "metadata": {},
   "outputs": [],
   "source": [
    "from sympy.solvers.inequalities import solve_univariate_inequality\n",
    "from sympy import Symbol, sin, Interval, S, sqrt\n",
    "from sympy.abc import x\n",
    "import sympy\n",
    "x = Symbol('x')\n",
    "\n",
    "class AdaptiveTimestep2:\n",
    "    def __init__(self, zscore=0.6):\n",
    "        self.zscore = zscore\n",
    "        pass\n",
    "    \n",
    "    def find_min(self, sols):\n",
    "        vals = []\n",
    "        for sol in sols:\n",
    "            if sol is not None:\n",
    "                if sol.is_Union or sol.is_Intersection:\n",
    "                    for arg in sol.args:\n",
    "                        if arg.is_Interval:\n",
    "                            vals.append(float(arg.args[1]))\n",
    "                        elif arg.is_Union or arg.is_Intersection:\n",
    "                            for a in arg.args:\n",
    "                                vals.append(float(a.args[1]))\n",
    "                            \n",
    "                if sol.is_Interval:\n",
    "                    vals.append(float(sol.args[1]))\n",
    "        \n",
    "        vals = [v for v in vals if str(v) != '-oo' or str(v) != 'oo']  \n",
    "        \n",
    "        return min(vals)\n",
    "    \n",
    "    def adapt_time_solver(self, upper_b, lower_b, Xn, fx, gx, dt):\n",
    "        f = fx(Xn)\n",
    "        g = gx(Xn)\n",
    "        eps = np.arange(-self.zscore,self.zscore, 0.001)\n",
    "        Xn_1dist = [Xn + f*dt + g*np.sqrt(dt)*p for p in eps]\n",
    "        p_max = eps[np.argmax(Xn_1dist)]\n",
    "        p_min = eps[np.argmin(Xn_1dist)]\n",
    "        theta = 0.001\n",
    "        \n",
    "        sol1, sol2, sol3, sol4 = None, None, None, None \n",
    "        \n",
    "        if (lower_b < Xn + f*dt + g*np.sqrt(dt)*p_min) and (Xn + f*dt + g*np.sqrt(dt)*p_max < upper_b):\n",
    "            return dt\n",
    "        \n",
    "        if Xn + f*dt + g*np.sqrt(dt)*p_max > upper_b:\n",
    "#             print('Upper Bound')\n",
    "#             print(Xn + f*dt + g*np.sqrt(dt)*p_max)\n",
    "            sol1=solve_univariate_inequality(f*x + g*p_max*sqrt(x) + Xn - upper_b < 0, x, relational=False)\n",
    "            \n",
    "        \n",
    "        if Xn + f*dt + g*np.sqrt(dt)*p_min < lower_b:\n",
    "#             print('Lower Bound')\n",
    "#             print(Xn + f*dt + g*np.sqrt(dt)*p_min)\n",
    "            sol2 = solve_univariate_inequality(f*x + g*p_min*sqrt(x) + Xn - lower_b > 0, x, relational=False)\n",
    "\n",
    "#         print('SOL1: ', sol1)\n",
    "#         print('SOL2: ', sol2)\n",
    "        min_sol = self.find_min([sol1, sol2])\n",
    "        dt_n = min(max(min_sol,theta), dt)\n",
    "#         print('dt: ', dt_n)\n",
    "#         print(Xn + f*dt_n + g*np.sqrt(dt_n)*p_max)\n",
    "#         print('---=====---')\n",
    "        return min(max(min_sol,theta), dt)\n",
    "        \n",
    "        \n",
    "    \n",
    "    def adapt_time_EM(self, upper_b, x, f, g, dt ):\n",
    "        fx = f(x)\n",
    "        gx = g(x)\n",
    "        p = 3\n",
    "        theta = 0.000001\n",
    "        \n",
    "        \n",
    "        if fx == 0 and gx ==0:\n",
    "            return dt\n",
    "        \n",
    "        if fx == 0 :\n",
    "            return min(dt, max(((upper_b - x) / gx*p)**2, theta))\n",
    "           \n",
    "        temp_v = ((gx*p)/2*fx)\n",
    "        root_v = np.sqrt( ((upper_b - x)/fx) + ((gx*p)/2*fx)**2 )\n",
    "        \n",
    "        \n",
    "        if fx > 0:    \n",
    "            return min(dt, max(theta, (root_v - temp_v)**2))\n",
    "    \n",
    "        \n",
    "        if f < 0 :\n",
    "            if g > 0:\n",
    "                return min(dt, max(theta, (root_v + temp_v )**2, (-root_v - temp_v )**2) )\n",
    "            return min(dt, max(theta, (root_v - temp_v )**2, (-root_v + temp_v )**2) )\n",
    "        \n",
    "        return dt\n",
    " \n",
    "        \n",
    "    \n",
    "    def compute_MHT_EM(self, X0, dt, num_itr, f, g, lower_b, upper_b):\n",
    "        \"\"\"\n",
    "        Method that approxiamte a solution using Euler-Maruyama method\n",
    "        \n",
    "        Arguments:\n",
    "        f: F(x)\n",
    "        g: g(x)\n",
    "        \n",
    "        Return: List containing Mean, STD, Confidence interval Left, Confidence interval Right\n",
    "        \"\"\"\n",
    "        \n",
    "        self.paths = []\n",
    "        self.times = []\n",
    "        self.timesteps = []\n",
    "    \n",
    "        if lower_b is None and upper_b is None:\n",
    "            assert(\"Please provide a boundary value\")  \n",
    "        if lower_b is None:\n",
    "            lower_b = -1000\n",
    "        if upper_b is None:\n",
    "            upper_b = 1000\n",
    "            \n",
    "            \n",
    "        # TODO: Add threshold for situation when the loop goes forever\n",
    "        t_exit = []\n",
    "        \n",
    "        \n",
    "        adapt_timestep = self.adapt_time_solver\n",
    "        for i in tqdm(range(num_itr)):\n",
    "            X = X0\n",
    "            t = 0\n",
    "            path = []\n",
    "            time = []\n",
    "            timestep = []\n",
    "            while X > lower_b and X < upper_b:\n",
    "                dt_new_EM = adapt_timestep(upper_b=upper_b,lower_b=lower_b, Xn=X, fx=f, gx=g, dt=dt)\n",
    "#                 print(dt_new_EM)\n",
    "                dW = np.sqrt(dt_new_EM)*np.random.randn()\n",
    "                X = X + dt_new_EM*f(X) + g(X)*dW\n",
    "                t += dt_new_EM\n",
    "                time.append(t)\n",
    "                path.append(X)\n",
    "                timestep.append(dt_new_EM)\n",
    "            self.paths.append(path)\n",
    "            self.times.append(time)\n",
    "            self.timesteps.append(timestep)\n",
    "#             print('-------------')\n",
    "            t_exit.append(t - 0.5 * dt_new_EM)\n",
    "\n",
    "\n",
    "        \n",
    "            \n",
    "        tmean = np.mean(t_exit)\n",
    "        tstd = np.std(t_exit)\n",
    "\n",
    "        cileft = tmean - 1.96*tstd/np.sqrt(num_itr)\n",
    "        ciright = tmean + 1.96*tstd/np.sqrt(num_itr)\n",
    "        \n",
    "        return t_exit, tmean, tstd, cileft, ciright\n",
    "    \n",
    "\n",
    "\n",
    "    def plot(self,t_exit):\n",
    "        histogram,bins = np.histogram(t_exit,bins=20,range=[0,20])\n",
    "        midx = (bins[0:-1]+bins[1:])/2\n",
    "        plt.bar(midx,histogram,label='Test')\n",
    "        plt.show()\n",
    "        "
   ]
  },
  {
   "cell_type": "code",
   "execution_count": null,
   "metadata": {},
   "outputs": [],
   "source": []
  },
  {
   "cell_type": "code",
   "execution_count": 27,
   "metadata": {},
   "outputs": [],
   "source": [
    "class EM_Milstein:\n",
    "    def __init__(self):\n",
    "        pass\n",
    "    \n",
    "    def compute_MHT_EM(self,X0 , dt, num_itr, f, g, lower_b, upper_b):\n",
    "        \n",
    "        if lower_b is None and upper_b is None:\n",
    "            assert(\"Please provide a boundary value\")  \n",
    "        if lower_b is None:\n",
    "            lower_b = -np.inf\n",
    "        if upper_b is None:\n",
    "            upper_b = np.inf\n",
    "        \n",
    "        t_exit = []\n",
    "        for i in tqdm(range(num_itr)):\n",
    "            X = X0\n",
    "            t = 0\n",
    "            while X > lower_b and X < upper_b:\n",
    "                dW = np.sqrt(dt) * np.random.randn()\n",
    "                X = X + dt*f(X) + g(X)*dW\n",
    "                t += dt\n",
    "\n",
    "            t_exit.append(t - 0.5*dt)\n",
    "                \n",
    "    \n",
    "        tmean = np.mean(t_exit)\n",
    "        tstd = np.std(t_exit)\n",
    "\n",
    "        cileft = tmean - 1.96*tstd/np.sqrt(num_itr)\n",
    "        ciright = tmean + 1.96*tstd/np.sqrt(num_itr)\n",
    "        \n",
    "        return t_exit, tmean, tstd, cileft, ciright\n",
    "    \n",
    "    def compute_MHT_Milstein(self, X0, dt, num_itr, f, g, dg, lower_b, upper_b):\n",
    "        \n",
    "        if lower_b is None and upper_b is None:\n",
    "            assert(\"Please provide a boundary value\")  \n",
    "        if lower_b is None:\n",
    "            lower_b = -np.inf\n",
    "        if upper_b is None:\n",
    "            upper_b = np.inf\n",
    "        \n",
    "        t_exit = []\n",
    "        for i in tqdm(range(num_itr)):\n",
    "            X = X0\n",
    "            t = 0\n",
    "            while X > lower_b and X < upper_b:\n",
    "                dW = np.sqrt(dt) * np.random.randn()\n",
    "                X = X + dt*f(X) + g(X)*dW + 0.5 * g(X)*dg(X)*(dW**2 - dt)\n",
    "                t += dt\n",
    "\n",
    "            t_exit.append(t - 0.5*dt)\n",
    "            \n",
    "        tmean = np.mean(t_exit)\n",
    "        tstd = np.std(t_exit)\n",
    "\n",
    "        cileft = tmean - 1.96*tstd/np.sqrt(num_itr)\n",
    "        ciright = tmean + 1.96*tstd/np.sqrt(num_itr)\n",
    "\n",
    "        return t_exit, tmean, tstd, cileft, ciright\n",
    "    \n",
    "    \n",
    "    def plot(self,t_exit):\n",
    "        histogram,bins = np.histogram(t_exit,bins=20,range=[0,20])\n",
    "        midx = (bins[0:-1]+bins[1:])/2\n",
    "        plt.bar(midx,histogram,label='Test')\n",
    "        plt.show()"
   ]
  },
  {
   "cell_type": "markdown",
   "metadata": {},
   "source": [
    "________________________"
   ]
  },
  {
   "cell_type": "markdown",
   "metadata": {},
   "source": [
    "# Expariments"
   ]
  },
  {
   "cell_type": "markdown",
   "metadata": {},
   "source": [
    "### Simulation Parametres and Mothod Instantiation"
   ]
  },
  {
   "cell_type": "code",
   "execution_count": 28,
   "metadata": {},
   "outputs": [],
   "source": [
    "num_itr = int(1e1) # Number of interation for simulations\n",
    "exp_rate = 10 # Lambda parameter for exponential timestepping methods E[dt] = 0.1\n",
    "\n",
    "# Methods \n",
    "em_milstein = EM_Milstein() # Euler-maryama and Milstein method\n",
    "adaptive_timestep = AdaptiveTimestep()\n",
    "adaptive_timestep2 = AdaptiveTimestep2()\n",
    "euler_maryama_boundary_check = EulerMaryamaBoundaryCheck()\n",
    "exponentialV_timestepping = ExponentialVTimestepping(rate=exp_rate)\n",
    "exponential_timestepping = ExponentialTimestepping(rate=exp_rate)"
   ]
  },
  {
   "cell_type": "markdown",
   "metadata": {},
   "source": [
    "### Simple SDE: $dX = \\mu dt + \\sigma dW, \\quad X(0) = X_0$"
   ]
  },
  {
   "cell_type": "code",
   "execution_count": 29,
   "metadata": {
    "scrolled": true
   },
   "outputs": [],
   "source": [
    "# Parameters\n",
    "mu = 0.5\n",
    "sigma = 0.1\n",
    "X0 = 0\n",
    "lower_b = None\n",
    "upper_b = 5\n",
    "dt = 2\n",
    "\n",
    "\n",
    "# New instance of SimpleSDE class\n",
    "simpleSDE = SimpleSDE(mu = mu, sigma = sigma)\n",
    "f = simpleSDE.f\n",
    "g = simpleSDE.g\n",
    "dg = simpleSDE.dg\n",
    "df = simpleSDE.df"
   ]
  },
  {
   "cell_type": "markdown",
   "metadata": {},
   "source": [
    "#### -------- RUN SIMULATION --------"
   ]
  },
  {
   "cell_type": "markdown",
   "metadata": {},
   "source": [
    "#### Euler-Maruyama"
   ]
  },
  {
   "cell_type": "code",
   "execution_count": 30,
   "metadata": {},
   "outputs": [
    {
     "name": "stderr",
     "output_type": "stream",
     "text": [
      "100%|██████████| 10/10 [00:00<00:00, 14070.12it/s]"
     ]
    },
    {
     "name": "stdout",
     "output_type": "stream",
     "text": [
      "-----Euler Method-----\n",
      "Mean:10.4, std:0.9165151389911681, Confidence Interval: (9.831938031549374,10.968061968450627)\n"
     ]
    },
    {
     "name": "stderr",
     "output_type": "stream",
     "text": [
      "\n"
     ]
    }
   ],
   "source": [
    "# Euler Maryama\n",
    "t_exit_EM, tmean_EM, tstd_EM, cileft_EM, ciright_EM = em_milstein.compute_MHT_EM(X0=X0,dt=dt,num_itr=num_itr, f=f, g=g, lower_b=lower_b,upper_b=upper_b)\n",
    "print('-----Euler Method-----')\n",
    "print('Mean:{}, std:{}, Confidence Interval: ({},{})'.format(tmean_EM, tstd_EM, cileft_EM, ciright_EM))\n"
   ]
  },
  {
   "cell_type": "markdown",
   "metadata": {},
   "source": [
    "#### Milstien"
   ]
  },
  {
   "cell_type": "code",
   "execution_count": 31,
   "metadata": {},
   "outputs": [
    {
     "name": "stderr",
     "output_type": "stream",
     "text": [
      "100%|██████████| 10/10 [00:00<00:00, 8912.67it/s]"
     ]
    },
    {
     "name": "stdout",
     "output_type": "stream",
     "text": [
      "-----Misltein Method-----\n",
      "Mean:10.0, std:1.0, Confidence Interval: (9.380193578606997,10.619806421393003)\n"
     ]
    },
    {
     "name": "stderr",
     "output_type": "stream",
     "text": [
      "\n"
     ]
    }
   ],
   "source": [
    "# Misltein \n",
    "t_exit_Mils, tmean_Mils, tstd_Mils, cileft_Mils, ciright_Mils = em_milstein.compute_MHT_Milstein(X0=X0,dt=dt,num_itr=num_itr, f=f, g=g, dg=dg, lower_b=lower_b,upper_b=upper_b)\n",
    "print('-----Misltein Method-----')\n",
    "print('Mean:{}, std:{}, Confidence Interval: ({},{})'.format(tmean_Mils, tstd_Mils, cileft_Mils, ciright_Mils))\n"
   ]
  },
  {
   "cell_type": "markdown",
   "metadata": {},
   "source": [
    "#### EXPONENTIAL TIMESTEPPING WITH BOUNDARY TEST FOR SDEs"
   ]
  },
  {
   "cell_type": "code",
   "execution_count": 32,
   "metadata": {},
   "outputs": [
    {
     "name": "stderr",
     "output_type": "stream",
     "text": [
      "\r",
      "  0%|          | 0/10 [00:00<?, ?it/s]"
     ]
    },
    {
     "name": "stdout",
     "output_type": "stream",
     "text": [
      "44.72135954999579\n"
     ]
    },
    {
     "name": "stderr",
     "output_type": "stream",
     "text": [
      "\n"
     ]
    },
    {
     "ename": "NameError",
     "evalue": "name 'V' is not defined",
     "output_type": "error",
     "traceback": [
      "\u001b[0;31m---------------------------------------------------------------------------\u001b[0m",
      "\u001b[0;31mNameError\u001b[0m                                 Traceback (most recent call last)",
      "\u001b[0;32m<ipython-input-32-99841d025479>\u001b[0m in \u001b[0;36m<module>\u001b[0;34m\u001b[0m\n\u001b[1;32m      1\u001b[0m \u001b[0;31m# EXPONENTIAL TIMESTEPPING\u001b[0m\u001b[0;34m\u001b[0m\u001b[0;34m\u001b[0m\u001b[0;34m\u001b[0m\u001b[0m\n\u001b[0;32m----> 2\u001b[0;31m \u001b[0mt_exit_EM\u001b[0m\u001b[0;34m,\u001b[0m \u001b[0mtmean_expo_EM\u001b[0m\u001b[0;34m,\u001b[0m \u001b[0mtstd_expo_EM\u001b[0m\u001b[0;34m,\u001b[0m \u001b[0mcileft_expo_EM\u001b[0m\u001b[0;34m,\u001b[0m \u001b[0mciright_expo_EM\u001b[0m \u001b[0;34m=\u001b[0m \u001b[0mexponentialV_timestepping\u001b[0m\u001b[0;34m.\u001b[0m\u001b[0mcompute_MHT\u001b[0m\u001b[0;34m(\u001b[0m\u001b[0mX0\u001b[0m\u001b[0;34m=\u001b[0m\u001b[0mX0\u001b[0m\u001b[0;34m,\u001b[0m\u001b[0mnum_itr\u001b[0m\u001b[0;34m=\u001b[0m\u001b[0mnum_itr\u001b[0m\u001b[0;34m,\u001b[0m \u001b[0mf\u001b[0m\u001b[0;34m=\u001b[0m\u001b[0mf\u001b[0m\u001b[0;34m,\u001b[0m \u001b[0mg\u001b[0m\u001b[0;34m=\u001b[0m\u001b[0mg\u001b[0m\u001b[0;34m,\u001b[0m \u001b[0mlower_b\u001b[0m\u001b[0;34m=\u001b[0m\u001b[0mlower_b\u001b[0m\u001b[0;34m,\u001b[0m\u001b[0mupper_b\u001b[0m\u001b[0;34m=\u001b[0m\u001b[0mupper_b\u001b[0m\u001b[0;34m)\u001b[0m\u001b[0;34m\u001b[0m\u001b[0;34m\u001b[0m\u001b[0m\n\u001b[0m\u001b[1;32m      3\u001b[0m \u001b[0mprint\u001b[0m\u001b[0;34m(\u001b[0m\u001b[0;34m'-----Exponential Timestepping Method-----'\u001b[0m\u001b[0;34m)\u001b[0m\u001b[0;34m\u001b[0m\u001b[0;34m\u001b[0m\u001b[0m\n\u001b[1;32m      4\u001b[0m \u001b[0mprint\u001b[0m\u001b[0;34m(\u001b[0m\u001b[0;34m'Mean:{}, std:{}, Confidence Interval: ({},{})'\u001b[0m\u001b[0;34m.\u001b[0m\u001b[0mformat\u001b[0m\u001b[0;34m(\u001b[0m\u001b[0mtmean_expo_EM\u001b[0m\u001b[0;34m,\u001b[0m \u001b[0mtstd_expo_EM\u001b[0m\u001b[0;34m,\u001b[0m \u001b[0mcileft_expo_EM\u001b[0m\u001b[0;34m,\u001b[0m \u001b[0mciright_expo_EM\u001b[0m\u001b[0;34m)\u001b[0m\u001b[0;34m)\u001b[0m\u001b[0;34m\u001b[0m\u001b[0;34m\u001b[0m\u001b[0m\n",
      "\u001b[0;32m<ipython-input-23-6b6e63ed7ec8>\u001b[0m in \u001b[0;36mcompute_MHT\u001b[0;34m(self, X0, f, g, num_itr, lower_b, upper_b)\u001b[0m\n\u001b[1;32m     35\u001b[0m                 \u001b[0mu\u001b[0m \u001b[0;34m=\u001b[0m \u001b[0mnp\u001b[0m\u001b[0;34m.\u001b[0m\u001b[0mrandom\u001b[0m\u001b[0;34m.\u001b[0m\u001b[0muniform\u001b[0m\u001b[0;34m(\u001b[0m\u001b[0;34m)\u001b[0m\u001b[0;34m\u001b[0m\u001b[0;34m\u001b[0m\u001b[0m\n\u001b[1;32m     36\u001b[0m                 \u001b[0msign\u001b[0m \u001b[0;34m=\u001b[0m \u001b[0mnp\u001b[0m\u001b[0;34m.\u001b[0m\u001b[0msign\u001b[0m\u001b[0;34m(\u001b[0m\u001b[0;36m0.5\u001b[0m\u001b[0;34m*\u001b[0m\u001b[0;34m(\u001b[0m\u001b[0;36m1\u001b[0m \u001b[0;34m+\u001b[0m \u001b[0;34m(\u001b[0m\u001b[0;36m1\u001b[0m\u001b[0;34m/\u001b[0m\u001b[0mnu\u001b[0m\u001b[0;34m)\u001b[0m\u001b[0;34m*\u001b[0m\u001b[0;34m(\u001b[0m\u001b[0mg\u001b[0m\u001b[0;34m(\u001b[0m\u001b[0mXn\u001b[0m\u001b[0;34m)\u001b[0m\u001b[0;34m**\u001b[0m\u001b[0;34m(\u001b[0m\u001b[0;34m-\u001b[0m\u001b[0;36m2\u001b[0m\u001b[0;34m)\u001b[0m\u001b[0;34m)\u001b[0m\u001b[0;34m*\u001b[0m\u001b[0mf\u001b[0m\u001b[0;34m(\u001b[0m\u001b[0mXn\u001b[0m\u001b[0;34m)\u001b[0m\u001b[0;34m)\u001b[0m \u001b[0;34m-\u001b[0m \u001b[0mu\u001b[0m\u001b[0;34m)\u001b[0m\u001b[0;34m\u001b[0m\u001b[0;34m\u001b[0m\u001b[0m\n\u001b[0;32m---> 37\u001b[0;31m                 \u001b[0mXn_1\u001b[0m \u001b[0;34m=\u001b[0m \u001b[0mXn\u001b[0m \u001b[0;34m+\u001b[0m \u001b[0;34m(\u001b[0m\u001b[0mnu\u001b[0m\u001b[0;34m**\u001b[0m\u001b[0;34m(\u001b[0m\u001b[0;34m-\u001b[0m\u001b[0;36m1\u001b[0m\u001b[0;34m)\u001b[0m\u001b[0;34m)\u001b[0m\u001b[0;34m*\u001b[0m\u001b[0msign\u001b[0m\u001b[0;34m*\u001b[0m\u001b[0;34m(\u001b[0m\u001b[0mp\u001b[0m \u001b[0;34m-\u001b[0m \u001b[0;34m(\u001b[0m\u001b[0mg\u001b[0m\u001b[0;34m(\u001b[0m\u001b[0mXn\u001b[0m\u001b[0;34m)\u001b[0m\u001b[0;34m**\u001b[0m\u001b[0;34m(\u001b[0m\u001b[0;34m-\u001b[0m\u001b[0;36m2\u001b[0m\u001b[0;34m)\u001b[0m\u001b[0;34m)\u001b[0m\u001b[0;34m*\u001b[0m\u001b[0;34m(\u001b[0m\u001b[0mV\u001b[0m\u001b[0;34m*\u001b[0m\u001b[0;34m(\u001b[0m\u001b[0mXn\u001b[0m \u001b[0;34m+\u001b[0m \u001b[0;34m(\u001b[0m\u001b[0mnu\u001b[0m\u001b[0;34m**\u001b[0m\u001b[0;34m(\u001b[0m\u001b[0;34m-\u001b[0m\u001b[0;36m1\u001b[0m\u001b[0;34m)\u001b[0m\u001b[0;34m)\u001b[0m\u001b[0;34m*\u001b[0m\u001b[0msign\u001b[0m\u001b[0;34m*\u001b[0m\u001b[0mp\u001b[0m\u001b[0;34m)\u001b[0m \u001b[0;34m-\u001b[0m \u001b[0mV\u001b[0m\u001b[0;34m(\u001b[0m\u001b[0mXn\u001b[0m\u001b[0;34m)\u001b[0m\u001b[0;34m)\u001b[0m\u001b[0;34m)\u001b[0m\u001b[0;34m\u001b[0m\u001b[0;34m\u001b[0m\u001b[0m\n\u001b[0m\u001b[1;32m     38\u001b[0m \u001b[0;34m\u001b[0m\u001b[0m\n\u001b[1;32m     39\u001b[0m                 \u001b[0mw\u001b[0m \u001b[0;34m=\u001b[0m \u001b[0mnp\u001b[0m\u001b[0;34m.\u001b[0m\u001b[0mrandom\u001b[0m\u001b[0;34m.\u001b[0m\u001b[0muniform\u001b[0m\u001b[0;34m(\u001b[0m\u001b[0;34m)\u001b[0m\u001b[0;34m\u001b[0m\u001b[0;34m\u001b[0m\u001b[0m\n",
      "\u001b[0;31mNameError\u001b[0m: name 'V' is not defined"
     ]
    }
   ],
   "source": [
    "# EXPONENTIAL TIMESTEPPING\n",
    "t_exit_EM, tmean_expo_EM, tstd_expo_EM, cileft_expo_EM, ciright_expo_EM = exponentialV_timestepping.compute_MHT(X0=X0,num_itr=num_itr, f=f, g=g, lower_b=lower_b,upper_b=upper_b)\n",
    "print('-----Exponential Timestepping Method-----')\n",
    "print('Mean:{}, std:{}, Confidence Interval: ({},{})'.format(tmean_expo_EM, tstd_expo_EM, cileft_expo_EM, ciright_expo_EM))\n"
   ]
  },
  {
   "cell_type": "markdown",
   "metadata": {},
   "source": [
    "#### Euler-Maryama Boundary Check"
   ]
  },
  {
   "cell_type": "markdown",
   "metadata": {},
   "source": [
    "#### Adaptive Timestep-Euler-Maruyama"
   ]
  },
  {
   "cell_type": "code",
   "execution_count": null,
   "metadata": {},
   "outputs": [],
   "source": [
    "# Adaptive Euler Maryama\n",
    "t_exit_Adapt_EM, tmean_Adapt_EM, tstd_Adapt_EM, cileft_Adapt_EM, ciright_Adapt_EM = adaptive_timestep2.compute_MHT_EM(X0=X0,dt=dt,num_itr=num_itr, f=f, g=g,lower_b=lower_b,upper_b=upper_b)\n",
    "print('-----Adaptive Euler Method-----')\n",
    "print('Mean:{}, std:{}, Confidence Interval: ({},{})'.format(tmean_Adapt_EM, tstd_Adapt_EM, cileft_Adapt_EM, ciright_Adapt_EM))\n"
   ]
  },
  {
   "cell_type": "code",
   "execution_count": null,
   "metadata": {},
   "outputs": [],
   "source": [
    "paths = adaptive_timestep2.paths\n",
    "times = adaptive_timestep2.times\n",
    "timesteps = adaptive_timestep2.timesteps"
   ]
  },
  {
   "cell_type": "code",
   "execution_count": null,
   "metadata": {},
   "outputs": [],
   "source": [
    "idx = np.random.randint(0,len(paths))\n",
    "p = paths[idx]\n",
    "t = times[idx]\n",
    "ts = timesteps[idx]\n",
    "print(len(p))\n",
    "print(ts)\n",
    "plt.figure(figsize=(10,5))\n",
    "\n",
    "plt.plot(t, p,color='purple', label='EM-Adaptive')\n",
    "plt.plot(t, ts,color='green', label='EM-Adaptive')\n",
    "plt.xlabel('Time',fontsize=18)\n",
    "plt.ylabel('Stock Price',fontsize=18)\n",
    "plt.hlines(upper_b, xmin=0, xmax=max(t), color='red', label='Upper Bound')\n",
    "plt.hlines(lower_b,xmin=0, xmax=max(t), color='blue', label='Lower Bound')"
   ]
  },
  {
   "cell_type": "markdown",
   "metadata": {},
   "source": [
    "#### Adaptive Timestep-Milstein"
   ]
  },
  {
   "cell_type": "code",
   "execution_count": null,
   "metadata": {},
   "outputs": [],
   "source": [
    "# Adaptive Milstein Maryama\n",
    "t_exit_Adapt_Mils, tmean_Adapt_Mils, tstd_Adapt_Mils, cileft_Adapt_Mils, ciright_Adapt_Mils = adaptive_timestep.compute_MHT_Mils(X0=X0,dt=dt,num_itr=num_itr, f=f, g=g, dg=dg, lower_b=lower_b,upper_b=upper_b)\n",
    "print('-----Adaptive Milstein Method-----')\n",
    "print('Mean:{}, std:{}, Confidence Interval: ({},{})'.format(tmean_Adapt_Mils, tstd_Adapt_Mils, cileft_Adapt_Mils, ciright_Adapt_Mils))\n"
   ]
  },
  {
   "cell_type": "markdown",
   "metadata": {},
   "source": [
    "------------------------"
   ]
  },
  {
   "cell_type": "markdown",
   "metadata": {},
   "source": [
    "## Asset Price: $dX = \\mu X dt + \\sigma X dW \\qquad 0 < a < X_{0} < b$"
   ]
  },
  {
   "cell_type": "code",
   "execution_count": null,
   "metadata": {
    "scrolled": true
   },
   "outputs": [],
   "source": [
    "# Parameters\n",
    "mu = 0.1\n",
    "sigma = 0.2\n",
    "X0 = 1\n",
    "upper_b = 2\n",
    "lower_b = 0.5\n",
    "dt=0.1\n",
    "exact_MHT = 7.6450\n",
    "\n",
    "# Asset Price instance\n",
    "asset_price = AssetPrice(lower_b=lower_b, upper_b=upper_b, mu=mu, sigma=sigma)\n",
    "f = asset_price.f\n",
    "g = asset_price.g\n",
    "dg = asset_price.dg\n",
    "df = asset_price.df\n",
    "\n",
    "# Run simulation\n"
   ]
  },
  {
   "cell_type": "markdown",
   "metadata": {},
   "source": [
    "#### -------- RUN SIMULATION --------"
   ]
  },
  {
   "cell_type": "code",
   "execution_count": null,
   "metadata": {},
   "outputs": [],
   "source": [
    "timesteps = np.linspace(0.001, 0.01, 10)    "
   ]
  },
  {
   "cell_type": "code",
   "execution_count": null,
   "metadata": {},
   "outputs": [],
   "source": [
    "# ### test\n",
    "# errors_Adaptive_EM2 = []\n",
    "# for dt in timesteps:\n",
    "#     t_exit_Adapt_EM, tmean_Adapt_EM, tstd_Adapt_EM, cileft_Adapt_EM, ciright_Adapt_EM = adaptive_timestep2.compute_MHT_EM(X0=X0,dt=dt,num_itr=num_itr, f=f, g=g,lower_b=lower_b,upper_b=upper_b)\n",
    "#     errors_Adaptive_EM2.append(abs(tmean_Adapt_EM-exact_MHT))\n"
   ]
  },
  {
   "cell_type": "code",
   "execution_count": null,
   "metadata": {},
   "outputs": [],
   "source": [
    " t_exit_Adapt_EM, tmean_Adapt_EM, tstd_Adapt_EM, cileft_Adapt_EM, ciright_Adapt_EM = adaptive_timestep2.compute_MHT_EM(X0=X0,dt=dt,num_itr=num_itr, f=f, g=g,lower_b=lower_b,upper_b=upper_b)"
   ]
  },
  {
   "cell_type": "code",
   "execution_count": null,
   "metadata": {},
   "outputs": [],
   "source": [
    "tmean_Adapt_EM"
   ]
  },
  {
   "cell_type": "code",
   "execution_count": null,
   "metadata": {},
   "outputs": [],
   "source": [
    "paths = adaptive_timestep2.paths\n",
    "times = adaptive_timestep2.times\n",
    "timesteps = adaptive_timestep2.timesteps"
   ]
  },
  {
   "cell_type": "code",
   "execution_count": null,
   "metadata": {},
   "outputs": [],
   "source": [
    "idx = np.random.randint(0,len(paths))\n",
    "p = paths[idx]\n",
    "t = times[idx]\n",
    "ts = timesteps[idx]\n",
    "print(len(p))\n",
    "print(ts)\n",
    "plt.figure(figsize=(10,5))\n",
    "\n",
    "plt.plot(t, p,color='purple', label='EM-Adaptive')\n",
    "plt.plot(t, ts,color='green', label='EM-Adaptive')\n",
    "plt.xlabel('Time',fontsize=18)\n",
    "plt.ylabel('Stock Price',fontsize=18)\n",
    "plt.hlines(upper_b, xmin=0, xmax=max(t), color='red', label='Upper Bound')\n",
    "plt.hlines(lower_b,xmin=0, xmax=max(t), color='blue', label='Lower Bound')"
   ]
  },
  {
   "cell_type": "code",
   "execution_count": null,
   "metadata": {},
   "outputs": [],
   "source": []
  },
  {
   "cell_type": "markdown",
   "metadata": {},
   "source": [
    "#### Euler-Maruyama"
   ]
  },
  {
   "cell_type": "code",
   "execution_count": null,
   "metadata": {
    "scrolled": false
   },
   "outputs": [],
   "source": [
    "# Euler Maryama\n",
    "errors_EM = []\n",
    "for dt in timesteps:\n",
    "    t_exit_EM, tmean_EM, tstd_EM, cileft_EM, ciright_EM = em_milstein.compute_MHT_EM(X0=X0,dt=dt,num_itr=num_itr, f=f, g=g, lower_b=lower_b,upper_b=upper_b)\n",
    "    errors_EM.append(abs(tmean_EM - exact_MHT))\n",
    "\n",
    "print('-----Euler Method-----')\n",
    "print('Mean:{}, std:{}, Confidence Interval: ({},{})'.format(tmean_EM, tstd_EM, cileft_EM, ciright_EM))\n"
   ]
  },
  {
   "cell_type": "code",
   "execution_count": null,
   "metadata": {},
   "outputs": [],
   "source": [
    "errors_EM"
   ]
  },
  {
   "cell_type": "markdown",
   "metadata": {},
   "source": [
    "#### Milstien"
   ]
  },
  {
   "cell_type": "code",
   "execution_count": null,
   "metadata": {
    "scrolled": true
   },
   "outputs": [],
   "source": [
    "# Milstein\n",
    "errors_Mils = []\n",
    "for dt in timesteps:\n",
    "    t_exit_Mils, tmean_Mils, tstd_Mils, cileft_Mils, ciright_Mils = em_milstein.compute_MHT_Milstein(X0=X0,dt=dt,num_itr=num_itr, f=f, g=g, dg=dg, lower_b=lower_b,upper_b=upper_b)\n",
    "    errors_Mils.append(abs(tmean_Mils-exact_MHT))\n",
    "    \n",
    "# print('-----Misltein Method-----')\n",
    "# print('Mean:{}, std:{}, Confidence Interval: ({},{})'.format(tmean_Mils, tstd_Mils, cileft_Mils, ciright_Mils))\n"
   ]
  },
  {
   "cell_type": "code",
   "execution_count": null,
   "metadata": {},
   "outputs": [],
   "source": [
    "errors_Mils"
   ]
  },
  {
   "cell_type": "markdown",
   "metadata": {},
   "source": [
    "#### EXPONENTIAL-V TIMESTEPPING WITH BOUNDARY TEST FOR SDEs"
   ]
  },
  {
   "cell_type": "markdown",
   "metadata": {},
   "source": [
    "#### Euler-Maryama Boundary Check"
   ]
  },
  {
   "cell_type": "markdown",
   "metadata": {},
   "source": [
    "#### Adaptive Timestep-Euler-Maruyama"
   ]
  },
  {
   "cell_type": "code",
   "execution_count": null,
   "metadata": {
    "scrolled": true
   },
   "outputs": [],
   "source": [
    "# Adaptive Euler Maryama\n",
    "\n",
    "errors_Adaptive_EM = []\n",
    "for dt in timesteps:\n",
    "    t_exit_Adapt_EM, tmean_Adapt_EM, tstd_Adapt_EM, cileft_Adapt_EM, ciright_Adapt_EM = adaptive_timestep.compute_MHT_EM(X0=X0,dt=dt,num_itr=num_itr, f=f, g=g,lower_b=lower_b,upper_b=upper_b)\n",
    "    errors_Adaptive_EM.append(abs(tmean_Adapt_EM-exact_MHT))\n",
    "\n",
    "# print('-----Adaptive Euler Method-----')\n",
    "# print('Mean:{}, std:{}, Confidence Interval: ({},{})'.format(tmean_Adapt_EM, tstd_Adapt_EM, cileft_Adapt_EM, ciright_Adapt_EM))\n"
   ]
  },
  {
   "cell_type": "code",
   "execution_count": null,
   "metadata": {},
   "outputs": [],
   "source": [
    "errors_Adaptive_EM"
   ]
  },
  {
   "cell_type": "markdown",
   "metadata": {},
   "source": [
    "#### Adaptive Timestep-Milstein"
   ]
  },
  {
   "cell_type": "code",
   "execution_count": null,
   "metadata": {},
   "outputs": [],
   "source": [
    "# Adaptive Milstein\n",
    "\n",
    "errors_Adaptive_Mils = []\n",
    "for dt in timesteps:\n",
    "    t_exit_Adapt_Mils, tmean_Adapt_Mils, tstd_Adapt_Mils, cileft_Adapt_Mils, ciright_Adapt_Mils = adaptive_timestep.compute_MHT_Mils(X0=X0,dt=dt,num_itr=num_itr, f=f, g=g, dg=dg, lower_b=lower_b,upper_b=upper_b)\n",
    "    errors_Adaptive_Mils.append(abs(tmean_Adapt_Mils-exact_MHT))\n",
    "\n",
    "# print('-----Adaptive Milstein Method-----')\n",
    "# print('Mean:{}, std:{}, Confidence Interval: ({},{})'.format(tmean_Adapt_Mils, tstd_Adapt_Mils, cileft_Adapt_Mils, ciright_Adapt_Mils))\n"
   ]
  },
  {
   "cell_type": "code",
   "execution_count": null,
   "metadata": {
    "scrolled": true
   },
   "outputs": [],
   "source": [
    "errors_Adaptive_Mils"
   ]
  },
  {
   "cell_type": "code",
   "execution_count": null,
   "metadata": {},
   "outputs": [],
   "source": [
    "plt.loglog(timesteps, errors_EM,marker='o', label='Euler-Maryama' )\n",
    "plt.loglog(timesteps, errors_Mils, marker='*', label='Milstein')\n",
    "plt.loglog(timesteps, errors_Adaptive_EM, marker='+', label='Adaptive-Euler')\n",
    "plt.loglog(timesteps, errors_Adaptive_Mils, marker='.', label='Adaptive-Milstein')\n",
    "plt.ylabel('Error', fontsize=15)\n",
    "plt.xlabel('$dt$', fontsize=15)\n",
    "plt.title('Adapting Timestepping for Asset Price SDE')\n",
    "plt.legend(loc='best')\n",
    "plt.savefig('errors-loglog.png')"
   ]
  },
  {
   "cell_type": "markdown",
   "metadata": {},
   "source": [
    "________________"
   ]
  },
  {
   "cell_type": "markdown",
   "metadata": {},
   "source": [
    "### Double Well Potential"
   ]
  },
  {
   "cell_type": "code",
   "execution_count": null,
   "metadata": {
    "scrolled": true
   },
   "outputs": [],
   "source": [
    "# Parameters\n",
    "sigma = 1\n",
    "X0 = 0\n",
    "lower_b = None\n",
    "upper_b = 1\n",
    "dt = 0.1\n",
    "exact_MHT = 4.606\n",
    "\n",
    "\n",
    "# New instance of SimpleSDE class\n",
    "double_well_potential = DoubleWellPotential(sigma=sigma)\n",
    "f = double_well_potential.f\n",
    "g = double_well_potential.g\n",
    "dg = double_well_potential.dg\n",
    "df = double_well_potential.df"
   ]
  },
  {
   "cell_type": "markdown",
   "metadata": {},
   "source": [
    "#### -------- RUN SIMULATION --------"
   ]
  },
  {
   "cell_type": "markdown",
   "metadata": {},
   "source": [
    "#### Euler-Maruyama"
   ]
  },
  {
   "cell_type": "code",
   "execution_count": null,
   "metadata": {},
   "outputs": [],
   "source": [
    "# Euler Maryama\n",
    "t_exit_EM, tmean_EM, tstd_EM, cileft_EM, ciright_EM = em_milstein.compute_MHT_EM(X0=X0,dt=dt,num_itr=num_itr, f=f, g=g, lower_b=lower_b,upper_b=upper_b)\n",
    "print('-----Euler Method-----')\n",
    "print('Mean:{}, std:{}, Confidence Interval: ({},{})'.format(tmean_EM, tstd_EM, cileft_EM, ciright_EM))"
   ]
  },
  {
   "cell_type": "markdown",
   "metadata": {},
   "source": [
    "#### Milstien"
   ]
  },
  {
   "cell_type": "code",
   "execution_count": null,
   "metadata": {},
   "outputs": [],
   "source": [
    "# Milstein\n",
    "t_exit_Mils, tmean_Mils, tstd_Mils, cileft_Mils, ciright_Mils = em_milstein.compute_MHT_Milstein(X0=X0,dt=dt,num_itr=num_itr, f=f, g=g, dg=dg, lower_b=lower_b,upper_b=upper_b)\n",
    "print('-----Misltein Method-----')\n",
    "print('Mean:{}, std:{}, Confidence Interval: ({},{})'.format(tmean_Mils, tstd_Mils, cileft_Mils, ciright_Mils))\n"
   ]
  },
  {
   "cell_type": "markdown",
   "metadata": {},
   "source": [
    "#### EXPONENTIAL-V TIMESTEPPING WITH BOUNDARY TEST FOR SDEs"
   ]
  },
  {
   "cell_type": "code",
   "execution_count": null,
   "metadata": {},
   "outputs": [],
   "source": [
    "# Exponential-V timestepping\n",
    "t_exit_Mils, tmean_Mils, tstd_Mils, cileft_Mils, ciright_Mils = exponentialV_timestepping.compute_MHT(X0=X0,dt=dt,num_itr=num_itr, f=f, g=g, lower_b=lower_b,upper_b=upper_b)\n",
    "print('-----Exponential-V Method-----')\n",
    "print('Mean:{}, std:{}, Confidence Interval: ({},{})'.format(tmean_Mils, tstd_Mils, cileft_Mils, ciright_Mils))\n"
   ]
  },
  {
   "cell_type": "markdown",
   "metadata": {},
   "source": [
    "#### Euler-Maryama Boundary Check"
   ]
  },
  {
   "cell_type": "code",
   "execution_count": null,
   "metadata": {},
   "outputs": [],
   "source": [
    "# Euler-Maryama Boundary Check\n",
    "t_exit_Bound_EM, tmean_Bound_EM, tstd_Bound_EM, cileft_Bound_EM, ciright_Bound_EM = euler_maryama_boundary_check.compute_MHT(X0=X0,dt=dt,num_itr=num_itr, f=f, g=g,df = df, lower_b=lower_b,upper_b=upper_b)\n",
    "print('-----Euler Method With Boundary Check-----')\n",
    "print('Mean:{}, std:{}, Confidence Interval: ({},{})'.format(tmean_Bound_EM, tstd_Bound_EM, cileft_Bound_EM, ciright_Bound_EM))\n"
   ]
  },
  {
   "cell_type": "markdown",
   "metadata": {},
   "source": [
    "#### Adaptive Timestep-Euler-Maruyama"
   ]
  },
  {
   "cell_type": "code",
   "execution_count": null,
   "metadata": {},
   "outputs": [],
   "source": [
    "# Adaptive Euler Maryama\n",
    "t_exit_Adapt_EM, tmean_Adapt_EM, tstd_Adapt_EM, cileft_Adapt_EM, ciright_Adapt_EM = adaptive_timestep.compute_MHT_EM(X0=X0,dt=dt,num_itr=num_itr, f=f, g=g,lower_b=lower_b,upper_b=upper_b)\n",
    "print('-----Adaptive Euler Method-----')\n",
    "print('Mean:{}, std:{}, Confidence Interval: ({},{})'.format(tmean_Adapt_EM, tstd_Adapt_EM, cileft_Adapt_EM, ciright_Adapt_EM))\n"
   ]
  },
  {
   "cell_type": "markdown",
   "metadata": {},
   "source": [
    "#### Adaptive Timestep-Milstein"
   ]
  },
  {
   "cell_type": "code",
   "execution_count": null,
   "metadata": {},
   "outputs": [],
   "source": [
    "# Adaptive Milstein\n",
    "t_exit_Adapt_Mils, tmean_Adapt_Mils, tstd_Adapt_Mils, cileft_Adapt_Mils, ciright_Adapt_Mils = adaptive_timestep.compute_MHT_Mils(X0=X0,dt=dt,num_itr=num_itr, f=f, g=g, dg=dg, lower_b=lower_b,upper_b=upper_b)\n",
    "print('-----Adaptive Milstein Method-----')\n",
    "print('Mean:{}, std:{}, Confidence Interval: ({},{})'.format(tmean_Adapt_Mils, tstd_Adapt_Mils, cileft_Adapt_Mils, ciright_Adapt_Mils))\n"
   ]
  },
  {
   "cell_type": "markdown",
   "metadata": {},
   "source": [
    "---------------------------"
   ]
  },
  {
   "cell_type": "markdown",
   "metadata": {},
   "source": [
    "### Opinion Poll"
   ]
  },
  {
   "cell_type": "markdown",
   "metadata": {},
   "source": [
    "#### Euler-Maruyama"
   ]
  },
  {
   "cell_type": "markdown",
   "metadata": {},
   "source": [
    "#### Milstien"
   ]
  },
  {
   "cell_type": "markdown",
   "metadata": {},
   "source": [
    "#### EXPONENTIAL-V TIMESTEPPING WITH BOUNDARY TEST FOR SDEs"
   ]
  },
  {
   "cell_type": "markdown",
   "metadata": {},
   "source": [
    "#### Euler-Maryama Boundary Check"
   ]
  },
  {
   "cell_type": "markdown",
   "metadata": {},
   "source": [
    "#### Adaptive Timestep-Euler-Maruyama"
   ]
  },
  {
   "cell_type": "markdown",
   "metadata": {},
   "source": [
    "#### Adaptive Timestep-Milstein"
   ]
  },
  {
   "cell_type": "markdown",
   "metadata": {},
   "source": [
    "### Custom SDE: $dX = (X-X^3)dt + \\sqrt{0.2}dW$"
   ]
  },
  {
   "cell_type": "code",
   "execution_count": null,
   "metadata": {},
   "outputs": [],
   "source": [
    "# Parameters\n",
    "X0 = -1\n",
    "lower_b = None\n",
    "upper_b = -0.5\n",
    "dt = 0.1 # 0.1 - 0.001\n",
    "exact_MHT = 4.555\n",
    "\n",
    "\n",
    "# New instance of SimpleSDE class\n",
    "custom_SDE = CustomSDE()\n",
    "f = custom_SDE.f\n",
    "g = custom_SDE.g\n",
    "dg = custom_SDE.dg\n",
    "df = custom_SDE.df"
   ]
  },
  {
   "cell_type": "code",
   "execution_count": null,
   "metadata": {},
   "outputs": [],
   "source": [
    "timesteps = np.linspace(0.001, 0.1, 10)    "
   ]
  },
  {
   "cell_type": "markdown",
   "metadata": {},
   "source": [
    "#### Euler-Maruyama"
   ]
  },
  {
   "cell_type": "code",
   "execution_count": null,
   "metadata": {
    "scrolled": true
   },
   "outputs": [],
   "source": [
    "# Euler Maryama\n",
    "\n",
    "errors_EM = []\n",
    "for dt in timesteps:\n",
    "    t_exit_EM, tmean_EM, tstd_EM, cileft_EM, ciright_EM = em_milstein.compute_MHT_EM(X0=X0,dt=dt,num_itr=num_itr, f=f, g=g, lower_b=lower_b,upper_b=upper_b)\n",
    "    errors_EM.append(abs(tmean_EM - exact_MHT))   \n",
    "    \n",
    "# print('-----Euler Method-----')\n",
    "# print('Mean:{}, std:{}, Confidence Interval: ({},{})'.format(tmean_EM, tstd_EM, cileft_EM, ciright_EM))"
   ]
  },
  {
   "cell_type": "code",
   "execution_count": null,
   "metadata": {},
   "outputs": [],
   "source": [
    "errors_EM"
   ]
  },
  {
   "cell_type": "markdown",
   "metadata": {},
   "source": [
    "#### Milstien"
   ]
  },
  {
   "cell_type": "code",
   "execution_count": null,
   "metadata": {
    "scrolled": false
   },
   "outputs": [],
   "source": [
    "# Milstein\n",
    "\n",
    "errors_Mils = []\n",
    "for dt in timesteps:\n",
    "    t_exit_Mils, tmean_Mils, tstd_Mils, cileft_Mils, ciright_Mils = em_milstein.compute_MHT_Milstein(X0=X0,dt=dt,num_itr=num_itr, f=f, g=g, dg=dg, lower_b=lower_b,upper_b=upper_b)\n",
    "    errors_Mils.append(abs(tmean_Mils - exact_MHT))\n",
    "    \n",
    "    \n",
    "print('-----Misltein Method-----')\n",
    "print('Mean:{}, std:{}, Confidence Interval: ({},{})'.format(tmean_Mils, tstd_Mils, cileft_Mils, ciright_Mils))\n"
   ]
  },
  {
   "cell_type": "code",
   "execution_count": null,
   "metadata": {},
   "outputs": [],
   "source": [
    "errors_Mils"
   ]
  },
  {
   "cell_type": "markdown",
   "metadata": {},
   "source": [
    "####  EXPONENTIAL-V TIMESTEPPING WITH BOUNDARY TEST FOR SDEs"
   ]
  },
  {
   "cell_type": "markdown",
   "metadata": {},
   "source": [
    "#### Euler-Maryama Boundary Check"
   ]
  },
  {
   "cell_type": "code",
   "execution_count": null,
   "metadata": {},
   "outputs": [],
   "source": [
    "# Euler-Maryama Boundary Check\n",
    "errors_Bound_EM = []\n",
    "for dt in timesteps:\n",
    "    t_exit_Bound_EM, tmean_Bound_EM, tstd_Bound_EM, cileft_Bound_EM, ciright_Bound_EM = euler_maryama_boundary_check.compute_MHT(X0=X0,dt=dt,num_itr=num_itr, f=f, g=g,df = df, lower_b=lower_b,upper_b=upper_b)\n",
    "    errors_Bound_EM.append(abs(tmean_Bound_EM - exact_MHT))\n",
    "    \n",
    "# print('-----Euler Method With Boundary Check-----')\n",
    "# print('Mean:{}, std:{}, Confidence Interval: ({},{})'.format(tmean_Bound_EM, tstd_Bound_EM, cileft_Bound_EM, ciright_Bound_EM))\n"
   ]
  },
  {
   "cell_type": "code",
   "execution_count": null,
   "metadata": {},
   "outputs": [],
   "source": [
    "errors_Bound_EM"
   ]
  },
  {
   "cell_type": "markdown",
   "metadata": {},
   "source": [
    "#### Adaptive Timestep-Euler-Maruyama"
   ]
  },
  {
   "cell_type": "code",
   "execution_count": null,
   "metadata": {
    "scrolled": true
   },
   "outputs": [],
   "source": [
    "# Adaptive Euler Maryama\n",
    "errors_Adaptive_EM = []\n",
    "for dt in timesteps:\n",
    "    t_exit_Adapt_EM, tmean_Adapt_EM, tstd_Adapt_EM, cileft_Adapt_EM, ciright_Adapt_EM = adaptive_timestep.compute_MHT_EM(X0=X0,dt=dt,num_itr=num_itr, f=f, g=g,lower_b=lower_b,upper_b=upper_b)\n",
    "    errors_Adaptive_EM.append(abs(tmean_Adapt_EM - exact_MHT))\n",
    "    \n",
    "print('-----Adaptive Euler Method-----')\n",
    "print('Mean:{}, std:{}, Confidence Interval: ({},{})'.format(tmean_Adapt_EM, tstd_Adapt_EM, cileft_Adapt_EM, ciright_Adapt_EM))\n"
   ]
  },
  {
   "cell_type": "code",
   "execution_count": null,
   "metadata": {
    "scrolled": true
   },
   "outputs": [],
   "source": [
    "errors_Adaptive_EM"
   ]
  },
  {
   "cell_type": "markdown",
   "metadata": {},
   "source": [
    "#### Adaptive Timestep-Milstein"
   ]
  },
  {
   "cell_type": "code",
   "execution_count": null,
   "metadata": {},
   "outputs": [],
   "source": [
    "# Adaptive Milstein\n",
    "errors_Adaptive_Mils = []\n",
    "for dt in timesteps:\n",
    "    t_exit_Adapt_Mils, tmean_Adapt_Mils, tstd_Adapt_Mils, cileft_Adapt_Mils, ciright_Adapt_Mils = adaptive_timestep.compute_MHT_Mils(X0=X0,dt=dt,num_itr=num_itr, f=f, g=g, dg=dg, lower_b=lower_b,upper_b=upper_b)\n",
    "    errors_Adaptive_Mils.append(abs(tmean_Adapt_Mils-exact_MHT))\n",
    "    \n",
    "print('-----Adaptive Milstein Method-----')\n",
    "print('Mean:{}, std:{}, Confidence Interval: ({},{})'.format(tmean_Adapt_Mils, tstd_Adapt_Mils, cileft_Adapt_Mils, ciright_Adapt_Mils))\n"
   ]
  },
  {
   "cell_type": "code",
   "execution_count": null,
   "metadata": {},
   "outputs": [],
   "source": []
  },
  {
   "cell_type": "code",
   "execution_count": null,
   "metadata": {},
   "outputs": [],
   "source": []
  },
  {
   "cell_type": "code",
   "execution_count": null,
   "metadata": {},
   "outputs": [],
   "source": [
    "errors_EM=[0.09719660000005703,0.2283668000000052,0.21662539999995278,0.2532679999999967,0.2381585000000097,0.3748719999999892,0.3756169000000149,0.32637379999999183,0.4437472000000078,0.5020699999999962]\n",
    "\n",
    "errors_Mils=[0.035453400000014845,0.1833452000000051,0.25908109999995244,0.28903259999999786,0.36226850000001143,\n",
    " 0.405856799999988,\n",
    " 0.4327880000000146,\n",
    " 0.507013999999991,\n",
    " 0.4453225000000103,\n",
    " 0.5406599999999973]\n",
    "\n",
    "errors_Adaptive_EM=[0.016711633831973494,0.0650609576277672,0.009825959994827826,0.07183287708795572,0.28791247144878884,\n",
    " 0.1489495272753123,\n",
    " 0.03880192733936205,\n",
    " 0.18294920698114225,\n",
    " 0.09212372109582656,\n",
    " 0.14587050568613513]\n",
    "\n",
    "\n",
    "errors_Adaptive_Mils=[0.05494701674389102,0.19804792771680546,0.07669036730320133,0.13728603174044451,\n",
    " 0.16637950944741675,\n",
    " 0.09914370613890355,\n",
    " 0.08736576230858262,\n",
    " 0.1733631024227078,\n",
    " 0.19487492417158148,\n",
    " 0.19215151089674087]"
   ]
  },
  {
   "cell_type": "code",
   "execution_count": null,
   "metadata": {},
   "outputs": [],
   "source": [
    "plt.loglog(timesteps, errors_EM,marker='o', label='Euler-Maryama' )\n",
    "plt.loglog(timesteps, errors_Mils, marker='*', label='Milstein')\n",
    "plt.loglog(timesteps, errors_Adaptive_EM2, marker='+', label='Adaptive-Euler')\n",
    "plt.loglog(timesteps, errors_Adaptive_Mils, marker='.', label='Adaptive-Milstein')\n",
    "plt.ylabel('Error', fontsize=15)\n",
    "plt.xlabel('$dt$', fontsize=15)\n",
    "plt.title('Adapting Timestepping for Asset Price SDE')\n",
    "plt.legend(loc='best')\n",
    "plt.savefig('errors-loglog2.png')"
   ]
  },
  {
   "cell_type": "code",
   "execution_count": null,
   "metadata": {},
   "outputs": [],
   "source": []
  }
 ],
 "metadata": {
  "kernelspec": {
   "display_name": "Python 3",
   "language": "python",
   "name": "python3"
  },
  "language_info": {
   "codemirror_mode": {
    "name": "ipython",
    "version": 3
   },
   "file_extension": ".py",
   "mimetype": "text/x-python",
   "name": "python",
   "nbconvert_exporter": "python",
   "pygments_lexer": "ipython3",
   "version": "3.6.8"
  }
 },
 "nbformat": 4,
 "nbformat_minor": 2
}
