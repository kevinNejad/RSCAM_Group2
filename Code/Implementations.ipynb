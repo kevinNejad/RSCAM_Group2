{
 "cells": [
  {
   "cell_type": "markdown",
   "metadata": {},
   "source": [
    "# Import libraries"
   ]
  },
  {
   "cell_type": "code",
   "execution_count": 1,
   "metadata": {},
   "outputs": [],
   "source": [
    "import numpy as np\n",
    "import matplotlib.pyplot as plt\n",
    "from tqdm import tqdm"
   ]
  },
  {
   "cell_type": "markdown",
   "metadata": {},
   "source": [
    "# Stocastic Differential Equations"
   ]
  },
  {
   "cell_type": "markdown",
   "metadata": {},
   "source": [
    "## Asset Price"
   ]
  },
  {
   "cell_type": "code",
   "execution_count": 2,
   "metadata": {},
   "outputs": [],
   "source": [
    "class AssetPrice:\n",
    "    \"\"\"\n",
    "    This is a class for Asset Price ODE. \n",
    "    It contains methods for finding exact solution, plotting and exat mean hitting time.\n",
    "    Arguments:\n",
    "    a: Lower bound\n",
    "    b: Upper bound\n",
    "    mu: mu\n",
    "    sigma: sigma\n",
    "    \"\"\"\n",
    "    def __init__(self, lower_b, upper_b, mu, sigma):\n",
    "        self.lower_b = lower_b\n",
    "        self.upper_b = upper_b\n",
    "        self.mu = mu\n",
    "        self.sigma = sigma\n",
    "        \n",
    "    def f(self,x):\n",
    "        \"\"\"\n",
    "        Function of f(x) in asset price stochastic differential equation (deterministic part)\n",
    "        \"\"\"\n",
    "        return self.mu * x\n",
    "    \n",
    "    def g(self,x):\n",
    "        \"\"\"\n",
    "        Function of g(x) in asset price stochastic differential equation (stochastic part)\n",
    "        \"\"\"\n",
    "        return self.sigma * x\n",
    "    \n",
    "    def dg(self,x):\n",
    "        \"\"\"\n",
    "        Function of g'(x) in asset price stochastic differential equation (stochastic part)\n",
    "        \"\"\"\n",
    "        return self.sigma\n",
    "    \n",
    "    def df(self,x):\n",
    "        return self.mu\n",
    "  "
   ]
  },
  {
   "cell_type": "markdown",
   "metadata": {},
   "source": [
    "## Asset Price Interest Rate"
   ]
  },
  {
   "cell_type": "code",
   "execution_count": 3,
   "metadata": {},
   "outputs": [],
   "source": [
    "class AssetPriceInterestRate:\n",
    "    def __init__(self, lam, mu, sigma):\n",
    "        self.lam = lam\n",
    "        self.mu = mu\n",
    "        self.sigma = sigma\n",
    "        \n",
    "    \n",
    "    def f(self,x):\n",
    "        return self.lam*(self.mu - x)\n",
    "    \n",
    "    def g(self,x):\n",
    "        return self.sigma*np.sqrt(x)\n",
    "    "
   ]
  },
  {
   "cell_type": "markdown",
   "metadata": {},
   "source": [
    "## Opinion Polls"
   ]
  },
  {
   "cell_type": "code",
   "execution_count": 4,
   "metadata": {},
   "outputs": [],
   "source": [
    "class OpinionPolls:\n",
    "    def __init__(self, mu, sigma):\n",
    "        self.mu = mu\n",
    "        self.sigma = sigma\n",
    "        \n",
    "    def f(self,x):\n",
    "        return -self.mu*(x/(1-x**2))\n",
    "        \n",
    "    def g(self,x):\n",
    "        return self.sigma"
   ]
  },
  {
   "cell_type": "markdown",
   "metadata": {},
   "source": [
    "## Population Dynamic "
   ]
  },
  {
   "cell_type": "code",
   "execution_count": 5,
   "metadata": {},
   "outputs": [],
   "source": [
    "class PopulationDynamic:\n",
    "    def __init__(self, K, r, beta):\n",
    "        self.K = K\n",
    "        self.r = r\n",
    "        self.beta = beta\n",
    "        \n",
    "    def f(self,x):\n",
    "        return self.r*x*(self.K - x)\n",
    "    \n",
    "    def g(self,x):\n",
    "        return self.beta*x"
   ]
  },
  {
   "cell_type": "markdown",
   "metadata": {},
   "source": [
    "## Epidemic Model"
   ]
  },
  {
   "cell_type": "code",
   "execution_count": 6,
   "metadata": {},
   "outputs": [],
   "source": [
    "class EpidemicModel:\n",
    "    \n",
    "    def __init__(self, p, B, beta, alpha, rho, C):\n",
    "        self.p = p\n",
    "        self.B = B\n",
    "        self.beta = beta\n",
    "        self.alpha = alpha\n",
    "        self.rho = rho \n",
    "        self.C = C\n",
    "    \n",
    "    def f(self, x):\n",
    "        return (self.p -1)*self.B*x + (self.beta*self.C - self.alpha)*(1 - x)*x\n",
    "    \n",
    "    def g(self, x):\n",
    "        return self.p*self.C*(1-x)*x"
   ]
  },
  {
   "cell_type": "markdown",
   "metadata": {},
   "source": [
    "## Political Opinion"
   ]
  },
  {
   "cell_type": "code",
   "execution_count": 7,
   "metadata": {},
   "outputs": [],
   "source": [
    "class PoliticalOpinion:\n",
    "    def __init__(self, r, G, eps):\n",
    "        self.r = r\n",
    "        self.G = G\n",
    "        self.eps = eps\n",
    "        \n",
    "    def f(self,x):\n",
    "        return self.r*(self.G-x)\n",
    "    \n",
    "    def g(self,x):\n",
    "        return np.sqrt(self.eps*x*(1-x))\n",
    "    "
   ]
  },
  {
   "cell_type": "markdown",
   "metadata": {},
   "source": [
    "## Double Well Potential"
   ]
  },
  {
   "cell_type": "code",
   "execution_count": 8,
   "metadata": {},
   "outputs": [],
   "source": [
    "class DoubleWellPotential:\n",
    "    def __init__(self, sigma):\n",
    "        self.sigma = sigma\n",
    "        \n",
    "    def f(self, x):\n",
    "        return -8*x + 12*(x**2) - 4*(x**3)\n",
    "    \n",
    "    def g(self, x):\n",
    "        return self.sigma\n",
    "    \n",
    "    def df(self, x):\n",
    "        return -self._dV2(x)\n",
    "    \n",
    "    def dg(self, x):\n",
    "        return 0"
   ]
  },
  {
   "cell_type": "code",
   "execution_count": 9,
   "metadata": {},
   "outputs": [],
   "source": [
    "class SimpleSDE:\n",
    "    def __init__(self, mu, sigma):\n",
    "        self.mu = mu\n",
    "        self.sigma = sigma\n",
    "    \n",
    "    def f(self, x):\n",
    "        return self.mu\n",
    "    \n",
    "    def g(self, x):\n",
    "        return self.sigma\n",
    "    \n",
    "    def df(self, x):\n",
    "        return 0\n",
    "    \n",
    "    def dg(self, x):\n",
    "        return 0\n",
    "    "
   ]
  },
  {
   "cell_type": "markdown",
   "metadata": {},
   "source": [
    "## Custom SDE"
   ]
  },
  {
   "cell_type": "code",
   "execution_count": 10,
   "metadata": {},
   "outputs": [],
   "source": [
    "class CustomSDE:\n",
    "    def __init__(self):\n",
    "        pass\n",
    "    \n",
    "    def f(self, x):\n",
    "        return x - x**3\n",
    "    \n",
    "    def g(self, x):\n",
    "        return np.sqrt(0.2)\n",
    "    \n",
    "    def df(self, x):\n",
    "        return 1 - 3*(x**2)\n",
    "    \n",
    "    def dg(self, x):\n",
    "        return 0"
   ]
  },
  {
   "cell_type": "markdown",
   "metadata": {},
   "source": [
    "# Methods"
   ]
  },
  {
   "cell_type": "markdown",
   "metadata": {},
   "source": [
    "## EXPONENTIAL TIMESTEPPING WITH BOUNDARY TEST FOR SDEs "
   ]
  },
  {
   "cell_type": "markdown",
   "metadata": {},
   "source": [
    "### The exponential-Euler method with boundary test (1st Algorithm)"
   ]
  },
  {
   "cell_type": "markdown",
   "metadata": {},
   "source": [
    "#### Assumptions: $f(X_t) = \\mu$ and $\\sigma(X_t)=\\epsilon$"
   ]
  },
  {
   "cell_type": "code",
   "execution_count": 11,
   "metadata": {},
   "outputs": [],
   "source": [
    "class ExponentialTimestepping:\n",
    "    def __init__(self, rate):\n",
    "        self.rate = rate\n",
    "    \n",
    "    def F(self, Xn, f, g):\n",
    "        return f(Xn) / g(Xn)**2\n",
    "        \n",
    "    def N(self, Xn,f, g):\n",
    "        return np.sqrt(((2*self.rate) / (g(Xn)**2)) + self.F(Xn,f,g)**2)\n",
    "    \n",
    "    def udpate_time(self,Xn, f, g):\n",
    "        nu2 = (2*self.rate) / g(Xn)**2\n",
    "        U = f(Xn)/g(Xn)\n",
    "        nu2_U2 = np.sqrt(nu2 + U**2)\n",
    "        \n",
    "        x = Xn\n",
    "        if Xn < 0:\n",
    "            x = -Xn\n",
    "        return (self.rate / g(Xn)**2) * (1/nu2_U2) * np.exp(-x * nu2_U2 + U*Xn)\n",
    "    \n",
    "    def compute_MHT(self, X0, f, g , num_itr, lower_b=None, upper_b=None):\n",
    "        if lower_b is None and upper_b is None:\n",
    "            assert(\"Please provide a boundary value\")  \n",
    "        if lower_b is None:\n",
    "            lower_b = -np.inf\n",
    "        if upper_b is None:\n",
    "            upper_b = np.inf\n",
    "            \n",
    "        t_exit = []\n",
    "        \n",
    "        for i in tqdm(range(num_itr)):\n",
    "            self.breaked = 0 \n",
    "            tn = 0\n",
    "            Xn = X0\n",
    "            temp = X0\n",
    "            steps = 0\n",
    "            while Xn > lower_b and Xn < upper_b:\n",
    "#                 dt = self.udpate_time(Xn, f, g)\n",
    "                steps +=1\n",
    "                v = np.random.uniform()\n",
    "                p = -np.log(v)\n",
    "                u = np.random.uniform()\n",
    "                sign = np.sign(0.5*(1 + self.F(Xn,f,g)/self.N(Xn,f,g)) - u)\n",
    "                Nt = self.N(Xn,f,g)\n",
    "                Ft = self.F(Xn,f,g)\n",
    "                \n",
    "                Xn_1 = Xn + (sign*p)/(Nt-sign*Ft)\n",
    "                temp = Xn_1\n",
    "                dt = self.udpate_time(Xn_1, f, g)\n",
    "                w = np.random.uniform()\n",
    "                if Xn_1 < lower_b or w < np.exp(-2*Nt*(min(Xn, Xn_1)-lower_b)) or Xn_1 > upper_b or w < np.exp(-2*Nt*(upper_b-max(Xn, Xn_1))):\n",
    "                    self.breaked += 1\n",
    "                    break\n",
    "                    \n",
    "                tn += steps * (1/self.rate)\n",
    "                steps = 0\n",
    "                Xn = Xn_1\n",
    "                \n",
    "            t_exit.append(tn)\n",
    "        \n",
    "        tmean = np.mean(t_exit)\n",
    "        tstd = np.std(t_exit)\n",
    "\n",
    "        cileft = tmean - 1.96*tstd/np.sqrt(num_itr)\n",
    "        ciright = tmean + 1.96*tstd/np.sqrt(num_itr)\n",
    "        \n",
    "        return t_exit, tmean, tstd, cileft, ciright\n",
    "    \n",
    "    def plot(self,t_exit):\n",
    "        histogram,bins = np.histogram(t_exit,bins=20,range=[0,20])\n",
    "        midx = (bins[0:-1]+bins[1:])/2\n",
    "        plt.bar(midx,histogram,label='Test')\n",
    "        plt.show()\n",
    "    "
   ]
  },
  {
   "cell_type": "markdown",
   "metadata": {},
   "source": [
    "### The exponential-V method with boundary test(2nd Algorithm)"
   ]
  },
  {
   "cell_type": "markdown",
   "metadata": {},
   "source": [
    "#### Assumptions: $\\sigma(x) = \\epsilon$ but $f(x)$ is a function of $x$"
   ]
  },
  {
   "cell_type": "code",
   "execution_count": 12,
   "metadata": {},
   "outputs": [],
   "source": [
    "class ExponentialVTimestepping:\n",
    "    def __init__(self, rate):\n",
    "        self.V = None\n",
    "        self.rate = rate\n",
    "        \n",
    "    \n",
    "    def nu(self,g):\n",
    "        return np.sqrt(2*self.rate / g**2)\n",
    "    \n",
    "\n",
    "    def compute_MHT(self, X0, dt, f, g , num_itr, lower_b=None, upper_b=None):\n",
    "        if self.V is None:\n",
    "            assert(\"Please provide value for V\")\n",
    "            \n",
    "        if lower_b is None and upper_b is None:\n",
    "            assert(\"Please provide a boundary value\")  \n",
    "        if lower_b is None:\n",
    "            lower_b = -np.inf\n",
    "        if upper_b is None:\n",
    "            upper_b = np.inf\n",
    "            \n",
    "        t_exit = []\n",
    "        \n",
    "        for i in tqdm(range(num_itr)):\n",
    "            self.breaked = 0 \n",
    "            tn = 0\n",
    "            Xn = X0\n",
    "            steps = 0\n",
    "            while Xn > lower_b and Xn < upper_b:\n",
    "                steps +=1\n",
    "                nu = self.nu(g(Xn))\n",
    "                print(nu)\n",
    "                v = np.random.uniform()\n",
    "                p = -np.log(v)\n",
    "                u = np.random.uniform()\n",
    "                sign = np.sign(0.5*(1 + (1/nu)*(g(Xn)**(-2))*f(Xn)) - u)\n",
    "                Xn_1 = Xn + (nu**(-1))*sign*(p - (g(Xn)**(-2))*(V*(Xn + (nu**(-1))*sign*p) - V(Xn)))\n",
    "                                 \n",
    "                w = np.random.uniform()\n",
    "                nu = self.nu(Xt, g)\n",
    "                if Xn_1 < lower_b or w < np.exp(-2*nu(min(Xn, Xn_1)-lower_b)) or Xn_1 > upper_b or w < np.exp(-2*nu(upper_b - max(Xn, Xn_1))):\n",
    "                    self.breaked += 1\n",
    "                    break\n",
    "                \n",
    "            \n",
    "                tn += steps * (1/self.rate)\n",
    "                steps = 0\n",
    "                Xn = Xn_1\n",
    "                \n",
    "            t_exit.append(tn)\n",
    "                \n",
    "        tmean = np.mean(t_exit)\n",
    "        tstd = np.std(t_exit)\n",
    "\n",
    "        cileft = tmean - 1.96*tstd/np.sqrt(num_itr)\n",
    "        ciright = tmean + 1.96*tstd/np.sqrt(num_itr)\n",
    "        \n",
    "        return t_exit, tmean, tstd, cileft, ciright\n",
    "    \n",
    "    \n",
    "    def plot(self,t_exit):\n",
    "        histogram,bins = np.histogram(t_exit,bins=20,range=[0,20])\n",
    "        midx = (bins[0:-1]+bins[1:])/2\n",
    "        plt.bar(midx,histogram,label='Test')\n",
    "        plt.show()\n",
    "    "
   ]
  },
  {
   "cell_type": "markdown",
   "metadata": {},
   "source": [
    "-----------------------------------------------------------"
   ]
  },
  {
   "cell_type": "markdown",
   "metadata": {},
   "source": [
    "## Absorbing boundaries and optimal stopping in a stochastic differential equation"
   ]
  },
  {
   "cell_type": "markdown",
   "metadata": {},
   "source": [
    "#### Assumtions $g(x)=\\sigma$"
   ]
  },
  {
   "cell_type": "code",
   "execution_count": 13,
   "metadata": {},
   "outputs": [],
   "source": [
    "class EulerMaryamaBoundaryCheck:\n",
    "    def __init__(self):\n",
    "        self.breaked = 0\n",
    "        self.thres_coeff = 5\n",
    "        pass\n",
    "    \n",
    "#     def P_hit(self, Xn,Xn_1,dt,bound,D, df):\n",
    "#         return np.exp(-df(bound)/(2*D*(np.exp(2*dt*df(bound))-1))*(Xn_1-bound+(Xn-bound)*np.exp(dt*df(bound))-f(bound)/df(bound))**2 + (bound - (Xn + dt*(f(Xn)+f(Xn_1))/2))**2/4*D*dt)\n",
    "    \n",
    "    def P_hit(self, x0,xh,dt,xb,D, f_dash, f):\n",
    "        return np.exp(-f_dash(xb)/(2*D*(np.exp(2*dt*f_dash(xb))-1))*(xh-xb+(x0-xb)*np.exp(dt*f_dash(xb))-f(xb)/f_dash(xb))**2 + (xb - (x0 + dt*(f(x0)+f(xh))/2))**2/4*D*dt)\n",
    "    \n",
    "    def compute_MHT(self, X0, dt, f, g, df, num_itr, lower_b=None, upper_b=None):\n",
    "        if lower_b is None and upper_b is None:\n",
    "            assert(\"Please provide a boundary value\")  \n",
    "        if lower_b is None:\n",
    "            lower_b = -10000\n",
    "        if upper_b is None:\n",
    "            upper_b = 10000\n",
    "            \n",
    "        t_exit = []\n",
    "        \n",
    "        for i in tqdm(range(num_itr)):\n",
    "            self.breaked = 0 \n",
    "            tn = 0\n",
    "            Xn = X0\n",
    "            \n",
    "            while Xn > lower_b and Xn < upper_b:\n",
    "                \n",
    "                Rn = np.random.randn(1)\n",
    "                Xn_1 = Xn + dt*f(Xn) + np.sqrt(dt)*Rn*g(Xn)\n",
    "                D = (g(Xn)**2)/2 \n",
    "                \n",
    "                if Xn-lower_b<self.thres_coeff*dt or upper_b-Xn<self.thres_coeff*dt:\n",
    "                    prob_lowerb = self.P_hit(Xn,Xn_1,dt,lower_b,D, df, f)\n",
    "                    prob_upperb = self.P_hit(Xn,Xn_1,dt,upper_b,D, df, f)\n",
    "                    if prob_lowerb>np.random.uniform(0,1) or prob_upperb>np.random.uniform(0,1):\n",
    "                        self.breaked += 1\n",
    "                        break\n",
    "                        \n",
    "                tn += dt\n",
    "                Xn = Xn_1\n",
    "            \n",
    "            t_exit.append(tn-0.5*dt)\n",
    "        \n",
    "        tmean = np.mean(t_exit)\n",
    "        tstd = np.std(t_exit)\n",
    "\n",
    "        cileft = tmean - 1.96*tstd/np.sqrt(num_itr)\n",
    "        ciright = tmean + 1.96*tstd/np.sqrt(num_itr)\n",
    "        \n",
    "        return t_exit, tmean, tstd, cileft, ciright\n",
    "    \n",
    "    def plot(self,t_exit):\n",
    "        histogram,bins = np.histogram(t_exit,bins=20,range=[0,20])\n",
    "        midx = (bins[0:-1]+bins[1:])/2\n",
    "        plt.bar(midx,histogram,label='Test')\n",
    "        plt.show()\n",
    "        \n",
    "\n",
    "\n",
    "    "
   ]
  },
  {
   "cell_type": "markdown",
   "metadata": {},
   "source": [
    "_______________________________________"
   ]
  },
  {
   "cell_type": "markdown",
   "metadata": {},
   "source": [
    "## Adaptive Timestep"
   ]
  },
  {
   "cell_type": "code",
   "execution_count": 14,
   "metadata": {},
   "outputs": [],
   "source": [
    "class AdaptiveTimestep:\n",
    "    def __init__(self):\n",
    "        pass\n",
    "    \n",
    "    def naive_adaption(self, lower_b, upper_b, dt, x):\n",
    "        \"\"\"\n",
    "        A naive method to adapt timestep based on the distance to the boundaries\n",
    "        \"\"\"\n",
    "        epsilon = 1e-10\n",
    "        dist = min(abs(x - lower_b), abs(x - upper_b))\n",
    "        dt_new = (abs(np.tanh(dist))+epsilon) * dt\n",
    "        return dt_new\n",
    "    \n",
    "    \n",
    "    def adapt_time_EM(self, lower_b, upper_b, x, f, g, dt):\n",
    "        min_dt = 0.0000001\n",
    "        k = 1.96 # set to 1.96 for 95% credible interval of gaussian distribution\n",
    "        \n",
    "        f_res = f(x)\n",
    "        g_res = g(x)\n",
    "        \n",
    "        if f_res == 0 and g(x) == 0:\n",
    "            return dt\n",
    "        elif g_res == 0:\n",
    "            dt_new = min((upper_b-x)/f_res, (x-lower_b)/f_res)\n",
    "            return min(dt, max(dt_new, min_dt))\n",
    "        elif f_res == 0:\n",
    "            if g_res > 0:\n",
    "                dt_new = ((upper_b-x)/(k*g_res))**2\n",
    "                return min(dt, max(dt_new, min_dt))\n",
    "            else:\n",
    "                dt_new = ((x-lower_b)/(k*g_res))**2\n",
    "                return min(dt, max(dt_new, min_dt))\n",
    "        elif f_res > 0:\n",
    "            t1 = np.sqrt( ((upper_b-x)/f_res) + ((k*g_res)/(2*f_res))**2) - (k*g_res)/(2*f_res)\n",
    "            t2 = np.sqrt( ((upper_b-x)/f_res) + ((k*g_res)/(2*f_res))**2) + (k*g_res)/(2*f_res)\n",
    "            dt_new = min(t1**2, t2**2)\n",
    "            return min(dt, max(dt_new, min_dt))\n",
    "        \n",
    "     \n",
    "        t1 = np.sqrt( ((x-lower_b)/f_res) + ((k*g_res)/(2*f_res))**2) - (k*g_res)/(2*f_res)\n",
    "        t2 = np.sqrt( ((x-lower_b)/f_res) + ((k*g_res)/(2*f_res))**2) + (k*g_res)/(2*f_res)\n",
    "        dt_new = min(t1**2, t2**2)\n",
    "        return min(dt, max(dt_new, min_dt))\n",
    "    \n",
    "    \n",
    "    \n",
    "    def _f2(self,x,f,g,dg,k):\n",
    "        return f(x) + 0.5*g(x)*dg(x)*((k**2)-1)\n",
    "        \n",
    "    def adapt_time_Mils(self, lower_b, upper_b, x, f, g, dg, dt):\n",
    "        min_dt = 0.0000001\n",
    "        k = 1.96 # set to 1.96 for 95% credible interval of gaussian distribution\n",
    "        \n",
    "        f2_res = self._f2(x,f,g,dg,k)\n",
    "        g_res = g(x)\n",
    "        \n",
    "        if f2_res == 0 and g_res == 0:\n",
    "            return dt\n",
    "        \n",
    "        elif g_res == 0:\n",
    "            dt_new = min((upper_b-x)/f2_res, (x-lower_b)/f2_res)\n",
    "            return min(dt, max(dt_new, min_dt))\n",
    "        \n",
    "        elif f2_res == 0:\n",
    "            if g_res > 0:\n",
    "                dt_new = ((upper_b-x)/(k*g_res))**2\n",
    "                return min(dt, max(dt_new, min_dt))\n",
    "            else:\n",
    "                dt_new = ((x-lower_b)/(k*g_res))**2\n",
    "                return min(dt, max(dt_new, min_dt))\n",
    "                          \n",
    "        elif f2_res > 0:\n",
    "            t1 = np.sqrt( ((upper_b-x)/f2_res) + ((k*g_res)/(2*f2_res))**2) - (k*g_res)/(2*f2_res)\n",
    "            t2 = np.sqrt( ((upper_b-x)/f2_res) + ((k*g_res)/(2*f2_res))**2) + (k*g_res)/(2*f2_res)\n",
    "            dt_new = min(t1**2, t2**2)\n",
    "            return min(dt, max(dt_new, min_dt))\n",
    "        \n",
    "        t1 = np.sqrt( ((x-lower_b)/f2_res) + ((k*g_res)/(2*f2_res))**2) - (k*g_res)/(2*f2_res)\n",
    "        t2 = np.sqrt( ((x-lower_b)/f2_res) + ((k*g_res)/(2*f2_res))**2) + (k*g_res)/(2*f2_res)\n",
    "        dt_new = min(t1**2, t2**2)\n",
    "        return min(dt, max(dt_new, min_dt))\n",
    "    \n",
    "    \n",
    "    \n",
    "    def compute_MHT_EM(self, X0, dt, num_itr, f, g, lower_b, upper_b):\n",
    "        \"\"\"\n",
    "        Method that approxiamte a solution using Euler-Maruyama method\n",
    "        \n",
    "        Arguments:\n",
    "        f: F(x)\n",
    "        g: g(x)\n",
    "        \n",
    "        Return: List containing Mean, STD, Confidence interval Left, Confidence interval Right\n",
    "        \"\"\"\n",
    "       \n",
    "    \n",
    "        if lower_b is None and upper_b is None:\n",
    "            assert(\"Please provide a boundary value\")  \n",
    "        if lower_b is None:\n",
    "            lower_b = -1000\n",
    "        if upper_b is None:\n",
    "            upper_b = 1000\n",
    "            \n",
    "            \n",
    "        # TODO: Add threshold for situation when the loop goes forever\n",
    "        t_exit = []\n",
    "        \n",
    "        adapt_timestep = self.adapt_time_EM\n",
    "        for i in tqdm(range(num_itr)):\n",
    "            X = X0\n",
    "            t = 0\n",
    "            while X > lower_b and X < upper_b:\n",
    "                dt_new_EM = adapt_timestep(lower_b=lower_b, upper_b=upper_b, x=X, f=f, g=g, dt=dt)\n",
    "                dW = np.sqrt(dt_new_EM)*np.random.randn()\n",
    "                X = X + dt_new_EM*f(X) + g(X)*dW\n",
    "                t += dt_new_EM\n",
    "\n",
    "            t_exit.append(t)\n",
    "\n",
    "\n",
    "        \n",
    "            \n",
    "        tmean = np.mean(t_exit)\n",
    "        tstd = np.std(t_exit)\n",
    "\n",
    "        cileft = tmean - 1.96*tstd/np.sqrt(num_itr)\n",
    "        ciright = tmean + 1.96*tstd/np.sqrt(num_itr)\n",
    "        \n",
    "        return t_exit, tmean, tstd, cileft, ciright\n",
    "    \n",
    "    \n",
    "    \n",
    "    def compute_MHT_Mils(self, X0, dt, num_itr, f, g, dg, lower_b, upper_b):\n",
    "        \"\"\"\n",
    "        Method that approxiamte a solution using Euler-Maruyama method\n",
    "        \n",
    "        Arguments:\n",
    "        f: F(x)\n",
    "        g: g(x)\n",
    "        \n",
    "        Return: List containing Mean, STD, Confidence interval Left, Confidence interval Right\n",
    "        \"\"\"\n",
    "        \n",
    "        if lower_b is None and upper_b is None:\n",
    "            assert(\"Please provide a boundary value\")  \n",
    "        if lower_b is None:\n",
    "            lower_b = -1000\n",
    "        if upper_b is None:\n",
    "            upper_b = 1000\n",
    "        \n",
    "        # TODO: Add threshold for situation when the loop goes forever\n",
    "        t_exit = []\n",
    "        \n",
    "        \n",
    "\n",
    "        adapt_timestep = self.adapt_time_Mils\n",
    "        for i in tqdm(range(num_itr)):\n",
    "            X = X0\n",
    "            t = 0\n",
    "            # TODO: pass new dt to adapt_timestep\n",
    "            while X > lower_b and X < upper_b:\n",
    "                dt_new_EM = adapt_timestep(lower_b=lower_b, upper_b=upper_b, x=X, f=f, g=g, dg=dg, dt=dt)\n",
    "                dW = np.sqrt(dt_new_EM)*np.random.randn()\n",
    "                X = X + dt_new_EM*f(X) + g(X)*dW + 0.5 * g(X)*dg(X)*(dW**2 - dt_new_EM)\n",
    "                t += dt_new_EM\n",
    "\n",
    "            t_exit.append(t)\n",
    "\n",
    "\n",
    "            \n",
    "        tmean = np.mean(t_exit)\n",
    "        tstd = np.std(t_exit)\n",
    "\n",
    "        cileft = tmean - 1.96*tstd/np.sqrt(num_itr)\n",
    "        ciright = tmean + 1.96*tstd/np.sqrt(num_itr)\n",
    "        \n",
    "        return t_exit, tmean, tstd, cileft, ciright\n",
    "    \n",
    "\n",
    "\n",
    "    def plot(self,t_exit):\n",
    "        histogram,bins = np.histogram(t_exit,bins=20,range=[0,20])\n",
    "        midx = (bins[0:-1]+bins[1:])/2\n",
    "        plt.bar(midx,histogram,label='Test')\n",
    "        plt.show()\n",
    "        "
   ]
  },
  {
   "cell_type": "code",
   "execution_count": 15,
   "metadata": {},
   "outputs": [],
   "source": [
    "from sympy.solvers.inequalities import solve_poly_inequalities\n",
    "from sympy.polys import Poly\n",
    "from sympy.abc import x\n",
    "import sympy"
   ]
  },
  {
   "cell_type": "code",
   "execution_count": 104,
   "metadata": {},
   "outputs": [],
   "source": [
    "class AdaptiveTimestep2:\n",
    "    def __init__(self):\n",
    "        pass\n",
    "    \n",
    "    def find_min(self, sols):\n",
    "        vals = []\n",
    "        for sol in sols:\n",
    "            if sol is not None:\n",
    "                if sol.is_Union or sol.is_Intersection:\n",
    "                    for arg in sol.args:\n",
    "                        if arg.isInterval:\n",
    "                            vals.append(float(arg.args[1]))\n",
    "                        elif arg.is_Union or arg.is_Intersection:\n",
    "                            for a in arg.args:\n",
    "                                vals.append(float(a.args[1]))\n",
    "                            \n",
    "                if sol.is_Interval:\n",
    "                    vals.append(float(sol.args[1]))\n",
    "        \n",
    "        vals = [v for v in vals if str(v) != '-oo' or str(v) != 'oo']  \n",
    "            \n",
    "        return np.sqrt(min(vals))\n",
    "    \n",
    "    def adapt_time_solver(self, upper_b, lower_b, Xn, fx, gx, dt):\n",
    "        f = fx(Xn)\n",
    "        g = gx(Xn)\n",
    "        p = 7\n",
    "        theta = 0.000001\n",
    "        \n",
    "        sol1, sol2, sol3, sol4 = None, None, None, None \n",
    "        \n",
    "        if (lower_b < Xn + f*dt + g*np.sqrt(dt)*p) and (Xn + f*dt + g*np.sqrt(dt)*p < upper_b) and (lower_b < Xn + f*dt + g*np.sqrt(dt)*(-p)) and (Xn + f*dt + g*np.sqrt(dt)*(-p) < upper_b):\n",
    "            return dt\n",
    "        \n",
    "        if Xn + f*dt + g*np.sqrt(dt)*p > upper_b:\n",
    "            sol1 = solve_poly_inequalities(((Poly(f*(x**2) + g*p*x + Xn - upper_b), \"<\"),))\n",
    "        if Xn + f*dt + g*np.sqrt(dt)*(-p) > upper_b:\n",
    "            sol2 = solve_poly_inequalities(((Poly(f*(x**2) + g*(-p)*x + Xn - upper_b), \"<\"),))\n",
    "        \n",
    "        if Xn + f*dt + g*np.sqrt(dt)*p < lower_b:\n",
    "            sol3 = solve_poly_inequalities(((Poly(f*(x**2) + g*p*x + Xn - lower_b), \">\"),))\n",
    "        \n",
    "        if Xn + f*dt + g*np.sqrt(dt)*(-p) < lower_b:\n",
    "            sol4 = solve_poly_inequalities(((Poly(f*(x**2) + g*(-p)*x + Xn - lower_b), \">\"),))\n",
    "\n",
    "        min_sol = self.find_min([sol1, sol2, sol3, sol4])\n",
    "#         print(min_sol, '-', max(min_sol,theta))\n",
    "#         print(min(max(min_sol,theta), dt))\n",
    "        return min(max(min_sol,theta), dt)\n",
    "        \n",
    "        \n",
    "    \n",
    "    def adapt_time_EM(self, upper_b, x, f, g, dt ):\n",
    "        fx = f(x)\n",
    "        gx = g(x)\n",
    "        p = 3\n",
    "        theta = 0.000001\n",
    "        \n",
    "        \n",
    "        if fx == 0 and gx ==0:\n",
    "            return dt\n",
    "        \n",
    "        if fx == 0 :\n",
    "            return min(dt, max(((upper_b - x) / gx*p)**2, theta))\n",
    "           \n",
    "        temp_v = ((gx*p)/2*fx)\n",
    "        root_v = np.sqrt( ((upper_b - x)/fx) + ((gx*p)/2*fx)**2 )\n",
    "        \n",
    "        \n",
    "        if fx > 0:    \n",
    "            return min(dt, max(theta, (root_v - temp_v)**2))\n",
    "    \n",
    "        \n",
    "        if f < 0 :\n",
    "            if g > 0:\n",
    "                return min(dt, max(theta, (root_v + temp_v )**2, (-root_v - temp_v )**2) )\n",
    "            return min(dt, max(theta, (root_v - temp_v )**2, (-root_v + temp_v )**2) )\n",
    "        \n",
    "        return dt\n",
    " \n",
    "        \n",
    "    \n",
    "    def compute_MHT_EM(self, X0, dt, num_itr, f, g, lower_b, upper_b):\n",
    "        \"\"\"\n",
    "        Method that approxiamte a solution using Euler-Maruyama method\n",
    "        \n",
    "        Arguments:\n",
    "        f: F(x)\n",
    "        g: g(x)\n",
    "        \n",
    "        Return: List containing Mean, STD, Confidence interval Left, Confidence interval Right\n",
    "        \"\"\"\n",
    "        \n",
    "        self.paths = []\n",
    "        self.times = []\n",
    "        self.timesteps = []\n",
    "    \n",
    "        if lower_b is None and upper_b is None:\n",
    "            assert(\"Please provide a boundary value\")  \n",
    "        if lower_b is None:\n",
    "            lower_b = -1000\n",
    "        if upper_b is None:\n",
    "            upper_b = 1000\n",
    "            \n",
    "            \n",
    "        # TODO: Add threshold for situation when the loop goes forever\n",
    "        t_exit = []\n",
    "        \n",
    "        \n",
    "        adapt_timestep = self.adapt_time_solver\n",
    "        for i in tqdm(range(num_itr)):\n",
    "            X = X0\n",
    "            t = 0\n",
    "            path = []\n",
    "            time = []\n",
    "            timestep = []\n",
    "            while X > lower_b and X < upper_b:\n",
    "                dt_new_EM = adapt_timestep(upper_b=upper_b,lower_b=lower_b, Xn=X, fx=f, gx=g, dt=dt)\n",
    "#                 print(dt_new_EM)\n",
    "                dW = np.sqrt(dt_new_EM)*np.random.randn()\n",
    "                X = X + dt_new_EM*f(X) + g(X)*dW\n",
    "                t += dt_new_EM\n",
    "                time.append(t)\n",
    "                path.append(X)\n",
    "                timestep.append(dt_new_EM)\n",
    "            self.paths.append(path)\n",
    "            self.times.append(time)\n",
    "            self.timesteps.append(timestep)\n",
    "#             print('-------------')\n",
    "            t_exit.append(t)\n",
    "\n",
    "\n",
    "        \n",
    "            \n",
    "        tmean = np.mean(t_exit)\n",
    "        tstd = np.std(t_exit)\n",
    "\n",
    "        cileft = tmean - 1.96*tstd/np.sqrt(num_itr)\n",
    "        ciright = tmean + 1.96*tstd/np.sqrt(num_itr)\n",
    "        \n",
    "        return t_exit, tmean, tstd, cileft, ciright\n",
    "    \n",
    "\n",
    "\n",
    "    def plot(self,t_exit):\n",
    "        histogram,bins = np.histogram(t_exit,bins=20,range=[0,20])\n",
    "        midx = (bins[0:-1]+bins[1:])/2\n",
    "        plt.bar(midx,histogram,label='Test')\n",
    "        plt.show()\n",
    "        "
   ]
  },
  {
   "cell_type": "code",
   "execution_count": null,
   "metadata": {},
   "outputs": [],
   "source": []
  },
  {
   "cell_type": "code",
   "execution_count": 105,
   "metadata": {},
   "outputs": [],
   "source": [
    "class EM_Milstein:\n",
    "    def __init__(self):\n",
    "        pass\n",
    "    \n",
    "    def compute_MHT_EM(self,X0 , dt, num_itr, f, g, lower_b, upper_b):\n",
    "        \n",
    "        if lower_b is None and upper_b is None:\n",
    "            assert(\"Please provide a boundary value\")  \n",
    "        if lower_b is None:\n",
    "            lower_b = -np.inf\n",
    "        if upper_b is None:\n",
    "            upper_b = np.inf\n",
    "        \n",
    "        t_exit = []\n",
    "        for i in tqdm(range(num_itr)):\n",
    "            X = X0\n",
    "            t = 0\n",
    "            while X > lower_b and X < upper_b:\n",
    "                dW = np.sqrt(dt) * np.random.randn()\n",
    "                X = X + dt*f(X) + g(X)*dW\n",
    "                t += dt\n",
    "\n",
    "            t_exit.append(t - 0.5*dt)\n",
    "                \n",
    "    \n",
    "        tmean = np.mean(t_exit)\n",
    "        tstd = np.std(t_exit)\n",
    "\n",
    "        cileft = tmean - 1.96*tstd/np.sqrt(num_itr)\n",
    "        ciright = tmean + 1.96*tstd/np.sqrt(num_itr)\n",
    "        \n",
    "        return t_exit, tmean, tstd, cileft, ciright\n",
    "    \n",
    "    def compute_MHT_Milstein(self, X0, dt, num_itr, f, g, dg, lower_b, upper_b):\n",
    "        \n",
    "        if lower_b is None and upper_b is None:\n",
    "            assert(\"Please provide a boundary value\")  \n",
    "        if lower_b is None:\n",
    "            lower_b = -np.inf\n",
    "        if upper_b is None:\n",
    "            upper_b = np.inf\n",
    "        \n",
    "        t_exit = []\n",
    "        for i in tqdm(range(num_itr)):\n",
    "            X = X0\n",
    "            t = 0\n",
    "            while X > lower_b and X < upper_b:\n",
    "                dW = np.sqrt(dt) * np.random.randn()\n",
    "                X = X + dt*f(X) + g(X)*dW + 0.5 * g(X)*dg(X)*(dW**2 - dt)\n",
    "                t += dt\n",
    "\n",
    "            t_exit.append(t - 0.5*dt)\n",
    "            \n",
    "        tmean = np.mean(t_exit)\n",
    "        tstd = np.std(t_exit)\n",
    "\n",
    "        cileft = tmean - 1.96*tstd/np.sqrt(num_itr)\n",
    "        ciright = tmean + 1.96*tstd/np.sqrt(num_itr)\n",
    "\n",
    "        return t_exit, tmean, tstd, cileft, ciright\n",
    "    \n",
    "    \n",
    "    def plot(self,t_exit):\n",
    "        histogram,bins = np.histogram(t_exit,bins=20,range=[0,20])\n",
    "        midx = (bins[0:-1]+bins[1:])/2\n",
    "        plt.bar(midx,histogram,label='Test')\n",
    "        plt.show()"
   ]
  },
  {
   "cell_type": "markdown",
   "metadata": {},
   "source": [
    "________________________"
   ]
  },
  {
   "cell_type": "markdown",
   "metadata": {},
   "source": [
    "# Expariments"
   ]
  },
  {
   "cell_type": "markdown",
   "metadata": {},
   "source": [
    "### Simulation Parametres and Mothod Instantiation"
   ]
  },
  {
   "cell_type": "code",
   "execution_count": 106,
   "metadata": {},
   "outputs": [],
   "source": [
    "num_itr = int(1e3) # Number of interation for simulations\n",
    "exp_rate = 10 # Lambda parameter for exponential timestepping methods E[dt] = 0.1\n",
    "\n",
    "# Methods \n",
    "em_milstein = EM_Milstein() # Euler-maryama and Milstein method\n",
    "adaptive_timestep = AdaptiveTimestep()\n",
    "adaptive_timestep2 = AdaptiveTimestep2()\n",
    "euler_maryama_boundary_check = EulerMaryamaBoundaryCheck()\n",
    "exponentialV_timestepping = ExponentialVTimestepping(rate=exp_rate)\n",
    "exponential_timestepping = ExponentialTimestepping(rate=exp_rate)"
   ]
  },
  {
   "cell_type": "markdown",
   "metadata": {},
   "source": [
    "### Simple SDE: $dX = \\mu dt + \\sigma dW, \\quad X(0) = X_0$"
   ]
  },
  {
   "cell_type": "code",
   "execution_count": 107,
   "metadata": {
    "scrolled": true
   },
   "outputs": [],
   "source": [
    "# Parameters\n",
    "mu = 0.5\n",
    "sigma = 0.1\n",
    "X0 = 0\n",
    "lower_b = None\n",
    "upper_b = 5\n",
    "dt = 2\n",
    "\n",
    "\n",
    "# New instance of SimpleSDE class\n",
    "simpleSDE = SimpleSDE(mu = mu, sigma = sigma)\n",
    "f = simpleSDE.f\n",
    "g = simpleSDE.g\n",
    "dg = simpleSDE.dg\n",
    "df = simpleSDE.df"
   ]
  },
  {
   "cell_type": "markdown",
   "metadata": {},
   "source": [
    "#### -------- RUN SIMULATION --------"
   ]
  },
  {
   "cell_type": "markdown",
   "metadata": {},
   "source": [
    "#### Euler-Maruyama"
   ]
  },
  {
   "cell_type": "code",
   "execution_count": 83,
   "metadata": {},
   "outputs": [
    {
     "name": "stderr",
     "output_type": "stream",
     "text": [
      "\n",
      "  0%|          | 0/1000 [00:00<?, ?it/s]\u001b[A\n",
      "100%|██████████| 1000/1000 [00:00<00:00, 40715.07it/s]\u001b[A"
     ]
    },
    {
     "name": "stdout",
     "output_type": "stream",
     "text": [
      "-----Euler Method-----\n",
      "Mean:10.026, std:1.0036553193203333, Confidence Interval: (9.963792798822,10.088207201178)\n"
     ]
    }
   ],
   "source": [
    "# Euler Maryama\n",
    "t_exit_EM, tmean_EM, tstd_EM, cileft_EM, ciright_EM = em_milstein.compute_MHT_EM(X0=X0,dt=dt,num_itr=num_itr, f=f, g=g, lower_b=lower_b,upper_b=upper_b)\n",
    "print('-----Euler Method-----')\n",
    "print('Mean:{}, std:{}, Confidence Interval: ({},{})'.format(tmean_EM, tstd_EM, cileft_EM, ciright_EM))\n"
   ]
  },
  {
   "cell_type": "markdown",
   "metadata": {},
   "source": [
    "#### Milstien"
   ]
  },
  {
   "cell_type": "code",
   "execution_count": null,
   "metadata": {},
   "outputs": [],
   "source": [
    "# Misltein \n",
    "t_exit_Mils, tmean_Mils, tstd_Mils, cileft_Mils, ciright_Mils = em_milstein.compute_MHT_Milstein(X0=X0,dt=dt,num_itr=num_itr, f=f, g=g, dg=dg, lower_b=lower_b,upper_b=upper_b)\n",
    "print('-----Misltein Method-----')\n",
    "print('Mean:{}, std:{}, Confidence Interval: ({},{})'.format(tmean_Mils, tstd_Mils, cileft_Mils, ciright_Mils))\n"
   ]
  },
  {
   "cell_type": "markdown",
   "metadata": {},
   "source": [
    "#### EXPONENTIAL TIMESTEPPING WITH BOUNDARY TEST FOR SDEs"
   ]
  },
  {
   "cell_type": "code",
   "execution_count": null,
   "metadata": {},
   "outputs": [],
   "source": [
    "# EXPONENTIAL TIMESTEPPING\n",
    "t_exit_EM, tmean_expo_EM, tstd_expo_EM, cileft_expo_EM, ciright_expo_EM = exponential_timestepping.compute_MHT(X0=X0,num_itr=num_itr, f=f, g=g, lower_b=lower_b,upper_b=upper_b)\n",
    "print('-----Exponential Timestepping Method-----')\n",
    "print('Mean:{}, std:{}, Confidence Interval: ({},{})'.format(tmean_expo_EM, tstd_expo_EM, cileft_expo_EM, ciright_expo_EM))\n"
   ]
  },
  {
   "cell_type": "markdown",
   "metadata": {},
   "source": [
    "#### Euler-Maryama Boundary Check"
   ]
  },
  {
   "cell_type": "markdown",
   "metadata": {},
   "source": [
    "#### Adaptive Timestep-Euler-Maruyama"
   ]
  },
  {
   "cell_type": "code",
   "execution_count": 108,
   "metadata": {},
   "outputs": [
    {
     "name": "stderr",
     "output_type": "stream",
     "text": [
      "\n",
      "  0%|          | 0/1000 [00:00<?, ?it/s]\u001b[A\n",
      "  0%|          | 2/1000 [00:00<01:01, 16.21it/s]\u001b[A\n",
      "  0%|          | 4/1000 [00:00<01:00, 16.55it/s]\u001b[A\n",
      "  1%|          | 6/1000 [00:00<00:56, 17.44it/s]\u001b[A\n",
      "  1%|          | 9/1000 [00:00<00:51, 19.33it/s]\u001b[A\n",
      "  1%|          | 12/1000 [00:00<00:47, 20.91it/s]\u001b[A\n",
      "  2%|▏         | 15/1000 [00:00<00:45, 21.50it/s]\u001b[A\n",
      "  2%|▏         | 18/1000 [00:00<00:44, 21.82it/s]\u001b[A\n",
      "  2%|▏         | 22/1000 [00:00<00:41, 23.61it/s]\u001b[A\n",
      "  2%|▎         | 25/1000 [00:01<00:42, 22.86it/s]\u001b[A\n",
      "  3%|▎         | 28/1000 [00:01<00:39, 24.39it/s]\u001b[A\n",
      "  3%|▎         | 31/1000 [00:01<00:42, 22.84it/s]\u001b[A\n",
      "  3%|▎         | 34/1000 [00:01<00:42, 22.62it/s]\u001b[A\n",
      "  4%|▎         | 37/1000 [00:01<00:41, 23.28it/s]\u001b[A\n",
      "  4%|▍         | 40/1000 [00:01<00:40, 23.98it/s]\u001b[A\n",
      "  4%|▍         | 43/1000 [00:01<00:40, 23.53it/s]\u001b[A\n",
      "  5%|▍         | 46/1000 [00:01<00:39, 24.16it/s]\u001b[A\n",
      "  5%|▍         | 49/1000 [00:02<00:38, 24.60it/s]\u001b[A\n",
      "  5%|▌         | 52/1000 [00:02<00:38, 24.81it/s]\u001b[A\n",
      "  6%|▌         | 55/1000 [00:02<00:38, 24.37it/s]\u001b[A\n",
      "  6%|▌         | 58/1000 [00:02<00:38, 24.70it/s]\u001b[A\n",
      "  6%|▌         | 61/1000 [00:02<00:37, 24.75it/s]\u001b[A\n",
      "  6%|▋         | 64/1000 [00:02<00:37, 24.96it/s]\u001b[A\n",
      "  7%|▋         | 67/1000 [00:02<00:36, 25.27it/s]\u001b[A\n",
      "  7%|▋         | 70/1000 [00:02<00:36, 25.43it/s]\u001b[A\n",
      "  7%|▋         | 73/1000 [00:03<00:35, 26.46it/s]\u001b[A\n",
      "  8%|▊         | 76/1000 [00:03<00:34, 26.71it/s]\u001b[A\n",
      "  8%|▊         | 79/1000 [00:03<00:33, 27.24it/s]\u001b[A\n",
      "  8%|▊         | 82/1000 [00:03<00:33, 27.17it/s]\u001b[A\n",
      "  8%|▊         | 85/1000 [00:03<00:32, 27.85it/s]\u001b[A\n",
      "  9%|▉         | 89/1000 [00:03<00:31, 28.51it/s]\u001b[A\n",
      "  9%|▉         | 92/1000 [00:03<00:32, 27.67it/s]\u001b[A\n",
      " 10%|▉         | 95/1000 [00:03<00:35, 25.41it/s]\u001b[A\n",
      " 10%|▉         | 98/1000 [00:03<00:37, 23.99it/s]\u001b[A\n",
      " 10%|█         | 101/1000 [00:04<00:37, 24.01it/s]\u001b[A\n",
      " 10%|█         | 104/1000 [00:04<00:38, 23.54it/s]\u001b[A\n",
      " 11%|█         | 107/1000 [00:04<00:38, 22.92it/s]\u001b[A\n",
      " 11%|█         | 110/1000 [00:04<00:39, 22.59it/s]\u001b[A\n",
      " 11%|█▏        | 113/1000 [00:04<00:37, 23.56it/s]\u001b[A\n",
      " 12%|█▏        | 116/1000 [00:04<00:39, 22.45it/s]\u001b[A\n",
      " 12%|█▏        | 119/1000 [00:04<00:36, 23.94it/s]\u001b[A\n",
      " 12%|█▏        | 122/1000 [00:05<00:38, 22.76it/s]\u001b[A\n",
      " 12%|█▎        | 125/1000 [00:05<00:39, 21.99it/s]\u001b[A\n",
      " 13%|█▎        | 128/1000 [00:05<00:36, 23.65it/s]\u001b[A\n",
      " 13%|█▎        | 131/1000 [00:05<00:36, 23.56it/s]\u001b[A\n",
      " 13%|█▎        | 134/1000 [00:05<00:35, 24.41it/s]\u001b[A\n",
      " 14%|█▎        | 137/1000 [00:05<00:39, 22.07it/s]\u001b[A\n",
      " 14%|█▍        | 140/1000 [00:05<00:35, 23.94it/s]\u001b[A\n",
      " 14%|█▍        | 143/1000 [00:05<00:35, 24.20it/s]\u001b[A\n",
      " 15%|█▍        | 146/1000 [00:06<00:33, 25.26it/s]\u001b[A\n",
      " 15%|█▍        | 149/1000 [00:06<00:34, 24.39it/s]\u001b[A\n",
      " 15%|█▌        | 152/1000 [00:06<00:33, 25.55it/s]\u001b[A\n",
      " 16%|█▌        | 155/1000 [00:06<00:32, 25.95it/s]\u001b[A\n",
      " 16%|█▌        | 158/1000 [00:06<00:32, 26.03it/s]\u001b[A\n",
      " 16%|█▌        | 161/1000 [00:06<00:33, 25.34it/s]\u001b[A\n",
      " 16%|█▋        | 164/1000 [00:06<00:32, 25.95it/s]\u001b[A\n",
      " 17%|█▋        | 167/1000 [00:06<00:31, 26.24it/s]\u001b[A\n",
      " 17%|█▋        | 170/1000 [00:06<00:32, 25.88it/s]\u001b[A\n",
      " 17%|█▋        | 173/1000 [00:07<00:31, 25.90it/s]\u001b[A\n",
      " 18%|█▊        | 176/1000 [00:07<00:33, 24.72it/s]\u001b[A\n",
      " 18%|█▊        | 179/1000 [00:07<00:34, 23.99it/s]\u001b[A\n",
      " 18%|█▊        | 182/1000 [00:07<00:32, 25.08it/s]\u001b[A\n",
      " 18%|█▊        | 185/1000 [00:07<00:32, 24.86it/s]\u001b[A\n",
      " 19%|█▉        | 188/1000 [00:07<00:31, 25.61it/s]\u001b[A\n",
      " 19%|█▉        | 191/1000 [00:07<00:32, 25.11it/s]\u001b[A\n",
      " 19%|█▉        | 194/1000 [00:07<00:33, 24.37it/s]\u001b[A\n",
      " 20%|█▉        | 197/1000 [00:08<00:32, 24.68it/s]\u001b[A\n",
      " 20%|██        | 200/1000 [00:08<00:30, 25.91it/s]\u001b[A\n",
      " 20%|██        | 203/1000 [00:08<00:31, 25.27it/s]\u001b[A\n",
      " 21%|██        | 206/1000 [00:08<00:32, 24.53it/s]\u001b[A\n",
      " 21%|██        | 209/1000 [00:08<00:31, 25.38it/s]\u001b[A\n",
      " 21%|██        | 212/1000 [00:08<00:33, 23.81it/s]\u001b[A\n",
      " 22%|██▏       | 215/1000 [00:08<00:33, 23.28it/s]\u001b[A\n",
      " 22%|██▏       | 218/1000 [00:08<00:32, 24.30it/s]\u001b[A\n",
      " 22%|██▏       | 221/1000 [00:09<00:31, 24.91it/s]\u001b[A\n",
      " 22%|██▏       | 224/1000 [00:09<00:32, 23.97it/s]\u001b[A\n",
      " 23%|██▎       | 228/1000 [00:09<00:30, 25.47it/s]\u001b[A\n",
      " 23%|██▎       | 231/1000 [00:09<00:29, 26.20it/s]\u001b[A\n",
      " 23%|██▎       | 234/1000 [00:09<00:29, 25.59it/s]\u001b[A\n",
      " 24%|██▎       | 237/1000 [00:09<00:29, 26.21it/s]\u001b[A\n",
      " 24%|██▍       | 240/1000 [00:09<00:30, 24.74it/s]\u001b[A\n",
      " 24%|██▍       | 243/1000 [00:09<00:29, 25.58it/s]\u001b[A\n",
      " 25%|██▍       | 246/1000 [00:10<00:31, 23.86it/s]\u001b[A\n",
      " 25%|██▍       | 249/1000 [00:10<00:30, 24.48it/s]\u001b[A\n",
      " 25%|██▌       | 252/1000 [00:10<00:30, 24.24it/s]\u001b[A\n",
      " 26%|██▌       | 255/1000 [00:10<00:31, 23.35it/s]\u001b[A\n",
      " 26%|██▌       | 258/1000 [00:10<00:31, 23.77it/s]\u001b[A\n",
      " 26%|██▌       | 261/1000 [00:10<00:30, 24.18it/s]\u001b[A\n",
      " 26%|██▋       | 264/1000 [00:10<00:32, 22.82it/s]\u001b[A\n",
      " 27%|██▋       | 267/1000 [00:10<00:34, 21.00it/s]\u001b[A\n",
      " 27%|██▋       | 270/1000 [00:11<00:33, 22.08it/s]\u001b[A\n",
      " 27%|██▋       | 273/1000 [00:11<00:32, 22.48it/s]\u001b[A\n",
      " 28%|██▊       | 276/1000 [00:11<00:33, 21.54it/s]\u001b[A\n",
      " 28%|██▊       | 279/1000 [00:11<00:39, 18.45it/s]\u001b[A\n",
      " 28%|██▊       | 282/1000 [00:11<00:36, 19.69it/s]\u001b[A\n",
      " 28%|██▊       | 285/1000 [00:11<00:35, 19.89it/s]\u001b[A\n",
      " 29%|██▉       | 288/1000 [00:12<00:38, 18.45it/s]\u001b[A\n",
      " 29%|██▉       | 292/1000 [00:12<00:35, 19.80it/s]\u001b[A\n",
      " 30%|██▉       | 295/1000 [00:12<00:35, 19.76it/s]\u001b[A\n",
      " 30%|██▉       | 298/1000 [00:12<00:33, 20.84it/s]\u001b[A\n",
      " 30%|███       | 301/1000 [00:12<00:33, 20.70it/s]\u001b[A\n",
      " 30%|███       | 304/1000 [00:12<00:34, 20.42it/s]\u001b[A\n",
      " 31%|███       | 307/1000 [00:12<00:33, 20.77it/s]\u001b[A\n",
      " 31%|███       | 310/1000 [00:13<00:32, 21.40it/s]\u001b[A\n",
      " 31%|███▏      | 313/1000 [00:13<00:32, 20.90it/s]\u001b[A\n",
      " 32%|███▏      | 316/1000 [00:13<00:30, 22.57it/s]\u001b[A\n",
      " 32%|███▏      | 319/1000 [00:13<00:32, 21.06it/s]\u001b[A\n",
      " 32%|███▏      | 322/1000 [00:13<00:34, 19.82it/s]\u001b[A\n",
      " 32%|███▎      | 325/1000 [00:13<00:32, 20.52it/s]\u001b[A\n",
      " 33%|███▎      | 329/1000 [00:13<00:28, 23.22it/s]\u001b[A\n",
      " 33%|███▎      | 332/1000 [00:14<00:27, 24.09it/s]\u001b[A\n",
      " 34%|███▎      | 335/1000 [00:14<00:27, 24.48it/s]\u001b[A\n",
      " 34%|███▍      | 338/1000 [00:14<00:30, 21.84it/s]\u001b[A\n",
      " 34%|███▍      | 341/1000 [00:14<00:30, 21.63it/s]\u001b[A\n",
      " 34%|███▍      | 344/1000 [00:14<00:31, 20.54it/s]\u001b[A\n",
      " 35%|███▍      | 347/1000 [00:14<00:32, 20.23it/s]\u001b[A\n",
      " 35%|███▌      | 350/1000 [00:14<00:32, 19.83it/s]\u001b[A\n",
      " 35%|███▌      | 353/1000 [00:15<00:32, 19.61it/s]\u001b[A\n",
      " 36%|███▌      | 356/1000 [00:15<00:30, 21.16it/s]\u001b[A\n",
      " 36%|███▌      | 359/1000 [00:15<00:30, 21.35it/s]\u001b[A\n",
      " 36%|███▌      | 362/1000 [00:15<00:31, 20.46it/s]\u001b[A\n",
      " 37%|███▋      | 366/1000 [00:15<00:27, 23.08it/s]\u001b[A\n",
      " 37%|███▋      | 369/1000 [00:15<00:26, 24.04it/s]\u001b[A\n",
      " 37%|███▋      | 372/1000 [00:15<00:28, 22.05it/s]\u001b[A\n",
      " 38%|███▊      | 375/1000 [00:16<00:29, 20.90it/s]\u001b[A\n",
      " 38%|███▊      | 378/1000 [00:16<00:28, 22.20it/s]\u001b[A\n",
      " 38%|███▊      | 381/1000 [00:16<00:27, 22.65it/s]\u001b[A\n",
      " 38%|███▊      | 384/1000 [00:16<00:28, 21.67it/s]\u001b[A\n",
      " 39%|███▊      | 387/1000 [00:16<00:27, 22.19it/s]\u001b[A\n",
      " 39%|███▉      | 390/1000 [00:16<00:27, 22.16it/s]\u001b[A\n",
      " 39%|███▉      | 393/1000 [00:16<00:26, 22.71it/s]\u001b[A\n",
      " 40%|███▉      | 396/1000 [00:17<00:27, 21.64it/s]\u001b[A\n",
      " 40%|███▉      | 399/1000 [00:17<00:29, 20.61it/s]\u001b[A\n",
      " 40%|████      | 402/1000 [00:17<00:27, 21.58it/s]\u001b[A\n",
      " 40%|████      | 405/1000 [00:17<00:27, 21.69it/s]\u001b[A\n",
      " 41%|████      | 408/1000 [00:17<00:27, 21.76it/s]\u001b[A\n",
      " 41%|████      | 411/1000 [00:17<00:26, 22.35it/s]\u001b[A\n",
      " 41%|████▏     | 414/1000 [00:17<00:24, 23.54it/s]\u001b[A\n",
      " 42%|████▏     | 417/1000 [00:17<00:24, 24.02it/s]\u001b[A\n",
      " 42%|████▏     | 420/1000 [00:18<00:23, 24.38it/s]\u001b[A\n",
      " 42%|████▏     | 423/1000 [00:18<00:23, 24.87it/s]\u001b[A\n",
      " 43%|████▎     | 426/1000 [00:18<00:24, 23.74it/s]\u001b[A\n",
      " 43%|████▎     | 429/1000 [00:18<00:24, 23.18it/s]\u001b[A\n",
      " 43%|████▎     | 432/1000 [00:18<00:24, 23.13it/s]\u001b[A\n",
      " 44%|████▎     | 435/1000 [00:18<00:24, 23.51it/s]\u001b[A\n",
      " 44%|████▍     | 438/1000 [00:18<00:23, 23.46it/s]\u001b[A\n",
      " 44%|████▍     | 441/1000 [00:18<00:25, 22.25it/s]\u001b[A\n",
      " 44%|████▍     | 444/1000 [00:19<00:25, 21.62it/s]\u001b[A\n",
      " 45%|████▍     | 447/1000 [00:19<00:25, 21.51it/s]\u001b[A\n",
      " 45%|████▌     | 450/1000 [00:19<00:23, 23.21it/s]\u001b[A\n",
      " 45%|████▌     | 453/1000 [00:19<00:23, 23.63it/s]\u001b[A\n",
      " 46%|████▌     | 456/1000 [00:19<00:22, 24.71it/s]\u001b[A\n"
     ]
    },
    {
     "name": "stderr",
     "output_type": "stream",
     "text": [
      " 46%|████▌     | 459/1000 [00:19<00:21, 24.83it/s]\u001b[A\n",
      " 46%|████▌     | 462/1000 [00:19<00:21, 24.99it/s]\u001b[A\n",
      " 46%|████▋     | 465/1000 [00:19<00:22, 23.72it/s]\u001b[A\n",
      " 47%|████▋     | 468/1000 [00:20<00:22, 24.10it/s]\u001b[A\n",
      " 47%|████▋     | 471/1000 [00:20<00:22, 23.52it/s]\u001b[A\n",
      " 47%|████▋     | 474/1000 [00:20<00:22, 23.21it/s]\u001b[A\n",
      " 48%|████▊     | 477/1000 [00:20<00:22, 23.45it/s]\u001b[A\n",
      " 48%|████▊     | 480/1000 [00:20<00:22, 23.41it/s]\u001b[A\n",
      " 48%|████▊     | 483/1000 [00:20<00:23, 22.42it/s]\u001b[A\n",
      " 49%|████▊     | 486/1000 [00:20<00:22, 23.12it/s]\u001b[A\n",
      " 49%|████▉     | 489/1000 [00:20<00:20, 24.57it/s]\u001b[A\n",
      " 49%|████▉     | 492/1000 [00:21<00:21, 23.37it/s]\u001b[A\n",
      " 50%|████▉     | 495/1000 [00:21<00:22, 22.18it/s]\u001b[A\n",
      " 50%|████▉     | 498/1000 [00:21<00:23, 21.68it/s]\u001b[A\n",
      " 50%|█████     | 501/1000 [00:21<00:23, 21.25it/s]\u001b[A\n",
      " 50%|█████     | 504/1000 [00:21<00:24, 20.13it/s]\u001b[A\n",
      " 51%|█████     | 507/1000 [00:21<00:23, 21.35it/s]\u001b[A\n",
      " 51%|█████     | 510/1000 [00:22<00:23, 20.93it/s]\u001b[A\n",
      " 51%|█████▏    | 513/1000 [00:22<00:21, 22.21it/s]\u001b[A\n",
      " 52%|█████▏    | 516/1000 [00:22<00:23, 20.71it/s]\u001b[A\n",
      " 52%|█████▏    | 519/1000 [00:22<00:22, 21.10it/s]\u001b[A\n",
      " 52%|█████▏    | 522/1000 [00:22<00:22, 21.63it/s]\u001b[A\n",
      " 52%|█████▎    | 525/1000 [00:22<00:21, 22.01it/s]\u001b[A\n",
      " 53%|█████▎    | 528/1000 [00:22<00:20, 22.49it/s]\u001b[A\n",
      " 53%|█████▎    | 531/1000 [00:22<00:21, 21.94it/s]\u001b[A\n",
      " 53%|█████▎    | 534/1000 [00:23<00:20, 23.16it/s]\u001b[A\n",
      " 54%|█████▎    | 537/1000 [00:23<00:19, 24.31it/s]\u001b[A\n",
      " 54%|█████▍    | 540/1000 [00:23<00:19, 23.77it/s]\u001b[A\n",
      " 54%|█████▍    | 543/1000 [00:23<00:19, 23.22it/s]\u001b[A\n",
      " 55%|█████▍    | 546/1000 [00:23<00:19, 23.79it/s]\u001b[A\n",
      " 55%|█████▍    | 549/1000 [00:23<00:18, 24.06it/s]\u001b[A\n",
      " 55%|█████▌    | 552/1000 [00:23<00:19, 23.51it/s]\u001b[A\n",
      " 56%|█████▌    | 556/1000 [00:23<00:17, 25.95it/s]\u001b[A\n",
      " 56%|█████▌    | 559/1000 [00:24<00:16, 26.14it/s]\u001b[A\n",
      " 56%|█████▌    | 562/1000 [00:24<00:17, 25.12it/s]\u001b[A\n",
      " 56%|█████▋    | 565/1000 [00:24<00:18, 23.91it/s]\u001b[A\n",
      " 57%|█████▋    | 568/1000 [00:24<00:17, 24.32it/s]\u001b[A\n",
      " 57%|█████▋    | 571/1000 [00:24<00:17, 24.38it/s]\u001b[A\n",
      " 57%|█████▋    | 574/1000 [00:24<00:18, 23.54it/s]\u001b[A\n",
      " 58%|█████▊    | 577/1000 [00:24<00:18, 23.43it/s]\u001b[A\n",
      " 58%|█████▊    | 580/1000 [00:24<00:17, 24.50it/s]\u001b[A\n",
      " 58%|█████▊    | 583/1000 [00:25<00:16, 25.88it/s]\u001b[A\n",
      " 59%|█████▊    | 586/1000 [00:25<00:17, 23.94it/s]\u001b[A\n",
      " 59%|█████▉    | 589/1000 [00:25<00:17, 23.55it/s]\u001b[A\n",
      " 59%|█████▉    | 592/1000 [00:25<00:18, 22.54it/s]\u001b[A\n",
      " 60%|█████▉    | 595/1000 [00:25<00:17, 22.64it/s]\u001b[A\n",
      " 60%|█████▉    | 598/1000 [00:25<00:17, 23.08it/s]\u001b[A\n",
      " 60%|██████    | 601/1000 [00:25<00:17, 23.15it/s]\u001b[A\n",
      " 60%|██████    | 604/1000 [00:25<00:16, 24.28it/s]\u001b[A\n",
      " 61%|██████    | 608/1000 [00:26<00:15, 25.92it/s]\u001b[A\n",
      " 61%|██████    | 611/1000 [00:26<00:15, 25.20it/s]\u001b[A\n",
      " 61%|██████▏   | 614/1000 [00:26<00:15, 24.50it/s]\u001b[A\n",
      " 62%|██████▏   | 617/1000 [00:26<00:16, 23.16it/s]\u001b[A\n",
      " 62%|██████▏   | 620/1000 [00:26<00:16, 23.50it/s]\u001b[A\n",
      " 62%|██████▏   | 623/1000 [00:26<00:15, 24.77it/s]\u001b[A\n",
      " 63%|██████▎   | 626/1000 [00:26<00:15, 24.50it/s]\u001b[A\n",
      " 63%|██████▎   | 629/1000 [00:26<00:15, 24.03it/s]\u001b[A\n",
      " 63%|██████▎   | 632/1000 [00:27<00:14, 25.41it/s]\u001b[A\n",
      " 64%|██████▎   | 635/1000 [00:27<00:15, 23.15it/s]\u001b[A\n",
      " 64%|██████▍   | 638/1000 [00:27<00:14, 24.45it/s]\u001b[A\n",
      " 64%|██████▍   | 641/1000 [00:27<00:14, 25.42it/s]\u001b[A\n",
      " 64%|██████▍   | 644/1000 [00:27<00:15, 23.33it/s]\u001b[A\n",
      " 65%|██████▍   | 647/1000 [00:27<00:15, 23.42it/s]\u001b[A\n",
      " 65%|██████▌   | 650/1000 [00:27<00:14, 24.86it/s]\u001b[A\n",
      " 65%|██████▌   | 653/1000 [00:27<00:14, 24.09it/s]\u001b[A\n",
      " 66%|██████▌   | 656/1000 [00:28<00:14, 23.14it/s]\u001b[A\n",
      " 66%|██████▌   | 659/1000 [00:28<00:14, 23.17it/s]\u001b[A\n",
      " 66%|██████▌   | 662/1000 [00:28<00:13, 24.54it/s]\u001b[A\n",
      " 66%|██████▋   | 665/1000 [00:28<00:13, 25.52it/s]\u001b[A\n",
      " 67%|██████▋   | 668/1000 [00:28<00:14, 23.08it/s]\u001b[A\n",
      " 67%|██████▋   | 671/1000 [00:28<00:14, 23.31it/s]\u001b[A\n",
      " 67%|██████▋   | 674/1000 [00:28<00:15, 20.69it/s]\u001b[A\n",
      " 68%|██████▊   | 677/1000 [00:29<00:16, 20.11it/s]\u001b[A\n",
      " 68%|██████▊   | 680/1000 [00:29<00:16, 19.54it/s]\u001b[A\n",
      " 68%|██████▊   | 683/1000 [00:29<00:16, 18.93it/s]\u001b[A\n",
      " 68%|██████▊   | 685/1000 [00:29<00:16, 18.94it/s]\u001b[A\n",
      " 69%|██████▊   | 687/1000 [00:29<00:16, 19.03it/s]\u001b[A\n",
      " 69%|██████▉   | 690/1000 [00:29<00:15, 19.83it/s]\u001b[A\n",
      " 69%|██████▉   | 693/1000 [00:29<00:14, 20.54it/s]\u001b[A\n",
      " 70%|██████▉   | 696/1000 [00:30<00:14, 20.44it/s]\u001b[A\n",
      " 70%|██████▉   | 699/1000 [00:30<00:16, 18.40it/s]\u001b[A\n",
      " 70%|███████   | 701/1000 [00:30<00:16, 18.20it/s]\u001b[A\n",
      " 70%|███████   | 703/1000 [00:30<00:16, 18.17it/s]\u001b[A\n",
      " 70%|███████   | 705/1000 [00:30<00:15, 18.56it/s]\u001b[A\n",
      " 71%|███████   | 707/1000 [00:30<00:15, 18.34it/s]\u001b[A\n",
      " 71%|███████   | 709/1000 [00:30<00:15, 18.19it/s]\u001b[A\n",
      " 71%|███████   | 711/1000 [00:30<00:15, 18.64it/s]\u001b[A\n",
      " 71%|███████▏  | 713/1000 [00:31<00:16, 17.24it/s]\u001b[A\n",
      " 72%|███████▏  | 715/1000 [00:31<00:17, 16.44it/s]\u001b[A\n",
      " 72%|███████▏  | 718/1000 [00:31<00:15, 17.79it/s]\u001b[A\n",
      " 72%|███████▏  | 720/1000 [00:31<00:15, 17.67it/s]\u001b[A\n",
      " 72%|███████▏  | 723/1000 [00:31<00:14, 18.95it/s]\u001b[A\n",
      " 72%|███████▎  | 725/1000 [00:31<00:14, 18.81it/s]\u001b[A\n",
      " 73%|███████▎  | 727/1000 [00:31<00:15, 18.02it/s]\u001b[A\n",
      " 73%|███████▎  | 729/1000 [00:31<00:15, 17.95it/s]\u001b[A\n",
      " 73%|███████▎  | 731/1000 [00:32<00:16, 16.61it/s]\u001b[A\n",
      " 73%|███████▎  | 733/1000 [00:32<00:16, 16.54it/s]\u001b[A\n",
      " 74%|███████▎  | 735/1000 [00:32<00:18, 14.41it/s]\u001b[A\n",
      " 74%|███████▎  | 737/1000 [00:32<00:18, 14.60it/s]\u001b[A\n",
      " 74%|███████▍  | 739/1000 [00:32<00:18, 13.90it/s]\u001b[A\n",
      " 74%|███████▍  | 741/1000 [00:32<00:17, 14.92it/s]\u001b[A\n",
      " 74%|███████▍  | 744/1000 [00:32<00:15, 16.83it/s]\u001b[A\n",
      " 75%|███████▍  | 746/1000 [00:32<00:15, 16.29it/s]\u001b[A\n",
      " 75%|███████▍  | 748/1000 [00:33<00:15, 16.45it/s]\u001b[A\n",
      " 75%|███████▌  | 750/1000 [00:33<00:14, 16.87it/s]\u001b[A\n",
      " 75%|███████▌  | 752/1000 [00:33<00:14, 17.27it/s]\u001b[A\n",
      " 75%|███████▌  | 754/1000 [00:33<00:14, 16.41it/s]\u001b[A\n",
      " 76%|███████▌  | 757/1000 [00:33<00:13, 17.99it/s]\u001b[A\n",
      " 76%|███████▌  | 760/1000 [00:33<00:12, 19.68it/s]\u001b[A\n",
      " 76%|███████▋  | 763/1000 [00:33<00:12, 19.62it/s]\u001b[A\n",
      " 77%|███████▋  | 766/1000 [00:34<00:11, 19.53it/s]\u001b[A\n",
      " 77%|███████▋  | 769/1000 [00:34<00:12, 18.66it/s]\u001b[A\n",
      " 77%|███████▋  | 772/1000 [00:34<00:11, 20.07it/s]\u001b[A\n",
      " 78%|███████▊  | 775/1000 [00:34<00:11, 19.13it/s]\u001b[A\n",
      " 78%|███████▊  | 777/1000 [00:34<00:12, 18.11it/s]\u001b[A\n",
      " 78%|███████▊  | 779/1000 [00:34<00:12, 17.76it/s]\u001b[A\n",
      " 78%|███████▊  | 781/1000 [00:34<00:12, 17.50it/s]\u001b[A\n",
      " 78%|███████▊  | 783/1000 [00:34<00:12, 17.04it/s]\u001b[A\n",
      " 78%|███████▊  | 785/1000 [00:35<00:13, 15.67it/s]\u001b[A\n",
      " 79%|███████▊  | 787/1000 [00:35<00:13, 15.41it/s]\u001b[A\n",
      " 79%|███████▉  | 789/1000 [00:35<00:13, 15.29it/s]\u001b[A\n",
      " 79%|███████▉  | 792/1000 [00:35<00:12, 16.89it/s]\u001b[A\n",
      " 79%|███████▉  | 794/1000 [00:35<00:12, 15.98it/s]\u001b[A\n",
      " 80%|███████▉  | 797/1000 [00:35<00:12, 16.02it/s]\u001b[A\n",
      " 80%|███████▉  | 799/1000 [00:35<00:12, 16.69it/s]\u001b[A\n",
      " 80%|████████  | 801/1000 [00:36<00:11, 17.11it/s]\u001b[A\n",
      " 80%|████████  | 803/1000 [00:36<00:11, 17.64it/s]\u001b[A\n",
      " 80%|████████  | 805/1000 [00:36<00:11, 17.63it/s]\u001b[A\n",
      " 81%|████████  | 807/1000 [00:36<00:10, 18.01it/s]\u001b[A\n",
      " 81%|████████  | 810/1000 [00:36<00:09, 20.09it/s]\u001b[A\n",
      " 81%|████████▏ | 813/1000 [00:36<00:08, 20.81it/s]\u001b[A\n",
      " 82%|████████▏ | 816/1000 [00:36<00:08, 21.57it/s]\u001b[A\n",
      " 82%|████████▏ | 819/1000 [00:36<00:08, 21.59it/s]\u001b[A\n",
      " 82%|████████▏ | 822/1000 [00:37<00:09, 19.05it/s]\u001b[A\n",
      " 82%|████████▏ | 824/1000 [00:37<00:09, 19.16it/s]\u001b[A\n",
      " 83%|████████▎ | 826/1000 [00:37<00:09, 17.77it/s]\u001b[A\n",
      " 83%|████████▎ | 828/1000 [00:37<00:09, 17.25it/s]\u001b[A\n",
      " 83%|████████▎ | 830/1000 [00:37<00:11, 15.37it/s]\u001b[A\n",
      " 83%|████████▎ | 832/1000 [00:37<00:11, 14.94it/s]\u001b[A\n",
      " 83%|████████▎ | 834/1000 [00:37<00:10, 15.98it/s]\u001b[A\n",
      " 84%|████████▎ | 836/1000 [00:38<00:10, 15.23it/s]\u001b[A\n",
      " 84%|████████▍ | 838/1000 [00:38<00:10, 15.57it/s]\u001b[A\n",
      " 84%|████████▍ | 840/1000 [00:38<00:09, 16.07it/s]\u001b[A\n",
      " 84%|████████▍ | 842/1000 [00:38<00:09, 16.22it/s]\u001b[A\n",
      " 84%|████████▍ | 844/1000 [00:38<00:09, 16.09it/s]\u001b[A\n",
      " 85%|████████▍ | 846/1000 [00:38<00:10, 14.62it/s]\u001b[A\n",
      " 85%|████████▍ | 848/1000 [00:38<00:09, 15.36it/s]\u001b[A\n",
      " 85%|████████▌ | 850/1000 [00:38<00:09, 16.33it/s]\u001b[A\n",
      " 85%|████████▌ | 852/1000 [00:39<00:08, 16.45it/s]\u001b[A\n",
      " 85%|████████▌ | 854/1000 [00:39<00:10, 14.43it/s]\u001b[A\n",
      " 86%|████████▌ | 857/1000 [00:39<00:08, 16.98it/s]\u001b[A\n"
     ]
    },
    {
     "name": "stderr",
     "output_type": "stream",
     "text": [
      " 86%|████████▌ | 860/1000 [00:39<00:07, 18.79it/s]\u001b[A\n",
      " 86%|████████▋ | 863/1000 [00:39<00:07, 17.40it/s]\u001b[A\n",
      " 86%|████████▋ | 865/1000 [00:39<00:08, 16.69it/s]\u001b[A\n",
      " 87%|████████▋ | 868/1000 [00:39<00:07, 18.73it/s]\u001b[A\n",
      " 87%|████████▋ | 871/1000 [00:39<00:06, 20.16it/s]\u001b[A\n",
      " 87%|████████▋ | 874/1000 [00:40<00:05, 21.42it/s]\u001b[A\n",
      " 88%|████████▊ | 877/1000 [00:40<00:05, 22.48it/s]\u001b[A\n",
      " 88%|████████▊ | 880/1000 [00:40<00:05, 22.39it/s]\u001b[A\n",
      " 88%|████████▊ | 883/1000 [00:40<00:05, 23.30it/s]\u001b[A\n",
      " 89%|████████▊ | 886/1000 [00:40<00:04, 24.63it/s]\u001b[A\n",
      " 89%|████████▉ | 889/1000 [00:40<00:04, 23.88it/s]\u001b[A\n",
      " 89%|████████▉ | 892/1000 [00:40<00:04, 24.76it/s]\u001b[A\n",
      " 90%|████████▉ | 895/1000 [00:40<00:04, 25.11it/s]\u001b[A\n",
      " 90%|████████▉ | 898/1000 [00:41<00:04, 23.63it/s]\u001b[A\n",
      " 90%|█████████ | 901/1000 [00:41<00:04, 22.39it/s]\u001b[A\n",
      " 90%|█████████ | 904/1000 [00:41<00:04, 21.61it/s]\u001b[A\n",
      " 91%|█████████ | 907/1000 [00:41<00:04, 22.47it/s]\u001b[A\n",
      " 91%|█████████ | 911/1000 [00:41<00:03, 24.37it/s]\u001b[A\n",
      " 91%|█████████▏| 914/1000 [00:41<00:03, 25.14it/s]\u001b[A\n",
      " 92%|█████████▏| 917/1000 [00:41<00:03, 24.85it/s]\u001b[A\n",
      " 92%|█████████▏| 920/1000 [00:42<00:03, 24.61it/s]\u001b[A\n",
      " 92%|█████████▏| 923/1000 [00:42<00:03, 24.22it/s]\u001b[A\n",
      " 93%|█████████▎| 926/1000 [00:42<00:03, 24.09it/s]\u001b[A\n",
      " 93%|█████████▎| 929/1000 [00:42<00:02, 24.15it/s]\u001b[A\n",
      " 93%|█████████▎| 932/1000 [00:42<00:02, 24.34it/s]\u001b[A\n",
      " 94%|█████████▎| 935/1000 [00:42<00:02, 24.55it/s]\u001b[A\n",
      " 94%|█████████▍| 938/1000 [00:42<00:02, 23.90it/s]\u001b[A\n",
      " 94%|█████████▍| 941/1000 [00:42<00:02, 20.77it/s]\u001b[A\n",
      " 94%|█████████▍| 944/1000 [00:43<00:02, 20.53it/s]\u001b[A\n",
      " 95%|█████████▍| 947/1000 [00:43<00:02, 20.17it/s]\u001b[A\n",
      " 95%|█████████▌| 950/1000 [00:43<00:02, 20.82it/s]\u001b[A\n",
      " 95%|█████████▌| 953/1000 [00:43<00:02, 22.11it/s]\u001b[A\n",
      " 96%|█████████▌| 956/1000 [00:43<00:02, 21.57it/s]\u001b[A\n",
      " 96%|█████████▌| 959/1000 [00:43<00:01, 22.87it/s]\u001b[A\n",
      " 96%|█████████▌| 962/1000 [00:43<00:01, 23.48it/s]\u001b[A\n",
      " 96%|█████████▋| 965/1000 [00:44<00:01, 23.36it/s]\u001b[A\n",
      " 97%|█████████▋| 968/1000 [00:44<00:01, 21.86it/s]\u001b[A\n",
      " 97%|█████████▋| 971/1000 [00:44<00:01, 20.49it/s]\u001b[A\n",
      " 97%|█████████▋| 974/1000 [00:44<00:01, 19.76it/s]\u001b[A\n",
      " 98%|█████████▊| 977/1000 [00:44<00:01, 17.29it/s]\u001b[A\n",
      " 98%|█████████▊| 979/1000 [00:44<00:01, 17.44it/s]\u001b[A\n",
      " 98%|█████████▊| 981/1000 [00:44<00:01, 17.18it/s]\u001b[A\n",
      " 98%|█████████▊| 983/1000 [00:45<00:01, 17.00it/s]\u001b[A\n",
      " 98%|█████████▊| 985/1000 [00:45<00:00, 16.39it/s]\u001b[A\n",
      " 99%|█████████▊| 987/1000 [00:45<00:00, 17.12it/s]\u001b[A\n",
      " 99%|█████████▉| 990/1000 [00:45<00:00, 17.50it/s]\u001b[A\n",
      " 99%|█████████▉| 992/1000 [00:45<00:00, 17.51it/s]\u001b[A\n",
      " 99%|█████████▉| 994/1000 [00:45<00:00, 16.21it/s]\u001b[A\n",
      "100%|█████████▉| 996/1000 [00:45<00:00, 16.72it/s]\u001b[A\n",
      "100%|█████████▉| 999/1000 [00:45<00:00, 18.11it/s]\u001b[A\n",
      "100%|██████████| 1000/1000 [00:46<00:00, 21.71it/s]\u001b[A"
     ]
    },
    {
     "name": "stdout",
     "output_type": "stream",
     "text": [
      "-----Adaptive Euler Method-----\n",
      "Mean:10.151436132411874, std:0.6332382471470305, Confidence Interval: (10.112187619226535,10.190684645597212)\n"
     ]
    }
   ],
   "source": [
    "# Adaptive Euler Maryama\n",
    "t_exit_Adapt_EM, tmean_Adapt_EM, tstd_Adapt_EM, cileft_Adapt_EM, ciright_Adapt_EM = adaptive_timestep2.compute_MHT_EM(X0=X0,dt=dt,num_itr=num_itr, f=f, g=g,lower_b=lower_b,upper_b=upper_b)\n",
    "print('-----Adaptive Euler Method-----')\n",
    "print('Mean:{}, std:{}, Confidence Interval: ({},{})'.format(tmean_Adapt_EM, tstd_Adapt_EM, cileft_Adapt_EM, ciright_Adapt_EM))\n"
   ]
  },
  {
   "cell_type": "code",
   "execution_count": 109,
   "metadata": {},
   "outputs": [],
   "source": [
    "paths = adaptive_timestep2.paths\n",
    "times = adaptive_timestep2.times\n",
    "timesteps = adaptive_timestep2.timesteps"
   ]
  },
  {
   "cell_type": "code",
   "execution_count": 133,
   "metadata": {},
   "outputs": [
    {
     "name": "stdout",
     "output_type": "stream",
     "text": [
      "8\n",
      "[2, 2, 2, 1.1855904043827936, 1.0246585833525537, 0.9095978946754756, 0.657665904285591, 0.31767988332068414]\n"
     ]
    },
    {
     "data": {
      "text/plain": [
       "<matplotlib.collections.LineCollection at 0x7fee13babda0>"
      ]
     },
     "execution_count": 133,
     "metadata": {},
     "output_type": "execute_result"
    },
    {
     "data": {
      "image/png": "[encoded data removed]",
      "text/plain": [
       "<Figure size 720x360 with 1 Axes>"
      ]
     },
     "metadata": {
      "needs_background": "light"
     },
     "output_type": "display_data"
    }
   ],
   "source": [
    "idx = np.random.randint(0,len(paths))\n",
    "p = paths[idx]\n",
    "t = times[idx]\n",
    "ts = timesteps[idx]\n",
    "print(len(p))\n",
    "print(ts)\n",
    "plt.figure(figsize=(10,5))\n",
    "\n",
    "plt.plot(t, p,color='purple', label='EM-Adaptive')\n",
    "plt.plot(t, ts,color='green', label='EM-Adaptive')\n",
    "plt.xlabel('Time',fontsize=18)\n",
    "plt.ylabel('Stock Price',fontsize=18)\n",
    "plt.hlines(upper_b, xmin=0, xmax=max(t), color='red', label='Upper Bound')\n",
    "plt.hlines(lower_b,xmin=0, xmax=max(t), color='blue', label='Lower Bound')"
   ]
  },
  {
   "cell_type": "markdown",
   "metadata": {},
   "source": [
    "#### Adaptive Timestep-Milstein"
   ]
  },
  {
   "cell_type": "code",
   "execution_count": null,
   "metadata": {},
   "outputs": [],
   "source": [
    "# Adaptive Milstein Maryama\n",
    "t_exit_Adapt_Mils, tmean_Adapt_Mils, tstd_Adapt_Mils, cileft_Adapt_Mils, ciright_Adapt_Mils = adaptive_timestep.compute_MHT_Mils(X0=X0,dt=dt,num_itr=num_itr, f=f, g=g, dg=dg, lower_b=lower_b,upper_b=upper_b)\n",
    "print('-----Adaptive Milstein Method-----')\n",
    "print('Mean:{}, std:{}, Confidence Interval: ({},{})'.format(tmean_Adapt_Mils, tstd_Adapt_Mils, cileft_Adapt_Mils, ciright_Adapt_Mils))\n"
   ]
  },
  {
   "cell_type": "markdown",
   "metadata": {},
   "source": [
    "------------------------"
   ]
  },
  {
   "cell_type": "markdown",
   "metadata": {},
   "source": [
    "## Asset Price: $dX = \\mu X dt + \\sigma X dW \\qquad 0 < a < X_{0} < b$"
   ]
  },
  {
   "cell_type": "code",
   "execution_count": null,
   "metadata": {
    "scrolled": true
   },
   "outputs": [],
   "source": [
    "# Parameters\n",
    "mu = 0.1\n",
    "sigma = 0.2\n",
    "X0 = 1\n",
    "upper_b = 2\n",
    "lower_b = 0.5\n",
    "exact_MHT = 7.6450\n",
    "\n",
    "# Asset Price instance\n",
    "asset_price = AssetPrice(lower_b=lower_b, upper_b=upper_b, mu=mu, sigma=sigma)\n",
    "f = asset_price.f\n",
    "g = asset_price.g\n",
    "dg = asset_price.dg\n",
    "df = asset_price.df\n",
    "\n",
    "# Run simulation\n"
   ]
  },
  {
   "cell_type": "markdown",
   "metadata": {},
   "source": [
    "#### -------- RUN SIMULATION --------"
   ]
  },
  {
   "cell_type": "code",
   "execution_count": null,
   "metadata": {},
   "outputs": [],
   "source": [
    "timesteps = np.linspace(0.001, 0.1, 10)    "
   ]
  },
  {
   "cell_type": "code",
   "execution_count": null,
   "metadata": {},
   "outputs": [],
   "source": [
    "### test\n",
    "errors_Adaptive_EM2 = []\n",
    "for dt in timesteps:\n",
    "    t_exit_Adapt_EM, tmean_Adapt_EM, tstd_Adapt_EM, cileft_Adapt_EM, ciright_Adapt_EM = adaptive_timestep2.compute_MHT_EM(X0=X0,dt=dt,num_itr=num_itr, f=f, g=g,lower_b=lower_b,upper_b=upper_b)\n",
    "    errors_Adaptive_EM2.append(abs(tmean_Adapt_EM-exact_MHT))\n"
   ]
  },
  {
   "cell_type": "markdown",
   "metadata": {},
   "source": [
    "#### Euler-Maruyama"
   ]
  },
  {
   "cell_type": "code",
   "execution_count": null,
   "metadata": {
    "scrolled": false
   },
   "outputs": [],
   "source": [
    "# Euler Maryama\n",
    "errors_EM = []\n",
    "for dt in timesteps:\n",
    "    t_exit_EM, tmean_EM, tstd_EM, cileft_EM, ciright_EM = em_milstein.compute_MHT_EM(X0=X0,dt=dt,num_itr=num_itr, f=f, g=g, lower_b=lower_b,upper_b=upper_b)\n",
    "    errors_EM.append(abs(tmean_EM - exact_MHT))\n",
    "\n",
    "print('-----Euler Method-----')\n",
    "print('Mean:{}, std:{}, Confidence Interval: ({},{})'.format(tmean_EM, tstd_EM, cileft_EM, ciright_EM))\n"
   ]
  },
  {
   "cell_type": "code",
   "execution_count": null,
   "metadata": {},
   "outputs": [],
   "source": [
    "errors_EM"
   ]
  },
  {
   "cell_type": "markdown",
   "metadata": {},
   "source": [
    "#### Milstien"
   ]
  },
  {
   "cell_type": "code",
   "execution_count": null,
   "metadata": {
    "scrolled": true
   },
   "outputs": [],
   "source": [
    "# Milstein\n",
    "errors_Mils = []\n",
    "for dt in timesteps:\n",
    "    t_exit_Mils, tmean_Mils, tstd_Mils, cileft_Mils, ciright_Mils = em_milstein.compute_MHT_Milstein(X0=X0,dt=dt,num_itr=num_itr, f=f, g=g, dg=dg, lower_b=lower_b,upper_b=upper_b)\n",
    "    errors_Mils.append(abs(tmean_Mils-exact_MHT))\n",
    "    \n",
    "# print('-----Misltein Method-----')\n",
    "# print('Mean:{}, std:{}, Confidence Interval: ({},{})'.format(tmean_Mils, tstd_Mils, cileft_Mils, ciright_Mils))\n"
   ]
  },
  {
   "cell_type": "code",
   "execution_count": null,
   "metadata": {},
   "outputs": [],
   "source": [
    "errors_Mils"
   ]
  },
  {
   "cell_type": "markdown",
   "metadata": {},
   "source": [
    "#### EXPONENTIAL-V TIMESTEPPING WITH BOUNDARY TEST FOR SDEs"
   ]
  },
  {
   "cell_type": "markdown",
   "metadata": {},
   "source": [
    "#### Euler-Maryama Boundary Check"
   ]
  },
  {
   "cell_type": "markdown",
   "metadata": {},
   "source": [
    "#### Adaptive Timestep-Euler-Maruyama"
   ]
  },
  {
   "cell_type": "code",
   "execution_count": null,
   "metadata": {
    "scrolled": true
   },
   "outputs": [],
   "source": [
    "# Adaptive Euler Maryama\n",
    "\n",
    "errors_Adaptive_EM = []\n",
    "for dt in timesteps:\n",
    "    t_exit_Adapt_EM, tmean_Adapt_EM, tstd_Adapt_EM, cileft_Adapt_EM, ciright_Adapt_EM = adaptive_timestep.compute_MHT_EM(X0=X0,dt=dt,num_itr=num_itr, f=f, g=g,lower_b=lower_b,upper_b=upper_b)\n",
    "    errors_Adaptive_EM.append(abs(tmean_Adapt_EM-exact_MHT))\n",
    "\n",
    "# print('-----Adaptive Euler Method-----')\n",
    "# print('Mean:{}, std:{}, Confidence Interval: ({},{})'.format(tmean_Adapt_EM, tstd_Adapt_EM, cileft_Adapt_EM, ciright_Adapt_EM))\n"
   ]
  },
  {
   "cell_type": "code",
   "execution_count": null,
   "metadata": {},
   "outputs": [],
   "source": [
    "errors_Adaptive_EM"
   ]
  },
  {
   "cell_type": "markdown",
   "metadata": {},
   "source": [
    "#### Adaptive Timestep-Milstein"
   ]
  },
  {
   "cell_type": "code",
   "execution_count": null,
   "metadata": {},
   "outputs": [],
   "source": [
    "# Adaptive Milstein\n",
    "\n",
    "errors_Adaptive_Mils = []\n",
    "for dt in timesteps:\n",
    "    t_exit_Adapt_Mils, tmean_Adapt_Mils, tstd_Adapt_Mils, cileft_Adapt_Mils, ciright_Adapt_Mils = adaptive_timestep.compute_MHT_Mils(X0=X0,dt=dt,num_itr=num_itr, f=f, g=g, dg=dg, lower_b=lower_b,upper_b=upper_b)\n",
    "    errors_Adaptive_Mils.append(abs(tmean_Adapt_Mils-exact_MHT))\n",
    "\n",
    "# print('-----Adaptive Milstein Method-----')\n",
    "# print('Mean:{}, std:{}, Confidence Interval: ({},{})'.format(tmean_Adapt_Mils, tstd_Adapt_Mils, cileft_Adapt_Mils, ciright_Adapt_Mils))\n"
   ]
  },
  {
   "cell_type": "code",
   "execution_count": null,
   "metadata": {
    "scrolled": true
   },
   "outputs": [],
   "source": [
    "errors_Adaptive_Mils"
   ]
  },
  {
   "cell_type": "code",
   "execution_count": null,
   "metadata": {},
   "outputs": [],
   "source": [
    "plt.loglog(timesteps, errors_EM,marker='o', label='Euler-Maryama' )\n",
    "plt.loglog(timesteps, errors_Mils, marker='*', label='Milstein')\n",
    "plt.loglog(timesteps, errors_Adaptive_EM, marker='+', label='Adaptive-Euler')\n",
    "plt.loglog(timesteps, errors_Adaptive_Mils, marker='.', label='Adaptive-Milstein')\n",
    "plt.ylabel('Error', fontsize=15)\n",
    "plt.xlabel('$dt$', fontsize=15)\n",
    "plt.title('Adapting Timestepping for Asset Price SDE')\n",
    "plt.legend(loc='best')\n",
    "plt.savefig('errors-loglog.png')"
   ]
  },
  {
   "cell_type": "markdown",
   "metadata": {},
   "source": [
    "________________"
   ]
  },
  {
   "cell_type": "markdown",
   "metadata": {},
   "source": [
    "### Double Well Potential"
   ]
  },
  {
   "cell_type": "code",
   "execution_count": null,
   "metadata": {
    "scrolled": true
   },
   "outputs": [],
   "source": [
    "# Parameters\n",
    "sigma = 1\n",
    "X0 = 0\n",
    "lower_b = None\n",
    "upper_b = 1\n",
    "dt = 0.1\n",
    "exact_MHT = 4.606\n",
    "\n",
    "\n",
    "# New instance of SimpleSDE class\n",
    "double_well_potential = DoubleWellPotential(sigma=sigma)\n",
    "f = double_well_potential.f\n",
    "g = double_well_potential.g\n",
    "dg = double_well_potential.dg\n",
    "df = double_well_potential.df"
   ]
  },
  {
   "cell_type": "markdown",
   "metadata": {},
   "source": [
    "#### -------- RUN SIMULATION --------"
   ]
  },
  {
   "cell_type": "markdown",
   "metadata": {},
   "source": [
    "#### Euler-Maruyama"
   ]
  },
  {
   "cell_type": "code",
   "execution_count": null,
   "metadata": {},
   "outputs": [],
   "source": [
    "# Euler Maryama\n",
    "t_exit_EM, tmean_EM, tstd_EM, cileft_EM, ciright_EM = em_milstein.compute_MHT_EM(X0=X0,dt=dt,num_itr=num_itr, f=f, g=g, lower_b=lower_b,upper_b=upper_b)\n",
    "print('-----Euler Method-----')\n",
    "print('Mean:{}, std:{}, Confidence Interval: ({},{})'.format(tmean_EM, tstd_EM, cileft_EM, ciright_EM))"
   ]
  },
  {
   "cell_type": "markdown",
   "metadata": {},
   "source": [
    "#### Milstien"
   ]
  },
  {
   "cell_type": "code",
   "execution_count": null,
   "metadata": {},
   "outputs": [],
   "source": [
    "# Milstein\n",
    "t_exit_Mils, tmean_Mils, tstd_Mils, cileft_Mils, ciright_Mils = em_milstein.compute_MHT_Milstein(X0=X0,dt=dt,num_itr=num_itr, f=f, g=g, dg=dg, lower_b=lower_b,upper_b=upper_b)\n",
    "print('-----Misltein Method-----')\n",
    "print('Mean:{}, std:{}, Confidence Interval: ({},{})'.format(tmean_Mils, tstd_Mils, cileft_Mils, ciright_Mils))\n"
   ]
  },
  {
   "cell_type": "markdown",
   "metadata": {},
   "source": [
    "#### EXPONENTIAL-V TIMESTEPPING WITH BOUNDARY TEST FOR SDEs"
   ]
  },
  {
   "cell_type": "code",
   "execution_count": null,
   "metadata": {},
   "outputs": [],
   "source": [
    "# Exponential-V timestepping\n",
    "t_exit_Mils, tmean_Mils, tstd_Mils, cileft_Mils, ciright_Mils = exponentialV_timestepping.compute_MHT(X0=X0,dt=dt,num_itr=num_itr, f=f, g=g, lower_b=lower_b,upper_b=upper_b)\n",
    "print('-----Exponential-V Method-----')\n",
    "print('Mean:{}, std:{}, Confidence Interval: ({},{})'.format(tmean_Mils, tstd_Mils, cileft_Mils, ciright_Mils))\n"
   ]
  },
  {
   "cell_type": "markdown",
   "metadata": {},
   "source": [
    "#### Euler-Maryama Boundary Check"
   ]
  },
  {
   "cell_type": "code",
   "execution_count": null,
   "metadata": {},
   "outputs": [],
   "source": [
    "# Euler-Maryama Boundary Check\n",
    "t_exit_Bound_EM, tmean_Bound_EM, tstd_Bound_EM, cileft_Bound_EM, ciright_Bound_EM = euler_maryama_boundary_check.compute_MHT(X0=X0,dt=dt,num_itr=num_itr, f=f, g=g,df = df, lower_b=lower_b,upper_b=upper_b)\n",
    "print('-----Euler Method With Boundary Check-----')\n",
    "print('Mean:{}, std:{}, Confidence Interval: ({},{})'.format(tmean_Bound_EM, tstd_Bound_EM, cileft_Bound_EM, ciright_Bound_EM))\n"
   ]
  },
  {
   "cell_type": "markdown",
   "metadata": {},
   "source": [
    "#### Adaptive Timestep-Euler-Maruyama"
   ]
  },
  {
   "cell_type": "code",
   "execution_count": null,
   "metadata": {},
   "outputs": [],
   "source": [
    "# Adaptive Euler Maryama\n",
    "t_exit_Adapt_EM, tmean_Adapt_EM, tstd_Adapt_EM, cileft_Adapt_EM, ciright_Adapt_EM = adaptive_timestep.compute_MHT_EM(X0=X0,dt=dt,num_itr=num_itr, f=f, g=g,lower_b=lower_b,upper_b=upper_b)\n",
    "print('-----Adaptive Euler Method-----')\n",
    "print('Mean:{}, std:{}, Confidence Interval: ({},{})'.format(tmean_Adapt_EM, tstd_Adapt_EM, cileft_Adapt_EM, ciright_Adapt_EM))\n"
   ]
  },
  {
   "cell_type": "markdown",
   "metadata": {},
   "source": [
    "#### Adaptive Timestep-Milstein"
   ]
  },
  {
   "cell_type": "code",
   "execution_count": null,
   "metadata": {},
   "outputs": [],
   "source": [
    "# Adaptive Milstein\n",
    "t_exit_Adapt_Mils, tmean_Adapt_Mils, tstd_Adapt_Mils, cileft_Adapt_Mils, ciright_Adapt_Mils = adaptive_timestep.compute_MHT_Mils(X0=X0,dt=dt,num_itr=num_itr, f=f, g=g, dg=dg, lower_b=lower_b,upper_b=upper_b)\n",
    "print('-----Adaptive Milstein Method-----')\n",
    "print('Mean:{}, std:{}, Confidence Interval: ({},{})'.format(tmean_Adapt_Mils, tstd_Adapt_Mils, cileft_Adapt_Mils, ciright_Adapt_Mils))\n"
   ]
  },
  {
   "cell_type": "markdown",
   "metadata": {},
   "source": [
    "---------------------------"
   ]
  },
  {
   "cell_type": "markdown",
   "metadata": {},
   "source": [
    "### Opinion Poll"
   ]
  },
  {
   "cell_type": "markdown",
   "metadata": {},
   "source": [
    "#### Euler-Maruyama"
   ]
  },
  {
   "cell_type": "markdown",
   "metadata": {},
   "source": [
    "#### Milstien"
   ]
  },
  {
   "cell_type": "markdown",
   "metadata": {},
   "source": [
    "#### EXPONENTIAL-V TIMESTEPPING WITH BOUNDARY TEST FOR SDEs"
   ]
  },
  {
   "cell_type": "markdown",
   "metadata": {},
   "source": [
    "#### Euler-Maryama Boundary Check"
   ]
  },
  {
   "cell_type": "markdown",
   "metadata": {},
   "source": [
    "#### Adaptive Timestep-Euler-Maruyama"
   ]
  },
  {
   "cell_type": "markdown",
   "metadata": {},
   "source": [
    "#### Adaptive Timestep-Milstein"
   ]
  },
  {
   "cell_type": "markdown",
   "metadata": {},
   "source": [
    "### Custom SDE: $dX = (X-X^3)dt + \\sqrt{0.2}dW$"
   ]
  },
  {
   "cell_type": "code",
   "execution_count": null,
   "metadata": {},
   "outputs": [],
   "source": [
    "# Parameters\n",
    "X0 = -1\n",
    "lower_b = None\n",
    "upper_b = -0.5\n",
    "dt = 0.1 # 0.1 - 0.001\n",
    "exact_MHT = 4.555\n",
    "\n",
    "\n",
    "# New instance of SimpleSDE class\n",
    "custom_SDE = CustomSDE()\n",
    "f = custom_SDE.f\n",
    "g = custom_SDE.g\n",
    "dg = custom_SDE.dg\n",
    "df = custom_SDE.df"
   ]
  },
  {
   "cell_type": "code",
   "execution_count": null,
   "metadata": {},
   "outputs": [],
   "source": [
    "timesteps = np.linspace(0.001, 0.1, 10)    "
   ]
  },
  {
   "cell_type": "markdown",
   "metadata": {},
   "source": [
    "#### Euler-Maruyama"
   ]
  },
  {
   "cell_type": "code",
   "execution_count": null,
   "metadata": {
    "scrolled": true
   },
   "outputs": [],
   "source": [
    "# Euler Maryama\n",
    "\n",
    "errors_EM = []\n",
    "for dt in timesteps:\n",
    "    t_exit_EM, tmean_EM, tstd_EM, cileft_EM, ciright_EM = em_milstein.compute_MHT_EM(X0=X0,dt=dt,num_itr=num_itr, f=f, g=g, lower_b=lower_b,upper_b=upper_b)\n",
    "    errors_EM.append(abs(tmean_EM - exact_MHT))   \n",
    "    \n",
    "# print('-----Euler Method-----')\n",
    "# print('Mean:{}, std:{}, Confidence Interval: ({},{})'.format(tmean_EM, tstd_EM, cileft_EM, ciright_EM))"
   ]
  },
  {
   "cell_type": "code",
   "execution_count": null,
   "metadata": {},
   "outputs": [],
   "source": [
    "errors_EM"
   ]
  },
  {
   "cell_type": "markdown",
   "metadata": {},
   "source": [
    "#### Milstien"
   ]
  },
  {
   "cell_type": "code",
   "execution_count": null,
   "metadata": {
    "scrolled": false
   },
   "outputs": [],
   "source": [
    "# Milstein\n",
    "\n",
    "errors_Mils = []\n",
    "for dt in timesteps:\n",
    "    t_exit_Mils, tmean_Mils, tstd_Mils, cileft_Mils, ciright_Mils = em_milstein.compute_MHT_Milstein(X0=X0,dt=dt,num_itr=num_itr, f=f, g=g, dg=dg, lower_b=lower_b,upper_b=upper_b)\n",
    "    errors_Mils.append(abs(tmean_Mils - exact_MHT))\n",
    "    \n",
    "    \n",
    "print('-----Misltein Method-----')\n",
    "print('Mean:{}, std:{}, Confidence Interval: ({},{})'.format(tmean_Mils, tstd_Mils, cileft_Mils, ciright_Mils))\n"
   ]
  },
  {
   "cell_type": "code",
   "execution_count": null,
   "metadata": {},
   "outputs": [],
   "source": [
    "errors_Mils"
   ]
  },
  {
   "cell_type": "markdown",
   "metadata": {},
   "source": [
    "####  EXPONENTIAL-V TIMESTEPPING WITH BOUNDARY TEST FOR SDEs"
   ]
  },
  {
   "cell_type": "markdown",
   "metadata": {},
   "source": [
    "#### Euler-Maryama Boundary Check"
   ]
  },
  {
   "cell_type": "code",
   "execution_count": null,
   "metadata": {},
   "outputs": [],
   "source": [
    "# Euler-Maryama Boundary Check\n",
    "errors_Bound_EM = []\n",
    "for dt in timesteps:\n",
    "    t_exit_Bound_EM, tmean_Bound_EM, tstd_Bound_EM, cileft_Bound_EM, ciright_Bound_EM = euler_maryama_boundary_check.compute_MHT(X0=X0,dt=dt,num_itr=num_itr, f=f, g=g,df = df, lower_b=lower_b,upper_b=upper_b)\n",
    "    errors_Bound_EM.append(abs(tmean_Bound_EM - exact_MHT))\n",
    "    \n",
    "# print('-----Euler Method With Boundary Check-----')\n",
    "# print('Mean:{}, std:{}, Confidence Interval: ({},{})'.format(tmean_Bound_EM, tstd_Bound_EM, cileft_Bound_EM, ciright_Bound_EM))\n"
   ]
  },
  {
   "cell_type": "code",
   "execution_count": null,
   "metadata": {},
   "outputs": [],
   "source": [
    "errors_Bound_EM"
   ]
  },
  {
   "cell_type": "markdown",
   "metadata": {},
   "source": [
    "#### Adaptive Timestep-Euler-Maruyama"
   ]
  },
  {
   "cell_type": "code",
   "execution_count": null,
   "metadata": {
    "scrolled": true
   },
   "outputs": [],
   "source": [
    "# Adaptive Euler Maryama\n",
    "errors_Adaptive_EM = []\n",
    "for dt in timesteps:\n",
    "    t_exit_Adapt_EM, tmean_Adapt_EM, tstd_Adapt_EM, cileft_Adapt_EM, ciright_Adapt_EM = adaptive_timestep.compute_MHT_EM(X0=X0,dt=dt,num_itr=num_itr, f=f, g=g,lower_b=lower_b,upper_b=upper_b)\n",
    "    errors_Adaptive_EM.append(abs(tmean_Adapt_EM - exact_MHT))\n",
    "    \n",
    "print('-----Adaptive Euler Method-----')\n",
    "print('Mean:{}, std:{}, Confidence Interval: ({},{})'.format(tmean_Adapt_EM, tstd_Adapt_EM, cileft_Adapt_EM, ciright_Adapt_EM))\n"
   ]
  },
  {
   "cell_type": "code",
   "execution_count": null,
   "metadata": {
    "scrolled": true
   },
   "outputs": [],
   "source": [
    "errors_Adaptive_EM"
   ]
  },
  {
   "cell_type": "markdown",
   "metadata": {},
   "source": [
    "#### Adaptive Timestep-Milstein"
   ]
  },
  {
   "cell_type": "code",
   "execution_count": null,
   "metadata": {},
   "outputs": [],
   "source": [
    "# Adaptive Milstein\n",
    "errors_Adaptive_Mils = []\n",
    "for dt in timesteps:\n",
    "    t_exit_Adapt_Mils, tmean_Adapt_Mils, tstd_Adapt_Mils, cileft_Adapt_Mils, ciright_Adapt_Mils = adaptive_timestep.compute_MHT_Mils(X0=X0,dt=dt,num_itr=num_itr, f=f, g=g, dg=dg, lower_b=lower_b,upper_b=upper_b)\n",
    "    errors_Adaptive_Mils.append(abs(tmean_Adapt_Mils-exact_MHT))\n",
    "    \n",
    "print('-----Adaptive Milstein Method-----')\n",
    "print('Mean:{}, std:{}, Confidence Interval: ({},{})'.format(tmean_Adapt_Mils, tstd_Adapt_Mils, cileft_Adapt_Mils, ciright_Adapt_Mils))\n"
   ]
  },
  {
   "cell_type": "code",
   "execution_count": null,
   "metadata": {},
   "outputs": [],
   "source": []
  },
  {
   "cell_type": "code",
   "execution_count": null,
   "metadata": {},
   "outputs": [],
   "source": []
  },
  {
   "cell_type": "code",
   "execution_count": null,
   "metadata": {},
   "outputs": [],
   "source": [
    "errors_EM=[0.09719660000005703,0.2283668000000052,0.21662539999995278,0.2532679999999967,0.2381585000000097,0.3748719999999892,0.3756169000000149,0.32637379999999183,0.4437472000000078,0.5020699999999962]\n",
    "\n",
    "errors_Mils=[0.035453400000014845,0.1833452000000051,0.25908109999995244,0.28903259999999786,0.36226850000001143,\n",
    " 0.405856799999988,\n",
    " 0.4327880000000146,\n",
    " 0.507013999999991,\n",
    " 0.4453225000000103,\n",
    " 0.5406599999999973]\n",
    "\n",
    "errors_Adaptive_EM=[0.016711633831973494,0.0650609576277672,0.009825959994827826,0.07183287708795572,0.28791247144878884,\n",
    " 0.1489495272753123,\n",
    " 0.03880192733936205,\n",
    " 0.18294920698114225,\n",
    " 0.09212372109582656,\n",
    " 0.14587050568613513]\n",
    "\n",
    "\n",
    "errors_Adaptive_Mils=[0.05494701674389102,0.19804792771680546,0.07669036730320133,0.13728603174044451,\n",
    " 0.16637950944741675,\n",
    " 0.09914370613890355,\n",
    " 0.08736576230858262,\n",
    " 0.1733631024227078,\n",
    " 0.19487492417158148,\n",
    " 0.19215151089674087]"
   ]
  },
  {
   "cell_type": "code",
   "execution_count": null,
   "metadata": {},
   "outputs": [],
   "source": [
    "plt.loglog(timesteps, errors_EM,marker='o', label='Euler-Maryama' )\n",
    "plt.loglog(timesteps, errors_Mils, marker='*', label='Milstein')\n",
    "plt.loglog(timesteps, errors_Adaptive_EM2, marker='+', label='Adaptive-Euler')\n",
    "plt.loglog(timesteps, errors_Adaptive_Mils, marker='.', label='Adaptive-Milstein')\n",
    "plt.ylabel('Error', fontsize=15)\n",
    "plt.xlabel('$dt$', fontsize=15)\n",
    "plt.title('Adapting Timestepping for Asset Price SDE')\n",
    "plt.legend(loc='best')\n",
    "plt.savefig('errors-loglog2.png')"
   ]
  },
  {
   "cell_type": "code",
   "execution_count": null,
   "metadata": {},
   "outputs": [],
   "source": []
  }
 ],
 "metadata": {
  "kernelspec": {
   "display_name": "Python 3",
   "language": "python",
   "name": "python3"
  },
  "language_info": {
   "codemirror_mode": {
    "name": "ipython",
    "version": 3
   },
   "file_extension": ".py",
   "mimetype": "text/x-python",
   "name": "python",
   "nbconvert_exporter": "python",
   "pygments_lexer": "ipython3",
   "version": "3.6.8"
  }
 },
 "nbformat": 4,
 "nbformat_minor": 2
}
