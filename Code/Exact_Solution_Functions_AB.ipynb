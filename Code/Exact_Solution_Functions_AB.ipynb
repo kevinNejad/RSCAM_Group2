{
 "cells": [
  {
   "cell_type": "code",
   "execution_count": 1,
   "metadata": {},
   "outputs": [],
   "source": [
    " def u(x):\n",
    "        '''An exact solution for the case f(x) = mu*x, g(x) = sigma*x'''\n",
    "        return ((np.log(x/a)- ((1-(x/a)**(1-2*mu/sigma**2))/(1-(b/a)**(1-2*mu/sigma**2)))*np.log(b/a))/(0.5*sigma**2-mu))\n"
   ]
  },
  {
   "cell_type": "code",
   "execution_count": 3,
   "metadata": {},
   "outputs": [],
   "source": [
    "import scipy.integrate as integrate\n",
    "import numpy as np\n",
    "import time\n",
    "import matplotlib.pyplot as plt\n",
    "\n",
    "def GeometricMHT(mu,sigma,a,b,x0):\n",
    "    '''a and b are lower and upper boundaries, x0 is initial condition'''\n",
    "    def f(x):\n",
    "        '''Set the f(x) function for the SDE'''\n",
    "        return mu*x\n",
    "\n",
    "    def g(x):\n",
    "        '''Set the g(x) function for the SDE'''\n",
    "        return sigma*x\n",
    "\n",
    "    def MET_ODE(x,y):\n",
    "        '''This vectorises the 2nd order ODE for Mean Exit Times'''\n",
    "        #I tried to define this so that it takes f and g as inputs, but couldn't get this to then work with the ODE solver\n",
    "        y1,y2 = y\n",
    "        y1dot = y2\n",
    "        y2dot = -2*(1 + f(x)*y2)/(g(x)**2)\n",
    "        return np.array([y1dot,y2dot])\n",
    "\n",
    "\n",
    "    def bc(ya, yb):\n",
    "        return np.array([ya[0], yb[0]])\n",
    "    \n",
    "    \n",
    "#         mu=0.1    example inputs\n",
    "#         sigma=0.2\n",
    "#         a=0.5\n",
    "#         b=2\n",
    "\n",
    "\n",
    "    x = np.linspace(a,b,30)\n",
    "    y_b = np.zeros((2,x.size))\n",
    "    \n",
    "    res = integrate.solve_bvp(MET_ODE, bc, x, y_b, max_nodes=1000, tol=1e-9)\n",
    "\n",
    "    return res.sol(x0)[0]\n",
    "\n"
   ]
  },
  {
   "cell_type": "code",
   "execution_count": 6,
   "metadata": {},
   "outputs": [
    {
     "data": {
      "text/plain": [
       "0.6301594598384876"
      ]
     },
     "execution_count": 6,
     "metadata": {},
     "output_type": "execute_result"
    }
   ],
   "source": [
    "def sqrtMHT(mu,sigma,lamb,a,b,x0):\n",
    "    '''a and b are upper and lower boundaries, x0 is starting point'''\n",
    "    def f(x):\n",
    "        return lamb*(mu-x)\n",
    "    def g(x):\n",
    "        return sigma*np.sqrt(abs(x))\n",
    "    \n",
    "    def MET_ODE(x,y):\n",
    "        '''This vectorises the 2nd order ODE for Mean Exit Times'''\n",
    "        y1,y2 = y\n",
    "        y1dot = y2\n",
    "        y2dot = -2*(1 + f(x)*y2)/(g(x)**2)\n",
    "        return np.array([y1dot,y2dot])\n",
    "    \n",
    "    def bc(ya, yb):\n",
    "        return np.array([ya[0], yb[0]])\n",
    "\n",
    "\n",
    "#     lamb = 1    example inputs\n",
    "#     mu = 0.5\n",
    "#     sigma = 0.3\n",
    "#     a,b=1,2\n",
    "\n",
    "    x = np.linspace(a,b,30)\n",
    "    y_b = np.zeros((2,x.size))\n",
    "    \n",
    "    res = integrate.solve_bvp(MET_ODE, bc, x, y_b, max_nodes=1000, tol=1e-9)\n",
    "    return res.sol(x0)[0]\n",
    "\n",
    "sqrtMHT(0.5,0.3,1,1,2,1.5)"
   ]
  },
  {
   "cell_type": "code",
   "execution_count": 9,
   "metadata": {},
   "outputs": [],
   "source": [
    "def DoubleWellMHT(sigma,a,b,x0):\n",
    "    def f(x):\n",
    "        return -8*x +12*x**2 -4*x**3 \n",
    "\n",
    "    def g(x):\n",
    "        return sigma\n",
    "    \n",
    "    def MET_ODE(x,y):\n",
    "        '''This vectorises the 2nd order ODE for Mean Exit Times'''\n",
    "        y1,y2 = y\n",
    "        y1dot = y2\n",
    "        y2dot = -2*(1 + f(x)*y2)/(g(x)**2)\n",
    "        return np.array([y1dot,y2dot])\n",
    "    \n",
    "    def bc(ya, yb):\n",
    "        return np.array([ya[0], yb[0]])\n",
    "\n",
    "    x = np.linspace(a,b,5)\n",
    "    y_b = np.zeros((2,x.size))\n",
    "\n",
    "\n",
    "#         sigma=2      example inputs\n",
    "#         a=-3\n",
    "#         b=1\n",
    "\n",
    "\n",
    "    res = integrate.solve_bvp(MET_ODE, bc, x, y_b, max_nodes=10000, tol=1e-9)\n",
    "    return res.sol(x0)[0]\n"
   ]
  },
  {
   "cell_type": "code",
   "execution_count": 10,
   "metadata": {},
   "outputs": [
    {
     "data": {
      "text/plain": [
       "2.1025054746555725"
      ]
     },
     "execution_count": 10,
     "metadata": {},
     "output_type": "execute_result"
    }
   ],
   "source": [
    "DoubleWellMHT(sigma=1,a=-0.5,b=1.5,x0=0.25)"
   ]
  },
  {
   "cell_type": "code",
   "execution_count": 5,
   "metadata": {},
   "outputs": [],
   "source": [
    "def AssetPriceMHT(mu, sigma, lamb, a, b, x0):\n",
    "    def f(x):\n",
    "        return lamb*(mu-x)\n",
    "\n",
    "    def g(x):\n",
    "        return sigma * np.sqrt(abs(x))\n",
    "    \n",
    "    def MET_ODE(x,y):\n",
    "        '''This vectorises the 2nd order ODE for Mean Exit Times'''\n",
    "        y1,y2 = y\n",
    "        y1dot = y2\n",
    "        y2dot = -2*(1 + f(x)*y2)/(g(x)**2)\n",
    "        return np.array([y1dot,y2dot])\n",
    "    \n",
    "    def bc(ya, yb):\n",
    "        return np.array([ya[0], yb[0]])\n",
    "\n",
    "    x = np.linspace(a,b,5)\n",
    "    y_b = np.zeros((2,x.size))\n",
    "    \n",
    "    \n",
    "#         lamb = 1      #Example inputs\n",
    "#         mu, sigma = 0.5, 0.3\n",
    "#         a, b = 1, 2 #Set end points\n",
    "    res = integrate.solve_bvp(MET_ODE, bc, x, y_b, max_nodes=10000, tol=1e-9)\n",
    "    return res.sol(x0)[0]\n"
   ]
  },
  {
   "cell_type": "code",
   "execution_count": 17,
   "metadata": {},
   "outputs": [],
   "source": [
    "def OpinionPollMHT(mu,sigma,a,b,x0):\n",
    "    def f(x):\n",
    "        return -mu*(x/(1-x**2))\n",
    "\n",
    "    def g(x):\n",
    "        return sigma\n",
    "\n",
    "#         mu, sigma = 0.5, 0.3\n",
    "#         a, b = -0.5, 0.5 #Set end points\n",
    "\n",
    "    def MET_ODE(x,y):\n",
    "        '''This vectorises the 2nd order ODE for Mean Exit Times'''\n",
    "        y1,y2 = y\n",
    "        y1dot = y2\n",
    "        y2dot = -2*(1 + f(x)*y2)/(g(x)**2)\n",
    "        return np.array([y1dot,y2dot])\n",
    "    \n",
    "    def bc(ya, yb):\n",
    "        return np.array([ya[0], yb[0]])\n",
    "\n",
    "    x = np.linspace(a,b,5)\n",
    "    y_b = np.zeros((2,x.size))\n",
    "    \n",
    "    res = integrate.solve_bvp(MET_ODE, bc, x, y_b, max_nodes=10000, tol=1e-9)\n",
    "    return res.sol(x0)[0]\n"
   ]
  },
  {
   "cell_type": "code",
   "execution_count": 42,
   "metadata": {},
   "outputs": [
    {
     "data": {
      "text/plain": [
       "70.54412794247519"
      ]
     },
     "execution_count": 42,
     "metadata": {},
     "output_type": "execute_result"
    }
   ],
   "source": [
    "OpinionPollMHT(mu=1,sigma=0.2,a=-0.4,b=0.9,x0=0.4)"
   ]
  },
  {
   "cell_type": "code",
   "execution_count": 15,
   "metadata": {},
   "outputs": [],
   "source": [
    "def PopulationDynamicsMHT(r,K,beta,a,b,x0):\n",
    "    def f(x):\n",
    "        return r*x*(K-x)\n",
    "\n",
    "    def g(x):\n",
    "        return beta*x\n",
    "\n",
    "#         r = 1 EXAMPLE INPUTS\n",
    "#         K = 1\n",
    "#         beta = 1\n",
    "#         a,b = 1,10\n",
    "    x = np.linspace(a,b,30)\n",
    "    y = np.zeros((2,x.size))\n",
    "    \n",
    "    def MET_ODE(x,y):\n",
    "        '''This vectorises the 2nd order ODE for Mean Exit Times'''\n",
    "        y1,y2 = y\n",
    "        y1dot = y2\n",
    "        y2dot = -2*(1 + f(x)*y2)/(g(x)**2)\n",
    "        return np.array([y1dot,y2dot])\n",
    "    \n",
    "    def bc(ya, yb):\n",
    "        return np.array([ya[0], yb[0]])\n",
    "    \n",
    "    res = integrate.solve_bvp(MET_ODE, bc, x, y_b, max_nodes=10000, tol=1e-9)\n",
    "    return res.sol(x0)[0]\n"
   ]
  },
  {
   "cell_type": "code",
   "execution_count": 16,
   "metadata": {},
   "outputs": [
    {
     "ename": "NameError",
     "evalue": "name 'y_b' is not defined",
     "output_type": "error",
     "traceback": [
      "\u001b[0;31m---------------------------------------------------------------------------\u001b[0m",
      "\u001b[0;31mNameError\u001b[0m                                 Traceback (most recent call last)",
      "\u001b[0;32m<ipython-input-16-50b9cb6afcb9>\u001b[0m in \u001b[0;36m<module>\u001b[0;34m\u001b[0m\n\u001b[0;32m----> 1\u001b[0;31m \u001b[0mPopulationDynamicsMHT\u001b[0m\u001b[0;34m(\u001b[0m\u001b[0mr\u001b[0m\u001b[0;34m=\u001b[0m\u001b[0;36m1\u001b[0m\u001b[0;34m,\u001b[0m\u001b[0mK\u001b[0m\u001b[0;34m=\u001b[0m\u001b[0;36m1\u001b[0m\u001b[0;34m,\u001b[0m \u001b[0mbeta\u001b[0m\u001b[0;34m=\u001b[0m\u001b[0;36m1\u001b[0m\u001b[0;34m,\u001b[0m \u001b[0ma\u001b[0m\u001b[0;34m=\u001b[0m\u001b[0;36m1\u001b[0m\u001b[0;34m,\u001b[0m\u001b[0mb\u001b[0m\u001b[0;34m=\u001b[0m\u001b[0;36m10\u001b[0m\u001b[0;34m,\u001b[0m\u001b[0mx0\u001b[0m\u001b[0;34m=\u001b[0m\u001b[0;36m9.95\u001b[0m\u001b[0;34m)\u001b[0m\u001b[0;34m\u001b[0m\u001b[0;34m\u001b[0m\u001b[0m\n\u001b[0m",
      "\u001b[0;32m<ipython-input-15-c3287427aa41>\u001b[0m in \u001b[0;36mPopulationDynamicsMHT\u001b[0;34m(r, K, beta, a, b, x0)\u001b[0m\n\u001b[1;32m     23\u001b[0m         \u001b[0;32mreturn\u001b[0m \u001b[0mnp\u001b[0m\u001b[0;34m.\u001b[0m\u001b[0marray\u001b[0m\u001b[0;34m(\u001b[0m\u001b[0;34m[\u001b[0m\u001b[0mya\u001b[0m\u001b[0;34m[\u001b[0m\u001b[0;36m0\u001b[0m\u001b[0;34m]\u001b[0m\u001b[0;34m,\u001b[0m \u001b[0myb\u001b[0m\u001b[0;34m[\u001b[0m\u001b[0;36m0\u001b[0m\u001b[0;34m]\u001b[0m\u001b[0;34m]\u001b[0m\u001b[0;34m)\u001b[0m\u001b[0;34m\u001b[0m\u001b[0;34m\u001b[0m\u001b[0m\n\u001b[1;32m     24\u001b[0m \u001b[0;34m\u001b[0m\u001b[0m\n\u001b[0;32m---> 25\u001b[0;31m     \u001b[0mres\u001b[0m \u001b[0;34m=\u001b[0m \u001b[0mintegrate\u001b[0m\u001b[0;34m.\u001b[0m\u001b[0msolve_bvp\u001b[0m\u001b[0;34m(\u001b[0m\u001b[0mMET_ODE\u001b[0m\u001b[0;34m,\u001b[0m \u001b[0mbc\u001b[0m\u001b[0;34m,\u001b[0m \u001b[0mx\u001b[0m\u001b[0;34m,\u001b[0m \u001b[0my_b\u001b[0m\u001b[0;34m,\u001b[0m \u001b[0mmax_nodes\u001b[0m\u001b[0;34m=\u001b[0m\u001b[0;36m10000\u001b[0m\u001b[0;34m,\u001b[0m \u001b[0mtol\u001b[0m\u001b[0;34m=\u001b[0m\u001b[0;36m1e-9\u001b[0m\u001b[0;34m)\u001b[0m\u001b[0;34m\u001b[0m\u001b[0;34m\u001b[0m\u001b[0m\n\u001b[0m\u001b[1;32m     26\u001b[0m     \u001b[0;32mreturn\u001b[0m \u001b[0mres\u001b[0m\u001b[0;34m.\u001b[0m\u001b[0msol\u001b[0m\u001b[0;34m(\u001b[0m\u001b[0mx0\u001b[0m\u001b[0;34m)\u001b[0m\u001b[0;34m[\u001b[0m\u001b[0;36m0\u001b[0m\u001b[0;34m]\u001b[0m\u001b[0;34m\u001b[0m\u001b[0;34m\u001b[0m\u001b[0m\n",
      "\u001b[0;31mNameError\u001b[0m: name 'y_b' is not defined"
     ]
    }
   ],
   "source": [
    "PopulationDynamicsMHT(r=1,K=1, beta=1, a=1,b=10,x0=9.95)"
   ]
  },
  {
   "cell_type": "code",
   "execution_count": 4,
   "metadata": {},
   "outputs": [],
   "source": [
    "def EpidemicModelMHT(p,B,beta0,rho,alpha,C,a,b,x0):\n",
    "    def f(x):\n",
    "        p1 = (p-1)*B*x\n",
    "        p2 = (beta0*C - alpha)*(1-x)*x\n",
    "        return p1 + p2\n",
    "\n",
    "    def g(x):\n",
    "        return rho*C*(1-x)*x\n",
    "\n",
    "#         p = 0.4\n",
    "#         B = 1\n",
    "#         beta0 = 2\n",
    "#         rho = 1\n",
    "#         alpha = 1\n",
    "#         C = 1\n",
    "\n",
    "#         a,b = 0.1,0.9\n",
    "\n",
    "    def MET_ODE(x,y):\n",
    "        '''This vectorises the 2nd order ODE for Mean Exit Times'''\n",
    "        y1,y2 = y\n",
    "        y1dot = y2\n",
    "        y2dot = -2*(1 + f(x)*y2)/(g(x)**2)\n",
    "        return np.array([y1dot,y2dot])\n",
    "    \n",
    "    def bc(ya, yb):\n",
    "        return np.array([ya[0], yb[0]])\n",
    "\n",
    "    x = np.linspace(a,b,5)\n",
    "    y_b = np.zeros((2,x.size))\n",
    "    \n",
    "    res = integrate.solve_bvp(MET_ODE, bc, x, y_b, max_nodes=10000, tol=1e-9)\n",
    "    return res.sol(x0)[0]\n",
    "\n"
   ]
  },
  {
   "cell_type": "code",
   "execution_count": 5,
   "metadata": {},
   "outputs": [
    {
     "data": {
      "text/plain": [
       "0.1560854306593376"
      ]
     },
     "execution_count": 5,
     "metadata": {},
     "output_type": "execute_result"
    }
   ],
   "source": [
    "EpidemicModelMHT(p=10,B=1,beta0=2,rho=1,alpha=1,C=2,a=0.1,b=0.9,x0=0.13)"
   ]
  },
  {
   "cell_type": "code",
   "execution_count": 14,
   "metadata": {},
   "outputs": [],
   "source": [
    "def PoliticalOpinionsMHT(r,G,eps,a,b,x0):\n",
    "    def f(x):\n",
    "        return r*(G-x)\n",
    "\n",
    "    def g(x):\n",
    "        return np.sqrt(eps*x*(1-x))\n",
    "\n",
    "#         r = 1\n",
    "#         G = 0.3\n",
    "#         eps = 2\n",
    "#         a,b = 0.01,0.99\n",
    "\n",
    "\n",
    "    def MET_ODE(x,y):\n",
    "        '''This vectorises the 2nd order ODE for Mean Exit Times'''\n",
    "        y1,y2 = y\n",
    "        y1dot = y2\n",
    "        y2dot = -2*(1 + f(x)*y2)/(g(x)**2)\n",
    "        return np.array([y1dot,y2dot])\n",
    "    \n",
    "    def bc(ya, yb):\n",
    "        return np.array([ya[0], yb[0]])\n",
    "\n",
    "    x = np.linspace(a,b,5)\n",
    "    y_b = np.zeros((2,x.size))\n",
    "    \n",
    "    res = integrate.solve_bvp(MET_ODE, bc, x, y_b, max_nodes=10000, tol=1e-9)\n",
    "    return res.sol(x0)[0]\n"
   ]
  },
  {
   "cell_type": "code",
   "execution_count": 7,
   "metadata": {},
   "outputs": [
    {
     "ename": "ModuleNotFoundError",
     "evalue": "No module named 'Methods'",
     "output_type": "error",
     "traceback": [
      "\u001b[0;31m---------------------------------------------------------------------------\u001b[0m",
      "\u001b[0;31mModuleNotFoundError\u001b[0m                       Traceback (most recent call last)",
      "\u001b[0;32m<ipython-input-7-f8d0b3535558>\u001b[0m in \u001b[0;36m<module>\u001b[0;34m\u001b[0m\n\u001b[0;32m----> 1\u001b[0;31m \u001b[0;32mimport\u001b[0m \u001b[0mMethods\u001b[0m \u001b[0;32mas\u001b[0m \u001b[0mM\u001b[0m\u001b[0;34m\u001b[0m\u001b[0;34m\u001b[0m\u001b[0m\n\u001b[0m\u001b[1;32m      2\u001b[0m \u001b[0;32mimport\u001b[0m \u001b[0mSDEs\u001b[0m \u001b[0;32mas\u001b[0m \u001b[0mS\u001b[0m\u001b[0;34m\u001b[0m\u001b[0;34m\u001b[0m\u001b[0m\n\u001b[1;32m      3\u001b[0m \u001b[0;32mimport\u001b[0m \u001b[0mpickle\u001b[0m\u001b[0;34m\u001b[0m\u001b[0;34m\u001b[0m\u001b[0m\n\u001b[1;32m      4\u001b[0m \u001b[0;32mimport\u001b[0m \u001b[0mnumpy\u001b[0m \u001b[0;32mas\u001b[0m \u001b[0mnp\u001b[0m\u001b[0;34m\u001b[0m\u001b[0;34m\u001b[0m\u001b[0m\n\u001b[1;32m      5\u001b[0m \u001b[0;32mimport\u001b[0m \u001b[0mos\u001b[0m\u001b[0;34m\u001b[0m\u001b[0;34m\u001b[0m\u001b[0m\n",
      "\u001b[0;31mModuleNotFoundError\u001b[0m: No module named 'Methods'"
     ]
    }
   ],
   "source": []
  },
  {
   "cell_type": "code",
   "execution_count": null,
   "metadata": {},
   "outputs": [],
   "source": []
  }
 ],
 "metadata": {
  "kernelspec": {
   "display_name": "Python 3",
   "language": "python",
   "name": "python3"
  },
  "language_info": {
   "codemirror_mode": {
    "name": "ipython",
    "version": 3
   },
   "file_extension": ".py",
   "mimetype": "text/x-python",
   "name": "python",
   "nbconvert_exporter": "python",
   "pygments_lexer": "ipython3",
   "version": "3.6.8"
  }
 },
 "nbformat": 4,
 "nbformat_minor": 2
}
