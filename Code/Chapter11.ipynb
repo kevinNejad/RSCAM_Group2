{
 "cells": [
  {
   "cell_type": "code",
   "execution_count": 1,
   "metadata": {},
   "outputs": [],
   "source": [
    "import numpy as np\n",
    "import matplotlib.pyplot as plt\n",
    "from tqdm import tqdm"
   ]
  },
  {
   "cell_type": "markdown",
   "metadata": {},
   "source": [
    "# Monto Carlo for Mean Exit Time\n",
    "1. Choose step size $\\Delta t$\n",
    "2. Choose a number of paths, M\n",
    "\n",
    "```Python\n",
    "for s = 1 to M: \n",
    "        set t_n=0 and X_n=X_0\n",
    "        While X_n > a and X_n < b:\n",
    "            eps_n = N(0,1)\n",
    "            X_n = X_n + delta_t f(X_n) + sqrt(delta_t) * eps_n * g(X_n)\n",
    "            t_n = t_n + delta_t\n",
    "        T_exit = t_n - 0.5*delta_t\n",
    "a_M = (1/M)* sum(T_exit)\n",
    "b2_M = (1/M-1)*sum(T_exit - a_M)**2```"
   ]
  },
  {
   "cell_type": "markdown",
   "metadata": {},
   "source": [
    "## Sources of error \n",
    "1. Sampling error arising from approximation of an expected value by sample mean \n",
    "2. Discritisation error\n",
    "3. Risk of missing exit point within an interval $t_{i} < t < t_{i+1}$"
   ]
  },
  {
   "cell_type": "markdown",
   "metadata": {},
   "source": [
    "Solutions:\n",
    "1. Adaptive timesteps\n",
    "2. After each step, calculate the probability that an exit was missed. Then draw from a uniform (0, 1) random number generator in order to decide whether to record an exit.\n",
    "3. Use random stepsizes from a suitable exponential distribution."
   ]
  },
  {
   "cell_type": "code",
   "execution_count": 438,
   "metadata": {},
   "outputs": [],
   "source": [
    "class AdaptiveTimestep:\n",
    "    \"\"\"\n",
    "    The class that contains methods for adaptive timesteps\n",
    "    \"\"\"\n",
    "    def __init__(self):\n",
    "        pass\n",
    "    \n",
    "    # TODO: Need tp update number of iterations accordingly\n",
    "    # TODO: Stop process when hit the boundaries\n",
    "    # Tanh is not appropriate for process which changes are very small and initial value is close to the boundareis\n",
    "    # TODO: choice of distance function must be based on the stochastic process (how fast they change along y-axis in 1D)\n",
    "    # The adaption can be calibrated by sampling from process to examine rate of change (learn the apdation)\n",
    "    # Use Interative method to find the exact hitting time after crossing a boundary rather than taking average\n",
    "    # TODO: Store value of timesteps and add visualisation of how timesteps chenage according to the value of function\n",
    "    def naive_adaption(self, LB, UB, dt, x):\n",
    "        \"\"\"\n",
    "        A naive method to adapt timestep based on the distance to the boundaries\n",
    "        \"\"\"\n",
    "        epsilon = 1e-10\n",
    "        dist = min(abs(x - LB), abs(x - UB))\n",
    "        dt_new = (abs(np.tanh(dist))+epsilon) * dt\n",
    "        return dt_new\n",
    "    \n",
    "    def kev_method(self, LB, UB, x, f, g, dt):\n",
    "        y = np.sqrt(dt)\n",
    "        kev_coeff = 1.96 # 95% credible interval of gaussian distribution\n",
    "        min_dt = 0.000001\n",
    "\n",
    "        cond1 = (LB-x)/f(x) + (kev_coeff*g(x)/(2*f(x)))**2\n",
    "        cond2 = (UB-x)/f(x) + (kev_coeff*g(x)/(2*f(x)))**2\n",
    "        \n",
    "        if cond1 < 0 and cond2 < 0:\n",
    "            print('Current values:')\n",
    "            print('Cond1:', cond1)\n",
    "            print('Cond2:', cond2)\n",
    "            print('X:', x)\n",
    "            assert('No Condition is satisfied')\n",
    "            \n",
    "        elif cond1 < 0:\n",
    "            y = min(np.sqrt(cond2) + kev_coeff*g(x)/(2*f(x)), np.sqrt(cond2) - kev_coeff*g(x)/(2*f(x)))\n",
    "        elif cond2 < 0:\n",
    "            y = min(-np.sqrt(cond1) + kev_coeff*g(x)/(2*f(x)), -np.sqrt(cond1) - kev_coeff*g(x)/(2*f(x)))\n",
    "        else:\n",
    "            y = min(np.sqrt(cond2) + kev_coeff*g(x)/(2*f(x)), np.sqrt(cond2) - kev_coeff*g(x)/(2*f(x)),-np.sqrt(cond1) + kev_coeff*g(x)/(2*f(x)), -np.sqrt(cond1) - kev_coeff*g(x)/(2*f(x)) )\n",
    "        \n",
    "        return min(dt, max(y**2,min_dt ))"
   ]
  },
  {
   "cell_type": "markdown",
   "metadata": {},
   "source": [
    "## Mean exit time for deterministic ODE ($dX_{t} = f(X_{t})dt + g(X(t))dW(t), X(0) = X_{0}$)\n",
    "$u(x)$ denotes $T_{exit}^{mean}$\n",
    "$$\\frac{1}{2}g^2(x)\\frac{d^{2}u}{dx^{2}} + f(x)\\frac{du}{dx}=-1$$\n",
    "$$u(a) = u(b) = b$$"
   ]
  },
  {
   "cell_type": "markdown",
   "metadata": {},
   "source": [
    "## Example (Asset Prices) ($f(x) = \\mu X, g(x) = \\sigma X$)\n",
    "$$X_{t} = \\mu X dt + \\sigma X dW \\qquad 0 < a < X_{0} < b$$\n",
    "We are interested in expected value of the first time that the asset either dips below the lower bound a or rises above the upper bound b.\n",
    "The analystical solution for mean exit time can e computed by  solving the following ODE:\n",
    "$$\\frac{1}{2}\\sigma^{2}x^{2}\\frac{d^{2}x}{dx^{2}} + \\mu x \\frac{du}{dx} = -1 \\qquad a < x< b and u(a) = u(b) = 0$$\n",
    "$$u(x) = \\frac{1}{\\frac{1}{2}\\sigma^{2}-\\mu} \\left( log(\\frac{x}{a})- \\frac{1 - (x/a)^{1-2 \\mu/\\sigma^{2}}}{1 - (b/a)^{1-2\\mu / \\sigma^{2}}}log(b/a)\\right) $$"
   ]
  },
  {
   "cell_type": "code",
   "execution_count": 439,
   "metadata": {},
   "outputs": [
    {
     "data": {
      "text/plain": [
       "19"
      ]
     },
     "execution_count": 439,
     "metadata": {},
     "output_type": "execute_result"
    }
   ],
   "source": [
    "r = [] + [10]\n",
    "r = r + [3]\n",
    "r = r + [19]\n",
    "r[-1]"
   ]
  },
  {
   "cell_type": "code",
   "execution_count": 452,
   "metadata": {},
   "outputs": [],
   "source": [
    "import random\n",
    "class AssetPrice:\n",
    "    \"\"\"\n",
    "    This is a class for Asset Price ODE. \n",
    "    It contains methods for finding exact solution, plotting and exat mean hitting time.\n",
    "    Arguments:\n",
    "    a: Lower bound\n",
    "    b: Upper bound\n",
    "    mu: mu\n",
    "    sigma: sigma\n",
    "    \"\"\"\n",
    "    def __init__(self, a, b, mu, sigma):\n",
    "        self.a = a\n",
    "        self.b = b\n",
    "        self.mu = mu\n",
    "        self.sigma = sigma\n",
    "        \n",
    "    def f(self,x):\n",
    "        \"\"\"\n",
    "        Function of f(x) in asset price stochastic differential equation (deterministic part)\n",
    "        \"\"\"\n",
    "        return self.mu * x\n",
    "    \n",
    "    def g(self,x):\n",
    "        \"\"\"\n",
    "        Function of g(x) in asset price stochastic differential equation (stochastic part)\n",
    "        \"\"\"\n",
    "        return self.sigma * x\n",
    "  \n",
    "    def MHT_Xt_exact(self,X0,dt,npaths, adaptive= False):\n",
    "        \"\"\"\n",
    "        Methods that return mean hitting time of X(t)\n",
    "        \n",
    "        Arguments:\n",
    "        X0: Initial value\n",
    "        dt: timestep\n",
    "        \n",
    "        Return: List containing Mean, STD, Confidence interval Left, Confidence interval Right\n",
    "        \"\"\"\n",
    "        \n",
    "        sigma = self.sigma; mu = self.mu\n",
    "        exit_time = np.zeros(npaths)\n",
    "        # TODO: Add threshold for situation when the loop goes forever\n",
    "        for i in tqdm(range(npaths)):\n",
    "            X = X0\n",
    "            t = 0\n",
    "            while X > self.a and X < self.b:\n",
    "                dW = np.sqrt(dt) * np.random.randn()\n",
    "                X = X*np.exp( (mu - 0.5*sigma**2)*dt + sigma*dW)\n",
    "                t += dt\n",
    "            \n",
    "            exit_time[i] = t - 0.5*dt\n",
    "            \n",
    "        tmean = np.mean(exit_time)\n",
    "        tstd = np.std(exit_time)\n",
    "\n",
    "        cileft = tmean - 1.96*tstd/np.sqrt(npaths)\n",
    "        ciright = tmean + 1.96*tstd/np.sqrt(npaths)\n",
    "        \n",
    "        return tmean, tstd, cileft, ciright\n",
    "    \n",
    "    def MHT_EM(self,X0,dt,npaths, adaptive= False):\n",
    "        \"\"\"\n",
    "        Method that approxiamte a solution using Euler-Maruyama method\n",
    "        \n",
    "        Arguments:\n",
    "        f: F(x)\n",
    "        g: g(x)\n",
    "        \n",
    "        Return: List containing Mean, STD, Confidence interval Left, Confidence interval Right\n",
    "        \"\"\"\n",
    "        sigma = self.sigma; mu = self.mu\n",
    "        # TODO: Add threshold for situation when the loop goes forever\n",
    "        exit_time = np.zeros(npaths)\n",
    "        \n",
    "        if adaptive:\n",
    "            AdaptiveT = AdaptiveTimestep()\n",
    "            for i in tqdm(range(npaths)):\n",
    "                X = X0\n",
    "                t = 0\n",
    "                while X > self.a and X < self.b:\n",
    "                    dt_new_EM = AdaptiveT.kev_method(LB=self.a, UB=self.b, x=X, f=self.f, g=self.g, dt=dt)\n",
    "                    dW = np.sqrt(dt_new_EM)*np.random.randn()\n",
    "                    X = X + dt_new_EM*self.f(X) + self.g(X)*dW\n",
    "                    t += dt_new_EM\n",
    "\n",
    "                exit_time[i] = t - 0.5*dt\n",
    "            \n",
    "        else:\n",
    "            for i in tqdm(range(npaths)):\n",
    "                X = X0\n",
    "                t = 0\n",
    "                while X > self.a and X < self.b:\n",
    "                    dW = np.sqrt(dt) * np.random.randn()\n",
    "                    X = X + dt*self.f(X) + self.g(X)*dW\n",
    "                    t += dt\n",
    "\n",
    "                exit_time[i] = t - 0.5*dt\n",
    "            \n",
    "        \n",
    "            \n",
    "        tmean = np.mean(exit_time)\n",
    "        tstd = np.std(exit_time)\n",
    "\n",
    "        cileft = tmean - 1.96*tstd/np.sqrt(npaths)\n",
    "        ciright = tmean + 1.96*tstd/np.sqrt(npaths)\n",
    "        \n",
    "        return tmean, tstd, cileft, ciright\n",
    "    \n",
    "    def MHT_Milstein(self,X0,dt,npaths, adaptive= False):\n",
    "        \"\"\"\n",
    "        Method that approxiamte a solution using Euler-Maruyama method\n",
    "        \n",
    "        Arguments:\n",
    "        f: F(x)\n",
    "        g: g(x)\n",
    "        \n",
    "        Return: List containing Mean, STD, Confidence interval Left, Confidence interval Right\n",
    "        \"\"\"\n",
    "        sigma = self.sigma; mu = self.mu\n",
    "        # TODO: Add threshold for situation when the loop goes forever\n",
    "        exit_time = np.zeros(npaths)\n",
    "        for i in tqdm(range(npaths)):\n",
    "            X = X0\n",
    "            t = 0\n",
    "            while X > self.a and X < self.b:\n",
    "                dW = np.sqrt(dt) * np.random.randn()\n",
    "                X = X + dt*self.f(X) + self.g(X)*dW + 0.5 * self.g(X)*sigma*(dW**2 - dt)\n",
    "                t += dt\n",
    "            \n",
    "            exit_time[i] = t - 0.5*dt\n",
    "            \n",
    "        tmean = np.mean(exit_time)\n",
    "        tstd = np.std(exit_time)\n",
    "\n",
    "        cileft = tmean - 1.96*tstd/np.sqrt(npaths)\n",
    "        ciright = tmean + 1.96*tstd/np.sqrt(npaths)\n",
    "        \n",
    "        return tmean, tstd, cileft, ciright\n",
    "    \n",
    "    \n",
    "    \n",
    "    def Ux(self,x):\n",
    "        \"\"\"\n",
    "        Method to return exact mean hitting time\n",
    "        \n",
    "        Arguments:\n",
    "        x: Path values (array)\n",
    "        \n",
    "        Return: Array containing exact mean hitting time for given initial values\n",
    "        \n",
    "        \"\"\"\n",
    "        c1 = 1/(0.5*self.sigma**2 - self.mu)\n",
    "        c2 = 1 - (x/self.a)**(1-2*self.mu/self.sigma**2)\n",
    "        c3 = 1 - (self.b/self.a)**(1-2*self.mu/self.sigma**2)\n",
    "        ux = (1/c1)*(np.log(x/self.a) - (c2/c3)*np.log(self.b/self.a))\n",
    "        return ux\n",
    "    \n",
    "    \n",
    "\n",
    "    def Asset_Price_Exact(self, a, b, mu, sigma, adaptive=False ):\n",
    "        \"\"\"\n",
    "        Method to compute the hitting times for M interations for Asset Price\n",
    "        \n",
    "        Arguments\n",
    "        a: Lower bound\n",
    "        b: Upper bound\n",
    "        mu: mu\n",
    "        sigma: sigma\n",
    "        \n",
    "        Return: Numpy array of hitting time for each iteration\n",
    "        \"\"\"\n",
    "        AP = AssetPrice(a=a, b=b, mu=mu, sigma=sigma)\n",
    "        AP_samples = np.zeros(self.M)\n",
    "        for t in tqdm(range(self.niter)):\n",
    "            AP_exact_sol = AP.Xt_exact(X0 = self.X0, duration = self.duration, dt = self.dt, adaptive=adaptive)\n",
    "            hit_time = np.where((AP_exact_sol <= a) | (AP_exact_sol >= b))[0]\n",
    "            hit_time = np.append(hit_time, int(1e10)) # Inf i.e never hit \n",
    "            AP_samples[t] = hit_time[0]*self.dt - 0.5*self.dt\n",
    "        return AP_samples\n",
    "    \n",
    "    def Xt_path(self,X0,duration,dt):\n",
    "        \"\"\"\n",
    "        Methods that return paths of X(t)\n",
    "        \n",
    "        Arguments:\n",
    "        X0: Initial value\n",
    "        duration: The duration for running process\n",
    "        dt: timestep\n",
    "        \n",
    "        Return: Array of a path\n",
    "        \"\"\"\n",
    "        \n",
    "        X_exact = [] + [X0]\n",
    "        X_EM = [] + [X0]\n",
    "        X_Mils = [] + [X0]\n",
    "        \n",
    "        \n",
    "        tsteps_EM_AT = []\n",
    "        X_EM_AT = [] + [X0]\n",
    "        \n",
    "         \n",
    "        timestamps1 = [] + [0]\n",
    "        timestamps2 = [] + [0]\n",
    "        AdaptiveT = AdaptiveTimestep()\n",
    "        \n",
    "        time_elapsed = 0\n",
    "        while time_elapsed < duration:\n",
    "            dW = np.sqrt(dt)*np.random.randn() # increments\n",
    "           \n",
    "            X_exact = X_exact + [X_exact[-1]*np.exp((self.mu - 0.5*self.sigma**2)*dt + self.sigma*dW)]\n",
    "            X_EM = X_EM + [X_EM[-1] + dt*self.f(X_EM[-1]) + self.g(X_EM[-1])*dW]\n",
    "            X_Mils = X_Mils + [X_Mils[-1] + dt*self.f(X_Mils[-1]) + self.g(X_Mils[-1])*dW + 0.5 * self.g(X_Mils[-1])*self.sigma*(dW**2 - dt)]\n",
    "            time_elapsed += dt\n",
    "            timestamps1 = timestamps1 + [time_elapsed]\n",
    "         \n",
    "        time_elapsed = 0\n",
    "        while time_elapsed < duration:\n",
    "            dt_new_EM = AdaptiveT.kev_method(LB=self.a, UB=self.b, x=X_EM_AT[-1], f=self.f, g=self.g, dt=dt)\n",
    "            dW = np.sqrt(dt_new_EM)*np.random.randn()\n",
    "            X_EM_AT = X_EM_AT + [X_EM_AT[-1] + dt_new_EM*self.f(X_EM_AT[-1]) + self.g(X_EM_AT[-1])*dW]\n",
    "            tsteps_EM_AT = tsteps_EM_AT + [dt_new_EM]\n",
    "            time_elapsed += dt_new_EM\n",
    "            timestamps2 = timestamps2 + [time_elapsed]\n",
    "                    \n",
    "                \n",
    "        return X_exact, X_EM, X_Mils, X_EM_AT, timestamps1, timestamps2\n",
    "\n",
    "    def _plot(self,X0,duration,dt):\n",
    "        \"\"\"\n",
    "        Method to plot a path\n",
    "        \n",
    "        Arguments:\n",
    "        X0: intial value\n",
    "        duration: The duration for running process\n",
    "        dt: timestep\n",
    "        \"\"\"\n",
    "        t = np.arange(0,duration,dt)\n",
    "\n",
    "        xt_exact, xt_EM, xt_Milstein, xt_EM_A, timestamps1, timestamps2 = self.Xt_path(X0,duration,dt)\n",
    "     \n",
    "        plt.figure(figsize=(20,10))\n",
    "#         plt.plot(timestamps1, xt_exact, color='green', label='Exact')\n",
    "#         plt.plot(timestamps1, xt_EM, color='purple', label='EM')\n",
    "#         plt.plot(timestamps1, xt_Milstein, color='orange', label='Milstein')\n",
    "        plt.plot(timestamps2, xt_EM_A,linestyle='dashed',color='purple', label='EM')\n",
    "        plt.xlabel('Time')\n",
    "        plt.ylabel('Stock Price')\n",
    "        plt.hlines(self.b, xmin=0, xmax=max(timestamps1), color='red', label='$b$')\n",
    "        plt.hlines(self.a,xmin=0, xmax=max(timestamps1), color='blue', label='$a$')\n",
    "        plt.title('Stock Price SDE')\n",
    "        plt.legend()"
   ]
  },
  {
   "cell_type": "code",
   "execution_count": 453,
   "metadata": {},
   "outputs": [
    {
     "name": "stdout",
     "output_type": "stream",
     "text": [
      "0.19185758751125542\n",
      "0.4068792148272058\n"
     ]
    }
   ],
   "source": [
    "random.seed(100)\n",
    "print(np.random.randn())\n",
    "print(np.random.randn())"
   ]
  },
  {
   "cell_type": "code",
   "execution_count": 454,
   "metadata": {},
   "outputs": [],
   "source": [
    "AssetPrice1 = AssetPrice(a=0.5, b=2, mu=0.1, sigma=0.2)"
   ]
  },
  {
   "cell_type": "code",
   "execution_count": 462,
   "metadata": {},
   "outputs": [
    {
     "data": {
      "image/png": "[encoded data removed]",
      "text/plain": [
       "<Figure size 1440x720 with 1 Axes>"
      ]
     },
     "metadata": {
      "needs_background": "light"
     },
     "output_type": "display_data"
    }
   ],
   "source": [
    "AssetPrice1._plot(X0 = 1,duration = 7, dt = 1)"
   ]
  },
  {
   "cell_type": "code",
   "execution_count": 463,
   "metadata": {},
   "outputs": [],
   "source": [
    "xVals = np.linspace(AssetPrice1.a, AssetPrice1.b, 1000)\n",
    "uVals = AssetPrice1.Ux(xVals)"
   ]
  },
  {
   "cell_type": "code",
   "execution_count": 464,
   "metadata": {},
   "outputs": [
    {
     "data": {
      "text/plain": [
       "<matplotlib.legend.Legend at 0x7f54734ab8d0>"
      ]
     },
     "execution_count": 464,
     "metadata": {},
     "output_type": "execute_result"
    },
    {
     "data": {
      "image/png": "[encoded data removed]",
      "text/plain": [
       "<Figure size 432x288 with 1 Axes>"
      ]
     },
     "metadata": {
      "needs_background": "light"
     },
     "output_type": "display_data"
    }
   ],
   "source": [
    "plt.plot(xVals, uVals, label='Mean Exit Time')\n",
    "plt.plot(0.76, AssetPrice1.Ux(0.76),'*', color='red', label='Peak')\n",
    "plt.xlabel('Initial X')\n",
    "plt.ylabel('$u(x)$')\n",
    "plt.title('The Mean Exit Time')\n",
    "plt.legend()"
   ]
  },
  {
   "cell_type": "code",
   "execution_count": 466,
   "metadata": {},
   "outputs": [],
   "source": [
    "AP1 = AssetPrice(a=0.5, b=2, mu=0.1, sigma=0.2)"
   ]
  },
  {
   "cell_type": "code",
   "execution_count": 467,
   "metadata": {},
   "outputs": [
    {
     "name": "stderr",
     "output_type": "stream",
     "text": [
      "100%|██████████| 50000/50000 [00:02<00:00, 22096.05it/s]\n"
     ]
    }
   ],
   "source": [
    "MHT_exact = AP1.MHT_Xt_exact(X0=1,dt=1,npaths=50000, adaptive= False)"
   ]
  },
  {
   "cell_type": "code",
   "execution_count": 468,
   "metadata": {},
   "outputs": [
    {
     "name": "stderr",
     "output_type": "stream",
     "text": [
      "100%|██████████| 50000/50000 [00:01<00:00, 28156.88it/s]\n"
     ]
    }
   ],
   "source": [
    "MHT_EM = AP1.MHT_EM(X0=1,dt=1,npaths=50000, adaptive= False)"
   ]
  },
  {
   "cell_type": "code",
   "execution_count": 469,
   "metadata": {},
   "outputs": [
    {
     "name": "stderr",
     "output_type": "stream",
     "text": [
      "100%|██████████| 50000/50000 [00:02<00:00, 18089.88it/s]\n"
     ]
    }
   ],
   "source": [
    "MHT_Mils = AP1.MHT_Milstein(X0=1,dt=1,npaths=50000, adaptive= False)"
   ]
  },
  {
   "cell_type": "code",
   "execution_count": 470,
   "metadata": {},
   "outputs": [
    {
     "name": "stderr",
     "output_type": "stream",
     "text": [
      "100%|██████████| 50000/50000 [00:25<00:00, 1978.07it/s]\n"
     ]
    }
   ],
   "source": [
    "MHT_EM_Adaptive = AP1.MHT_EM(X0=1,dt=1,npaths=50000, adaptive= True)"
   ]
  },
  {
   "cell_type": "code",
   "execution_count": 471,
   "metadata": {},
   "outputs": [
    {
     "name": "stdout",
     "output_type": "stream",
     "text": [
      "Mean Hitting Time for dt:0.01 and number of paths: 50000\n",
      "Estimated Exit Time - Without Adaptive Timestep\n",
      "Estimated Exit Mean: 8.505557183890748\n",
      "Estimated Exit Mean std: 1.082797401038556\n",
      "Estimated Exit Mean Confidence Interval: (8.496066046199985,8.51504832158151)\n",
      "\n",
      "\n",
      "Estimated Exit Time - Without Adaptive Timestep\n",
      "Estimated Exit Mean: 8.325615688753905\n",
      "Estimated Exit Mean std: 1.1962704587539552\n",
      "Estimated Exit Mean Confidence Interval: (8.495071410994973,8.516042956786523)\n",
      "\n",
      "\n",
      "Estimated Exit Time - Without Adaptive Timestep\n",
      "Estimated Exit Mean: 8.738100976072163\n",
      "Estimated Exit Mean std: 1.2717958323875358\n",
      "Estimated Exit Mean Confidence Interval: (8.494409401906648,8.516704965874847)\n",
      "\n",
      "\n",
      "Estimated Exit Time - with Adaptive Timestep\n",
      "Estimated Exit Mean: 7.159592801075866\n",
      "Estimated Exit Mean std: 0.7963316163858357\n",
      "Estimated Exit Mean Confidence Interval: (7.152612646698532,7.1665729554532005)\n",
      "\n",
      "\n",
      "Exact Mean Hitting Time: 7.645\n"
     ]
    }
   ],
   "source": [
    "npaths = 50000\n",
    "dt= 0.01\n",
    "print('Mean Hitting Time for dt:{} and number of paths: {}'.format(dt, npaths))\n",
    "\n",
    "exit_mean_exact = np.mean(MHT_exact)\n",
    "exit_std_exact = np.std(MHT_exact)\n",
    "cileft_exact = exit_mean_exact - 1.96*exit_std_exact/np.sqrt(npaths)\n",
    "ciright_exact = exit_mean_exact + 1.96*exit_std_exact/np.sqrt(npaths)\n",
    "\n",
    "print('Estimated Exit Time - Without Adaptive Timestep')\n",
    "print('Estimated Exit Mean: {}'.format(exit_mean_exact))\n",
    "print('Estimated Exit Mean std: {}'.format(exit_std_exact))\n",
    "print('Estimated Exit Mean Confidence Interval: ({l},{r})'.format(l=cileft_exact,r=ciright_exact))\n",
    "print('\\n')\n",
    "\n",
    "\n",
    "exit_mean_EM = np.mean(MHT_EM)\n",
    "exit_std_EM = np.std(MHT_EM)\n",
    "cileft_EM = exit_mean_exact - 1.96*exit_std_EM/np.sqrt(npaths)\n",
    "ciright_EM = exit_mean_exact + 1.96*exit_std_EM/np.sqrt(npaths)\n",
    "\n",
    "print('Estimated Exit Time - Without Adaptive Timestep')\n",
    "print('Estimated Exit Mean: {}'.format(exit_mean_EM))\n",
    "print('Estimated Exit Mean std: {}'.format(exit_std_EM))\n",
    "print('Estimated Exit Mean Confidence Interval: ({l},{r})'.format(l=cileft_EM,r=ciright_EM))\n",
    "print('\\n')\n",
    "\n",
    "\n",
    "exit_mean_Mils = np.mean(MHT_Mils)\n",
    "exit_std_Mils = np.std(MHT_Mils)\n",
    "cileft_Mils = exit_mean_exact - 1.96*exit_std_Mils/np.sqrt(npaths)\n",
    "ciright_Mils = exit_mean_exact + 1.96*exit_std_Mils/np.sqrt(npaths)\n",
    "\n",
    "print('Estimated Exit Time - Without Adaptive Timestep')\n",
    "print('Estimated Exit Mean: {}'.format(exit_mean_Mils))\n",
    "print('Estimated Exit Mean std: {}'.format(exit_std_Mils))\n",
    "print('Estimated Exit Mean Confidence Interval: ({l},{r})'.format(l=cileft_Mils,r=ciright_Mils))\n",
    "print('\\n')\n",
    "\n",
    "\n",
    "exit_mean_EM_Adaptive = np.mean(MHT_EM_Adaptive)\n",
    "exit_std_EM_Adaptive = np.std(MHT_EM_Adaptive)\n",
    "cileft_EM_Adaptive = exit_mean_EM_Adaptive - 1.96*exit_std_EM_Adaptive/np.sqrt(npaths)\n",
    "ciright_EM_Adaptive = exit_mean_EM_Adaptive + 1.96*exit_std_EM_Adaptive/np.sqrt(npaths)\n",
    "\n",
    "print('Estimated Exit Time - with Adaptive Timestep')\n",
    "print('Estimated Exit Mean: {}'.format(exit_mean_EM_Adaptive))\n",
    "print('Estimated Exit Mean std: {}'.format(exit_std_EM_Adaptive))\n",
    "print('Estimated Exit Mean Confidence Interval: ({l},{r})'.format(l=cileft_EM_Adaptive,r=ciright_EM_Adaptive))\n",
    "print('\\n')\n",
    "\n",
    "print('Exact Mean Hitting Time: {}'.format(7.6450))"
   ]
  },
  {
   "cell_type": "code",
   "execution_count": 196,
   "metadata": {},
   "outputs": [],
   "source": [
    "npaths = 50000\n",
    "dt= 1"
   ]
  },
  {
   "cell_type": "code",
   "execution_count": 197,
   "metadata": {},
   "outputs": [
    {
     "name": "stderr",
     "output_type": "stream",
     "text": [
      "100%|██████████| 50000/50000 [00:04<00:00, 11033.30it/s]\n"
     ]
    }
   ],
   "source": [
    "MHT_exact2 = AP1.MHT_Xt_exact(X0=1,dt=dt,npaths=npaths, adaptive= False)"
   ]
  },
  {
   "cell_type": "code",
   "execution_count": 198,
   "metadata": {},
   "outputs": [
    {
     "name": "stderr",
     "output_type": "stream",
     "text": [
      "100%|██████████| 50000/50000 [00:02<00:00, 19967.89it/s]\n"
     ]
    }
   ],
   "source": [
    "MHT_EM2 = AP1.MHT_EM(X0=1,dt=dt,npaths=npaths, adaptive= False)"
   ]
  },
  {
   "cell_type": "code",
   "execution_count": 199,
   "metadata": {},
   "outputs": [
    {
     "name": "stderr",
     "output_type": "stream",
     "text": [
      "100%|██████████| 50000/50000 [00:03<00:00, 14066.39it/s]\n"
     ]
    }
   ],
   "source": [
    "MHT_Mils2 = AP1.MHT_Milstein(X0=1,dt=dt,npaths=npaths, adaptive= False)"
   ]
  },
  {
   "cell_type": "code",
   "execution_count": 200,
   "metadata": {},
   "outputs": [
    {
     "name": "stdout",
     "output_type": "stream",
     "text": [
      "Mean Hitting Time for dt:1 and number of paths: 50000\n",
      "Estimated Exit Time - Without Adaptive Timestep\n",
      "Estimated Exit Mean: 8.510260783307775\n",
      "Estimated Exit Mean std: 1.0838649405138183\n",
      "Estimated Exit Mean Confidence Interval: (8.500760288220938,8.519761278394611)\n",
      "\n",
      "\n",
      "Estimated Exit Time - Without Adaptive Timestep\n",
      "Estimated Exit Mean: 8.307828814255622\n",
      "Estimated Exit Mean std: 1.1638145963141386\n",
      "Estimated Exit Mean Confidence Interval: (8.500059498589561,8.520462068025989)\n",
      "\n",
      "\n",
      "Estimated Exit Time - Without Adaptive Timestep\n",
      "Estimated Exit Mean: 8.757093339395533\n",
      "Estimated Exit Mean std: 1.27773138705712\n",
      "Estimated Exit Mean Confidence Interval: (8.499060973893071,8.521460592722478)\n",
      "\n",
      "\n",
      "Exact Mean Hitting Time: 7.645\n"
     ]
    }
   ],
   "source": [
    "\n",
    "print('Mean Hitting Time for dt:{} and number of paths: {}'.format(dt, npaths))\n",
    "\n",
    "exit_mean_exact = np.mean(MHT_exact2)\n",
    "exit_std_exact = np.std(MHT_exact2)\n",
    "cileft_exact = exit_mean_exact - 1.96*exit_std_exact/np.sqrt(npaths)\n",
    "ciright_exact = exit_mean_exact + 1.96*exit_std_exact/np.sqrt(npaths)\n",
    "\n",
    "print('Estimated Exit Time - Without Adaptive Timestep')\n",
    "print('Estimated Exit Mean: {}'.format(exit_mean_exact))\n",
    "print('Estimated Exit Mean std: {}'.format(exit_std_exact))\n",
    "print('Estimated Exit Mean Confidence Interval: ({l},{r})'.format(l=cileft_exact,r=ciright_exact))\n",
    "print('\\n')\n",
    "\n",
    "\n",
    "exit_mean_EM = np.mean(MHT_EM2)\n",
    "exit_std_EM = np.std(MHT_EM2)\n",
    "cileft_EM = exit_mean_exact - 1.96*exit_std_EM/np.sqrt(npaths)\n",
    "ciright_EM = exit_mean_exact + 1.96*exit_std_EM/np.sqrt(npaths)\n",
    "\n",
    "print('Estimated Exit Time - Without Adaptive Timestep')\n",
    "print('Estimated Exit Mean: {}'.format(exit_mean_EM))\n",
    "print('Estimated Exit Mean std: {}'.format(exit_std_EM))\n",
    "print('Estimated Exit Mean Confidence Interval: ({l},{r})'.format(l=cileft_EM,r=ciright_EM))\n",
    "print('\\n')\n",
    "\n",
    "\n",
    "exit_mean_Mils = np.mean(MHT_Mils2)\n",
    "exit_std_Mils = np.std(MHT_Mils2)\n",
    "cileft_Mils = exit_mean_exact - 1.96*exit_std_Mils/np.sqrt(npaths)\n",
    "ciright_Mils = exit_mean_exact + 1.96*exit_std_Mils/np.sqrt(npaths)\n",
    "\n",
    "print('Estimated Exit Time - Without Adaptive Timestep')\n",
    "print('Estimated Exit Mean: {}'.format(exit_mean_Mils))\n",
    "print('Estimated Exit Mean std: {}'.format(exit_std_Mils))\n",
    "print('Estimated Exit Mean Confidence Interval: ({l},{r})'.format(l=cileft_Mils,r=ciright_Mils))\n",
    "print('\\n')\n",
    "\n",
    "print('Exact Mean Hitting Time: {}'.format(7.6450))"
   ]
  },
  {
   "cell_type": "code",
   "execution_count": 164,
   "metadata": {},
   "outputs": [
    {
     "ename": "TypeError",
     "evalue": "'<' not supported between instances of 'AssetPrice' and 'float'",
     "output_type": "error",
     "traceback": [
      "\u001b[0;31m---------------------------------------------------------------------------\u001b[0m",
      "\u001b[0;31mTypeError\u001b[0m                                 Traceback (most recent call last)",
      "\u001b[0;32m<ipython-input-164-ecb03f6ade09>\u001b[0m in \u001b[0;36m<module>\u001b[0;34m\u001b[0m\n\u001b[1;32m      1\u001b[0m \u001b[0mplt\u001b[0m\u001b[0;34m.\u001b[0m\u001b[0mfigure\u001b[0m\u001b[0;34m(\u001b[0m\u001b[0mfigsize\u001b[0m\u001b[0;34m=\u001b[0m\u001b[0;34m(\u001b[0m\u001b[0;36m12\u001b[0m\u001b[0;34m,\u001b[0m\u001b[0;36m6\u001b[0m\u001b[0;34m)\u001b[0m\u001b[0;34m)\u001b[0m\u001b[0;34m\u001b[0m\u001b[0;34m\u001b[0m\u001b[0m\n\u001b[0;32m----> 2\u001b[0;31m \u001b[0;34m(\u001b[0m\u001b[0mn\u001b[0m\u001b[0;34m,\u001b[0m \u001b[0mbins\u001b[0m\u001b[0;34m,\u001b[0m \u001b[0mpatches\u001b[0m\u001b[0;34m)\u001b[0m \u001b[0;34m=\u001b[0m \u001b[0mplt\u001b[0m\u001b[0;34m.\u001b[0m\u001b[0mhist\u001b[0m\u001b[0;34m(\u001b[0m\u001b[0mAP1\u001b[0m\u001b[0;34m,\u001b[0m \u001b[0mbins\u001b[0m\u001b[0;34m=\u001b[0m\u001b[0;36m100\u001b[0m\u001b[0;34m,\u001b[0m \u001b[0mlabel\u001b[0m\u001b[0;34m=\u001b[0m\u001b[0;34m'hst'\u001b[0m\u001b[0;34m,\u001b[0m\u001b[0;34m)\u001b[0m\u001b[0;34m\u001b[0m\u001b[0;34m\u001b[0m\u001b[0m\n\u001b[0m\u001b[1;32m      3\u001b[0m \u001b[0mplt\u001b[0m\u001b[0;34m.\u001b[0m\u001b[0mvlines\u001b[0m\u001b[0;34m(\u001b[0m\u001b[0mexit_mean1\u001b[0m\u001b[0;34m,\u001b[0m \u001b[0mymin\u001b[0m \u001b[0;34m=\u001b[0m \u001b[0;36m0\u001b[0m\u001b[0;34m,\u001b[0m \u001b[0mymax\u001b[0m \u001b[0;34m=\u001b[0m\u001b[0;36m4000\u001b[0m\u001b[0;34m,\u001b[0m \u001b[0mlabel\u001b[0m\u001b[0;34m=\u001b[0m\u001b[0;34m'Estimated Mean'\u001b[0m\u001b[0;34m,\u001b[0m \u001b[0mcolor\u001b[0m\u001b[0;34m=\u001b[0m\u001b[0;34m'red'\u001b[0m\u001b[0;34m)\u001b[0m\u001b[0;34m\u001b[0m\u001b[0;34m\u001b[0m\u001b[0m\n\u001b[1;32m      4\u001b[0m \u001b[0mplt\u001b[0m\u001b[0;34m.\u001b[0m\u001b[0mvlines\u001b[0m\u001b[0;34m(\u001b[0m\u001b[0;36m7.6450\u001b[0m\u001b[0;34m,\u001b[0m \u001b[0mymin\u001b[0m \u001b[0;34m=\u001b[0m \u001b[0;36m0\u001b[0m\u001b[0;34m,\u001b[0m \u001b[0mymax\u001b[0m \u001b[0;34m=\u001b[0m\u001b[0;36m4000\u001b[0m\u001b[0;34m,\u001b[0m \u001b[0mlabel\u001b[0m\u001b[0;34m=\u001b[0m\u001b[0;34m'Exact Mean'\u001b[0m\u001b[0;34m,\u001b[0m \u001b[0mcolor\u001b[0m\u001b[0;34m=\u001b[0m\u001b[0;34m'blue'\u001b[0m\u001b[0;34m)\u001b[0m\u001b[0;34m\u001b[0m\u001b[0;34m\u001b[0m\u001b[0m\n\u001b[1;32m      5\u001b[0m \u001b[0mplt\u001b[0m\u001b[0;34m.\u001b[0m\u001b[0mvlines\u001b[0m\u001b[0;34m(\u001b[0m\u001b[0mcileft1\u001b[0m\u001b[0;34m,\u001b[0m \u001b[0mymin\u001b[0m \u001b[0;34m=\u001b[0m \u001b[0;36m0\u001b[0m\u001b[0;34m,\u001b[0m \u001b[0mymax\u001b[0m \u001b[0;34m=\u001b[0m\u001b[0;36m4000\u001b[0m\u001b[0;34m,\u001b[0m \u001b[0mlabel\u001b[0m\u001b[0;34m=\u001b[0m\u001b[0;34m'0.025 Confidence Interval'\u001b[0m\u001b[0;34m,\u001b[0m \u001b[0mcolor\u001b[0m\u001b[0;34m=\u001b[0m\u001b[0;34m'purple'\u001b[0m\u001b[0;34m)\u001b[0m\u001b[0;34m\u001b[0m\u001b[0;34m\u001b[0m\u001b[0m\n",
      "\u001b[0;32m~/anaconda3/lib/python3.6/site-packages/matplotlib/pyplot.py\u001b[0m in \u001b[0;36mhist\u001b[0;34m(x, bins, range, density, weights, cumulative, bottom, histtype, align, orientation, rwidth, log, color, label, stacked, normed, data, **kwargs)\u001b[0m\n\u001b[1;32m   2657\u001b[0m         \u001b[0malign\u001b[0m\u001b[0;34m=\u001b[0m\u001b[0malign\u001b[0m\u001b[0;34m,\u001b[0m \u001b[0morientation\u001b[0m\u001b[0;34m=\u001b[0m\u001b[0morientation\u001b[0m\u001b[0;34m,\u001b[0m \u001b[0mrwidth\u001b[0m\u001b[0;34m=\u001b[0m\u001b[0mrwidth\u001b[0m\u001b[0;34m,\u001b[0m \u001b[0mlog\u001b[0m\u001b[0;34m=\u001b[0m\u001b[0mlog\u001b[0m\u001b[0;34m,\u001b[0m\u001b[0;34m\u001b[0m\u001b[0;34m\u001b[0m\u001b[0m\n\u001b[1;32m   2658\u001b[0m         \u001b[0mcolor\u001b[0m\u001b[0;34m=\u001b[0m\u001b[0mcolor\u001b[0m\u001b[0;34m,\u001b[0m \u001b[0mlabel\u001b[0m\u001b[0;34m=\u001b[0m\u001b[0mlabel\u001b[0m\u001b[0;34m,\u001b[0m \u001b[0mstacked\u001b[0m\u001b[0;34m=\u001b[0m\u001b[0mstacked\u001b[0m\u001b[0;34m,\u001b[0m \u001b[0mnormed\u001b[0m\u001b[0;34m=\u001b[0m\u001b[0mnormed\u001b[0m\u001b[0;34m,\u001b[0m\u001b[0;34m\u001b[0m\u001b[0;34m\u001b[0m\u001b[0m\n\u001b[0;32m-> 2659\u001b[0;31m         **({\"data\": data} if data is not None else {}), **kwargs)\n\u001b[0m\u001b[1;32m   2660\u001b[0m \u001b[0;34m\u001b[0m\u001b[0m\n\u001b[1;32m   2661\u001b[0m \u001b[0;34m\u001b[0m\u001b[0m\n",
      "\u001b[0;32m~/anaconda3/lib/python3.6/site-packages/matplotlib/__init__.py\u001b[0m in \u001b[0;36minner\u001b[0;34m(ax, data, *args, **kwargs)\u001b[0m\n\u001b[1;32m   1808\u001b[0m                         \u001b[0;34m\"the Matplotlib list!)\"\u001b[0m \u001b[0;34m%\u001b[0m \u001b[0;34m(\u001b[0m\u001b[0mlabel_namer\u001b[0m\u001b[0;34m,\u001b[0m \u001b[0mfunc\u001b[0m\u001b[0;34m.\u001b[0m\u001b[0m__name__\u001b[0m\u001b[0;34m)\u001b[0m\u001b[0;34m,\u001b[0m\u001b[0;34m\u001b[0m\u001b[0;34m\u001b[0m\u001b[0m\n\u001b[1;32m   1809\u001b[0m                         RuntimeWarning, stacklevel=2)\n\u001b[0;32m-> 1810\u001b[0;31m             \u001b[0;32mreturn\u001b[0m \u001b[0mfunc\u001b[0m\u001b[0;34m(\u001b[0m\u001b[0max\u001b[0m\u001b[0;34m,\u001b[0m \u001b[0;34m*\u001b[0m\u001b[0margs\u001b[0m\u001b[0;34m,\u001b[0m \u001b[0;34m**\u001b[0m\u001b[0mkwargs\u001b[0m\u001b[0;34m)\u001b[0m\u001b[0;34m\u001b[0m\u001b[0;34m\u001b[0m\u001b[0m\n\u001b[0m\u001b[1;32m   1811\u001b[0m \u001b[0;34m\u001b[0m\u001b[0m\n\u001b[1;32m   1812\u001b[0m         inner.__doc__ = _add_data_doc(inner.__doc__,\n",
      "\u001b[0;32m~/anaconda3/lib/python3.6/site-packages/matplotlib/axes/_axes.py\u001b[0m in \u001b[0;36mhist\u001b[0;34m(self, x, bins, range, density, weights, cumulative, bottom, histtype, align, orientation, rwidth, log, color, label, stacked, normed, **kwargs)\u001b[0m\n\u001b[1;32m   6573\u001b[0m             \u001b[0;32mfor\u001b[0m \u001b[0mxi\u001b[0m \u001b[0;32min\u001b[0m \u001b[0mx\u001b[0m\u001b[0;34m:\u001b[0m\u001b[0;34m\u001b[0m\u001b[0;34m\u001b[0m\u001b[0m\n\u001b[1;32m   6574\u001b[0m                 \u001b[0;32mif\u001b[0m \u001b[0mlen\u001b[0m\u001b[0;34m(\u001b[0m\u001b[0mxi\u001b[0m\u001b[0;34m)\u001b[0m \u001b[0;34m>\u001b[0m \u001b[0;36m0\u001b[0m\u001b[0;34m:\u001b[0m\u001b[0;34m\u001b[0m\u001b[0;34m\u001b[0m\u001b[0m\n\u001b[0;32m-> 6575\u001b[0;31m                     \u001b[0mxmin\u001b[0m \u001b[0;34m=\u001b[0m \u001b[0mmin\u001b[0m\u001b[0;34m(\u001b[0m\u001b[0mxmin\u001b[0m\u001b[0;34m,\u001b[0m \u001b[0mnp\u001b[0m\u001b[0;34m.\u001b[0m\u001b[0mnanmin\u001b[0m\u001b[0;34m(\u001b[0m\u001b[0mxi\u001b[0m\u001b[0;34m)\u001b[0m\u001b[0;34m)\u001b[0m\u001b[0;34m\u001b[0m\u001b[0;34m\u001b[0m\u001b[0m\n\u001b[0m\u001b[1;32m   6576\u001b[0m                     \u001b[0mxmax\u001b[0m \u001b[0;34m=\u001b[0m \u001b[0mmax\u001b[0m\u001b[0;34m(\u001b[0m\u001b[0mxmax\u001b[0m\u001b[0;34m,\u001b[0m \u001b[0mnp\u001b[0m\u001b[0;34m.\u001b[0m\u001b[0mnanmax\u001b[0m\u001b[0;34m(\u001b[0m\u001b[0mxi\u001b[0m\u001b[0;34m)\u001b[0m\u001b[0;34m)\u001b[0m\u001b[0;34m\u001b[0m\u001b[0;34m\u001b[0m\u001b[0m\n\u001b[1;32m   6577\u001b[0m             \u001b[0mbin_range\u001b[0m \u001b[0;34m=\u001b[0m \u001b[0;34m(\u001b[0m\u001b[0mxmin\u001b[0m\u001b[0;34m,\u001b[0m \u001b[0mxmax\u001b[0m\u001b[0;34m)\u001b[0m\u001b[0;34m\u001b[0m\u001b[0;34m\u001b[0m\u001b[0m\n",
      "\u001b[0;31mTypeError\u001b[0m: '<' not supported between instances of 'AssetPrice' and 'float'"
     ]
    },
    {
     "data": {
      "image/png": "[encoded data removed]",
      "text/plain": [
       "<Figure size 864x432 with 1 Axes>"
      ]
     },
     "metadata": {
      "needs_background": "light"
     },
     "output_type": "display_data"
    }
   ],
   "source": [
    "plt.figure(figsize=(12,6))\n",
    "(n, bins, patches) = plt.hist(AP1, bins=100, label='hst',)\n",
    "plt.vlines(exit_mean1, ymin = 0, ymax =4000, label='Estimated Mean', color='red')\n",
    "plt.vlines(7.6450, ymin = 0, ymax =4000, label='Exact Mean', color='blue')\n",
    "plt.vlines(cileft1, ymin = 0, ymax =4000, label='0.025 Confidence Interval', color='purple')\n",
    "plt.vlines(ciright1, ymin = 0, ymax =4000, label='0.975 Confidence Interval', color='purple')\n",
    "plt.title('Histogram of mean exit times for $M = 5 × 10^5$ sample paths - Without Adaptive Timestep')\n",
    "plt.xlabel('First Exit Time')\n",
    "plt.ylabel('Frequency')\n",
    "plt.legend()\n",
    "plt.show()"
   ]
  },
  {
   "cell_type": "code",
   "execution_count": null,
   "metadata": {},
   "outputs": [],
   "source": [
    "plt.figure(figsize=(12,6))\n",
    "(n, bins, patches) = plt.hist(AP2, bins=100, label='hst',)\n",
    "plt.vlines(exit_mean2, ymin = 0, ymax =4000, label='Estimated Mean', color='red')\n",
    "plt.vlines(7.6450, ymin = 0, ymax =4000, label='Exact Mean', color='blue')\n",
    "plt.vlines(cileft2, ymin = 0, ymax =4000, label='0.025 Confidence Interval', color='purple')\n",
    "plt.vlines(ciright2, ymin = 0, ymax =4000, label='0.975 Confidence Interval', color='purple')\n",
    "plt.title('Histogram of mean exit times for $M = 5 × 10^5$ sample paths - With Adaptive Timestep')\n",
    "plt.xlabel('First Exit Time')\n",
    "plt.ylabel('Frequency')\n",
    "plt.legend()\n",
    "plt.show()"
   ]
  },
  {
   "cell_type": "code",
   "execution_count": null,
   "metadata": {},
   "outputs": [],
   "source": []
  },
  {
   "cell_type": "code",
   "execution_count": null,
   "metadata": {},
   "outputs": [],
   "source": [
    "# class MontoCarlo:\n",
    "#     \"\"\"\n",
    "#     This is a class that contain Monto Carlo methods\n",
    "#     Arguments:\n",
    "#     X0: Intial value\n",
    "#     M: Number of iteration\n",
    "#     dt: Timestep\n",
    "#     duration: The duration for running a process\n",
    "#     \"\"\"\n",
    "#     def __init__(self, X0, M, dt, duration):\n",
    "#         self.X0 = X0\n",
    "#         self.M = M\n",
    "#         self.dt = dt \n",
    "#         self.duration = duration\n",
    "#         self.n = int(duration / dt)\n",
    "#         self.Xn = np.zeros(self.n); self.Xn[0] = X0\n",
    "#         self.W = np.random.normal(0,1, self.n)\n",
    "    \n",
    "\n",
    "#     def Euler_Maruyama(self, f, g):\n",
    "#         \"\"\"\n",
    "#         Method that approxiamte a solution using Euler-Maruyama method\n",
    "        \n",
    "#         Arguments:\n",
    "#         f: F(x)\n",
    "#         g: g(x)\n",
    "        \n",
    "#         Return: Array containing path\n",
    "#         \"\"\"\n",
    "#         for i in range(1, self.n-1):\n",
    "#             self.Xn[i] = self.Xn[i-1] + self.dt*f(Xn[i-1]) + g(x[i-1])*(self.W[i] - self.W[i-1])\n",
    "#         return self.Xn\n",
    "    \n",
    "\n",
    "#     def Asset_Price_Exact(self, a, b, mu, sigma, adaptive=False):\n",
    "#         \"\"\"\n",
    "#         Method to compute the hitting times for M interations for Asset Price\n",
    "        \n",
    "#         Arguments\n",
    "#         a: Lower bound\n",
    "#         b: Upper bound\n",
    "#         mu: mu\n",
    "#         sigma: sigma\n",
    "        \n",
    "#         Return: Numpy array of hitting time for each iteration\n",
    "#         \"\"\"\n",
    "#         AP = AssetPrice(a=a, b=b, mu=mu, sigma=sigma)\n",
    "#         AP_samples = np.zeros(self.M)\n",
    "#         for t in tqdm(range(self.M)):\n",
    "#             AP_exact_sol = AP.Xt_exact(X0 = self.X0, duration = self.duration, dt = self.dt, adaptive=adaptive)\n",
    "#             hit_time = np.where((AP_exact_sol <= a) | (AP_exact_sol >= b))[0]\n",
    "#             hit_time = np.append(hit_time, int(1e10)) # Inf i.e never hit \n",
    "#             AP_samples[t] = hit_time[0]*self.dt - 0.5*self.dt\n",
    "#         return AP_samples\n",
    "        "
   ]
  },
  {
   "cell_type": "code",
   "execution_count": 42,
   "metadata": {},
   "outputs": [],
   "source": [
    "# class AssetPrice:\n",
    "#     \"\"\"\n",
    "#     This is a class for Asset Price ODE. \n",
    "#     It contains methods for finding exact solution, plotting and exat mean hitting time.\n",
    "#     Arguments:\n",
    "#     a: Lower bound\n",
    "#     b: Upper bound\n",
    "#     mu: mu\n",
    "#     sigma: sigma\n",
    "#     \"\"\"\n",
    "#     def __init__(self, a, b, mu, sigma, dt, X0, niter):\n",
    "#         self.a = a\n",
    "#         self.b = b\n",
    "#         self.mu = mu\n",
    "#         self.sigma = sigma\n",
    "#         self.Xt = None\n",
    "#         self.dt = dt\n",
    "#         self.X0 = X0\n",
    "#         self.niter = niter\n",
    "        \n",
    "#     def f(self,x):\n",
    "#         \"\"\"\n",
    "#         Function of f(x) in asset price stochastic differential equation (deterministic part)\n",
    "#         \"\"\"\n",
    "#         return self.mu * x\n",
    "    \n",
    "#     def g(self,x):\n",
    "#         \"\"\"\n",
    "#         Function of g(x) in asset price stochastic differential equation (stochastic part)\n",
    "#         \"\"\"\n",
    "#         return self.sigma * x\n",
    "  \n",
    "#     def Xt_exact(self,X0,duration,dt, adaptive= False):\n",
    "#         \"\"\"\n",
    "#         Methods that return paths of X(t)\n",
    "        \n",
    "#         Arguments:\n",
    "#         X0: Initial value\n",
    "#         duration: The duration for running process\n",
    "#         dt: timestep\n",
    "        \n",
    "#         Return: Array of a path\n",
    "#         \"\"\"\n",
    "#         t = np.arange(0,duration,dt)\n",
    "#         n = int(duration/dt)\n",
    "#         X = np.zeros(n)\n",
    "#         X[0] = X0\n",
    "        \n",
    "#         if adaptive:\n",
    "#             AdaptiveT =  AdaptiveTimestep()\n",
    "#             for i in range(1,n):\n",
    "#                 dW = np.sqrt(dt)*np.random.randn() # increments\n",
    "#                 dt_new = AdaptiveT.naive_adaption(LB=self.a, UB=self.b, dt = dt, curr_val=X[i-1])\n",
    "#                 X[i] = X[i-1]*np.exp((self.mu - 0.5*self.sigma**2)*dt_new + self.sigma*dW);\n",
    "            \n",
    "#         else:\n",
    "#             for i in range(1,n):\n",
    "#                 dW = np.sqrt(dt)*np.random.randn() # increments\n",
    "#                 X[i] = X[i-1]*np.exp((self.mu - 0.5*self.sigma**2)*dt + self.sigma*dW);\n",
    "                \n",
    "#         return X\n",
    "    \n",
    "#     def _plot(self,X0,duration,dt, exact = True):\n",
    "#         \"\"\"\n",
    "#         Method to plot a path\n",
    "        \n",
    "#         Arguments:\n",
    "#         X0: intial value\n",
    "#         duration: The duration for running process\n",
    "#         dt: timestep\n",
    "#         \"\"\"\n",
    "#         t = np.arange(0,duration,dt)\n",
    "#         title = ''\n",
    "#         if exact:\n",
    "#             xt = self.Xt_exact(X0,duration,dt)\n",
    "#             title = 'Exact Solution'\n",
    "#         else:\n",
    "#             xt = self.EM(X0,duration,dt)\n",
    "#             title = 'EM Estimated Solution'\n",
    "            \n",
    "        \n",
    "        \n",
    "#         plt.figure(figsize=(20,10))\n",
    "#         plt.plot(t, xt)\n",
    "#         plt.xlabel('Time')\n",
    "#         plt.ylabel('Stock Price')\n",
    "#         plt.hlines(self.b, xmin=0, xmax=max(t), color='red', label='$b$')\n",
    "#         plt.hlines(self.a,xmin=0, xmax=max(t), color='blue', label='$a$')\n",
    "#         plt.title('Stock Price SDE {}'.format(title))\n",
    "#         plt.legend()\n",
    "    \n",
    "#     def Ux(self,x):\n",
    "#         \"\"\"\n",
    "#         Method to return exact mean hitting time\n",
    "        \n",
    "#         Arguments:\n",
    "#         x: Path values (array)\n",
    "        \n",
    "#         Return: Array containing exact mean hitting time for given initial values\n",
    "        \n",
    "#         \"\"\"\n",
    "#         c1 = 1/(0.5*self.sigma**2 - self.mu)\n",
    "#         c2 = 1 - (x/self.a)**(1-2*self.mu/self.sigma**2)\n",
    "#         c3 = 1 - (self.b/self.a)**(1-2*self.mu/self.sigma**2)\n",
    "#         ux = (1/c1)*(np.log(x/self.a) - (c2/c3)*np.log(self.b/self.a))\n",
    "#         return ux\n",
    "    \n",
    "    \n",
    "#       def EM(self,X0,duration,dt, adaptive= False):\n",
    "#         \"\"\"\n",
    "#         Method that approxiamte a solution using Euler-Maruyama method\n",
    "        \n",
    "#         Arguments:\n",
    "#         f: F(x)\n",
    "#         g: g(x)\n",
    "        \n",
    "#         Return: Array containing path\n",
    "#         \"\"\"\n",
    "#         for i in range(1, self.n):\n",
    "#             self.Xn[i] = self.Xn[i-1] + self.dt*self.f(Xn[i-1]) + self.g(x[i-1])*(self.W[i] - self.W[i-1])\n",
    "#         return self.Xn\n",
    "    \n",
    "\n",
    "#     def Asset_Price_Exact(self, a, b, mu, sigma, adaptive=False ):\n",
    "#         \"\"\"\n",
    "#         Method to compute the hitting times for M interations for Asset Price\n",
    "        \n",
    "#         Arguments\n",
    "#         a: Lower bound\n",
    "#         b: Upper bound\n",
    "#         mu: mu\n",
    "#         sigma: sigma\n",
    "        \n",
    "#         Return: Numpy array of hitting time for each iteration\n",
    "#         \"\"\"\n",
    "#         AP = AssetPrice(a=a, b=b, mu=mu, sigma=sigma)\n",
    "#         AP_samples = np.zeros(self.M)\n",
    "#         for t in tqdm(range(self.niter)):\n",
    "#             AP_exact_sol = AP.Xt_exact(X0 = self.X0, duration = self.duration, dt = self.dt, adaptive=adaptive)\n",
    "#             hit_time = np.where((AP_exact_sol <= a) | (AP_exact_sol >= b))[0]\n",
    "#             hit_time = np.append(hit_time, int(1e10)) # Inf i.e never hit \n",
    "#             AP_samples[t] = hit_time[0]*self.dt - 0.5*self.dt\n",
    "#         return AP_samples"
   ]
  }
 ],
 "metadata": {
  "kernelspec": {
   "display_name": "Python 3",
   "language": "python",
   "name": "python3"
  },
  "language_info": {
   "codemirror_mode": {
    "name": "ipython",
    "version": 3
   },
   "file_extension": ".py",
   "mimetype": "text/x-python",
   "name": "python",
   "nbconvert_exporter": "python",
   "pygments_lexer": "ipython3",
   "version": "3.6.8"
  }
 },
 "nbformat": 4,
 "nbformat_minor": 2
}
