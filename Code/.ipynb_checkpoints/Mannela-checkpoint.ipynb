{
 "cells": [
  {
   "cell_type": "code",
   "execution_count": null,
   "metadata": {},
   "outputs": [],
   "source": [
    "def EM_prob_eval(dt,M,x0,a,b, plot = False, prob = True):\n",
    "    '''implements the psuedo-code from Des's notes, and plots a histogram of the results'''\n",
    "    t_exit=[]\n",
    "    breaked =0\n",
    "    for s in range(M):\n",
    "        tn = 0\n",
    "        Xn = x0\n",
    "        \n",
    "        while Xn>a and Xn<b:\n",
    "            Rn = np.random.randn(1)\n",
    "            Xn_1 = Xn + dt*f(Xn) + np.sqrt(dt)*Rn*g(x)\n",
    "            \n",
    "            if prob:\n",
    "                if Xn-a<5*dt or b-Xn<5*dt:\n",
    "                    if P_hit(Xn,Xn_1,dt,a,D)>np.random.uniform(0,1) or P_hit(Xn,Xn_1,dt,b,D)>np.random.uniform(0,1):\n",
    "                        breaked+=1\n",
    "                        break\n",
    "#             else:\n",
    "#                 continue\n",
    "            tn += dt\n",
    "            Xn = Xn_1\n",
    "        t_exit.append(tn-0.5*dt) #This line could be changed.\n",
    "    a_M = np.mean(t_exit)\n",
    "    print('Break count ={}'.format(breaked))\n",
    "    b2_M = 1/(M-1) * np.sum((t_exit-a_M)**2)\n",
    "    \n",
    "    if plot:\n",
    "        histogram,bins = np.histogram(t_exit,bins=20,range=[0,20])\n",
    "        midx = (bins[0:-1]+bins[1:])/2\n",
    "        plt.bar(midx,histogram,label='Test')\n",
    "        plt.show()\n",
    "    return a_M, b2_M,\n",
    "\n",
    "def f(x):\n",
    "    return mu*x\n",
    "\n",
    "def f_dash(x):\n",
    "    return mu\n",
    "\n",
    "def g(x):\n",
    "    return np.sqrt(2*D)\n",
    "    \n",
    "    \n",
    "    \n",
    "def P_hit(x0,xh,dt,xb,D):\n",
    "    return np.exp(-f_dash(xb)/(2*D*(np.exp(2*dt*f_dash(xb))-1))*(xh-xb+(x0-xb)*np.exp(dt*f_dash(xb))-f(xb)/f_dash(xb))**2 + (xb - (x0 + dt*(f(x0)+f(xh))/2))**2/4*D*dt)"
   ]
  }
 ],
 "metadata": {
  "kernelspec": {
   "display_name": "Python 3",
   "language": "python",
   "name": "python3"
  },
  "language_info": {
   "codemirror_mode": {
    "name": "ipython",
    "version": 3
   },
   "file_extension": ".py",
   "mimetype": "text/x-python",
   "name": "python",
   "nbconvert_exporter": "python",
   "pygments_lexer": "ipython3",
   "version": "3.6.8"
  }
 },
 "nbformat": 4,
 "nbformat_minor": 2
}
