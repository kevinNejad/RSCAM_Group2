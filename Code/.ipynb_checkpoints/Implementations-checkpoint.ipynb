{
 "cells": [
  {
   "cell_type": "markdown",
   "metadata": {},
   "source": [
    "# Import libraries"
   ]
  },
  {
   "cell_type": "code",
   "execution_count": 1,
   "metadata": {},
   "outputs": [],
   "source": [
    "import numpy as np\n",
    "import matplotlib.pyplot as plt\n",
    "from tqdm import tqdm"
   ]
  },
  {
   "cell_type": "markdown",
   "metadata": {},
   "source": [
    "# Stocastic Differential Equations"
   ]
  },
  {
   "cell_type": "markdown",
   "metadata": {},
   "source": [
    "## Asset Price"
   ]
  },
  {
   "cell_type": "code",
   "execution_count": 2,
   "metadata": {},
   "outputs": [],
   "source": [
    "class AssetPrice:\n",
    "    \"\"\"\n",
    "    This is a class for Asset Price ODE. \n",
    "    It contains methods for finding exact solution, plotting and exat mean hitting time.\n",
    "    Arguments:\n",
    "    a: Lower bound\n",
    "    b: Upper bound\n",
    "    mu: mu\n",
    "    sigma: sigma\n",
    "    \"\"\"\n",
    "    def __init__(self, lower_b, upper_b, mu, sigma):\n",
    "        self.lower_b = lower_b\n",
    "        self.upper_b = upper_b\n",
    "        self.mu = mu\n",
    "        self.sigma = sigma\n",
    "        \n",
    "    def f(self,x):\n",
    "        \"\"\"\n",
    "        Function of f(x) in asset price stochastic differential equation (deterministic part)\n",
    "        \"\"\"\n",
    "        return self.mu * x\n",
    "    \n",
    "    def g(self,x):\n",
    "        \"\"\"\n",
    "        Function of g(x) in asset price stochastic differential equation (stochastic part)\n",
    "        \"\"\"\n",
    "        return self.sigma * x\n",
    "    \n",
    "    def dg(self,x):\n",
    "        \"\"\"\n",
    "        Function of g'(x) in asset price stochastic differential equation (stochastic part)\n",
    "        \"\"\"\n",
    "        return self.sigma\n",
    "    \n",
    "    def df(self,x):\n",
    "        return self.mu\n",
    "  "
   ]
  },
  {
   "cell_type": "markdown",
   "metadata": {},
   "source": [
    "## Asset Price Interest Rate"
   ]
  },
  {
   "cell_type": "code",
   "execution_count": 3,
   "metadata": {},
   "outputs": [],
   "source": [
    "class AssetPriceInterestRate:\n",
    "    def __init__(self, lam, mu, sigma):\n",
    "        self.lam = lam\n",
    "        self.mu = mu\n",
    "        self.sigma = sigma\n",
    "        \n",
    "    \n",
    "    def f(self,x):\n",
    "        return self.lam*(self.mu - x)\n",
    "    \n",
    "    def g(self,x):\n",
    "        return self.sigma*np.sqrt(x)\n",
    "    "
   ]
  },
  {
   "cell_type": "markdown",
   "metadata": {},
   "source": [
    "## Opinion Polls"
   ]
  },
  {
   "cell_type": "code",
   "execution_count": 4,
   "metadata": {},
   "outputs": [],
   "source": [
    "class OpinionPolls:\n",
    "    def __init__(self, mu, sigma):\n",
    "        self.mu = mu\n",
    "        self.sigma = sigma\n",
    "        \n",
    "    def f(self,x):\n",
    "        return -self.mu*(x/(1-x**2))\n",
    "        \n",
    "    def g(self,x):\n",
    "        return self.sigma"
   ]
  },
  {
   "cell_type": "markdown",
   "metadata": {},
   "source": [
    "## Population Dynamic "
   ]
  },
  {
   "cell_type": "code",
   "execution_count": 5,
   "metadata": {},
   "outputs": [],
   "source": [
    "class PopulationDynamic:\n",
    "    def __init__(self, K, r, beta):\n",
    "        self.K = K\n",
    "        self.r = r\n",
    "        self.beta = beta\n",
    "        \n",
    "    def f(self,x):\n",
    "        return self.r*x*(self.K - x)\n",
    "    \n",
    "    def g(self,x):\n",
    "        return self.beta*x"
   ]
  },
  {
   "cell_type": "markdown",
   "metadata": {},
   "source": [
    "## Epidemic Model"
   ]
  },
  {
   "cell_type": "code",
   "execution_count": 6,
   "metadata": {},
   "outputs": [],
   "source": [
    "class EpidemicModel:\n",
    "    \n",
    "    def __init__(self, p, B, beta, alpha, rho, C):\n",
    "        self.p = p\n",
    "        self.B = B\n",
    "        self.beta = beta\n",
    "        self.alpha = alpha\n",
    "        self.rho = rho \n",
    "        self.C = C\n",
    "    \n",
    "    def f(self, x):\n",
    "        return (self.p -1)*self.B*x + (self.beta*self.C - self.alpha)*(1 - x)*x\n",
    "    \n",
    "    def g(self, x):\n",
    "        return self.p*self.C*(1-x)*x"
   ]
  },
  {
   "cell_type": "markdown",
   "metadata": {},
   "source": [
    "## Political Opinion"
   ]
  },
  {
   "cell_type": "code",
   "execution_count": 7,
   "metadata": {},
   "outputs": [],
   "source": [
    "class PoliticalOpinion:\n",
    "    def __init__(self, r, G, eps):\n",
    "        self.r = r\n",
    "        self.G = G\n",
    "        self.eps = eps\n",
    "        \n",
    "    def f(self,x):\n",
    "        return self.r*(self.G-x)\n",
    "    \n",
    "    def g(self,x):\n",
    "        return np.sqrt(self.eps*x*(1-x))\n",
    "    "
   ]
  },
  {
   "cell_type": "markdown",
   "metadata": {},
   "source": [
    "## Double Well Potential"
   ]
  },
  {
   "cell_type": "code",
   "execution_count": 19,
   "metadata": {},
   "outputs": [],
   "source": [
    "class DoubleWellPotential:\n",
    "    def __init__(self, sigma):\n",
    "        self.sigma = sigma\n",
    "        \n",
    "    def _V(self,x):\n",
    "        return 4*(x**2) - 4*(x**3) + x**4\n",
    "    \n",
    "    def _dV(self,x):\n",
    "        return 8*x - 12*(x**2) + 4*(x**3)\n",
    "    \n",
    "    def _dV2(self, x):\n",
    "        return 8 - 24*x + 12*(x**2)\n",
    "        \n",
    "    def f(self,x):\n",
    "        return -self._dV(x)\n",
    "    \n",
    "    def g(self,x):\n",
    "        return self.sigma\n",
    "    \n",
    "    def df(self, x):\n",
    "        return -self._dV2(x)\n",
    "    \n",
    "    def dg(self, x):\n",
    "        return 0"
   ]
  },
  {
   "cell_type": "code",
   "execution_count": 9,
   "metadata": {},
   "outputs": [],
   "source": [
    "class SimpleSDE:\n",
    "    def __init__(self, mu, sigma):\n",
    "        self.mu = mu\n",
    "        self.sigma = sigma\n",
    "    \n",
    "    def f(self, x):\n",
    "        return self.mu\n",
    "    \n",
    "    def g(self, x):\n",
    "        return self.sigma\n",
    "    \n",
    "    def df(self, x):\n",
    "        return 0\n",
    "    \n",
    "    def dg(self, x):\n",
    "        return 0\n",
    "    "
   ]
  },
  {
   "cell_type": "markdown",
   "metadata": {},
   "source": [
    "# Methods"
   ]
  },
  {
   "cell_type": "markdown",
   "metadata": {},
   "source": [
    "## EXPONENTIAL TIMESTEPPING WITH BOUNDARY TEST FOR SDEs "
   ]
  },
  {
   "cell_type": "markdown",
   "metadata": {},
   "source": [
    "### The exponential-Euler method with boundary test (1st Algorithm)"
   ]
  },
  {
   "cell_type": "markdown",
   "metadata": {},
   "source": [
    "#### Assumptions: $f(X_t) = \\mu$ and $\\sigma(X_t)=\\epsilon$"
   ]
  },
  {
   "cell_type": "code",
   "execution_count": 107,
   "metadata": {},
   "outputs": [],
   "source": [
    "class ExponentialTimestepping:\n",
    "    def __init__(self, rate):\n",
    "        self.rate = rate\n",
    "    \n",
    "    def F(self, Xn, f, g):\n",
    "        return f(Xn) / g(Xn)**2\n",
    "        \n",
    "    def N(self, Xn,f, g):\n",
    "        return np.sqrt((2*self.rate / g(Xn)**2) + self.F(Xn,f,g)**2)\n",
    "    \n",
    "    \n",
    "    def compute_MHT(self, X0, f, g , num_itr, lower_b=None, upper_b=None):\n",
    "        if lower_b is None and upper_b is None:\n",
    "            assert(\"Please provide a boundary value\")  \n",
    "        if lower_b is None:\n",
    "            lower_b = -np.inf\n",
    "        if upper_b is None:\n",
    "            upper_b = np.inf\n",
    "            \n",
    "        t_exit = []\n",
    "        \n",
    "        for i in tqdm(range(num_itr)):\n",
    "            self.breaked = 0 \n",
    "            tn = 0\n",
    "            Xn = X0\n",
    "            while Xn > lower_b and Xn < upper_b:\n",
    "                v = np.random.uniform()\n",
    "                p = -np.log(v)\n",
    "                u = np.random.uniform()\n",
    "                sign = np.sign(0.5 * (1 + self.F(Xn,f,g)/self.N(Xn,f,g)) - u)\n",
    "                Xn_1 = Xn + (sign*p)/(self.N(Xn,f,g)-sign*self.F(Xn,f,g))\n",
    "                \n",
    "                w = np.random.uniform()\n",
    "                if Xn_1 < lower_b or w < np.exp(-2*self.N(lower_b-max(Xn, Xn_1), f,g)) or Xn_1 > upper_b or w < np.exp(-2*self.N(min(Xn, Xn_1)-upper_b, f,g)):\n",
    "                    self.breaked += 1\n",
    "                    break\n",
    "                    \n",
    "                tn += p\n",
    "                Xn = Xn_1\n",
    "        \n",
    "        tmean = np.mean(t_exit)\n",
    "        tstd = np.std(t_exit)\n",
    "\n",
    "        cileft = t_exit, tmean - 1.96*tstd/np.sqrt(num_itr)\n",
    "        ciright = t_exit, tmean + 1.96*tstd/np.sqrt(num_itr)\n",
    "        \n",
    "        return t_exit, tmean, tstd, cileft, ciright\n",
    "    \n",
    "    def plot(self,t_exit):\n",
    "        histogram,bins = np.histogram(t_exit,bins=20,range=[0,20])\n",
    "        midx = (bins[0:-1]+bins[1:])/2\n",
    "        plt.bar(midx,histogram,label='Test')\n",
    "        plt.show()\n",
    "    "
   ]
  },
  {
   "cell_type": "markdown",
   "metadata": {},
   "source": [
    "### The exponential-V method with boundary test(2nd Algorithm)"
   ]
  },
  {
   "cell_type": "markdown",
   "metadata": {},
   "source": [
    "#### Assumptions: $\\sigma(x) = \\epsilon$ but $f(x)$ is a function of $x$"
   ]
  },
  {
   "cell_type": "code",
   "execution_count": 108,
   "metadata": {},
   "outputs": [],
   "source": [
    "class ExponentialVTimestepping:\n",
    "    def __init__(self, rate):\n",
    "        self.V = None\n",
    "        self.rate = rate\n",
    "        \n",
    "    \n",
    "    def nu(self, Xn, g):\n",
    "        return np.sqrt(2*self.rate / g(Xn)**2)\n",
    "    \n",
    "\n",
    "    def compute_MHT(self, X0, dt, f, g , num_itr, lower_b=None, upper_b=None):\n",
    "        if self.V is None:\n",
    "            assert(\"Please provide value for V\")\n",
    "            \n",
    "        if lower_b is None and upper_b is None:\n",
    "            assert(\"Please provide a boundary value\")  \n",
    "        if lower_b is None:\n",
    "            lower_b = -np.inf\n",
    "        if upper_b is None:\n",
    "            upper_b = np.inf\n",
    "            \n",
    "        t_exit = []\n",
    "        \n",
    "        for i in tqdm(range(num_itr)):\n",
    "            self.breaked = 0 \n",
    "            tn = 0\n",
    "            Xn = X0\n",
    "            while Xn > lower_b and Xn < upper_b:\n",
    "                nu = self.nu(Xn, g(Xn))\n",
    "                v = np.random.uniform()\n",
    "                p = -np.log(v)\n",
    "                u = np.random.uniform()\n",
    "                sign = np.sign(0.5*(1 + (nu**(-2)) * (g(Xn)**(-2))*f(Xn)) - u)\n",
    "                Xn_1 = Xn + (nu**(-1))*sign*(p - (g(Xn)**(-2))*(self.V(Xn + (nu**(-1))*sign*p) - self.V(Xn)))\n",
    "                                 \n",
    "                w = np.random.uniform()\n",
    "                nu = self.nu(Xt, g)\n",
    "                if Xn_1 < lower_b or w < np.exp(-2*nu(min(Xn, Xn_1)-lower_b)) or Xn_1 > upper_b or w < np.exp(-2*nu(upper_b - max(Xn, Xn_1))):\n",
    "                    self.breaked += 1\n",
    "                    break\n",
    "                \n",
    "                tn += p\n",
    "                Xn = Xn_1\n",
    "                \n",
    "        tmean = np.mean(t_exit)\n",
    "        tstd = np.std(t_exit)\n",
    "\n",
    "        cileft = tmean - 1.96*tstd/np.sqrt(num_itr)\n",
    "        ciright = tmean + 1.96*tstd/np.sqrt(num_itr)\n",
    "        \n",
    "        return t_exit, tmean, tstd, cileft, ciright\n",
    "    \n",
    "    \n",
    "    def plot(self,t_exit):\n",
    "        histogram,bins = np.histogram(t_exit,bins=20,range=[0,20])\n",
    "        midx = (bins[0:-1]+bins[1:])/2\n",
    "        plt.bar(midx,histogram,label='Test')\n",
    "        plt.show()\n",
    "    "
   ]
  },
  {
   "cell_type": "markdown",
   "metadata": {},
   "source": [
    "-----------------------------------------------------------"
   ]
  },
  {
   "cell_type": "markdown",
   "metadata": {},
   "source": [
    "## Absorbing boundaries and optimal stopping in a stochastic differential equation"
   ]
  },
  {
   "cell_type": "markdown",
   "metadata": {},
   "source": [
    "#### Assumtions $g(x)=\\sigma$"
   ]
  },
  {
   "cell_type": "code",
   "execution_count": 109,
   "metadata": {},
   "outputs": [],
   "source": [
    "class EulerMaryamaBoundaryCheck:\n",
    "    def __init__(self):\n",
    "        self.breaked = 0\n",
    "        self.thres_coeff = 5\n",
    "        pass\n",
    "    \n",
    "    def P_hit(self, Xn,Xn_1,dt,bound,D, df):\n",
    "        return np.exp(-df(bound)/(2*D*(np.exp(2*dt*df(bound))-1))*(Xn_1-bound+(Xn-bound)*np.exp(dt*df(bound))-f(bound)/df(bound))**2 + (bound - (Xn + dt*(f(Xn)+f(Xn_1))/2))**2/4*D*dt)\n",
    "    \n",
    "    \n",
    "    def compute_MHT(self, X0, dt, f, g, df, num_itr, lower_b=None, upper_b=None):\n",
    "        if lower_b is None and upper_b is None:\n",
    "            assert(\"Please provide a boundary value\")  \n",
    "        if lower_b is None:\n",
    "            lower_b = -np.inf\n",
    "        if upper_b is None:\n",
    "            upper_b = np.inf\n",
    "            \n",
    "        t_exit = []\n",
    "        \n",
    "        for i in tqdm(range(num_itr)):\n",
    "            self.breaked = 0 \n",
    "            tn = 0\n",
    "            Xn = X0\n",
    "            while Xn > lower_b and Xn < upper_b:\n",
    "                Rn = np.random.randn(1)\n",
    "                Xn_1 = Xn + dt*f(Xn) + np.sqrt(dt)*Rn*g(Xn)\n",
    "                D = (g(Xn)**2)/2\n",
    "                if Xn-lower_b<self.thres_coeff*dt or upper_b-Xn<self.thres_coeff*dt:\n",
    "                    prob_lowerb = self.P_hit(Xn,Xn_1,dt,lower_b,D, df)\n",
    "                    prob_upperb = self.P_hit(Xn,Xn_1,dt,upper_b,D, df)\n",
    "                    if prob_lowerb>np.random.uniform(0,1) or prob_upperb>np.random.uniform(0,1):\n",
    "                        self.breaked += 1\n",
    "                        break\n",
    "                        \n",
    "                tn += dt\n",
    "                Xn = Xn_1\n",
    "        \n",
    "        tmean = np.mean(t_exit)\n",
    "        tstd = np.std(t_exit)\n",
    "\n",
    "        cileft = tmean - 1.96*tstd/np.sqrt(num_itr)\n",
    "        ciright = tmean + 1.96*tstd/np.sqrt(num_itr)\n",
    "        \n",
    "        return t_exit, tmean, tstd, cileft, ciright\n",
    "    \n",
    "    def plot(self,t_exit):\n",
    "        histogram,bins = np.histogram(t_exit,bins=20,range=[0,20])\n",
    "        midx = (bins[0:-1]+bins[1:])/2\n",
    "        plt.bar(midx,histogram,label='Test')\n",
    "        plt.show()\n",
    "        \n",
    "\n",
    "\n",
    "    "
   ]
  },
  {
   "cell_type": "markdown",
   "metadata": {},
   "source": [
    "_______________________________________"
   ]
  },
  {
   "cell_type": "markdown",
   "metadata": {},
   "source": [
    "## Adaptive Timestep"
   ]
  },
  {
   "cell_type": "code",
   "execution_count": 110,
   "metadata": {},
   "outputs": [],
   "source": [
    "class AdaptiveTimestep:\n",
    "    def __init__(self):\n",
    "        pass\n",
    "    \n",
    "    def naive_adaption(self, lower_b, upper_b, dt, x):\n",
    "        \"\"\"\n",
    "        A naive method to adapt timestep based on the distance to the boundaries\n",
    "        \"\"\"\n",
    "        epsilon = 1e-10\n",
    "        dist = min(abs(x - lower_b), abs(x - upper_b))\n",
    "        dt_new = (abs(np.tanh(dist))+epsilon) * dt\n",
    "        return dt_new\n",
    "    \n",
    "    \n",
    "    def adapt_time_EM(self, lower_b, upper_b, x, f, g, dt):\n",
    "        min_dt = 0.0000001\n",
    "        k = 1.96 # set to 1.96 for 95% credible interval of gaussian distribution\n",
    "        \n",
    "        f_res = f(x)\n",
    "        g_res = g(x)\n",
    "        \n",
    "        if f_res == 0 and g(x) == 0:\n",
    "            return dt\n",
    "        elif g_res == 0:\n",
    "            dt_new = min((upper_b-x)/f_res, (x-lower_b)/f_res)\n",
    "            return min(dt, max(dt_new, min_dt))\n",
    "        elif f_res == 0:\n",
    "            if g_res > 0:\n",
    "                dt_new = ((upper_b-x)/(k*g_res))**2\n",
    "                return min(dt, max(dt_new, min_dt))\n",
    "            else:\n",
    "                dt_new = ((x-lower_b)/(k*g_res))**2\n",
    "                return min(dt, max(dt_new, min_dt))\n",
    "        elif f_res > 0:\n",
    "            t1 = np.sqrt( ((upper_b-x)/f_res) + ((k*g_res)/(2*f_res))**2) - (k*g_res)/(2*f_res)\n",
    "            t2 = np.sqrt( ((upper_b-x)/f_res) + ((k*g_res)/(2*f_res))**2) + (k*g_res)/(2*f_res)\n",
    "            dt_new = min(t1**2, t2**2)\n",
    "            return min(dt, max(dt_new, min_dt))\n",
    "        \n",
    "        t1 = np.sqrt( ((x-lower_b)/f_res) + ((k*g_res)/(2*f_res))**2) - (k*g_res)/(2*f_res)\n",
    "        t2 = np.sqrt( ((x-lower_b)/f_res) + ((k*g_res)/(2*f_res))**2) + (k*g_res)/(2*f_res)\n",
    "        dt_new = min(t1**2, t2**2)\n",
    "        return min(dt, max(dt_new, min_dt))\n",
    "    \n",
    "    \n",
    "    \n",
    "    def _f2(self,x,f,g,dg,k):\n",
    "        return f(x) + 0.5*g(x)*dg(x)*((k**2)-1)\n",
    "        \n",
    "    def adapt_time_Mils(self, lower_b, upper_b, x, f, g, dg, dt):\n",
    "        min_dt = 0.0000001\n",
    "        k = 1.96 # set to 1.96 for 95% credible interval of gaussian distribution\n",
    "        \n",
    "        f2_res = self._f2(x,f,g,dg,k)\n",
    "        g_res = g(x)\n",
    "        \n",
    "        if f2_res == 0 and g_res == 0:\n",
    "            return dt\n",
    "        \n",
    "        elif g_res == 0:\n",
    "            dt_new = min((upper_b-x)/f2_res, (x-lower_b)/f2_res)\n",
    "            return min(dt, max(dt_new, min_dt))\n",
    "        \n",
    "        elif f2_res == 0:\n",
    "            if g_res > 0:\n",
    "                dt_new = ((upper_b-x)/(k*g_res))**2\n",
    "                return min(dt, max(dt_new, min_dt))\n",
    "            else:\n",
    "                dt_new = ((x-lower_b)/(k*g_res))**2\n",
    "                return min(dt, max(dt_new, min_dt))\n",
    "                          \n",
    "        elif f2_res > 0:\n",
    "            t1 = np.sqrt( ((upper_b-x)/f2_res) + ((k*g_res)/(2*f2_res))**2) - (k*g_res)/(2*f2_res)\n",
    "            t2 = np.sqrt( ((upper_b-x)/f2_res) + ((k*g_res)/(2*f2_res))**2) + (k*g_res)/(2*f2_res)\n",
    "            dt_new = min(t1**2, t2**2)\n",
    "            return min(dt, max(dt_new, min_dt))\n",
    "        \n",
    "        t1 = np.sqrt( ((x-lower_b)/f2_res) + ((k*g_res)/(2*f2_res))**2) - (k*g_res)/(2*f2_res)\n",
    "        t2 = np.sqrt( ((x-lower_b)/f2_res) + ((k*g_res)/(2*f2_res))**2) + (k*g_res)/(2*f2_res)\n",
    "        dt_new = min(t1**2, t2**2)\n",
    "        return min(dt, max(dt_new, min_dt))\n",
    "    \n",
    "    \n",
    "    \n",
    "    def compute_MHT_EM(self, X0, dt, num_itr, f, g, lower_b, upper_b):\n",
    "        \"\"\"\n",
    "        Method that approxiamte a solution using Euler-Maruyama method\n",
    "        \n",
    "        Arguments:\n",
    "        f: F(x)\n",
    "        g: g(x)\n",
    "        \n",
    "        Return: List containing Mean, STD, Confidence interval Left, Confidence interval Right\n",
    "        \"\"\"\n",
    "       \n",
    "    \n",
    "        if lower_b is None and upper_b is None:\n",
    "            assert(\"Please provide a boundary value\")  \n",
    "        if lower_b is None:\n",
    "            lower_b = -np.inf\n",
    "        if upper_b is None:\n",
    "            upper_b = np.inf\n",
    "            \n",
    "            \n",
    "        # TODO: Add threshold for situation when the loop goes forever\n",
    "        t_exit = np.zeros(num_itr)\n",
    "        \n",
    "        adapt_timestep = self.adapt_time_EM\n",
    "        for i in tqdm(range(num_itr)):\n",
    "            X = X0\n",
    "            t = 0\n",
    "            while X > lower_b and X < upper_b:\n",
    "                dt_new_EM = adapt_timestep(lower_b=lower_b, upper_b=upper_b, x=X, f=f, g=g, dt=dt)\n",
    "                dW = np.sqrt(dt_new_EM)*np.random.randn()\n",
    "                X = X + dt_new_EM*f(X) + g(X)*dW\n",
    "                t += dt_new_EM\n",
    "\n",
    "            t_exit[i] = t\n",
    "\n",
    "\n",
    "        \n",
    "            \n",
    "        tmean = np.mean(t_exit)\n",
    "        tstd = np.std(t_exit)\n",
    "\n",
    "        cileft = tmean - 1.96*tstd/np.sqrt(num_itr)\n",
    "        ciright = tmean + 1.96*tstd/np.sqrt(num_itr)\n",
    "        \n",
    "        return t_exit, tmean, tstd, cileft, ciright\n",
    "    \n",
    "    \n",
    "    \n",
    "    def compute_MHT_Mils(self, X0, dt, num_itr, f, g, dg, lower_b, upper_b):\n",
    "        \"\"\"\n",
    "        Method that approxiamte a solution using Euler-Maruyama method\n",
    "        \n",
    "        Arguments:\n",
    "        f: F(x)\n",
    "        g: g(x)\n",
    "        \n",
    "        Return: List containing Mean, STD, Confidence interval Left, Confidence interval Right\n",
    "        \"\"\"\n",
    "        \n",
    "        if lower_b is None and upper_b is None:\n",
    "            assert(\"Please provide a boundary value\")  \n",
    "        if lower_b is None:\n",
    "            lower_b = -np.inf\n",
    "        if upper_b is None:\n",
    "            upper_b = np.inf\n",
    "        \n",
    "        # TODO: Add threshold for situation when the loop goes forever\n",
    "        t_exit = np.zeros(num_itr)\n",
    "        \n",
    "        \n",
    "\n",
    "        adapt_timestep = self.adapt_time_Mils\n",
    "        for i in tqdm(range(num_itr)):\n",
    "            X = X0\n",
    "            t = 0\n",
    "            # TODO: pass new dt to adapt_timestep\n",
    "            while X > lower_b and X < upper_b:\n",
    "                dt_new_EM = adapt_timestep(lower_b=lower_b, upper_b=upper_b, x=X, f=f, g=g, dg=dg, dt=dt)\n",
    "                dW = np.sqrt(dt_new_EM)*np.random.randn()\n",
    "                X = X + dt_new_EM*f(X) + g(X)*dW + 0.5 * g(X)*dg(X)*(dW**2 - dt_new_EM)\n",
    "                t += dt_new_EM\n",
    "\n",
    "            t_exit[i] = t\n",
    "\n",
    "\n",
    "            \n",
    "        tmean = np.mean(t_exit)\n",
    "        tstd = np.std(t_exit)\n",
    "\n",
    "        cileft = tmean - 1.96*tstd/np.sqrt(num_itr)\n",
    "        ciright = tmean + 1.96*tstd/np.sqrt(num_itr)\n",
    "        \n",
    "        return t_exit, tmean, tstd, cileft, ciright\n",
    "    \n",
    "\n",
    "\n",
    "    def plot(self,t_exit):\n",
    "        histogram,bins = np.histogram(t_exit,bins=20,range=[0,20])\n",
    "        midx = (bins[0:-1]+bins[1:])/2\n",
    "        plt.bar(midx,histogram,label='Test')\n",
    "        plt.show()\n",
    "        "
   ]
  },
  {
   "cell_type": "code",
   "execution_count": 111,
   "metadata": {},
   "outputs": [],
   "source": [
    "class EM_Milstein:\n",
    "    def __init__(self):\n",
    "        pass\n",
    "    \n",
    "    def compute_MHT_EM(self,X0 , dt, num_itr, f, g, lower_b, upper_b):\n",
    "        \n",
    "        if lower_b is None and upper_b is None:\n",
    "            assert(\"Please provide a boundary value\")  \n",
    "        if lower_b is None:\n",
    "            lower_b = -np.inf\n",
    "        if upper_b is None:\n",
    "            upper_b = np.inf\n",
    "        \n",
    "        t_exit = np.zeros(num_itr)\n",
    "        for i in tqdm(range(num_itr)):\n",
    "            X = X0\n",
    "            t = 0\n",
    "            while X > lower_b and X < upper_b:\n",
    "                dW = np.sqrt(dt) * np.random.randn()\n",
    "                X = X + dt*f(X) + g(X)*dW\n",
    "                t += dt\n",
    "\n",
    "            t_exit[i] = t - 0.5*dt\n",
    "                \n",
    "    \n",
    "        tmean = np.mean(t_exit)\n",
    "        tstd = np.std(t_exit)\n",
    "\n",
    "        cileft = tmean - 1.96*tstd/np.sqrt(num_itr)\n",
    "        ciright = tmean + 1.96*tstd/np.sqrt(num_itr)\n",
    "        \n",
    "        return t_exit, tmean, tstd, cileft, ciright\n",
    "    \n",
    "    def compute_MHT_Milstein(self, X0, dt, num_itr, f, g, dg, lower_b, upper_b):\n",
    "        \n",
    "        if lower_b is None and upper_b is None:\n",
    "            assert(\"Please provide a boundary value\")  \n",
    "        if lower_b is None:\n",
    "            lower_b = -np.inf\n",
    "        if upper_b is None:\n",
    "            upper_b = np.inf\n",
    "        \n",
    "        t_exit = np.zeros(num_itr)\n",
    "        for i in tqdm(range(num_itr)):\n",
    "            X = X0\n",
    "            t = 0\n",
    "            while X > lower_b and X < upper_b:\n",
    "                dW = np.sqrt(dt) * np.random.randn()\n",
    "                X = X + dt*f(X) + g(X)*dW + 0.5 * g(X)*dg(X)*(dW**2 - dt)\n",
    "                t += dt\n",
    "\n",
    "            t_exit[i] = t - 0.5*dt\n",
    "            \n",
    "        tmean = np.mean(t_exit)\n",
    "        tstd = np.std(t_exit)\n",
    "\n",
    "        cileft = tmean - 1.96*tstd/np.sqrt(num_itr)\n",
    "        ciright = tmean + 1.96*tstd/np.sqrt(num_itr)\n",
    "\n",
    "        return t_exit, tmean, tstd, cileft, ciright\n",
    "    \n",
    "    \n",
    "    def plot(self,t_exit):\n",
    "        histogram,bins = np.histogram(t_exit,bins=20,range=[0,20])\n",
    "        midx = (bins[0:-1]+bins[1:])/2\n",
    "        plt.bar(midx,histogram,label='Test')\n",
    "        plt.show()"
   ]
  },
  {
   "cell_type": "markdown",
   "metadata": {},
   "source": [
    "________________________"
   ]
  },
  {
   "cell_type": "markdown",
   "metadata": {},
   "source": [
    "# Expariments"
   ]
  },
  {
   "cell_type": "markdown",
   "metadata": {},
   "source": [
    "### Simulation Parametres and Mothod Instantiation"
   ]
  },
  {
   "cell_type": "code",
   "execution_count": 112,
   "metadata": {},
   "outputs": [],
   "source": [
    "num_itr = int(5e4) # Number of interation for sumulations\n",
    "exp_rate = 1000 # Lambda parameter for exponential timestepping methods\n",
    "\n",
    "# Methods \n",
    "em_milstein = EM_Milstein() # Euler-maryama and Milstein method\n",
    "adaptive_timestep = AdaptiveTimestep()\n",
    "euler_maryama_boundary_check = EulerMaryamaBoundaryCheck()\n",
    "exponentialV_timestepping = ExponentialVTimestepping(rate=exp_rate)\n",
    "exponential_timestepping = ExponentialTimestepping(rate=exp_rate)"
   ]
  },
  {
   "cell_type": "markdown",
   "metadata": {},
   "source": [
    "### Simple SDE: $dX = \\mu dt + \\sigma dW, \\quad X(0) = X_0$"
   ]
  },
  {
   "cell_type": "code",
   "execution_count": 113,
   "metadata": {
    "scrolled": true
   },
   "outputs": [
    {
     "name": "stderr",
     "output_type": "stream",
     "text": [
      " 16%|█▌        | 7959/50000 [00:02<00:10, 3916.31it/s]\n"
     ]
    },
    {
     "ename": "KeyboardInterrupt",
     "evalue": "",
     "output_type": "error",
     "traceback": [
      "\u001b[0;31m---------------------------------------------------------------------------\u001b[0m",
      "\u001b[0;31mKeyboardInterrupt\u001b[0m                         Traceback (most recent call last)",
      "\u001b[0;32m<ipython-input-113-9dd44f13d79f>\u001b[0m in \u001b[0;36m<module>\u001b[0;34m\u001b[0m\n\u001b[1;32m     18\u001b[0m \u001b[0;34m\u001b[0m\u001b[0m\n\u001b[1;32m     19\u001b[0m \u001b[0;31m# Euler Maryama\u001b[0m\u001b[0;34m\u001b[0m\u001b[0;34m\u001b[0m\u001b[0;34m\u001b[0m\u001b[0m\n\u001b[0;32m---> 20\u001b[0;31m \u001b[0mt_exit_EM\u001b[0m\u001b[0;34m,\u001b[0m \u001b[0mtmean_EM\u001b[0m\u001b[0;34m,\u001b[0m \u001b[0mtstd_EM\u001b[0m\u001b[0;34m,\u001b[0m \u001b[0mcileft_EM\u001b[0m\u001b[0;34m,\u001b[0m \u001b[0mciright_EM\u001b[0m \u001b[0;34m=\u001b[0m \u001b[0mem_milstein\u001b[0m\u001b[0;34m.\u001b[0m\u001b[0mcompute_MHT_EM\u001b[0m\u001b[0;34m(\u001b[0m\u001b[0mX0\u001b[0m\u001b[0;34m=\u001b[0m\u001b[0mX0\u001b[0m\u001b[0;34m,\u001b[0m\u001b[0mdt\u001b[0m\u001b[0;34m=\u001b[0m\u001b[0mdt\u001b[0m\u001b[0;34m,\u001b[0m\u001b[0mnum_itr\u001b[0m\u001b[0;34m=\u001b[0m\u001b[0mnum_itr\u001b[0m\u001b[0;34m,\u001b[0m \u001b[0mf\u001b[0m\u001b[0;34m=\u001b[0m\u001b[0mf\u001b[0m\u001b[0;34m,\u001b[0m \u001b[0mg\u001b[0m\u001b[0;34m=\u001b[0m\u001b[0mg\u001b[0m\u001b[0;34m,\u001b[0m \u001b[0mlower_b\u001b[0m\u001b[0;34m=\u001b[0m\u001b[0mlower_b\u001b[0m\u001b[0;34m,\u001b[0m\u001b[0mupper_b\u001b[0m\u001b[0;34m=\u001b[0m\u001b[0mupper_b\u001b[0m\u001b[0;34m)\u001b[0m\u001b[0;34m\u001b[0m\u001b[0;34m\u001b[0m\u001b[0m\n\u001b[0m\u001b[1;32m     21\u001b[0m \u001b[0mprint\u001b[0m\u001b[0;34m(\u001b[0m\u001b[0;34m'-----Euler Method-----'\u001b[0m\u001b[0;34m)\u001b[0m\u001b[0;34m\u001b[0m\u001b[0;34m\u001b[0m\u001b[0m\n\u001b[1;32m     22\u001b[0m \u001b[0mprint\u001b[0m\u001b[0;34m(\u001b[0m\u001b[0;34m'Mean:{}, std:{}, Confidence Interval: ({},{})'\u001b[0m\u001b[0;34m.\u001b[0m\u001b[0mformat\u001b[0m\u001b[0;34m(\u001b[0m\u001b[0mtmean_EM\u001b[0m\u001b[0;34m,\u001b[0m \u001b[0mtstd_EM\u001b[0m\u001b[0;34m,\u001b[0m \u001b[0mcileft_EM\u001b[0m\u001b[0;34m,\u001b[0m \u001b[0mciright_EM\u001b[0m\u001b[0;34m)\u001b[0m\u001b[0;34m)\u001b[0m\u001b[0;34m\u001b[0m\u001b[0;34m\u001b[0m\u001b[0m\n",
      "\u001b[0;32m<ipython-input-111-e705e0a3da60>\u001b[0m in \u001b[0;36mcompute_MHT_EM\u001b[0;34m(self, X0, dt, num_itr, f, g, lower_b, upper_b)\u001b[0m\n\u001b[1;32m     17\u001b[0m             \u001b[0mt\u001b[0m \u001b[0;34m=\u001b[0m \u001b[0;36m0\u001b[0m\u001b[0;34m\u001b[0m\u001b[0;34m\u001b[0m\u001b[0m\n\u001b[1;32m     18\u001b[0m             \u001b[0;32mwhile\u001b[0m \u001b[0mX\u001b[0m \u001b[0;34m>\u001b[0m \u001b[0mlower_b\u001b[0m \u001b[0;32mand\u001b[0m \u001b[0mX\u001b[0m \u001b[0;34m<\u001b[0m \u001b[0mupper_b\u001b[0m\u001b[0;34m:\u001b[0m\u001b[0;34m\u001b[0m\u001b[0;34m\u001b[0m\u001b[0m\n\u001b[0;32m---> 19\u001b[0;31m                 \u001b[0mdW\u001b[0m \u001b[0;34m=\u001b[0m \u001b[0mnp\u001b[0m\u001b[0;34m.\u001b[0m\u001b[0msqrt\u001b[0m\u001b[0;34m(\u001b[0m\u001b[0mdt\u001b[0m\u001b[0;34m)\u001b[0m \u001b[0;34m*\u001b[0m \u001b[0mnp\u001b[0m\u001b[0;34m.\u001b[0m\u001b[0mrandom\u001b[0m\u001b[0;34m.\u001b[0m\u001b[0mrandn\u001b[0m\u001b[0;34m(\u001b[0m\u001b[0;34m)\u001b[0m\u001b[0;34m\u001b[0m\u001b[0;34m\u001b[0m\u001b[0m\n\u001b[0m\u001b[1;32m     20\u001b[0m                 \u001b[0mX\u001b[0m \u001b[0;34m=\u001b[0m \u001b[0mX\u001b[0m \u001b[0;34m+\u001b[0m \u001b[0mdt\u001b[0m\u001b[0;34m*\u001b[0m\u001b[0mf\u001b[0m\u001b[0;34m(\u001b[0m\u001b[0mX\u001b[0m\u001b[0;34m)\u001b[0m \u001b[0;34m+\u001b[0m \u001b[0mg\u001b[0m\u001b[0;34m(\u001b[0m\u001b[0mX\u001b[0m\u001b[0;34m)\u001b[0m\u001b[0;34m*\u001b[0m\u001b[0mdW\u001b[0m\u001b[0;34m\u001b[0m\u001b[0;34m\u001b[0m\u001b[0m\n\u001b[1;32m     21\u001b[0m                 \u001b[0mt\u001b[0m \u001b[0;34m+=\u001b[0m \u001b[0mdt\u001b[0m\u001b[0;34m\u001b[0m\u001b[0;34m\u001b[0m\u001b[0m\n",
      "\u001b[0;31mKeyboardInterrupt\u001b[0m: "
     ]
    }
   ],
   "source": [
    "# Parameters\n",
    "mu = 0.5\n",
    "sigma = 1\n",
    "X0 = 0\n",
    "lower_b = None\n",
    "upper_b = 5\n",
    "dt = 0.1\n",
    "\n",
    "\n",
    "# New instance of SimpleSDE class\n",
    "simpleSDE = SimpleSDE(mu = mu, sigma = sigma)\n",
    "f = simpleSDE.f\n",
    "g = simpleSDE.g\n",
    "dg = simpleSDE.dg\n",
    "df = simpleSDE.df\n",
    "\n",
    "# Run simulation\n",
    "\n",
    "# Euler Maryama\n",
    "t_exit_EM, tmean_EM, tstd_EM, cileft_EM, ciright_EM = em_milstein.compute_MHT_EM(X0=X0,dt=dt,num_itr=num_itr, f=f, g=g, lower_b=lower_b,upper_b=upper_b)\n",
    "print('-----Euler Method-----')\n",
    "print('Mean:{}, std:{}, Confidence Interval: ({},{})'.format(tmean_EM, tstd_EM, cileft_EM, ciright_EM))\n",
    "\n",
    "# Misltein \n",
    "t_exit_Mils, tmean_Mils, tstd_Mils, cileft_Mils, ciright_Mils = em_milstein.compute_MHT_Milstein(X0=X0,dt=dt,num_itr=num_itr, f=f, g=g, dg=dg, lower_b=lower_b,upper_b=upper_b)\n",
    "print('-----Misltein Method-----')\n",
    "print('Mean:{}, std:{}, Confidence Interval: ({},{})'.format(tmean_Mils, tstd_Mils, cileft_Mils, ciright_Mils))\n",
    "\n",
    "# Adaptive Euler Maryama\n",
    "t_exit_Adapt_EM, tmean_Adapt_EM, tstd_Adapt_EM, cileft_Adapt_EM, ciright_Adapt_EM = adaptive_timestep.compute_MHT_EM(X0=X0,dt=dt,num_itr=num_itr, f=f, g=g,lower_b=lower_b,upper_b=upper_b)\n",
    "print('-----Adaptive Euler Method-----')\n",
    "print('Mean:{}, std:{}, Confidence Interval: ({},{})'.format(tmean_Adapt_EM, tstd_Adapt_EM, cileft_Adapt_EM, ciright_Adapt_EM))\n",
    "\n",
    "# Adaptive Milstein Maryama\n",
    "t_exit_Adapt_Mils, tmean_Adapt_Mils, tstd_Adapt_Mils, cileft_Adapt_Mils, ciright_Adapt_Mils = adaptive_timestep.compute_MHT_Mils(X0=X0,dt=dt,num_itr=num_itr, f=f, g=g, dg=dg, lower_b=lower_b,upper_b=upper_b)\n",
    "print('-----Adaptive Milstein Method-----')\n",
    "print('Mean:{}, std:{}, Confidence Interval: ({},{})'.format(tmean_Adapt_Mils, tstd_Adapt_Mils, cileft_Adapt_Mils, ciright_Adapt_Mils))\n",
    "\n"
   ]
  },
  {
   "cell_type": "markdown",
   "metadata": {},
   "source": [
    "------------------------"
   ]
  },
  {
   "cell_type": "markdown",
   "metadata": {},
   "source": [
    "## Asset Price: $dX = \\mu X dt + \\sigma X dW \\qquad 0 < a < X_{0} < b$"
   ]
  },
  {
   "cell_type": "code",
   "execution_count": 17,
   "metadata": {
    "scrolled": true
   },
   "outputs": [
    {
     "name": "stderr",
     "output_type": "stream",
     "text": [
      "100%|██████████| 50000/50000 [00:12<00:00, 4134.80it/s]\n",
      "  1%|          | 543/50000 [00:00<00:17, 2764.61it/s]"
     ]
    },
    {
     "name": "stdout",
     "output_type": "stream",
     "text": [
      "-----Euler Method-----\n",
      "Mean:9.054148, std:7.471286448403411, Confidence Interval: (8.988659286838228,9.119636713161771)\n"
     ]
    },
    {
     "name": "stderr",
     "output_type": "stream",
     "text": [
      "100%|██████████| 50000/50000 [00:16<00:00, 2987.75it/s]\n",
      "  0%|          | 88/50000 [00:00<00:56, 878.54it/s]"
     ]
    },
    {
     "name": "stdout",
     "output_type": "stream",
     "text": [
      "-----Misltein Method-----\n",
      "Mean:9.113786, std:7.346182841871312, Confidence Interval: (9.049393868298496,9.178178131701502)\n"
     ]
    },
    {
     "name": "stderr",
     "output_type": "stream",
     "text": [
      "100%|██████████| 50000/50000 [01:01<00:00, 811.83it/s]\n"
     ]
    },
    {
     "name": "stdout",
     "output_type": "stream",
     "text": [
      "-----Adaptive Euler Method-----\n",
      "Mean:8.735584844036506, std:7.328062297283677, Confidence Interval: (8.671351545911394,8.799818142161618)\n"
     ]
    },
    {
     "ename": "TypeError",
     "evalue": "compute_MHT_EM() got an unexpected keyword argument 'dg'",
     "output_type": "error",
     "traceback": [
      "\u001b[0;31m---------------------------------------------------------------------------\u001b[0m",
      "\u001b[0;31mTypeError\u001b[0m                                 Traceback (most recent call last)",
      "\u001b[0;32m<ipython-input-17-70e8e6384e65>\u001b[0m in \u001b[0;36m<module>\u001b[0;34m\u001b[0m\n\u001b[1;32m     32\u001b[0m \u001b[0;34m\u001b[0m\u001b[0m\n\u001b[1;32m     33\u001b[0m \u001b[0;31m# Adaptive Milstein\u001b[0m\u001b[0;34m\u001b[0m\u001b[0;34m\u001b[0m\u001b[0;34m\u001b[0m\u001b[0m\n\u001b[0;32m---> 34\u001b[0;31m \u001b[0mt_exit_Adapt_Mils\u001b[0m\u001b[0;34m,\u001b[0m \u001b[0mtmean_Adapt_Mils\u001b[0m\u001b[0;34m,\u001b[0m \u001b[0mtstd_Adapt_Mils\u001b[0m\u001b[0;34m,\u001b[0m \u001b[0mcileft_Adapt_Mils\u001b[0m\u001b[0;34m,\u001b[0m \u001b[0mciright_Adapt_Mils\u001b[0m \u001b[0;34m=\u001b[0m \u001b[0madaptive_timestep\u001b[0m\u001b[0;34m.\u001b[0m\u001b[0mcompute_MHT_EM\u001b[0m\u001b[0;34m(\u001b[0m\u001b[0mX0\u001b[0m\u001b[0;34m=\u001b[0m\u001b[0mX0\u001b[0m\u001b[0;34m,\u001b[0m\u001b[0mdt\u001b[0m\u001b[0;34m=\u001b[0m\u001b[0mdt\u001b[0m\u001b[0;34m,\u001b[0m\u001b[0mnum_itr\u001b[0m\u001b[0;34m=\u001b[0m\u001b[0mnum_itr\u001b[0m\u001b[0;34m,\u001b[0m \u001b[0mf\u001b[0m\u001b[0;34m=\u001b[0m\u001b[0mf\u001b[0m\u001b[0;34m,\u001b[0m \u001b[0mg\u001b[0m\u001b[0;34m=\u001b[0m\u001b[0mg\u001b[0m\u001b[0;34m,\u001b[0m \u001b[0mdg\u001b[0m\u001b[0;34m=\u001b[0m\u001b[0mdg\u001b[0m\u001b[0;34m,\u001b[0m \u001b[0mlower_b\u001b[0m\u001b[0;34m=\u001b[0m\u001b[0mlower_b\u001b[0m\u001b[0;34m,\u001b[0m\u001b[0mupper_b\u001b[0m\u001b[0;34m=\u001b[0m\u001b[0mupper_b\u001b[0m\u001b[0;34m)\u001b[0m\u001b[0;34m\u001b[0m\u001b[0;34m\u001b[0m\u001b[0m\n\u001b[0m\u001b[1;32m     35\u001b[0m \u001b[0mprint\u001b[0m\u001b[0;34m(\u001b[0m\u001b[0;34m'-----Adaptive Milstein Method-----'\u001b[0m\u001b[0;34m)\u001b[0m\u001b[0;34m\u001b[0m\u001b[0;34m\u001b[0m\u001b[0m\n\u001b[1;32m     36\u001b[0m \u001b[0mprint\u001b[0m\u001b[0;34m(\u001b[0m\u001b[0;34m'Mean:{}, std:{}, Confidence Interval: ({},{})'\u001b[0m\u001b[0;34m.\u001b[0m\u001b[0mformat\u001b[0m\u001b[0;34m(\u001b[0m\u001b[0mtmean_Adapt_Mils\u001b[0m\u001b[0;34m,\u001b[0m \u001b[0mtstd_Adapt_Mils\u001b[0m\u001b[0;34m,\u001b[0m \u001b[0mcileft_Adapt_Mils\u001b[0m\u001b[0;34m,\u001b[0m \u001b[0mciright_Adapt_Mils\u001b[0m\u001b[0;34m)\u001b[0m\u001b[0;34m)\u001b[0m\u001b[0;34m\u001b[0m\u001b[0;34m\u001b[0m\u001b[0m\n",
      "\u001b[0;31mTypeError\u001b[0m: compute_MHT_EM() got an unexpected keyword argument 'dg'"
     ]
    }
   ],
   "source": [
    "# Parameters\n",
    "mu = 0.1\n",
    "sigma = 0.2\n",
    "X0 = 1\n",
    "upper_b = 2\n",
    "lower_b = 0.2\n",
    "exact_MHT = 7.6450\n",
    "\n",
    "# Asset Price instance\n",
    "asset_price = AssetPrice(lower_b=lower_b, upper_b=upper_b, mu=mu, sigma=sigma)\n",
    "f = asset_price.f\n",
    "g = asset_price.g\n",
    "dg = asset_price.dg\n",
    "df = asset_price.df\n",
    "\n",
    "# Run simulation\n",
    "\n",
    "# Euler Maryama\n",
    "t_exit_EM, tmean_EM, tstd_EM, cileft_EM, ciright_EM = em_milstein.compute_MHT_EM(X0=X0,dt=dt,num_itr=num_itr, f=f, g=g, lower_b=lower_b,upper_b=upper_b)\n",
    "print('-----Euler Method-----')\n",
    "print('Mean:{}, std:{}, Confidence Interval: ({},{})'.format(tmean_EM, tstd_EM, cileft_EM, ciright_EM))\n",
    "\n",
    "# Milstein\n",
    "t_exit_Mils, tmean_Mils, tstd_Mils, cileft_Mils, ciright_Mils = em_milstein.compute_MHT_Milstein(X0=X0,dt=dt,num_itr=num_itr, f=f, g=g, dg=dg, lower_b=lower_b,upper_b=upper_b)\n",
    "print('-----Misltein Method-----')\n",
    "print('Mean:{}, std:{}, Confidence Interval: ({},{})'.format(tmean_Mils, tstd_Mils, cileft_Mils, ciright_Mils))\n",
    "\n",
    "# Adaptive Euler Maryama\n",
    "t_exit_Adapt_EM, tmean_Adapt_EM, tstd_Adapt_EM, cileft_Adapt_EM, ciright_Adapt_EM = adaptive_timestep.compute_MHT_EM(X0=X0,dt=dt,num_itr=num_itr, f=f, g=g,lower_b=lower_b,upper_b=upper_b)\n",
    "print('-----Adaptive Euler Method-----')\n",
    "print('Mean:{}, std:{}, Confidence Interval: ({},{})'.format(tmean_Adapt_EM, tstd_Adapt_EM, cileft_Adapt_EM, ciright_Adapt_EM))\n",
    "\n",
    "# Adaptive Milstein\n",
    "t_exit_Adapt_Mils, tmean_Adapt_Mils, tstd_Adapt_Mils, cileft_Adapt_Mils, ciright_Adapt_Mils = adaptive_timestep.compute_MHT_Mils(X0=X0,dt=dt,num_itr=num_itr, f=f, g=g, dg=dg, lower_b=lower_b,upper_b=upper_b)\n",
    "print('-----Adaptive Milstein Method-----')\n",
    "print('Mean:{}, std:{}, Confidence Interval: ({},{})'.format(tmean_Adapt_Mils, tstd_Adapt_Mils, cileft_Adapt_Mils, ciright_Adapt_Mils))\n"
   ]
  },
  {
   "cell_type": "markdown",
   "metadata": {},
   "source": [
    "#### Euler-Maruyama"
   ]
  },
  {
   "cell_type": "markdown",
   "metadata": {},
   "source": [
    "#### Milstien"
   ]
  },
  {
   "cell_type": "markdown",
   "metadata": {},
   "source": [
    "####  EXPONENTIAL TIMESTEPPING WITH BOUNDARY TEST FOR SDEs (The exponential-Euler method with boundary test) "
   ]
  },
  {
   "cell_type": "markdown",
   "metadata": {},
   "source": [
    "#### Absorbing boundaries and optimal stopping in a stochastic differential equation"
   ]
  },
  {
   "cell_type": "markdown",
   "metadata": {},
   "source": [
    "#### Adaptive Timestep-Euler-Maruyama"
   ]
  },
  {
   "cell_type": "markdown",
   "metadata": {},
   "source": [
    "________________"
   ]
  },
  {
   "cell_type": "markdown",
   "metadata": {},
   "source": [
    "### Double Well Potential"
   ]
  },
  {
   "cell_type": "code",
   "execution_count": 27,
   "metadata": {
    "scrolled": true
   },
   "outputs": [
    {
     "name": "stderr",
     "output_type": "stream",
     "text": [
      " 22%|██▏       | 11013/50000 [00:01<00:06, 6377.06it/s]\n"
     ]
    },
    {
     "ename": "KeyboardInterrupt",
     "evalue": "",
     "output_type": "error",
     "traceback": [
      "\u001b[0;31m---------------------------------------------------------------------------\u001b[0m",
      "\u001b[0;31mKeyboardInterrupt\u001b[0m                         Traceback (most recent call last)",
      "\u001b[0;32m<ipython-input-27-a418e5b16224>\u001b[0m in \u001b[0;36m<module>\u001b[0;34m\u001b[0m\n\u001b[1;32m     18\u001b[0m \u001b[0;34m\u001b[0m\u001b[0m\n\u001b[1;32m     19\u001b[0m \u001b[0;31m# Euler Maryama\u001b[0m\u001b[0;34m\u001b[0m\u001b[0;34m\u001b[0m\u001b[0;34m\u001b[0m\u001b[0m\n\u001b[0;32m---> 20\u001b[0;31m \u001b[0mt_exit_EM\u001b[0m\u001b[0;34m,\u001b[0m \u001b[0mtmean_EM\u001b[0m\u001b[0;34m,\u001b[0m \u001b[0mtstd_EM\u001b[0m\u001b[0;34m,\u001b[0m \u001b[0mcileft_EM\u001b[0m\u001b[0;34m,\u001b[0m \u001b[0mciright_EM\u001b[0m \u001b[0;34m=\u001b[0m \u001b[0mem_milstein\u001b[0m\u001b[0;34m.\u001b[0m\u001b[0mcompute_MHT_EM\u001b[0m\u001b[0;34m(\u001b[0m\u001b[0mX0\u001b[0m\u001b[0;34m=\u001b[0m\u001b[0mX0\u001b[0m\u001b[0;34m,\u001b[0m\u001b[0mdt\u001b[0m\u001b[0;34m=\u001b[0m\u001b[0mdt\u001b[0m\u001b[0;34m,\u001b[0m\u001b[0mnum_itr\u001b[0m\u001b[0;34m=\u001b[0m\u001b[0mnum_itr\u001b[0m\u001b[0;34m,\u001b[0m \u001b[0mf\u001b[0m\u001b[0;34m=\u001b[0m\u001b[0mf\u001b[0m\u001b[0;34m,\u001b[0m \u001b[0mg\u001b[0m\u001b[0;34m=\u001b[0m\u001b[0mg\u001b[0m\u001b[0;34m,\u001b[0m \u001b[0mlower_b\u001b[0m\u001b[0;34m=\u001b[0m\u001b[0mlower_b\u001b[0m\u001b[0;34m,\u001b[0m\u001b[0mupper_b\u001b[0m\u001b[0;34m=\u001b[0m\u001b[0mupper_b\u001b[0m\u001b[0;34m)\u001b[0m\u001b[0;34m\u001b[0m\u001b[0;34m\u001b[0m\u001b[0m\n\u001b[0m\u001b[1;32m     21\u001b[0m \u001b[0mprint\u001b[0m\u001b[0;34m(\u001b[0m\u001b[0;34m'-----Euler Method-----'\u001b[0m\u001b[0;34m)\u001b[0m\u001b[0;34m\u001b[0m\u001b[0;34m\u001b[0m\u001b[0m\n\u001b[1;32m     22\u001b[0m \u001b[0mprint\u001b[0m\u001b[0;34m(\u001b[0m\u001b[0;34m'Mean:{}, std:{}, Confidence Interval: ({},{})'\u001b[0m\u001b[0;34m.\u001b[0m\u001b[0mformat\u001b[0m\u001b[0;34m(\u001b[0m\u001b[0mtmean_EM\u001b[0m\u001b[0;34m,\u001b[0m \u001b[0mtstd_EM\u001b[0m\u001b[0;34m,\u001b[0m \u001b[0mcileft_EM\u001b[0m\u001b[0;34m,\u001b[0m \u001b[0mciright_EM\u001b[0m\u001b[0;34m)\u001b[0m\u001b[0;34m)\u001b[0m\u001b[0;34m\u001b[0m\u001b[0;34m\u001b[0m\u001b[0m\n",
      "\u001b[0;32m<ipython-input-25-e705e0a3da60>\u001b[0m in \u001b[0;36mcompute_MHT_EM\u001b[0;34m(self, X0, dt, num_itr, f, g, lower_b, upper_b)\u001b[0m\n\u001b[1;32m     17\u001b[0m             \u001b[0mt\u001b[0m \u001b[0;34m=\u001b[0m \u001b[0;36m0\u001b[0m\u001b[0;34m\u001b[0m\u001b[0;34m\u001b[0m\u001b[0m\n\u001b[1;32m     18\u001b[0m             \u001b[0;32mwhile\u001b[0m \u001b[0mX\u001b[0m \u001b[0;34m>\u001b[0m \u001b[0mlower_b\u001b[0m \u001b[0;32mand\u001b[0m \u001b[0mX\u001b[0m \u001b[0;34m<\u001b[0m \u001b[0mupper_b\u001b[0m\u001b[0;34m:\u001b[0m\u001b[0;34m\u001b[0m\u001b[0;34m\u001b[0m\u001b[0m\n\u001b[0;32m---> 19\u001b[0;31m                 \u001b[0mdW\u001b[0m \u001b[0;34m=\u001b[0m \u001b[0mnp\u001b[0m\u001b[0;34m.\u001b[0m\u001b[0msqrt\u001b[0m\u001b[0;34m(\u001b[0m\u001b[0mdt\u001b[0m\u001b[0;34m)\u001b[0m \u001b[0;34m*\u001b[0m \u001b[0mnp\u001b[0m\u001b[0;34m.\u001b[0m\u001b[0mrandom\u001b[0m\u001b[0;34m.\u001b[0m\u001b[0mrandn\u001b[0m\u001b[0;34m(\u001b[0m\u001b[0;34m)\u001b[0m\u001b[0;34m\u001b[0m\u001b[0;34m\u001b[0m\u001b[0m\n\u001b[0m\u001b[1;32m     20\u001b[0m                 \u001b[0mX\u001b[0m \u001b[0;34m=\u001b[0m \u001b[0mX\u001b[0m \u001b[0;34m+\u001b[0m \u001b[0mdt\u001b[0m\u001b[0;34m*\u001b[0m\u001b[0mf\u001b[0m\u001b[0;34m(\u001b[0m\u001b[0mX\u001b[0m\u001b[0;34m)\u001b[0m \u001b[0;34m+\u001b[0m \u001b[0mg\u001b[0m\u001b[0;34m(\u001b[0m\u001b[0mX\u001b[0m\u001b[0;34m)\u001b[0m\u001b[0;34m*\u001b[0m\u001b[0mdW\u001b[0m\u001b[0;34m\u001b[0m\u001b[0;34m\u001b[0m\u001b[0m\n\u001b[1;32m     21\u001b[0m                 \u001b[0mt\u001b[0m \u001b[0;34m+=\u001b[0m \u001b[0mdt\u001b[0m\u001b[0;34m\u001b[0m\u001b[0;34m\u001b[0m\u001b[0m\n",
      "\u001b[0;31mKeyboardInterrupt\u001b[0m: "
     ]
    }
   ],
   "source": [
    "# Parameters\n",
    "sigma = 1\n",
    "X0 = 0\n",
    "lower_b = None\n",
    "upper_b = 1\n",
    "dt = 0.1\n",
    "\n",
    "\n",
    "# New instance of SimpleSDE class\n",
    "double_well_potential = DoubleWellPotential(sigma=sigma)\n",
    "f = double_well_potential.f\n",
    "g = double_well_potential.g\n",
    "dg = double_well_potential.dg\n",
    "df = double_well_potential.df\n",
    "\n",
    "\n",
    "# Run simulation\n",
    "\n",
    "# Euler Maryama\n",
    "t_exit_EM, tmean_EM, tstd_EM, cileft_EM, ciright_EM = em_milstein.compute_MHT_EM(X0=X0,dt=dt,num_itr=num_itr, f=f, g=g, lower_b=lower_b,upper_b=upper_b)\n",
    "print('-----Euler Method-----')\n",
    "print('Mean:{}, std:{}, Confidence Interval: ({},{})'.format(tmean_EM, tstd_EM, cileft_EM, ciright_EM))\n",
    "\n",
    "# Milstein\n",
    "t_exit_Mils, tmean_Mils, tstd_Mils, cileft_Mils, ciright_Mils = em_milstein.compute_MHT_Milstein(X0=X0,dt=dt,num_itr=num_itr, f=f, g=g, dg=dg, lower_b=lower_b,upper_b=upper_b)\n",
    "print('-----Misltein Method-----')\n",
    "print('Mean:{}, std:{}, Confidence Interval: ({},{})'.format(tmean_Mils, tstd_Mils, cileft_Mils, ciright_Mils))\n",
    "\n",
    "# Adaptive Euler Maryama\n",
    "t_exit_Adapt_EM, tmean_Adapt_EM, tstd_Adapt_EM, cileft_Adapt_EM, ciright_Adapt_EM = adaptive_timestep.compute_MHT_EM(X0=X0,dt=dt,num_itr=num_itr, f=f, g=g,lower_b=lower_b,upper_b=upper_b)\n",
    "print('-----Adaptive Euler Method-----')\n",
    "print('Mean:{}, std:{}, Confidence Interval: ({},{})'.format(tmean_Adapt_EM, tstd_Adapt_EM, cileft_Adapt_EM, ciright_Adapt_EM))\n",
    "\n",
    "# Adaptive Milstein\n",
    "t_exit_Adapt_Mils, tmean_Adapt_Mils, tstd_Adapt_Mils, cileft_Adapt_Mils, ciright_Adapt_Mils = adaptive_timestep.compute_MHT_Mils(X0=X0,dt=dt,num_itr=num_itr, f=f, g=g, dg=dg, lower_b=lower_b,upper_b=upper_b)\n",
    "print('-----Adaptive Milstein Method-----')\n",
    "print('Mean:{}, std:{}, Confidence Interval: ({},{})'.format(tmean_Adapt_Mils, tstd_Adapt_Mils, cileft_Adapt_Mils, ciright_Adapt_Mils))\n",
    "\n",
    "# Euler-Maryama Boundary Check\n",
    "t_exit_Bound_EM, tmean_Bound_EM, tstd_Bound_EM, cileft_Bound_EM, ciright_Bound_EM = euler_maryama_boundary_check.compute_MHT(X0=X0,dt=dt,num_itr=num_itr, f=f, g=g,df = df, lower_b=lower_b,upper_b=upper_b)\n",
    "print('-----Euler Method With Boundary Check-----')\n",
    "print('Mean:{}, std:{}, Confidence Interval: ({},{})'.format(tmean_Bound_EM, tstd_Bound_EM, cileft_Bound_EM, ciright_Bound_EM))\n",
    "\n",
    "# Exponential Euler\n",
    "t_exit_expo_EM, tmean_expo_EM, tstd_expo_EM, cileft_expo_EM, ciright_expo_EM = exponential_timestepping.compute_MHT(X0=X0, f=f, g=g , num_itr=num_itr, lower_b=None, upper_b=upper_b)\n",
    "print('-----Exponential Euler-----')\n",
    "print('Mean:{}, std:{}, Confidence Interval: ({},{})'.format(tmean_expo_EM, tstd_expo_EM, cileft_expo_EM, ciright_expo_EM))"
   ]
  },
  {
   "cell_type": "code",
   "execution_count": 114,
   "metadata": {},
   "outputs": [
    {
     "name": "stderr",
     "output_type": "stream",
     "text": [
      "  5%|▍         | 2307/50000 [09:09<3:15:07,  4.07it/s]"
     ]
    },
    {
     "ename": "KeyboardInterrupt",
     "evalue": "",
     "output_type": "error",
     "traceback": [
      "\u001b[0;31m---------------------------------------------------------------------------\u001b[0m",
      "\u001b[0;31mKeyboardInterrupt\u001b[0m                         Traceback (most recent call last)",
      "\u001b[0;32m<ipython-input-114-bbb208598701>\u001b[0m in \u001b[0;36m<module>\u001b[0;34m\u001b[0m\n\u001b[1;32m      1\u001b[0m \u001b[0;31m# Exponential Euler\u001b[0m\u001b[0;34m\u001b[0m\u001b[0;34m\u001b[0m\u001b[0;34m\u001b[0m\u001b[0m\n\u001b[0;32m----> 2\u001b[0;31m \u001b[0mt_exit_expo_EM\u001b[0m\u001b[0;34m,\u001b[0m \u001b[0mtmean_expo_EM\u001b[0m\u001b[0;34m,\u001b[0m \u001b[0mtstd_expo_EM\u001b[0m\u001b[0;34m,\u001b[0m \u001b[0mcileft_expo_EM\u001b[0m\u001b[0;34m,\u001b[0m \u001b[0mciright_expo_EM\u001b[0m \u001b[0;34m=\u001b[0m \u001b[0mexponential_timestepping\u001b[0m\u001b[0;34m.\u001b[0m\u001b[0mcompute_MHT\u001b[0m\u001b[0;34m(\u001b[0m\u001b[0mX0\u001b[0m\u001b[0;34m=\u001b[0m\u001b[0mX0\u001b[0m\u001b[0;34m,\u001b[0m \u001b[0mf\u001b[0m\u001b[0;34m=\u001b[0m\u001b[0mf\u001b[0m\u001b[0;34m,\u001b[0m \u001b[0mg\u001b[0m\u001b[0;34m=\u001b[0m\u001b[0mg\u001b[0m \u001b[0;34m,\u001b[0m \u001b[0mnum_itr\u001b[0m\u001b[0;34m=\u001b[0m\u001b[0mnum_itr\u001b[0m\u001b[0;34m,\u001b[0m \u001b[0mlower_b\u001b[0m\u001b[0;34m=\u001b[0m\u001b[0;32mNone\u001b[0m\u001b[0;34m,\u001b[0m \u001b[0mupper_b\u001b[0m\u001b[0;34m=\u001b[0m\u001b[0mupper_b\u001b[0m\u001b[0;34m)\u001b[0m\u001b[0;34m\u001b[0m\u001b[0;34m\u001b[0m\u001b[0m\n\u001b[0m\u001b[1;32m      3\u001b[0m \u001b[0mprint\u001b[0m\u001b[0;34m(\u001b[0m\u001b[0;34m'-----Exponential Euler-----'\u001b[0m\u001b[0;34m)\u001b[0m\u001b[0;34m\u001b[0m\u001b[0;34m\u001b[0m\u001b[0m\n\u001b[1;32m      4\u001b[0m \u001b[0mprint\u001b[0m\u001b[0;34m(\u001b[0m\u001b[0;34m'Mean:{}, std:{}, Confidence Interval: ({},{})'\u001b[0m\u001b[0;34m.\u001b[0m\u001b[0mformat\u001b[0m\u001b[0;34m(\u001b[0m\u001b[0mtmean_expo_EM\u001b[0m\u001b[0;34m,\u001b[0m \u001b[0mtstd_expo_EM\u001b[0m\u001b[0;34m,\u001b[0m \u001b[0mcileft_expo_EM\u001b[0m\u001b[0;34m,\u001b[0m \u001b[0mciright_expo_EM\u001b[0m\u001b[0;34m)\u001b[0m\u001b[0;34m)\u001b[0m\u001b[0;34m\u001b[0m\u001b[0;34m\u001b[0m\u001b[0m\n",
      "\u001b[0;32m<ipython-input-107-79476d95db81>\u001b[0m in \u001b[0;36mcompute_MHT\u001b[0;34m(self, X0, f, g, num_itr, lower_b, upper_b)\u001b[0m\n\u001b[1;32m     27\u001b[0m                 \u001b[0mv\u001b[0m \u001b[0;34m=\u001b[0m \u001b[0mnp\u001b[0m\u001b[0;34m.\u001b[0m\u001b[0mrandom\u001b[0m\u001b[0;34m.\u001b[0m\u001b[0muniform\u001b[0m\u001b[0;34m(\u001b[0m\u001b[0;34m)\u001b[0m\u001b[0;34m\u001b[0m\u001b[0;34m\u001b[0m\u001b[0m\n\u001b[1;32m     28\u001b[0m                 \u001b[0mp\u001b[0m \u001b[0;34m=\u001b[0m \u001b[0;34m-\u001b[0m\u001b[0mnp\u001b[0m\u001b[0;34m.\u001b[0m\u001b[0mlog\u001b[0m\u001b[0;34m(\u001b[0m\u001b[0mv\u001b[0m\u001b[0;34m)\u001b[0m\u001b[0;34m\u001b[0m\u001b[0;34m\u001b[0m\u001b[0m\n\u001b[0;32m---> 29\u001b[0;31m                 \u001b[0mu\u001b[0m \u001b[0;34m=\u001b[0m \u001b[0mnp\u001b[0m\u001b[0;34m.\u001b[0m\u001b[0mrandom\u001b[0m\u001b[0;34m.\u001b[0m\u001b[0muniform\u001b[0m\u001b[0;34m(\u001b[0m\u001b[0;34m)\u001b[0m\u001b[0;34m\u001b[0m\u001b[0;34m\u001b[0m\u001b[0m\n\u001b[0m\u001b[1;32m     30\u001b[0m                 \u001b[0msign\u001b[0m \u001b[0;34m=\u001b[0m \u001b[0mnp\u001b[0m\u001b[0;34m.\u001b[0m\u001b[0msign\u001b[0m\u001b[0;34m(\u001b[0m\u001b[0;36m0.5\u001b[0m \u001b[0;34m*\u001b[0m \u001b[0;34m(\u001b[0m\u001b[0;36m1\u001b[0m \u001b[0;34m+\u001b[0m \u001b[0mself\u001b[0m\u001b[0;34m.\u001b[0m\u001b[0mF\u001b[0m\u001b[0;34m(\u001b[0m\u001b[0mXn\u001b[0m\u001b[0;34m,\u001b[0m\u001b[0mf\u001b[0m\u001b[0;34m,\u001b[0m\u001b[0mg\u001b[0m\u001b[0;34m)\u001b[0m\u001b[0;34m/\u001b[0m\u001b[0mself\u001b[0m\u001b[0;34m.\u001b[0m\u001b[0mN\u001b[0m\u001b[0;34m(\u001b[0m\u001b[0mXn\u001b[0m\u001b[0;34m,\u001b[0m\u001b[0mf\u001b[0m\u001b[0;34m,\u001b[0m\u001b[0mg\u001b[0m\u001b[0;34m)\u001b[0m\u001b[0;34m)\u001b[0m \u001b[0;34m-\u001b[0m \u001b[0mu\u001b[0m\u001b[0;34m)\u001b[0m\u001b[0;34m\u001b[0m\u001b[0;34m\u001b[0m\u001b[0m\n\u001b[1;32m     31\u001b[0m                 \u001b[0mXn_1\u001b[0m \u001b[0;34m=\u001b[0m \u001b[0mXn\u001b[0m \u001b[0;34m+\u001b[0m \u001b[0;34m(\u001b[0m\u001b[0msign\u001b[0m\u001b[0;34m*\u001b[0m\u001b[0mp\u001b[0m\u001b[0;34m)\u001b[0m\u001b[0;34m/\u001b[0m\u001b[0;34m(\u001b[0m\u001b[0mself\u001b[0m\u001b[0;34m.\u001b[0m\u001b[0mN\u001b[0m\u001b[0;34m(\u001b[0m\u001b[0mXn\u001b[0m\u001b[0;34m,\u001b[0m\u001b[0mf\u001b[0m\u001b[0;34m,\u001b[0m\u001b[0mg\u001b[0m\u001b[0;34m)\u001b[0m\u001b[0;34m-\u001b[0m\u001b[0msign\u001b[0m\u001b[0;34m*\u001b[0m\u001b[0mself\u001b[0m\u001b[0;34m.\u001b[0m\u001b[0mF\u001b[0m\u001b[0;34m(\u001b[0m\u001b[0mXn\u001b[0m\u001b[0;34m,\u001b[0m\u001b[0mf\u001b[0m\u001b[0;34m,\u001b[0m\u001b[0mg\u001b[0m\u001b[0;34m)\u001b[0m\u001b[0;34m)\u001b[0m\u001b[0;34m\u001b[0m\u001b[0;34m\u001b[0m\u001b[0m\n",
      "\u001b[0;31mKeyboardInterrupt\u001b[0m: "
     ]
    }
   ],
   "source": [
    "# Exponential Euler\n",
    "t_exit_expo_EM, tmean_expo_EM, tstd_expo_EM, cileft_expo_EM, ciright_expo_EM = exponential_timestepping.compute_MHT(X0=X0, f=f, g=g , num_itr=num_itr, lower_b=None, upper_b=upper_b)\n",
    "print('-----Exponential Euler-----')\n",
    "print('Mean:{}, std:{}, Confidence Interval: ({},{})'.format(tmean_expo_EM, tstd_expo_EM, cileft_expo_EM, ciright_expo_EM))"
   ]
  },
  {
   "cell_type": "markdown",
   "metadata": {},
   "source": [
    "#### Euler-Maruyama"
   ]
  },
  {
   "cell_type": "markdown",
   "metadata": {},
   "source": [
    "#### Milstien"
   ]
  },
  {
   "cell_type": "markdown",
   "metadata": {},
   "source": [
    "####  EXPONENTIAL TIMESTEPPING WITH BOUNDARY TEST FOR SDEs (The exponential-Euler method with boundary test) "
   ]
  },
  {
   "cell_type": "markdown",
   "metadata": {},
   "source": [
    "#### Absorbing boundaries and optimal stopping in a stochastic differential equation"
   ]
  },
  {
   "cell_type": "markdown",
   "metadata": {},
   "source": [
    "#### Adaptive Timestep-Euler-Maruyama"
   ]
  },
  {
   "cell_type": "markdown",
   "metadata": {},
   "source": [
    "#### Adaptive Timestep-Milstein"
   ]
  },
  {
   "cell_type": "markdown",
   "metadata": {},
   "source": [
    "---------------------------"
   ]
  },
  {
   "cell_type": "markdown",
   "metadata": {},
   "source": [
    "### Opinion Poll"
   ]
  },
  {
   "cell_type": "markdown",
   "metadata": {},
   "source": [
    "#### Euler-Maruyama"
   ]
  },
  {
   "cell_type": "markdown",
   "metadata": {},
   "source": [
    "#### Milstien"
   ]
  },
  {
   "cell_type": "markdown",
   "metadata": {},
   "source": [
    "####  EXPONENTIAL TIMESTEPPING WITH BOUNDARY TEST FOR SDEs (The exponential-Euler method with boundary test) "
   ]
  },
  {
   "cell_type": "markdown",
   "metadata": {},
   "source": [
    "#### Absorbing boundaries and optimal stopping in a stochastic differential equation"
   ]
  },
  {
   "cell_type": "markdown",
   "metadata": {},
   "source": [
    "#### Adaptive Timestep-Euler-Maruyama"
   ]
  },
  {
   "cell_type": "markdown",
   "metadata": {},
   "source": [
    "#### Adaptive Timestep-Milstein"
   ]
  }
 ],
 "metadata": {
  "kernelspec": {
   "display_name": "Python 3",
   "language": "python",
   "name": "python3"
  },
  "language_info": {
   "codemirror_mode": {
    "name": "ipython",
    "version": 3
   },
   "file_extension": ".py",
   "mimetype": "text/x-python",
   "name": "python",
   "nbconvert_exporter": "python",
   "pygments_lexer": "ipython3",
   "version": "3.6.8"
  }
 },
 "nbformat": 4,
 "nbformat_minor": 2
}
