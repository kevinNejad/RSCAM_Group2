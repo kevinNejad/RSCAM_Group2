{
 "cells": [
  {
   "cell_type": "markdown",
   "metadata": {},
   "source": [
    "# Import libraries"
   ]
  },
  {
   "cell_type": "code",
   "execution_count": 1,
   "metadata": {},
   "outputs": [],
   "source": [
    "import numpy as np\n",
    "import matplotlib.pyplot as plt\n",
    "from tqdm import tqdm"
   ]
  },
  {
   "cell_type": "markdown",
   "metadata": {},
   "source": [
    "# Stocastic Differential Equations"
   ]
  },
  {
   "cell_type": "markdown",
   "metadata": {},
   "source": [
    "## Asset Price"
   ]
  },
  {
   "cell_type": "code",
   "execution_count": 30,
   "metadata": {},
   "outputs": [],
   "source": [
    "class AssetPrice:\n",
    "    \"\"\"\n",
    "    This is a class for Asset Price ODE. \n",
    "    It contains methods for finding exact solution, plotting and exat mean hitting time.\n",
    "    Arguments:\n",
    "    a: Lower bound\n",
    "    b: Upper bound\n",
    "    mu: mu\n",
    "    sigma: sigma\n",
    "    \"\"\"\n",
    "    def __init__(self, lower_b, upper_b, mu, sigma):\n",
    "        self.lower_b = lower_b\n",
    "        self.upper_b = upper_b\n",
    "        self.mu = mu\n",
    "        self.sigma = sigma\n",
    "        \n",
    "    def f(self,x):\n",
    "        \"\"\"\n",
    "        Function of f(x) in asset price stochastic differential equation (deterministic part)\n",
    "        \"\"\"\n",
    "        return self.mu * x\n",
    "    \n",
    "    def g(self,x):\n",
    "        \"\"\"\n",
    "        Function of g(x) in asset price stochastic differential equation (stochastic part)\n",
    "        \"\"\"\n",
    "        return self.sigma * x\n",
    "    \n",
    "    def dg(self,x):\n",
    "        \"\"\"\n",
    "        Function of g'(x) in asset price stochastic differential equation (stochastic part)\n",
    "        \"\"\"\n",
    "        return self.sigma\n",
    "  "
   ]
  },
  {
   "cell_type": "markdown",
   "metadata": {},
   "source": [
    "## Asset Price Interest Rate"
   ]
  },
  {
   "cell_type": "code",
   "execution_count": 3,
   "metadata": {},
   "outputs": [],
   "source": [
    "class AssetPriceInterestRate:\n",
    "    def __init__(self, lam, mu, sigma):\n",
    "        self.lam = lam\n",
    "        self.mu = mu\n",
    "        self.sigma = sigma\n",
    "        \n",
    "    \n",
    "    def f(self,x):\n",
    "        return self.lam*(self.mu - x)\n",
    "    \n",
    "    def g(self,x):\n",
    "        return self.sigma*np.sqrt(x)\n",
    "    "
   ]
  },
  {
   "cell_type": "markdown",
   "metadata": {},
   "source": [
    "## Opinion Polls"
   ]
  },
  {
   "cell_type": "code",
   "execution_count": 4,
   "metadata": {},
   "outputs": [],
   "source": [
    "class OpinionPolls:\n",
    "    def __init__(self, mu, sigma):\n",
    "        self.mu = mu\n",
    "        self.sigma = sigma\n",
    "        \n",
    "    def f(self,x):\n",
    "        return -self.mu*(x/(1-x**2))\n",
    "        \n",
    "    def g(self,x):\n",
    "        return self.sigma"
   ]
  },
  {
   "cell_type": "markdown",
   "metadata": {},
   "source": [
    "## Population Dynamic "
   ]
  },
  {
   "cell_type": "code",
   "execution_count": 5,
   "metadata": {},
   "outputs": [],
   "source": [
    "class PopulationDynamic:\n",
    "    def __init__(self, K, r, beta):\n",
    "        self.K = K\n",
    "        self.r = r\n",
    "        self.beta = beta\n",
    "        \n",
    "    def f(self,x):\n",
    "        return self.r*x*(self.K - x)\n",
    "    \n",
    "    def g(self,x):\n",
    "        return self.beta*x"
   ]
  },
  {
   "cell_type": "markdown",
   "metadata": {},
   "source": [
    "## Epidemic Model"
   ]
  },
  {
   "cell_type": "code",
   "execution_count": 6,
   "metadata": {},
   "outputs": [],
   "source": [
    "class EpidemicModel:\n",
    "    \n",
    "    def __init__(self, p, B, beta, alpha, rho, C):\n",
    "        self.p = p\n",
    "        self.B = B\n",
    "        self.beta = beta\n",
    "        self.alpha = alpha\n",
    "        self.rho = rho \n",
    "        self.C = C\n",
    "    \n",
    "    def f(self, x):\n",
    "        return (self.p -1)*self.B*x + (self.beta*self.C - self.alpha)*(1 - x)*x\n",
    "    \n",
    "    def g(self, x):\n",
    "        return self.p*self.C*(1-x)*x"
   ]
  },
  {
   "cell_type": "markdown",
   "metadata": {},
   "source": [
    "## Political Opinion"
   ]
  },
  {
   "cell_type": "code",
   "execution_count": 7,
   "metadata": {},
   "outputs": [],
   "source": [
    "class PoliticalOpinion:\n",
    "    def __init__(self, r, G, eps):\n",
    "        self.r = r\n",
    "        self.G = G\n",
    "        self.eps = eps\n",
    "        \n",
    "    def f(self,x):\n",
    "        return self.r*(self.G-x)\n",
    "    \n",
    "    def g(self,x):\n",
    "        return np.sqrt(self.eps*x*(1-x))\n",
    "    "
   ]
  },
  {
   "cell_type": "markdown",
   "metadata": {},
   "source": [
    "## Double Well Potential"
   ]
  },
  {
   "cell_type": "code",
   "execution_count": 8,
   "metadata": {},
   "outputs": [],
   "source": [
    "class DoubleWellPotential:\n",
    "    def __init__(self, sigma):\n",
    "        self.sigma = sigma\n",
    "        \n",
    "    def _V(self,x):\n",
    "        return (x**2)*(x-2)**2\n",
    "    \n",
    "    def _dV(self,x):\n",
    "        return 4*x*(x-2)*(x-1)\n",
    "    \n",
    "    def f(self,x):\n",
    "        return -self._dV(x)\n",
    "    \n",
    "    def g(self,x):\n",
    "        return self.sigma"
   ]
  },
  {
   "cell_type": "code",
   "execution_count": 9,
   "metadata": {},
   "outputs": [],
   "source": [
    "class SimpleSDE:\n",
    "    def __init__(self, mu, sigma):\n",
    "        self.mu = mu\n",
    "        self.sigma = sigma\n",
    "    \n",
    "    def f(self, x):\n",
    "        return self.mu\n",
    "    \n",
    "    def g(self, x):\n",
    "        return self.sigma\n",
    "    "
   ]
  },
  {
   "cell_type": "markdown",
   "metadata": {},
   "source": [
    "# Methods"
   ]
  },
  {
   "cell_type": "markdown",
   "metadata": {},
   "source": [
    "## EXPONENTIAL TIMESTEPPING WITH BOUNDARY TEST FOR SDEs "
   ]
  },
  {
   "cell_type": "markdown",
   "metadata": {},
   "source": [
    "### The exponential-Euler method with boundary test (1st Algorithm)"
   ]
  },
  {
   "cell_type": "markdown",
   "metadata": {},
   "source": [
    "#### Assumptions: $f(X_t) = \\mu$ and $\\sigma(X_t)=\\epsilon$"
   ]
  },
  {
   "cell_type": "code",
   "execution_count": 10,
   "metadata": {},
   "outputs": [],
   "source": [
    "class ExponentialTimestepping:\n",
    "    def __init__(self, rate):\n",
    "        self.rate = rate\n",
    "    \n",
    "    def F(self, Xt, f, g):\n",
    "        return f(Xt) / g(Xt)**2\n",
    "        \n",
    "    def N(self, Xt, g):\n",
    "        return np.sqrt((2*self.rate / g(Xt)**2) + self.F(Xt)**2)\n",
    "    \n",
    "    \n",
    "    def compute_MHT(self, X0, dt, f, g , num_itr, lower_b=None, upper_b=None):\n",
    "        if lower_b is None and upper_b is None:\n",
    "            assert(\"Please provide a boundary value\")  \n",
    "        if lower_a is None:\n",
    "            lower_a = -np.inf\n",
    "        if uuper_b is None:\n",
    "            lower_b = np.inf\n",
    "            \n",
    "        t_exit = []\n",
    "        \n",
    "        for i in range(num_itr):\n",
    "            self.breaked = 0 \n",
    "            tn = 0\n",
    "            Xn = X0\n",
    "            while Xn > lower_b and Xn < upper_b:\n",
    "                v = np.random.uniform()\n",
    "                p = -log(v)\n",
    "                u = np.random.uniform()\n",
    "                sign = np.sign(0.5 * (1 + self.F(Xt)/self.N(Xt)) - u)\n",
    "                Xt_1 = Xt + (sign*p)/(self.N(Xt)-sign*self.F(Xt))\n",
    "                \n",
    "                w = np.random.uniform()\n",
    "                if Xn_1 < lower_b or w < np.exp(-2*self.N(b-max(Xt, Xn_1))) or Xnew > upper_b or w < np.exp(-2*self.N(min(Xt, Xn_1)-b)):\n",
    "                    self.breaked += 1\n",
    "                    break\n",
    "                    \n",
    "                tn += dt\n",
    "                Xn = Xn_1\n",
    "        \n",
    "        tmean = np.mean(t_exit)\n",
    "        tstd = np.std(t_exit)\n",
    "\n",
    "        cileft = t_exit, tmean - 1.96*tstd/np.sqrt(npaths)\n",
    "        ciright = t_exit, tmean + 1.96*tstd/np.sqrt(npaths)\n",
    "        \n",
    "        return tmean, tstd, cileft, ciright\n",
    "    \n",
    "    def plot(self,t_exit):\n",
    "        histogram,bins = np.histogram(t_exit,bins=20,range=[0,20])\n",
    "        midx = (bins[0:-1]+bins[1:])/2\n",
    "        plt.bar(midx,histogram,label='Test')\n",
    "        plt.show()\n",
    "    "
   ]
  },
  {
   "cell_type": "markdown",
   "metadata": {},
   "source": [
    "### The exponential-V method with boundary test(2nd Algorithm)"
   ]
  },
  {
   "cell_type": "markdown",
   "metadata": {},
   "source": [
    "#### Assumptions: $\\sigma(x) = \\epsilon$ but $f(x)$ is a function of $x$"
   ]
  },
  {
   "cell_type": "code",
   "execution_count": 32,
   "metadata": {},
   "outputs": [],
   "source": [
    "class ExponentialVTimestepping:\n",
    "    def __init__(self, rate):\n",
    "        self.V = None\n",
    "        self.rate = rate\n",
    "        \n",
    "    \n",
    "    def nu(self, Xt, g):\n",
    "        return np.sqrt(2*self.rate / g(Xt)**2)\n",
    "    \n",
    "\n",
    "    def compute_MHT(self, X0, dt, f, g , num_itr, lower_b=None, upper_b=None):\n",
    "        if self.V is None:\n",
    "            assert(\"Please provide value for V\")\n",
    "            \n",
    "        if lower_b is None and upper_b is None:\n",
    "            assert(\"Please provide a boundary value\")  \n",
    "        if lower_a is None:\n",
    "            lower_a = -np.inf\n",
    "        if uuper_b is None:\n",
    "            lower_b = np.inf\n",
    "            \n",
    "        t_exit = []\n",
    "        \n",
    "        for i in range(num_itr):\n",
    "            self.breaked = 0 \n",
    "            tn = 0\n",
    "            Xn = X0\n",
    "            while Xn > lower_b and Xn < upper_b:\n",
    "                nu = self.nu(Xt, g)\n",
    "                v = np.random.uniform()\n",
    "                p = -log(v)\n",
    "                u = np.random.uniform()\n",
    "                sign = np.sign(0.5*(1 + (nu**(-2)) * (g(Xt)**(-2))*f(Xt)) - u)\n",
    "                Xt_1 = Xt + (nu**(-1))*sign*(p - (g(Xt)**(-2))*(self.V(Xt + (nu**(-1))*sign*p) - self.V(Xt)))\n",
    "                                 \n",
    "                w = np.random.uniform()\n",
    "                nu = self.nu(Xt, g)\n",
    "                if Xt_1 < lower_b or w < np.exp(-2*nu(min(Xt, Xt_1)-b)) or Xt_1 > upper_b or w < np.exp(-2*nu(b - max(Xt, Xt_1))):\n",
    "                    self.breaked += 1\n",
    "                    break\n",
    "                \n",
    "                tn += dt\n",
    "                Xn = Xn_1\n",
    "                \n",
    "        tmean = np.mean(t_exit)\n",
    "        tstd = np.std(t_exit)\n",
    "\n",
    "        cileft = tmean - 1.96*tstd/np.sqrt(npaths)\n",
    "        ciright = tmean + 1.96*tstd/np.sqrt(npaths)\n",
    "        \n",
    "        return t_exit, tmean, tstd, cileft, ciright\n",
    "    \n",
    "    \n",
    "    def plot(self,t_exit):\n",
    "        histogram,bins = np.histogram(t_exit,bins=20,range=[0,20])\n",
    "        midx = (bins[0:-1]+bins[1:])/2\n",
    "        plt.bar(midx,histogram,label='Test')\n",
    "        plt.show()\n",
    "    "
   ]
  },
  {
   "cell_type": "markdown",
   "metadata": {},
   "source": [
    "-----------------------------------------------------------"
   ]
  },
  {
   "cell_type": "markdown",
   "metadata": {},
   "source": [
    "## Absorbing boundaries and optimal stopping in a stochastic differential equation"
   ]
  },
  {
   "cell_type": "markdown",
   "metadata": {},
   "source": [
    "#### Assumtions $g(x)=\\sigma$"
   ]
  },
  {
   "cell_type": "code",
   "execution_count": 13,
   "metadata": {},
   "outputs": [],
   "source": [
    "class EulerMaryamaBoundaryCheck:\n",
    "    def __init__(self):\n",
    "        self.breaked = 0\n",
    "        self.thres_coeff = 5\n",
    "        pass\n",
    "    \n",
    "    def P_hit(self, Xn,Xn_1,dt,bound,D, df):\n",
    "        return np.exp(-df(bound)/(2*D*(np.exp(2*dt*df(bound))-1))*(Xn_1-bound+(Xn-bound)*np.exp(dt*df(bound))-f(bound)/df(bound))**2 + (bound - (Xn + dt*(f(Xn)+f(Xn_1))/2))**2/4*D*dt)\n",
    "    \n",
    "    \n",
    "    def compute_MHT(self, X0, dt, f, g, df, num_itr, lower_b=None, upper_b=None):\n",
    "        if lower_b is None and upper_b is None:\n",
    "            assert(\"Please provide a boundary value\")  \n",
    "        if lower_a is None:\n",
    "            lower_a = -np.inf\n",
    "        if uuper_b is None:\n",
    "            lower_b = np.inf\n",
    "            \n",
    "        t_exit = []\n",
    "        \n",
    "        for i in range(num_itr):\n",
    "            self.breaked = 0 \n",
    "            tn = 0\n",
    "            Xn = X0\n",
    "            while Xn > lower_b and Xn < upper_b:\n",
    "                Rn = np.random.randn(1)\n",
    "                Xn_1 = Xt + dt*f(Xt) + np.sqrt(dt)*Rn*g(Xt)\n",
    "                D = (g(Xt)**2)/2\n",
    "                if Xn-a<self.thres_coeff*dt or b-Xn<self.thres_coeff*dt:\n",
    "                    prob = self.P_hit(Xn,Xn_1,dt,a,D, df)\n",
    "                    if prob>np.random.uniform(0,1) or prob>np.random.uniform(0,1):\n",
    "                        self.breaked += 1\n",
    "                        break\n",
    "                        \n",
    "                tn += dt\n",
    "                Xn = Xn_1\n",
    "        \n",
    "        tmean = np.mean(t_exit)\n",
    "        tstd = np.std(t_exit)\n",
    "\n",
    "        cileft = tmean - 1.96*tstd/np.sqrt(npaths)\n",
    "        ciright = tmean + 1.96*tstd/np.sqrt(npaths)\n",
    "        \n",
    "        return tmean, tstd, cileft, ciright\n",
    "    \n",
    "    def plot(self,t_exit):\n",
    "        histogram,bins = np.histogram(t_exit,bins=20,range=[0,20])\n",
    "        midx = (bins[0:-1]+bins[1:])/2\n",
    "        plt.bar(midx,histogram,label='Test')\n",
    "        plt.show()\n",
    "        \n",
    "\n",
    "\n",
    "    "
   ]
  },
  {
   "cell_type": "markdown",
   "metadata": {},
   "source": [
    "_______________________________________"
   ]
  },
  {
   "cell_type": "markdown",
   "metadata": {},
   "source": [
    "## Adaptive Timestep"
   ]
  },
  {
   "cell_type": "code",
   "execution_count": 14,
   "metadata": {},
   "outputs": [],
   "source": [
    "class AdaptiveTimestep:\n",
    "    def __init__(self):\n",
    "        pass\n",
    "    \n",
    "    def naive_adaption(self, lower_b, upper_b, dt, x):\n",
    "        \"\"\"\n",
    "        A naive method to adapt timestep based on the distance to the boundaries\n",
    "        \"\"\"\n",
    "        epsilon = 1e-10\n",
    "        dist = min(abs(x - lower_b), abs(x - upper_b))\n",
    "        dt_new = (abs(np.tanh(dist))+epsilon) * dt\n",
    "        return dt_new\n",
    "    \n",
    "    \n",
    "    def adapt_time_EM(self, lower_b, upper_b, x, f, g, dt):\n",
    "        min_dt = 0.0000001\n",
    "        k = 1.96 # set to 1.96 for 95% credible interval of gaussian distribution\n",
    "        \n",
    "        f_res = f(x)\n",
    "        g_res = g(x)\n",
    "        \n",
    "        if f_res == 0 and g(x) == 0:\n",
    "            return dt\n",
    "        elif g_res == 0:\n",
    "            dt_new = min((upper_b-x)/f_res, (x-lower_b)/f_res)\n",
    "            return min(dt, max(dt_new, min_dt))\n",
    "        elif f_res == 0:\n",
    "            if g_res > 0:\n",
    "                dt_new = ((upper_b-x)/(k*g_res))**2\n",
    "                return min(dt, max(dt_new, min_dt))\n",
    "            else:\n",
    "                dt_new = ((x-lower_b)/(k*g_res))**2\n",
    "                return min(dt, max(dt_new, min_dt))\n",
    "        elif f_res > 0:\n",
    "            t1 = np.sqrt( ((upper_b-x)/f_res) + ((k*g_res)/(2*f_res))**2) - (k*g_res)/(2*f_res)\n",
    "            t2 = np.sqrt( ((upper_b-x)/f_res) + ((k*g_res)/(2*f_res))**2) + (k*g_res)/(2*f_res)\n",
    "            dt_new = min(t1**2, t2**2)\n",
    "            return min(dt, max(dt_new, min_dt))\n",
    "        \n",
    "        t1 = np.sqrt( ((x-lower_b)/f_res) + ((k*g_res)/(2*f_res))**2) - (k*g_res)/(2*f_res)\n",
    "        t2 = np.sqrt( ((x-lower_b)/f_res) + ((k*g_res)/(2*f_res))**2) + (k*g_res)/(2*f_res)\n",
    "        dt_new = min(t1**2, t2**2)\n",
    "        return min(dt, max(dt_new, min_dt))\n",
    "    \n",
    "    \n",
    "    \n",
    "    def _f2(self,x,f,g,dg,k):\n",
    "        return f(x) + 0.5*g(x)*dg(x)*((k**2)-1)\n",
    "        \n",
    "    def adapt_time_Mils(self, lower_b, upper_b, x, f, g, dg, dt):\n",
    "        min_dt = 0.0000001\n",
    "        k = 1.96 # set to 1.96 for 95% credible interval of gaussian distribution\n",
    "        \n",
    "        f2_res = self._f2(x,f,g,dg,k)\n",
    "        g_res = g(x)\n",
    "        \n",
    "        if f2_res == 0 and g_res == 0:\n",
    "            return dt\n",
    "        \n",
    "        elif g_res == 0:\n",
    "            dt_new = min((upper_b-x)/f2_res, (x-lower_b)/f2_res)\n",
    "            return min(dt, max(dt_new, min_dt))\n",
    "        \n",
    "        elif f2_res == 0:\n",
    "            if g_res > 0:\n",
    "                dt_new = ((upper_b-x)/(k*g_res))**2\n",
    "                return min(dt, max(dt_new, min_dt))\n",
    "            else:\n",
    "                dt_new = ((x-lower_b)/(k*g_res))**2\n",
    "                return min(dt, max(dt_new, min_dt))\n",
    "                          \n",
    "        elif f2_res > 0:\n",
    "            t1 = np.sqrt( ((upper_b-x)/f2_res) + ((k*g_res)/(2*f2_res))**2) - (k*g_res)/(2*f2_res)\n",
    "            t2 = np.sqrt( ((upper_b-x)/f2_res) + ((k*g_res)/(2*f2_res))**2) + (k*g_res)/(2*f2_res)\n",
    "            dt_new = min(t1**2, t2**2)\n",
    "            return min(dt, max(dt_new, min_dt))\n",
    "        \n",
    "        t1 = np.sqrt( ((x-lower_b)/f2_res) + ((k*g_res)/(2*f2_res))**2) - (k*g_res)/(2*f2_res)\n",
    "        t2 = np.sqrt( ((x-lower_b)/f2_res) + ((k*g_res)/(2*f2_res))**2) + (k*g_res)/(2*f2_res)\n",
    "        dt_new = min(t1**2, t2**2)\n",
    "        return min(dt, max(dt_new, min_dt))\n",
    "    \n",
    "    \n",
    "    \n",
    "    def compute_MHT_EM(self, X0, dt, num_itr, f, g, lower_b, upper_b):\n",
    "        \"\"\"\n",
    "        Method that approxiamte a solution using Euler-Maruyama method\n",
    "        \n",
    "        Arguments:\n",
    "        f: F(x)\n",
    "        g: g(x)\n",
    "        \n",
    "        Return: List containing Mean, STD, Confidence interval Left, Confidence interval Right\n",
    "        \"\"\"\n",
    "        # TODO: Add threshold for situation when the loop goes forever\n",
    "        t_exit = np.zeros(npaths)\n",
    "        \n",
    "        adapt_timestep = self.adapt_time_EM()\n",
    "        for i in tqdm(range(num_itr)):\n",
    "            X = X0\n",
    "            t = 0\n",
    "            while X > lower_b and X < upper_b:\n",
    "                dt_new_EM = adapt_timestep(lower_b=lower_b, upper_b=upper_b, x=X, f=f, g=g, dt=dt)\n",
    "                dW = np.sqrt(dt_new_EM)*np.random.randn()\n",
    "                X = X + dt_new_EM*f(X) + g(X)*dW\n",
    "                t += dt_new_EM\n",
    "\n",
    "            t_exit[i] = t\n",
    "\n",
    "\n",
    "        \n",
    "            \n",
    "        tmean = np.mean(t_exit)\n",
    "        tstd = np.std(t_exit)\n",
    "\n",
    "        cileft = tmean - 1.96*tstd/np.sqrt(num_itr)\n",
    "        ciright = tmean + 1.96*tstd/np.sqrt(num_itr)\n",
    "        \n",
    "        return t_exit, tmean, tstd, cileft, ciright\n",
    "    \n",
    "    \n",
    "    \n",
    "    def MHT_Milstein(self,X0,dt,num_itr,f,g,dg,lower_b, upper_b,adaptive= False):\n",
    "        \"\"\"\n",
    "        Method that approxiamte a solution using Euler-Maruyama method\n",
    "        \n",
    "        Arguments:\n",
    "        f: F(x)\n",
    "        g: g(x)\n",
    "        \n",
    "        Return: List containing Mean, STD, Confidence interval Left, Confidence interval Right\n",
    "        \"\"\"\n",
    "        # TODO: Add threshold for situation when the loop goes forever\n",
    "        t_exit = np.zeros(npaths)\n",
    "        \n",
    "        \n",
    "\n",
    "        adapt_timestep = self.adapt_time_Mils\n",
    "        for i in tqdm(range(num_itr)):\n",
    "            X = X0\n",
    "            t = 0\n",
    "            # TODO: pass new dt to adapt_timestep\n",
    "            while X > lower_b and X < upper_b:\n",
    "                dt_new_EM = adapt_timestep(lower_b=lower_b, upper_b=upper_b, x=X, f=f, g=g, dg=dg, dt=dt)\n",
    "                dW = np.sqrt(dt_new_EM)*np.random.randn()\n",
    "                X = X + dt_new_EM*f(X) + g(X)*dW + 0.5 * g(X)*dg(X)*(dW**2 - dt_new_EM)\n",
    "                t += dt_new_EM\n",
    "\n",
    "            t_exit[i] = t\n",
    "\n",
    "\n",
    "            \n",
    "        tmean = np.mean(t_exit)\n",
    "        tstd = np.std(t_exit)\n",
    "\n",
    "        cileft = tmean - 1.96*tstd/np.sqrt(num_itr)\n",
    "        ciright = tmean + 1.96*tstd/np.sqrt(num_itr)\n",
    "        \n",
    "        return t_exit, tmean, tstd, cileft, ciright\n",
    "    \n",
    "\n",
    "\n",
    "    def plot(self,t_exit):\n",
    "        histogram,bins = np.histogram(t_exit,bins=20,range=[0,20])\n",
    "        midx = (bins[0:-1]+bins[1:])/2\n",
    "        plt.bar(midx,histogram,label='Test')\n",
    "        plt.show()\n",
    "        "
   ]
  },
  {
   "cell_type": "code",
   "execution_count": 21,
   "metadata": {},
   "outputs": [],
   "source": [
    "class EM_Milstein:\n",
    "    def __init__(self):\n",
    "        pass\n",
    "    \n",
    "    def compute_MHT_EM(self,X0 , dt, num_itr, f, g, lower_b, upper_b):\n",
    "        t_exit = np.zeros(npaths)\n",
    "        for i in tqdm(range(npaths)):\n",
    "            X = X0\n",
    "            t = 0\n",
    "            while X > lower_b and X < upper_b:\n",
    "                dW = np.sqrt(dt) * np.random.randn()\n",
    "                X = X + dt*f(X) + g(X)*dW\n",
    "                t += dt\n",
    "\n",
    "            t_exit[i] = t - 0.5*dt\n",
    "                \n",
    "    \n",
    "        tmean = np.mean(t_exit)\n",
    "        tstd = np.std(t_exit)\n",
    "\n",
    "        cileft = tmean - 1.96*tstd/np.sqrt(num_itr)\n",
    "        ciright = tmean + 1.96*tstd/np.sqrt(num_itr)\n",
    "        \n",
    "        return t_exit, tmean, tstd, cileft, ciright\n",
    "    \n",
    "    def compute_MHT_Milstein(self, X0, dt, num_itr, f, g, dg, lower_b, upper_b):\n",
    "        t_exit = np.zeros(npaths)\n",
    "        for i in tqdm(range(npaths)):\n",
    "            X = X0\n",
    "            t = 0\n",
    "            while X > LB and X < UB:\n",
    "                dW = np.sqrt(dt) * np.random.randn()\n",
    "                X = X + dt*f(X) + g(X)*dW + 0.5 * g(X)*dg(X)*(dW**2 - dt)\n",
    "                t += dt\n",
    "\n",
    "            t_exit[i] = t - 0.5*dt\n",
    "            \n",
    "        tmean = np.mean(t_exit)\n",
    "        tstd = np.std(t_exit)\n",
    "\n",
    "        cileft = tmean - 1.96*tstd/np.sqrt(num_itr)\n",
    "        ciright = tmean + 1.96*tstd/np.sqrt(num_itr)\n",
    "\n",
    "        return t_exit, tmean, tstd, cileft, ciright\n",
    "    \n",
    "    \n",
    "    def plot(self,t_exit):\n",
    "        histogram,bins = np.histogram(t_exit,bins=20,range=[0,20])\n",
    "        midx = (bins[0:-1]+bins[1:])/2\n",
    "        plt.bar(midx,histogram,label='Test')\n",
    "        plt.show()"
   ]
  },
  {
   "cell_type": "markdown",
   "metadata": {},
   "source": [
    "________________________"
   ]
  },
  {
   "cell_type": "markdown",
   "metadata": {},
   "source": [
    "# Expariments"
   ]
  },
  {
   "cell_type": "markdown",
   "metadata": {},
   "source": [
    "### Simulation Parametres and Mothod Instantiation"
   ]
  },
  {
   "cell_type": "code",
   "execution_count": null,
   "metadata": {},
   "outputs": [],
   "source": [
    "num_itr = 5e4\n",
    "exp_rate = 1000 # Lambda parameter for exponential timestepping methods\n",
    "\n",
    "# Methods \n",
    "EM_Milstein = EM_Milstein() # Euler-maryama and Milstein method\n",
    "AdaptiveTimestep = AdaptiveTimestep()\n",
    "EulerMaryamaBoundaryCheck = EulerMaryamaBoundaryCheck()\n",
    "ExponentialVTimestepping = ExponentialVTimestepping(rate=exp_rate)\n",
    "ExponentialTimestepping = ExponentialTimestepping(rate=exp_rate)"
   ]
  },
  {
   "cell_type": "markdown",
   "metadata": {},
   "source": [
    "### Simple SDE: $dX = \\mu dt + \\sigma dW, \\quad X(0) = X_0$"
   ]
  },
  {
   "cell_type": "code",
   "execution_count": null,
   "metadata": {},
   "outputs": [],
   "source": [
    "# Parameters\n",
    "mu = 0.5\n",
    "sigma = 1\n",
    "X0 = 0\n",
    "upper_b = 5\n",
    "dt = 0.01\n",
    "\n",
    "# New instance of SimpleSDE class\n",
    "simpleSDE = simpleSDE(mu = mu, sigma = sigma)"
   ]
  },
  {
   "cell_type": "markdown",
   "metadata": {},
   "source": [
    "## Asset Price: $dX = \\mu X dt + \\sigma X dW \\qquad 0 < a < X_{0} < b$"
   ]
  },
  {
   "cell_type": "code",
   "execution_count": 31,
   "metadata": {},
   "outputs": [],
   "source": [
    "# Parameters\n",
    "mu = 0.1\n",
    "sigma = 0.2\n",
    "X0 = 1\n",
    "upper_b = 2\n",
    "lower_b = 0.2\n",
    "exact_MHT = 7.6450\n",
    "\n",
    "# Asset Price instance\n",
    "AssetPrice = AssetPrice(lower_b=lower_b, upper_b=upper_b, mu=mu, sigma=sigma)\n",
    "f = AssetPrice.f\n",
    "g = AssetPrice.g\n",
    "dg = AssetPrice.dg\n",
    "\n",
    "# Run simulation\n",
    "t_exit, tmean_EM, tstd_EM, cileft_EM, ciright_EM = EM(X0=X0,dt=dt,num_itr=num_itr, f=f, g=g, lower_b=lower_b,upper_b=upper_b)"
   ]
  },
  {
   "cell_type": "markdown",
   "metadata": {},
   "source": [
    "#### Euler-Maruyama"
   ]
  },
  {
   "cell_type": "markdown",
   "metadata": {},
   "source": [
    "#### Milstien"
   ]
  },
  {
   "cell_type": "markdown",
   "metadata": {},
   "source": [
    "####  EXPONENTIAL TIMESTEPPING WITH BOUNDARY TEST FOR SDEs (The exponential-Euler method with boundary test) "
   ]
  },
  {
   "cell_type": "markdown",
   "metadata": {},
   "source": [
    "#### Absorbing boundaries and optimal stopping in a stochastic differential equation"
   ]
  },
  {
   "cell_type": "markdown",
   "metadata": {},
   "source": [
    "#### Adaptive Timestep-Euler-Maruyama"
   ]
  },
  {
   "cell_type": "markdown",
   "metadata": {},
   "source": [
    "________________"
   ]
  },
  {
   "cell_type": "markdown",
   "metadata": {},
   "source": [
    "### Double Well Potential"
   ]
  },
  {
   "cell_type": "markdown",
   "metadata": {},
   "source": [
    "#### Euler-Maruyama"
   ]
  },
  {
   "cell_type": "markdown",
   "metadata": {},
   "source": [
    "#### Milstien"
   ]
  },
  {
   "cell_type": "markdown",
   "metadata": {},
   "source": [
    "####  EXPONENTIAL TIMESTEPPING WITH BOUNDARY TEST FOR SDEs (The exponential-Euler method with boundary test) "
   ]
  },
  {
   "cell_type": "markdown",
   "metadata": {},
   "source": [
    "#### Absorbing boundaries and optimal stopping in a stochastic differential equation"
   ]
  },
  {
   "cell_type": "markdown",
   "metadata": {},
   "source": [
    "#### Adaptive Timestep-Euler-Maruyama"
   ]
  },
  {
   "cell_type": "markdown",
   "metadata": {},
   "source": [
    "#### Adaptive Timestep-Milstein"
   ]
  },
  {
   "cell_type": "markdown",
   "metadata": {},
   "source": [
    "### Opinion Poll"
   ]
  },
  {
   "cell_type": "markdown",
   "metadata": {},
   "source": [
    "#### Euler-Maruyama"
   ]
  },
  {
   "cell_type": "markdown",
   "metadata": {},
   "source": [
    "#### Milstien"
   ]
  },
  {
   "cell_type": "markdown",
   "metadata": {},
   "source": [
    "####  EXPONENTIAL TIMESTEPPING WITH BOUNDARY TEST FOR SDEs (The exponential-Euler method with boundary test) "
   ]
  },
  {
   "cell_type": "markdown",
   "metadata": {},
   "source": [
    "#### Absorbing boundaries and optimal stopping in a stochastic differential equation"
   ]
  },
  {
   "cell_type": "markdown",
   "metadata": {},
   "source": [
    "#### Adaptive Timestep-Euler-Maruyama"
   ]
  },
  {
   "cell_type": "markdown",
   "metadata": {},
   "source": [
    "#### Adaptive Timestep-Milstein"
   ]
  }
 ],
 "metadata": {
  "kernelspec": {
   "display_name": "Python 3",
   "language": "python",
   "name": "python3"
  },
  "language_info": {
   "codemirror_mode": {
    "name": "ipython",
    "version": 3
   },
   "file_extension": ".py",
   "mimetype": "text/x-python",
   "name": "python",
   "nbconvert_exporter": "python",
   "pygments_lexer": "ipython3",
   "version": "3.6.8"
  }
 },
 "nbformat": 4,
 "nbformat_minor": 2
}
