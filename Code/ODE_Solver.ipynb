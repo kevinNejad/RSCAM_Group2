{
 "cells": [
  {
   "cell_type": "code",
   "execution_count": 2,
   "metadata": {},
   "outputs": [
    {
     "name": "stdout",
     "output_type": "stream",
     "text": [
      "The algorithm converged to the desired accuracy.\n"
     ]
    },
    {
     "data": {
      "text/plain": [
       "<Figure size 640x480 with 1 Axes>"
      ]
     },
     "metadata": {},
     "output_type": "display_data"
    }
   ],
   "source": [
    "import scipy.integrate as integrate\n",
    "import numpy as np\n",
    "import time\n",
    "import matplotlib.pyplot as plt\n",
    "\n",
    "def f(x):\n",
    "    '''Set the f(x) function for the SDE'''\n",
    "    return mu*x\n",
    "\n",
    "def g(x):\n",
    "    '''Set the g(x) function for the SDE'''\n",
    "    return sigma*x\n",
    "\n",
    "def u(x):\n",
    "    '''An exact solution for the case f(x) = mu*x, g(x) = sigma*x'''\n",
    "    return ((np.log(x/a)- ((1-(x/a)**(1-2*mu/sigma**2))/(1-(b/a)**(1-2*mu/sigma**2)))*np.log(b/a))/(0.5*sigma**2-mu))\n",
    "\n",
    "\n",
    "mu=0.1\n",
    "sigma=0.2\n",
    "a=0.5\n",
    "b=2\n",
    "\n",
    "\n",
    "def MET_ODE(x,y):\n",
    "    '''This vectorises the 2nd order ODE for Mean Exit Times'''\n",
    "    #I tried to define this so that it takes f and g as inputs, but couldn't get this to then work with the ODE solver\n",
    "    y1,y2 = y\n",
    "    y1dot = y2\n",
    "    y2dot = -2*(1 + f(x)*y2)/(g(x)**2)\n",
    "    return np.array([y1dot,y2dot])\n",
    "\n",
    "\n",
    "def bc(ya, yb):\n",
    "    return np.array([ya[0], yb[0]])\n",
    "\n",
    "x = np.linspace(a,b,30)\n",
    "\n",
    "y_a = [np.sin(x),np.cos(x)]\n",
    "y_b = np.zeros((2,x.size))\n",
    "y_b[0]=3\n",
    "\n",
    "\n",
    "\n",
    "# res_a = integrate.solve_bvp(anODE, bc, x, y_a)\n",
    "# res_b = integrate.solve_bvp(harm, bc, x, y_b)\n",
    "\n",
    "\n",
    "res = integrate.solve_bvp(MET_ODE, bc, x, y_b, max_nodes=1000, tol=1e-6)\n",
    "print(res.message)\n",
    "\n",
    "if res.success:\n",
    "    x_disp = np.linspace(a,b,3001)\n",
    "    y_disp = res.sol(x_disp) #This is how you evaluate the solution at a given x\n",
    "    plt.plot(x_disp, y_disp[0]) #Note the indexing on y_disp, res.sol produces two outputs\n",
    "    plt.title(\"ODE Plot function geometric eqn\");\n",
    "    plt.grid(); \n",
    "\n",
    "# e = u(x_disp)-y_disp\n",
    "\n",
    "# #plt.plot(x_disp,e[0])\n",
    "plt.show()"
   ]
  },
  {
   "cell_type": "code",
   "execution_count": null,
   "metadata": {},
   "outputs": [],
   "source": [
    "def f(x):\n",
    "    return lamb*(mu-x)\n",
    "def g(x):\n",
    "    return sigma*np.sqrt(abs(x))\n",
    "\n",
    "lamb = 1\n",
    "mu = 0.5\n",
    "sigma = 0.3\n",
    "a = 1 \n",
    "b = 2\n",
    "\n",
    "x = np.linspace(a,b,30)\n",
    "y_b = np.zeros((2,x.size))\n",
    "\n",
    "res = integrate.solve_bvp(anODE, bc, x, y_b, max_nodes=1000, tol=1e-6)\n",
    "print(res.message)\n",
    "\n",
    "if res.success:\n",
    "    x_disp = np.linspace(a,b,3001)\n",
    "    y_disp = res.sol(x_disp)\n",
    "    plt.plot(x_disp, y_disp[0])\n",
    "    plt.title(\"ODE Plot function square root eqn\");\n",
    "    plt.grid(); "
   ]
  },
  {
   "cell_type": "code",
   "execution_count": null,
   "metadata": {},
   "outputs": [],
   "source": [
    "def f(x):\n",
    "    return -8*x +12*x**2 -4*x**3\n",
    "\n",
    "def g(x):\n",
    "    return sigma\n",
    "\n",
    "x = np.linspace(a,b,5)\n",
    "y_b = np.zeros((2,x.size))\n",
    "\n",
    "\n",
    "sigma=2\n",
    "a=-3\n",
    "b=1\n",
    "for sigma in [2,4,6]:\n",
    "    \n",
    "    res = integrate.solve_bvp(anODE, bc, x, y_b, max_nodes=10000, tol=1e-6)\n",
    "    print(res.message)\n",
    "\n",
    "    if res.success:\n",
    "        x_disp = np.linspace(a,b,3001)\n",
    "        y_disp = res.sol(x_disp)\n",
    "        plt.plot(x_disp, y_disp[0], label='sigma = {}'.format(sigma))\n",
    "        plt.title(\"ODE Plot function double-well\");\n",
    "        plt.grid(); \n",
    "        \n",
    "    plt.legend()\n",
    "plt.show()"
   ]
  },
  {
   "cell_type": "code",
   "execution_count": null,
   "metadata": {},
   "outputs": [],
   "source": []
  },
  {
   "cell_type": "code",
   "execution_count": null,
   "metadata": {},
   "outputs": [],
   "source": []
  },
  {
   "cell_type": "code",
   "execution_count": null,
   "metadata": {},
   "outputs": [],
   "source": []
  },
  {
   "cell_type": "code",
   "execution_count": null,
   "metadata": {},
   "outputs": [],
   "source": []
  }
 ],
 "metadata": {
  "kernelspec": {
   "display_name": "Python 3",
   "language": "python",
   "name": "python3"
  },
  "language_info": {
   "codemirror_mode": {
    "name": "ipython",
    "version": 3
   },
   "file_extension": ".py",
   "mimetype": "text/x-python",
   "name": "python",
   "nbconvert_exporter": "python",
   "pygments_lexer": "ipython3",
   "version": "3.6.8"
  }
 },
 "nbformat": 4,
 "nbformat_minor": 2
}
