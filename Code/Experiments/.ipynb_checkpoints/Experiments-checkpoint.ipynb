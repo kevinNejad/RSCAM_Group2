{
 "cells": [
  {
   "cell_type": "markdown",
   "metadata": {},
   "source": [
    "# Import Modules "
   ]
  },
  {
   "cell_type": "code",
   "execution_count": null,
   "metadata": {},
   "outputs": [],
   "source": [
    "import Methods as M\n",
    "import SDEs as S\n",
    "import pickle\n",
    "import numpy as np\n",
    "import os"
   ]
  },
  {
   "cell_type": "markdown",
   "metadata": {},
   "source": [
    "# Initialise Parameters of Experiment"
   ]
  },
  {
   "cell_type": "code",
   "execution_count": null,
   "metadata": {},
   "outputs": [],
   "source": [
    "num_itr = 100000 # Number of iteration\n",
    "timesteps = np.logspace(-3, 0, 19) # Values for dt\n",
    "\n",
    "\n",
    "# Instance of Custom SDE - The SDE used in Mannella's paper\n",
    "SDE = S.CustomSDE()\n",
    "a = 0\n",
    "b = 2\n",
    "X0 = 0.1\n",
    "\n",
    "\n",
    "f = SDE.f\n",
    "g = SDE.g\n",
    "dg = SDE.dg\n",
    "df = SDE.df\n",
    "\n",
    "# V is potential function and only CustomSDE, DoubleWellPotential and PoliticalPoll have V\n",
    "# V is required for exponentialV-timestepping method\n",
    "V = SDE.V"
   ]
  },
  {
   "cell_type": "markdown",
   "metadata": {},
   "source": [
    "# Choose Numerical Methods"
   ]
  },
  {
   "cell_type": "code",
   "execution_count": null,
   "metadata": {},
   "outputs": [],
   "source": [
    "EM = M.EM_Milstein() # Euler-Maryama and Milstein\n",
    "AT = M.AdaptiveTimestep() # Adaptive\n",
    "EM_BC = M.EulerMaryamaBoundaryCheck() # Mannella\n",
    "EXPV = M.ExponentialVTimestepping() # ExponentialV\n",
    "EXP = M.ExponentialTimestepping()  # Exponential "
   ]
  },
  {
   "cell_type": "markdown",
   "metadata": {},
   "source": [
    "# Run Expariment"
   ]
  },
  {
   "cell_type": "code",
   "execution_count": null,
   "metadata": {
    "scrolled": true
   },
   "outputs": [],
   "source": [
    "t_exits = []\n",
    "steps_exits = []\n",
    "for dt in timesteps:\n",
    "    t_exit,steps_exit = EM.compute_MHT_Milstein(X0=X0,dt=dt,num_itr=num_itr, f=f, g=g, a=a,b=b)\n",
    "    t_exits.append(t_exit)\n",
    "    steps_exits.append(steps_exit)\n",
    "\n",
    "paths = None\n",
    "times = None\n",
    "ts = None   "
   ]
  },
  {
   "cell_type": "markdown",
   "metadata": {},
   "source": [
    "# For Adaptive Methods $\\underline{UNCOMMENT}$ below "
   ]
  },
  {
   "cell_type": "code",
   "execution_count": null,
   "metadata": {},
   "outputs": [],
   "source": [
    "# Replace None with the values when using Adaptive Timesteps\n",
    "'''\n",
    "paths = AT.paths\n",
    "times = AT.times\n",
    "ts = AT.timesteps\n",
    "'''"
   ]
  },
  {
   "cell_type": "markdown",
   "metadata": {},
   "source": [
    "## Store Results (Change values of SDE and Methods)"
   ]
  },
  {
   "cell_type": "code",
   "execution_count": null,
   "metadata": {},
   "outputs": [],
   "source": [
    "results_dic = {'SDE':'CustomSDE', 'Method':'EM', 'timesteps':timesteps,\n",
    "               't_exits':t_exits, 'steps_exits':steps_exits,\n",
    "              'AT_paths':paths, 'AT_time':times, 'AT_timesteps':ts}\n",
    "\n",
    "file_name = './Results/' + results_dic['SDE'] + '_' + results_dic['Method'] + '.pickle'\n",
    "if os.path.exists(file_name):\n",
    "    raise Exception('WARNING-The file already exist - Change values of SDE and Methods -WARNING')\n",
    "\n",
    "\n",
    "with open(file_name, 'wb') as f:\n",
    "    pickle.dump(results_dic, f)"
   ]
  },
  {
   "cell_type": "code",
   "execution_count": null,
   "metadata": {},
   "outputs": [],
   "source": [
    "# To load results, use the following command. \n",
    "'''\n",
    "with open('./Results/SimpleSDE_EM.pickle', 'rb') as handle:\n",
    "    res = pickle.load(handle)\n",
    "''' "
   ]
  }
 ],
 "metadata": {
  "kernelspec": {
   "display_name": "Python 3",
   "language": "python",
   "name": "python3"
  },
  "language_info": {
   "codemirror_mode": {
    "name": "ipython",
    "version": 3
   },
   "file_extension": ".py",
   "mimetype": "text/x-python",
   "name": "python",
   "nbconvert_exporter": "python",
   "pygments_lexer": "ipython3",
   "version": "3.6.8"
  }
 },
 "nbformat": 4,
 "nbformat_minor": 2
}
