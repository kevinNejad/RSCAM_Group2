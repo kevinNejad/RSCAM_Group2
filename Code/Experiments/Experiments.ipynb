{
 "cells": [
  {
   "cell_type": "markdown",
   "metadata": {},
   "source": [
    "# Import Modules "
   ]
  },
  {
   "cell_type": "code",
   "execution_count": 1,
   "metadata": {},
   "outputs": [],
   "source": [
    "import Methods as M\n",
    "import SDEs as S\n",
    "import pickle\n",
    "import numpy as np"
   ]
  },
  {
   "cell_type": "markdown",
   "metadata": {},
   "source": [
    "# Initialise Parameters of Experiment"
   ]
  },
  {
   "cell_type": "code",
   "execution_count": 2,
   "metadata": {},
   "outputs": [],
   "source": [
    "# num_itr = 500000 # Number of iteration\n",
    "num_itr = 50 # Number of iteration\n",
    "\n",
    "# timesteps = np.arange(0.001, 1, 0.01) # Values for dt\n",
    "timesteps = np.arange(0.01, 0.1, 0.05) # Values for dt\n",
    "\n",
    "# Instance of Simple SDE\n",
    "'''\n",
    "SDE = S.SimpleSDE(mu=0.5, sigma=0.1)\n",
    "a = None\n",
    "b = 5\n",
    "X0 = 0\n",
    "'''\n",
    "\n",
    "# Instance of Custom SDE - The SDE used in Mannella's paper\n",
    "SDE = S.CustomSDE()\n",
    "a = None\n",
    "b = -0.5\n",
    "X0 = -1\n",
    "\n",
    "f = SDE.f\n",
    "g = SDE.g\n",
    "dg = SDE.dg\n",
    "df = SDE.df\n",
    "# V is potential function and only CustomSDE, DoubleWellPotential and PoliticalPoll have V\n",
    "# V is required for exponentialV-timestepping method\n",
    "# V = SDE.V"
   ]
  },
  {
   "cell_type": "markdown",
   "metadata": {},
   "source": [
    "# Choose Numerical Methods"
   ]
  },
  {
   "cell_type": "code",
   "execution_count": 3,
   "metadata": {},
   "outputs": [],
   "source": [
    "EM = M.EM_Milstein()\n",
    "AT = M.AdaptiveTimestep()\n",
    "EM_BC = M.EulerMaryamaBoundaryCheck()"
   ]
  },
  {
   "cell_type": "markdown",
   "metadata": {},
   "source": [
    "# Run Expariment"
   ]
  },
  {
   "cell_type": "code",
   "execution_count": 4,
   "metadata": {
    "scrolled": true
   },
   "outputs": [
    {
     "name": "stderr",
     "output_type": "stream",
     "text": [
      "100%|██████████| 50/50 [00:00<00:00, 88.98it/s]\n",
      "100%|██████████| 50/50 [00:00<00:00, 312.92it/s]\n"
     ]
    }
   ],
   "source": [
    "t_exits = []\n",
    "steps_exits = []\n",
    "for dt in timesteps:\n",
    "    t_exit,steps_exit = EM_BC.compute_MHT_EM(X0=X0,dt=dt,num_itr=num_itr, f=f, g=g,df=df, a=a,b=b)\n",
    "    t_exits.append(t_exit)\n",
    "    steps_exits.append(steps_exit)\n",
    "\n",
    "# Replace None with the values when using Adaptive Timesteps\n",
    "paths = None # AT.paths\n",
    "times = None # AT.times\n",
    "ts = None    # AT.timesteps\n",
    "results_dic = {'SDE':'SimpleSDE', 'Method':'EM', 'timesteps':timesteps,\n",
    "               't_exits':t_exits, 'steps_exits':steps_exits,\n",
    "              'AT_paths':paths, 'AT_time':times, 'AT_timesteps':ts}\n",
    "\n",
    "file_name = results_dic['SDE'] + '_' + results_dic['Method'] + '.pickle'\n",
    "with open('./Results/'+file_name, 'wb') as f:\n",
    "    pickle.dump(results_dic, f)"
   ]
  },
  {
   "cell_type": "code",
   "execution_count": 7,
   "metadata": {},
   "outputs": [
    {
     "data": {
      "text/plain": [
       "4.848000000000002"
      ]
     },
     "execution_count": 7,
     "metadata": {},
     "output_type": "execute_result"
    }
   ],
   "source": [
    "np.mean(results_dic['t_exits'][0])"
   ]
  },
  {
   "cell_type": "code",
   "execution_count": 5,
   "metadata": {},
   "outputs": [
    {
     "data": {
      "text/plain": [
       "\"\\nwith open('./Results/SimpleSDE_EM.pickle', 'rb') as handle:\\n    res = pickle.load(handle)\\n\""
      ]
     },
     "execution_count": 5,
     "metadata": {},
     "output_type": "execute_result"
    }
   ],
   "source": [
    "# To load results, use the following command. \n",
    "'''\n",
    "with open('./Results/SimpleSDE_EM.pickle', 'rb') as handle:\n",
    "    res = pickle.load(handle)\n",
    "''' "
   ]
  }
 ],
 "metadata": {
  "kernelspec": {
   "display_name": "Python 3",
   "language": "python",
   "name": "python3"
  },
  "language_info": {
   "codemirror_mode": {
    "name": "ipython",
    "version": 3
   },
   "file_extension": ".py",
   "mimetype": "text/x-python",
   "name": "python",
   "nbconvert_exporter": "python",
   "pygments_lexer": "ipython3",
   "version": "3.6.8"
  }
 },
 "nbformat": 4,
 "nbformat_minor": 2
}
