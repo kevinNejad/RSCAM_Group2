{
 "cells": [
  {
   "cell_type": "code",
   "execution_count": 1,
   "metadata": {},
   "outputs": [],
   "source": [
    "import numpy as np\n",
    "import glob\n",
    "import pickle"
   ]
  },
  {
   "cell_type": "code",
   "execution_count": 2,
   "metadata": {},
   "outputs": [],
   "source": [
    "path = '../../Code/Experiments_Results/Results/*.pickle'\n",
    "list_of_files = glob.glob(path)\n",
    "for file in list_of_files:\n",
    "    with open(file, \"rb\") as f:\n",
    "        obj_name = file[39:-7]\n",
    "        exec('{} = pickle.load(f)'.format(obj_name))\n"
   ]
  },
  {
   "cell_type": "code",
   "execution_count": 3,
   "metadata": {},
   "outputs": [
    {
     "data": {
      "text/plain": [
       "'\\n AssetPriceInt_EM\\n AssetPriceInt_Milstein\\n AssetPrice_EM\\n AssetPrice_Milstein\\n CustomSDE_EM\\n CustomSDE_EM_BC\\n CustomSDE_EXPV\\n DWPotential_EM\\n DWPotential_EM_BC\\n DWPotential_EXPV\\n DWPotential_Milstein\\n Epidemic_EM\\n Epidemic_Milstein\\n OpiPolls_EM\\n OpiPolls_EM_BC\\n OpiPolls_EXPV\\n OpiPolls_Milstein\\n PolOp_EM\\n PolOp_Milstein\\n PopDyna_EM\\n PopDyna_Milstein\\n'"
      ]
     },
     "execution_count": 3,
     "metadata": {},
     "output_type": "execute_result"
    }
   ],
   "source": [
    "'''\n",
    " AssetPriceInt_EM\n",
    " AssetPriceInt_Milstein\n",
    " AssetPrice_EM\n",
    " AssetPrice_Milstein\n",
    " CustomSDE_EM\n",
    " CustomSDE_EM_BC\n",
    " CustomSDE_EXPV\n",
    " DWPotential_EM\n",
    " DWPotential_EM_BC\n",
    " DWPotential_EXPV\n",
    " DWPotential_Milstein\n",
    " Epidemic_EM\n",
    " Epidemic_Milstein\n",
    " OpiPolls_EM\n",
    " OpiPolls_EM_BC\n",
    " OpiPolls_EXPV\n",
    " OpiPolls_Milstein\n",
    " PolOp_EM\n",
    " PolOp_Milstein\n",
    " PopDyna_EM\n",
    " PopDyna_Milstein\n",
    "'''"
   ]
  },
  {
   "cell_type": "code",
   "execution_count": 6,
   "metadata": {},
   "outputs": [
    {
     "name": "stderr",
     "output_type": "stream",
     "text": [
      "IOPub data rate exceeded.\n",
      "The notebook server will temporarily stop sending output\n",
      "to the client in order to avoid crashing it.\n",
      "To change this limit, set the config variable\n",
      "`--NotebookApp.iopub_data_rate_limit`.\n",
      "\n",
      "Current values:\n",
      "NotebookApp.iopub_data_rate_limit=1000000.0 (bytes/sec)\n",
      "NotebookApp.rate_limit_window=3.0 (secs)\n",
      "\n"
     ]
    },
    {
     "data": {
      "text/plain": [
       "dict_keys(['SDE', 'Method', 'timesteps', 't_exits', 'steps_exits', 'AT_paths', 'AT_time', 'AT_timesteps'])"
      ]
     },
     "execution_count": 6,
     "metadata": {},
     "output_type": "execute_result"
    }
   ],
   "source": [
    "print(PopDyna_Milstein['SDE']) # Name of the SDE\n",
    "print(PopDyna_Milstein['Method']) # Name of the method\n",
    "print(PopDyna_Milstein['timesteps']) # Timesteps logspace(-3,0,19)\n",
    "print(PopDyna_Milstein['t_exits']) # Time of hit \n",
    "print(PopDyna_Milstein['steps_exits']) # Number of iteration before hit\n",
    "PopDyna_Milstein.keys()"
   ]
  },
  {
   "cell_type": "code",
   "execution_count": 8,
   "metadata": {},
   "outputs": [
    {
     "data": {
      "text/plain": [
       "19"
      ]
     },
     "execution_count": 8,
     "metadata": {},
     "output_type": "execute_result"
    }
   ],
   "source": [
    "len(PopDyna_Milstein['t_exits']) # 19 means each index is for corresponsing timestep"
   ]
  },
  {
   "cell_type": "code",
   "execution_count": 12,
   "metadata": {},
   "outputs": [
    {
     "name": "stdout",
     "output_type": "stream",
     "text": [
      "2.377263549999865\n"
     ]
    }
   ],
   "source": [
    "# to get averagetime exits for the first timestep 0.001\n",
    "print(np.mean(PopDyna_Milstein['t_exits'][0]))"
   ]
  },
  {
   "cell_type": "code",
   "execution_count": null,
   "metadata": {},
   "outputs": [],
   "source": []
  }
 ],
 "metadata": {
  "kernelspec": {
   "display_name": "Python 3",
   "language": "python",
   "name": "python3"
  },
  "language_info": {
   "codemirror_mode": {
    "name": "ipython",
    "version": 3
   },
   "file_extension": ".py",
   "mimetype": "text/x-python",
   "name": "python",
   "nbconvert_exporter": "python",
   "pygments_lexer": "ipython3",
   "version": "3.6.8"
  }
 },
 "nbformat": 4,
 "nbformat_minor": 2
}
