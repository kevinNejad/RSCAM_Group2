{
 "cells": [
  {
   "cell_type": "markdown",
   "metadata": {},
   "source": [
    "# Import Modules "
   ]
  },
  {
   "cell_type": "code",
   "execution_count": 1,
   "metadata": {},
   "outputs": [],
   "source": [
    "import Methods as M\n",
    "import SDEs as S\n",
    "import pickle\n",
    "import numpy as np\n",
    "import os"
   ]
  },
  {
   "cell_type": "markdown",
   "metadata": {},
   "source": [
    "# Initialise Parameters of Experiment"
   ]
  },
  {
   "cell_type": "code",
   "execution_count": 2,
   "metadata": {},
   "outputs": [],
   "source": [
    "# num_itr = 100000 # Number of iteration\n",
    "# timesteps = np.logspace(-3, 0, 19) # Values for dt\n",
    "num_itr = 1000 # Number of iteration\n",
    "timesteps = [0.01,0.1] # Values for dt\n",
    "\n",
    "\n",
    "\n",
    "# Instance of Double-Well Potential SDE - The SDE used in Mannella's paper\n",
    "SDE = S.AssetPriceInterestRate(lam=1, mu=0.5, sigma=0.3)\n",
    "a = 1\n",
    "b = 2\n",
    "X0 = 1.9\n",
    "\n",
    "\n",
    "f = SDE.f\n",
    "g = SDE.g\n",
    "dg = SDE.dg\n",
    "df = SDE.df\n",
    "V = SDE.V"
   ]
  },
  {
   "cell_type": "markdown",
   "metadata": {},
   "source": [
    "# Choose Numerical Methods"
   ]
  },
  {
   "cell_type": "code",
   "execution_count": 3,
   "metadata": {},
   "outputs": [],
   "source": [
    "EM_Mils = M.EM_Milstein() # Euler-Maryama and Milstein\n",
    "EM_BC = M.EulerMaryamaBoundaryCheck() # Mannella\n",
    "EXPV = M.ExponentialVTimestepping() # ExponentialV\n",
    "EXP = M.ExponentialTimestepping()  # Exponential \n",
    "\n",
    "methods_dict = {'EM':EM_Mils.compute_MHT_EM,\n",
    "                'Milstein':EM_Mils.compute_MHT_Milstein}"
   ]
  },
  {
   "cell_type": "markdown",
   "metadata": {},
   "source": [
    "# Run Expariment"
   ]
  },
  {
   "cell_type": "code",
   "execution_count": 4,
   "metadata": {
    "scrolled": true
   },
   "outputs": [
    {
     "name": "stderr",
     "output_type": "stream",
     "text": [
      "100%|██████████| 1000/1000 [00:00<00:00, 2742.62it/s]\n",
      "100%|██████████| 1000/1000 [00:00<00:00, 25651.67it/s]\n",
      "100%|██████████| 1000/1000 [00:00<00:00, 1602.13it/s]\n",
      "100%|██████████| 1000/1000 [00:00<00:00, 13340.53it/s]\n"
     ]
    }
   ],
   "source": [
    "for method, fun in methods_dict.items():\n",
    "\n",
    "    t_exits = []\n",
    "    steps_exits = []\n",
    "    for dt in timesteps:\n",
    "        t_exit,steps_exit = fun(X0=X0,dt=dt,num_itr=num_itr, f=f, g=g, df=df, dg=dg, V=V, a=a,b=b)\n",
    "        t_exits.append(t_exit)\n",
    "        steps_exits.append(steps_exit)\n",
    "    \n",
    "    paths = AT.paths if method=='AT' else None\n",
    "    times = AT.times if method=='AT' else None\n",
    "    ts = AT.timesteps if method=='AT' else None\n",
    "    \n",
    "    results_dic = {'SDE':'AssetPriceInt', 'Method':method, 'timesteps':timesteps,\n",
    "               't_exits':t_exits, 'steps_exits':steps_exits,\n",
    "              'AT_paths':paths, 'AT_time':times, 'AT_timesteps':ts}\n",
    "\n",
    "    file_name = './Results/' + results_dic['SDE'] + '_' + results_dic['Method'] + '.pickle'\n",
    "    if os.path.exists(file_name):\n",
    "        raise Exception('WARNING-The file already exist - Change values of SDE and Methods -WARNING')\n",
    "\n",
    "\n",
    "    with open(file_name, 'wb') as file:\n",
    "        pickle.dump(results_dic, file)"
   ]
  },
  {
   "cell_type": "code",
   "execution_count": 6,
   "metadata": {},
   "outputs": [],
   "source": [
    "# To load results, use the following command. \n",
    "'''\n",
    "with open('./Results/AssetPriceInt_EM.pickle', 'rb') as handle:\n",
    "    res = pickle.load(handle)\n",
    "'''"
   ]
  },
  {
   "cell_type": "code",
   "execution_count": null,
   "metadata": {},
   "outputs": [],
   "source": []
  }
 ],
 "metadata": {
  "kernelspec": {
   "display_name": "Python 3",
   "language": "python",
   "name": "python3"
  },
  "language_info": {
   "codemirror_mode": {
    "name": "ipython",
    "version": 3
   },
   "file_extension": ".py",
   "mimetype": "text/x-python",
   "name": "python",
   "nbconvert_exporter": "python",
   "pygments_lexer": "ipython3",
   "version": "3.6.8"
  }
 },
 "nbformat": 4,
 "nbformat_minor": 2
}
