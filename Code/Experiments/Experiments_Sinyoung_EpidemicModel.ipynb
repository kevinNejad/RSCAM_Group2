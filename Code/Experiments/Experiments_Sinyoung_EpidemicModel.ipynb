{
 "cells": [
  {
   "cell_type": "markdown",
   "metadata": {},
   "source": [
    "# Import Modules "
   ]
  },
  {
   "cell_type": "code",
   "execution_count": 1,
   "metadata": {},
   "outputs": [],
   "source": [
    "import Methods as M\n",
    "import SDEs as S\n",
    "import pickle\n",
    "import numpy as np\n",
    "import os"
   ]
  },
  {
   "cell_type": "markdown",
   "metadata": {},
   "source": [
    "# Initialise Parameters of Experiment"
   ]
  },
  {
   "cell_type": "code",
   "execution_count": 2,
   "metadata": {},
   "outputs": [],
   "source": [
    "num_itr = 100000 # Number of iteration\n",
    "timesteps = np.logspace(-3, 0, 19) # Values for dt\n",
    "\n",
    "num_itr = 1000 # Number of iteration\n",
    "timesteps = [0.01,0.1] # Values for dt\n",
    "\n",
    "\n",
    "\n",
    "\n",
    "# Instance of Double-Well Potential SDE - The SDE used in Mannella's paper\n",
    "SDE = S.EpidemicModel(p=10, B=1, beta=2, alpha=1, rho=1, C=2)\n",
    "a = 0.1\n",
    "b = 0.9\n",
    "X0 = 0.13\n",
    "\n",
    "\n",
    "f = SDE.f\n",
    "g = SDE.g\n",
    "dg = SDE.dg\n",
    "df = SDE.df\n",
    "V = SDE.V"
   ]
  },
  {
   "cell_type": "markdown",
   "metadata": {},
   "source": [
    "# Choose Numerical Methods"
   ]
  },
  {
   "cell_type": "code",
   "execution_count": 3,
   "metadata": {},
   "outputs": [],
   "source": [
    "EM_Mils = M.EM_Milstein() # Euler-Maryama and Milstein\n",
    "EM_BC = M.EulerMaryamaBoundaryCheck() # Mannella\n",
    "EXPV = M.ExponentialVTimestepping() # ExponentialV\n",
    "EXP = M.ExponentialTimestepping()  # Exponential \n",
    "AT = M.AdaptiveTimestep()\n",
    "\n",
    "methods_dict = {'EM':EM_Mils.compute_MHT_EM,\n",
    "                'Milstein':EM_Mils.compute_MHT_Milstein,\n",
    "                'AT_EM':AT.compute_MHT_EM,\n",
    "                'AT_Mils': AT.compute_MHT_Milstein}"
   ]
  },
  {
   "cell_type": "markdown",
   "metadata": {},
   "source": [
    "# Run Expariment"
   ]
  },
  {
   "cell_type": "code",
   "execution_count": 4,
   "metadata": {
    "scrolled": true
   },
   "outputs": [],
   "source": [
    "for method, fun in methods_dict.items():\n",
    "\n",
    "    t_exits = []\n",
    "    steps_exits = []\n",
    "    for dt in timesteps:\n",
    "        t_exit,steps_exit = fun(X0=X0,dt=dt,num_itr=num_itr, f=f, g=g, df=df, dg=dg, V=V, a=a,b=b)\n",
    "        t_exits.append(t_exit)\n",
    "        steps_exits.append(steps_exit)\n",
    "    \n",
    "#     paths = AT.paths if method=='AT' else None\n",
    "#     times = AT.times if method=='AT' else None\n",
    "#     ts = AT.timesteps if method=='AT' else None\n",
    "    paths, times, ts = None, None, None\n",
    "    \n",
    "    results_dic = {'SDE':'Epidemic', 'Method':method, 'timesteps':timesteps,\n",
    "               't_exits':t_exits, 'steps_exits':steps_exits,\n",
    "              'AT_paths':paths, 'AT_time':times, 'AT_timesteps':ts}\n",
    "\n",
    "    file_name = './Results/' + results_dic['SDE'] + '_' + results_dic['Method'] + '.pickle'\n",
    "    if os.path.exists(file_name):\n",
    "        raise Exception('WARNING-The file already exist - Change values of SDE and Methods -WARNING')\n",
    "\n",
    "\n",
    "    with open(file_name, 'wb') as file:\n",
    "        pickle.dump(results_dic, file)"
   ]
  },
  {
   "cell_type": "code",
   "execution_count": 7,
   "metadata": {},
   "outputs": [],
   "source": [
    "# To load results, use the following command. \n",
    "\n",
    "with open('./Results/Epidemic_AT_Mils.pickle', 'rb') as handle:\n",
    "    res = pickle.load(handle)\n"
   ]
  },
  {
   "cell_type": "code",
   "execution_count": 9,
   "metadata": {},
   "outputs": [
    {
     "data": {
      "text/plain": [
       "0.015790299828655343"
      ]
     },
     "execution_count": 9,
     "metadata": {},
     "output_type": "execute_result"
    }
   ],
   "source": [
    "np.mean(res['t_exits'][0])"
   ]
  },
  {
   "cell_type": "code",
   "execution_count": 10,
   "metadata": {},
   "outputs": [],
   "source": [
    "import Methods as M\n",
    "import SDEs as S\n",
    "import pickle\n",
    "import numpy as np\n",
    "import os\n",
    "\n",
    "num_itr = 100000 # Number of iteration\n",
    "timesteps = np.logspace(-3, 0, 19) # Values for dt\n",
    "\n",
    "# Instance of  SDEs\n",
    "SDE_EpiMod = S.EpidemicModel(p=10, B=1, beta=2, alpha=1, rho=1, C=2)\n",
    "SDE_PolOpi = S.PoliticalOpinion(r=1 , G=0.8 ,eps=0.4 )\n",
    "SDE_PopDyna = SDE = S.PopulationDynamic( K=1, r=1, beta=0.2)\n",
    "SDE_AssetPrice = S.AssetPrice(mu=0.5, sigma=1)\n",
    "SDE_AssetPriceInt = S.AssetPriceInterestRate(lam=1, mu=0.5, sigma=0.3)\n",
    "SDE_DoubleWell = S.DoubleWellPotential(sigma=1.2)\n",
    "SDE_OpiPoll = S.OpinionPolls(mu=5, sigma=1)\n",
    "SDE_Custom = S.CustomSDE()\n",
    "\n",
    "SDEs_dict = {'EpiMod': {'a': 0.1, 'b':0.9, 'X0':0.13, \n",
    "'f':SDE_EpiMod.f, 'g':SDE_EpiMod.g, 'df':SDE_EpiMod.df, 'dg':SDE_EpiMod.dg, 'V':SDE_EpiMod.V},\n",
    "'SDE_PolOpi': {'a': 0.01, 'b':0.99, 'X0':0.05, \n",
    "'f':SDE_PolOpi.f, 'g':SDE_PolOpi.g, 'df':SDE_PolOpi.df, 'dg':SDE_PolOpi.dg, 'V':SDE_PolOpi.V},\n",
    "'SDE_PopDyna': {'a': 1, 'b':10, 'X0':9.95, \n",
    "'f':SDE_PopDyna.f, 'g':SDE_PopDyna.g, 'df':SDE_PopDyna.df, 'dg':SDE_PopDyna.dg, 'V':SDE_PopDyna.V},\n",
    "'SDE_AssetPrice': {'a': 0.5, 'b':2, 'X0':1, \n",
    "'f':SDE_AssetPrice.f, 'g':SDE_AssetPrice.g, 'df':SDE_AssetPrice.df, 'dg':SDE_AssetPrice.dg, 'V':SDE_AssetPrice.V},\n",
    "'SDE_AssetPriceInt': {'a': 1, 'b':2, 'X0':1.9, \n",
    "'f':SDE_AssetPriceInt.f, 'g':SDE_AssetPriceInt.g, 'df':SDE_AssetPriceInt.df, 'dg':SDE_AssetPriceInt.dg, 'V':SDE_AssetPriceInt.V},\n",
    "'SDE_DoubleWell': {'a': -0.5, 'b':1.5, 'X0':0.25, \n",
    "'f':SDE_DoubleWell.f, 'g':SDE_DoubleWell.g, 'df':SDE_DoubleWell.df, 'dg':SDE_DoubleWell.dg, 'V':SDE_DoubleWell.V},\n",
    "'SDE_OpiPoll': {'a': -0.4, 'b':0.9, 'X0':0.4, \n",
    "'f':SDE_OpiPoll.f, 'g':SDE_OpiPoll.g, 'df':SDE_OpiPoll.df, 'dg':SDE_OpiPoll.dg, 'V':SDE_OpiPoll.V},\n",
    "'SDE_Custom': {'a': 0, 'b':2, 'X0':0.1, \n",
    "'f':SDE_Custom.f, 'g':SDE_Custom.g, 'df':SDE_Custom.df, 'dg':SDE_Custom.dg, 'V':SDE_Custom.V}}"
   ]
  },
  {
   "cell_type": "code",
   "execution_count": 20,
   "metadata": {},
   "outputs": [
    {
     "name": "stdout",
     "output_type": "stream",
     "text": [
      "EpiMod\n",
      "SDE_PolOpi\n",
      "SDE_PopDyna\n",
      "SDE_AssetPrice\n",
      "SDE_AssetPriceInt\n",
      "SDE_DoubleWell\n",
      "SDE_OpiPoll\n",
      "SDE_Custom\n"
     ]
    }
   ],
   "source": [
    "for key, value in SDEs_dict.items():\n",
    "    a, b, X0, f, g, df, dg, V = value.values()\n",
    "    print(key)\n",
    "    print"
   ]
  },
  {
   "cell_type": "code",
   "execution_count": null,
   "metadata": {},
   "outputs": [],
   "source": []
  }
 ],
 "metadata": {
  "kernelspec": {
   "display_name": "Python 3",
   "language": "python",
   "name": "python3"
  },
  "language_info": {
   "codemirror_mode": {
    "name": "ipython",
    "version": 3
   },
   "file_extension": ".py",
   "mimetype": "text/x-python",
   "name": "python",
   "nbconvert_exporter": "python",
   "pygments_lexer": "ipython3",
   "version": "3.6.8"
  }
 },
 "nbformat": 4,
 "nbformat_minor": 2
}
